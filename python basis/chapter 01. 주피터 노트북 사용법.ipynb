{
 "cells": [
  {
   "cell_type": "markdown",
   "id": "d9662ae3",
   "metadata": {},
   "source": [
    "마크다운 글자크기 조절"
   ]
  },
  {
   "cell_type": "markdown",
   "id": "f73f323f",
   "metadata": {},
   "source": [
    "\n",
    "# Hello python\n",
    "\n",
    "## Hello python\n",
    "\n",
    "### Hello python"
   ]
  },
  {
   "cell_type": "markdown",
   "id": "572541ee",
   "metadata": {},
   "source": [
    "글씨체 굵게하기"
   ]
  },
  {
   "cell_type": "markdown",
   "id": "2f2d0d4a",
   "metadata": {},
   "source": [
    "**python** is really good"
   ]
  },
  {
   "cell_type": "markdown",
   "id": "cabbf73d",
   "metadata": {},
   "source": [
    "글씨체 기울기, 포함관계 파악"
   ]
  },
  {
   "cell_type": "markdown",
   "id": "3616bdb0",
   "metadata": {},
   "source": [
    "**python** is really *good*\n",
    "\n",
    "- python\n",
    " - pandas\n",
    "   - depth\n",
    "- numpy\n",
    "\n",
    "1. python\n",
    "2. java\n",
    "3. c++"
   ]
  },
  {
   "cell_type": "code",
   "execution_count": null,
   "id": "76ba41e4",
   "metadata": {},
   "outputs": [],
   "source": []
  },
  {
   "cell_type": "markdown",
   "id": "9479b411",
   "metadata": {},
   "source": [
    "> 파이썬은 재밌다고 하더라"
   ]
  },
  {
   "cell_type": "markdown",
   "id": "cfb5629f",
   "metadata": {},
   "source": [
    "수학공식처럼 출력"
   ]
  },
  {
   "cell_type": "markdown",
   "id": "066a9b71",
   "metadata": {},
   "source": [
    "$y=3x$"
   ]
  },
  {
   "cell_type": "markdown",
   "id": "ce98a0d3",
   "metadata": {},
   "source": [
    "파이썬 코드처럼 출력"
   ]
  },
  {
   "cell_type": "markdown",
   "id": "7a3af014",
   "metadata": {},
   "source": [
    "```python\n",
    "a=10\n",
    "print(a)\n",
    "```"
   ]
  },
  {
   "cell_type": "markdown",
   "id": "eaaaff28",
   "metadata": {},
   "source": [
    "링크"
   ]
  },
  {
   "cell_type": "markdown",
   "id": "8fe9e709",
   "metadata": {},
   "source": [
    "[네이버](https://www.naver.com/)"
   ]
  },
  {
   "cell_type": "code",
   "execution_count": null,
   "id": "a445c1a7",
   "metadata": {},
   "outputs": [],
   "source": []
  }
 ],
 "metadata": {
  "kernelspec": {
   "display_name": "Python 3 (ipykernel)",
   "language": "python",
   "name": "python3"
  },
  "language_info": {
   "codemirror_mode": {
    "name": "ipython",
    "version": 3
   },
   "file_extension": ".py",
   "mimetype": "text/x-python",
   "name": "python",
   "nbconvert_exporter": "python",
   "pygments_lexer": "ipython3",
   "version": "3.9.13"
  }
 },
 "nbformat": 4,
 "nbformat_minor": 5
}
