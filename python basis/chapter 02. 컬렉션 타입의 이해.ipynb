{
 "cells": [
  {
   "cell_type": "markdown",
   "id": "d0cd307f",
   "metadata": {},
   "source": [
    "## **리스트 & 튜플**\n",
    "- 복수개의 값을 담을 수 있는 데이터 구조\n",
    "- 실생활에서 사용하는 리스트(학생 리스트, 성적리스트 등등)과 동일한 의미로 이해\n",
    "- list - mutable (생성된 후에 변경 가능)\n",
    "- tuple - immutuable(생성된 후에 변경 불가능)"
   ]
  },
  {
   "cell_type": "markdown",
   "id": "adcd7ee6",
   "metadata": {},
   "source": [
    "**리스트 초기화**\n",
    "- []안에 값을 담아서 생성\n",
    "- list() 함수로 생성\n",
    "- str.split()함수로 생성"
   ]
  },
  {
   "cell_type": "code",
   "execution_count": 1,
   "id": "7447c51d",
   "metadata": {},
   "outputs": [
    {
     "name": "stdout",
     "output_type": "stream",
     "text": [
      "[]\n",
      "[1, 2, 3, 4, 5, 6]\n",
      "['korea', 'canada', 1, 23, [34, 56]]\n"
     ]
    }
   ],
   "source": [
    "a=[]\n",
    "print(a)\n",
    "\n",
    "a=[1,2,3,4,5,6]\n",
    "print(a)\n",
    "\n",
    "a=['korea','canada',1,23,[34,56]]\n",
    "print(a)"
   ]
  },
  {
   "cell_type": "markdown",
   "id": "ad3aa78f",
   "metadata": {},
   "source": [
    "- **list() 함수**\n",
    "    - 다른 데이터 타입을 리스트로 변한할 때도 사용"
   ]
  },
  {
   "cell_type": "code",
   "execution_count": 2,
   "id": "4d30513f",
   "metadata": {},
   "outputs": [
    {
     "name": "stdout",
     "output_type": "stream",
     "text": [
      "['h', 'e', 'l', 'l', 'o', ' ', 'w', 'o', 'r', 'l', 'd']\n"
     ]
    }
   ],
   "source": [
    "a= 'hello world'\n",
    "b=list(a)\n",
    "print(b)"
   ]
  },
  {
   "cell_type": "code",
   "execution_count": 3,
   "id": "e88d4ee3",
   "metadata": {},
   "outputs": [
    {
     "name": "stdout",
     "output_type": "stream",
     "text": [
      "[1, 2, 3]\n"
     ]
    }
   ],
   "source": [
    "c=(1,2,3)\n",
    "d=list(c)\n",
    "print(d)"
   ]
  },
  {
   "cell_type": "markdown",
   "id": "f33898bb",
   "metadata": {},
   "source": [
    "- **string.split 함수**\n",
    "    - 구분자로 구분되는 리스트를 반환(빈번히 사용됨)"
   ]
  },
  {
   "cell_type": "code",
   "execution_count": 4,
   "id": "77d608bf",
   "metadata": {},
   "outputs": [
    {
     "name": "stdout",
     "output_type": "stream",
     "text": [
      "['hello', 'world', 'nice', 'weather']\n"
     ]
    }
   ],
   "source": [
    "a='hello world nice weather'\n",
    "b=a.split()\n",
    "print(b)"
   ]
  },
  {
   "cell_type": "markdown",
   "id": "07b4a02b",
   "metadata": {},
   "source": [
    "**리스트 indexing**\n",
    "- 문자열의 인덱싱과 동일하게 동작\n",
    "- [] 연산자를 이용하여 항목 얻어오기\n",
    "- [i] - i번째 원소를 반환\n",
    "- i가 음수인 경우도 가능하며 마지막 원소가 -1로 하여 앞으로 갈때마다 1씩 감소함"
   ]
  },
  {
   "cell_type": "code",
   "execution_count": 5,
   "id": "740d36ed",
   "metadata": {},
   "outputs": [
    {
     "name": "stdout",
     "output_type": "stream",
     "text": [
      "3\n",
      "6\n",
      "6\n"
     ]
    }
   ],
   "source": [
    "a=[1,2,3,4,5,6]\n",
    "print(a[2])\n",
    "print(a[5])\n",
    "print(a[-1])"
   ]
  },
  {
   "cell_type": "markdown",
   "id": "4ff5e911",
   "metadata": {},
   "source": [
    "**리스트 개별 아이템에 접근**\n",
    "- 인덱스에 접근하여 값을 업데이트 가능"
   ]
  },
  {
   "cell_type": "code",
   "execution_count": 6,
   "id": "2bade97f",
   "metadata": {},
   "outputs": [
    {
     "name": "stdout",
     "output_type": "stream",
     "text": [
      "h\n",
      "hello world\n",
      "jello world\n"
     ]
    }
   ],
   "source": [
    "#불변(인덱스로 값변환 불가)\n",
    "a='hello world'\n",
    "print(a[0])\n",
    "\n",
    "b='jello world'\n",
    "c='j'+a[1:]\n",
    "\n",
    "d=a.replace('h','j')\n",
    "\n",
    "print(a)\n",
    "print(d)"
   ]
  },
  {
   "cell_type": "code",
   "execution_count": 7,
   "id": "da7c873f",
   "metadata": {},
   "outputs": [
    {
     "name": "stdout",
     "output_type": "stream",
     "text": [
      "[100, 2, 3, 4, 5]\n"
     ]
    }
   ],
   "source": [
    "a=[1,2,3,4,5]\n",
    "a[0]=100\n",
    "print(a)"
   ]
  },
  {
   "cell_type": "markdown",
   "id": "96d7d556",
   "metadata": {},
   "source": [
    "**리스트 slicing**\n",
    "- 문자열 슬라이싱과 동일하게 동작\n",
    "- 슬라이싱의 결과 역시 list"
   ]
  },
  {
   "cell_type": "code",
   "execution_count": 8,
   "id": "5d98f7a9",
   "metadata": {},
   "outputs": [
    {
     "name": "stdout",
     "output_type": "stream",
     "text": [
      "[5, 6, 7]\n",
      "[1, 2, 3, 4, 5, 6, 7]\n",
      "[4, 5, 6, 7, 8]\n",
      "[1, 2, 3, 4, 5, 6, 7, 8]\n",
      "[2, 4, 6]\n"
     ]
    }
   ],
   "source": [
    "a=[1,2,3,4,5,6,7,8]\n",
    "print(a[4:7])\n",
    "print(a[:7])\n",
    "print(a[3:])\n",
    "print(a[:])\n",
    "\n",
    "#slicing\n",
    "#start:end:increment\n",
    "\n",
    "print(a[1:7:2])"
   ]
  },
  {
   "cell_type": "markdown",
   "id": "27372ae0",
   "metadata": {},
   "source": [
    "**list 멤버 함수**\n",
    "- 생성된 리스트 객체에 동작하는 함수"
   ]
  },
  {
   "cell_type": "markdown",
   "id": "895c131a",
   "metadata": {},
   "source": [
    "- **append()**\n",
    "    - 리스트의 끝에 항목을 추가함"
   ]
  },
  {
   "cell_type": "code",
   "execution_count": 9,
   "id": "aad8fc66",
   "metadata": {},
   "outputs": [
    {
     "name": "stdout",
     "output_type": "stream",
     "text": [
      "[1, 2, 3, 4, 5, 10]\n"
     ]
    }
   ],
   "source": [
    "a=[1,2,3,4,5]\n",
    "a.append(10)\n",
    "\n",
    "print(a)"
   ]
  },
  {
   "cell_type": "markdown",
   "id": "4e5ddbe6",
   "metadata": {},
   "source": [
    "- **extend()**\n",
    "    - 리스트를 연장\n",
    "    - +=로도 가능함"
   ]
  },
  {
   "cell_type": "code",
   "execution_count": 10,
   "id": "90ce1c51",
   "metadata": {},
   "outputs": [
    {
     "name": "stdout",
     "output_type": "stream",
     "text": [
      "[1, 2, 3, 4, 5, 6, 7, 8, 9, 10]\n"
     ]
    }
   ],
   "source": [
    "a=[1,2,3,4,5]\n",
    "b=[6,7,8,9,10]\n",
    "\n",
    "#a.append(b)\n",
    "#print(a) #[1,2,3,4,5,[6,7,8,9,10]]\n",
    "\n",
    "a.extend(b) #a+=b\n",
    "print(a)"
   ]
  },
  {
   "cell_type": "markdown",
   "id": "47a438e5",
   "metadata": {},
   "source": [
    "- **insert()로 항목추가**\n",
    "    - 리스트의 원하는 위치에 추가 가능\n",
    "    - 앞에 인덱스를, 뒤에 아이템을 명시"
   ]
  },
  {
   "cell_type": "code",
   "execution_count": 11,
   "id": "85d97456",
   "metadata": {},
   "outputs": [
    {
     "name": "stdout",
     "output_type": "stream",
     "text": [
      "[1, 40, 3, 4, 5, 6]\n"
     ]
    }
   ],
   "source": [
    "a=[1,3,4,5,6]\n",
    "\n",
    "a.insert(1,40)\n",
    "print(a)"
   ]
  },
  {
   "cell_type": "markdown",
   "id": "b3355734",
   "metadata": {},
   "source": [
    "- **remove()**\n",
    "    - 값으로 항목 삭제"
   ]
  },
  {
   "cell_type": "code",
   "execution_count": 12,
   "id": "1fc27d80",
   "metadata": {},
   "outputs": [
    {
     "name": "stdout",
     "output_type": "stream",
     "text": [
      "[1, 3, 4, 5]\n"
     ]
    }
   ],
   "source": [
    "a=[1,2,3,4,5]\n",
    "a.remove(2)\n",
    "\n",
    "print(a)"
   ]
  },
  {
   "cell_type": "markdown",
   "id": "26a5265f",
   "metadata": {},
   "source": [
    "- **pop()**\n",
    "    - 지우고자 하는 아이템을 반환 후, 삭제"
   ]
  },
  {
   "cell_type": "code",
   "execution_count": 14,
   "id": "ac4760c2",
   "metadata": {},
   "outputs": [
    {
     "name": "stdout",
     "output_type": "stream",
     "text": [
      "[1, 3, 4, 5]\n",
      "2\n"
     ]
    }
   ],
   "source": [
    "a=[1,2,3,4,5]\n",
    "d=a.pop(1)#인덱스를 명시하지 않으면 마지막값 삭제\n",
    "\n",
    "print(a)\n",
    "print(d)"
   ]
  },
  {
   "cell_type": "markdown",
   "id": "1a7da38b",
   "metadata": {},
   "source": [
    "- **index()**\n",
    "    - 찾고자 하는 값의 인덱스 반환"
   ]
  },
  {
   "cell_type": "code",
   "execution_count": 15,
   "id": "ae83c57c",
   "metadata": {},
   "outputs": [
    {
     "data": {
      "text/plain": [
       "1"
      ]
     },
     "execution_count": 15,
     "metadata": {},
     "output_type": "execute_result"
    }
   ],
   "source": [
    "a=[2,6,7,9,10]\n",
    "\n",
    "a.index(6)"
   ]
  },
  {
   "cell_type": "markdown",
   "id": "75816e31",
   "metadata": {},
   "source": [
    "- **in 키워드**\n",
    "    - 리스트 내에 해당 값이 존재하는지 확인\n",
    "    - value in [list]\n",
    "    - True, False 중 한가지로 반환"
   ]
  },
  {
   "cell_type": "code",
   "execution_count": 16,
   "id": "29fdde15",
   "metadata": {},
   "outputs": [
    {
     "name": "stdout",
     "output_type": "stream",
     "text": [
      "False\n"
     ]
    }
   ],
   "source": [
    "a=[1,2,3,4,5,10]\n",
    "b=7\n",
    "\n",
    "c=b in a\n",
    "print(c)"
   ]
  },
  {
   "cell_type": "markdown",
   "id": "2ad77dec",
   "metadata": {},
   "source": [
    "- **리스트 정렬**\n",
    "    - sort() -> 리스트 자체를 내부적으로 정렬(정렬된게 리스트에 반영되서 저장됨)\n",
    "    - sorted() -> 리스트의 정렬된 복사본을 반환"
   ]
  },
  {
   "cell_type": "code",
   "execution_count": 18,
   "id": "feeaff2e",
   "metadata": {},
   "outputs": [
    {
     "name": "stdout",
     "output_type": "stream",
     "text": [
      "[1, 2, 7, 7, 8, 9, 10, 19, 20, 21]\n",
      "[21, 20, 19, 10, 9, 8, 7, 7, 2, 1]\n",
      "[1, 2, 7, 7, 8, 9, 10, 19, 20, 21]\n"
     ]
    }
   ],
   "source": [
    "a=[9,10,7,19,1,2,20,21,7,8]\n",
    "b=[9,10,7,19,1,2,20,21,7,8]\n",
    "a.sort()\n",
    "b.sort(reverse=True)\n",
    "c=sorted(b)\n",
    "\n",
    "print(a)\n",
    "print(b)\n",
    "print(c)"
   ]
  },
  {
   "cell_type": "markdown",
   "id": "762bcde5",
   "metadata": {},
   "source": [
    "### tuple\n",
    "- 리스트와 같이 복수개의 값을 갖는 컬렉션 타입\n",
    "- 생성된 후 변경 불가능"
   ]
  },
  {
   "cell_type": "code",
   "execution_count": 19,
   "id": "820b3fb2",
   "metadata": {},
   "outputs": [
    {
     "name": "stdout",
     "output_type": "stream",
     "text": [
      "<class 'list'>\n",
      "<class 'tuple'>\n"
     ]
    }
   ],
   "source": [
    "a=[1,2,3]\n",
    "b=(1,2,3)\n",
    "\n",
    "print(type(a))\n",
    "print(type(b))"
   ]
  },
  {
   "cell_type": "markdown",
   "id": "8f9944e5",
   "metadata": {},
   "source": [
    "#### tuple upacking\n",
    "- 튜플의 값을 차례대로 변수에 대입"
   ]
  },
  {
   "cell_type": "code",
   "execution_count": 21,
   "id": "fe463636",
   "metadata": {},
   "outputs": [
    {
     "name": "stdout",
     "output_type": "stream",
     "text": [
      "<class 'tuple'> <class 'tuple'>\n",
      "100 200 300 400\n"
     ]
    }
   ],
   "source": [
    "a=(100,200)\n",
    "b=100,200\n",
    "print(type(a),type(b))\n",
    "\n",
    "a,b,c,d=100,200,300,400\n",
    "print(a,b,c,d)"
   ]
  },
  {
   "cell_type": "markdown",
   "id": "6ff80ae5",
   "metadata": {},
   "source": [
    "- **연습문제** a와 b의 값을 교환하시오."
   ]
  },
  {
   "cell_type": "code",
   "execution_count": 23,
   "id": "58f6f907",
   "metadata": {},
   "outputs": [
    {
     "name": "stdout",
     "output_type": "stream",
     "text": [
      "4 5\n"
     ]
    }
   ],
   "source": [
    "a=5\n",
    "b=4\n",
    "\n",
    "#tmp=a\n",
    "#a=b\n",
    "#b=tmp\n",
    "a,b=b,a\n",
    "print(a,b)\n"
   ]
  },
  {
   "cell_type": "markdown",
   "id": "0f9dc108",
   "metadata": {},
   "source": [
    "\n",
    "\n",
    "## dictionary\n",
    "- 키와 값을 갖는 데이터 구조\n",
    "- 키는 내부적으로 hash값으로 저장\n",
    "- 순서를 따지지 않음. 즉, 인덱스가 없음"
   ]
  },
  {
   "cell_type": "code",
   "execution_count": 26,
   "id": "74fe979d",
   "metadata": {},
   "outputs": [
    {
     "name": "stdout",
     "output_type": "stream",
     "text": [
      "Seoul\n"
     ]
    }
   ],
   "source": [
    "a={'Korea':'Seoul','Canada':'Ottawa','USA':'Washington D.C'}\n",
    "print(a['Korea'])"
   ]
  },
  {
   "cell_type": "code",
   "execution_count": 27,
   "id": "0035a6c4",
   "metadata": {},
   "outputs": [
    {
     "name": "stdout",
     "output_type": "stream",
     "text": [
      "1\n"
     ]
    }
   ],
   "source": [
    "b={0:1,1:6,7:9,8:10}\n",
    "print(b[0])"
   ]
  },
  {
   "cell_type": "code",
   "execution_count": null,
   "id": "0bd18d5b",
   "metadata": {},
   "outputs": [],
   "source": []
  },
  {
   "cell_type": "markdown",
   "id": "5205d3a1",
   "metadata": {},
   "source": [
    "- **항목 추가 및 변경**\n",
    "    - 기존에 키가 존재 하면, 새로운 값으로 엡데이트\n",
    "    - 존재하지 않으면, 새로운 키, 값 생성"
   ]
  },
  {
   "cell_type": "code",
   "execution_count": 29,
   "id": "4ab557dc",
   "metadata": {},
   "outputs": [
    {
     "name": "stdout",
     "output_type": "stream",
     "text": [
      "{'Korea': 'Seoul', 'Canada': 'Ottawa', 'USA': 'Washington D.C', 'Japan': 'Kyoto', 'China': 'Beijing'}\n"
     ]
    }
   ],
   "source": [
    "a={'Korea':'Seoul','Canada':'Ottawa','USA':'Washington D.C'}\n",
    "\n",
    "a['Japan']='Tokyo'\n",
    "a['Japan']='Kyoto'\n",
    "a['China']='Beijing'\n",
    "\n",
    "print(a)"
   ]
  },
  {
   "cell_type": "markdown",
   "id": "16df8d44",
   "metadata": {},
   "source": [
    "- **update()**\n",
    "    - 두 딕셔너리를 병합함\n",
    "    - 겹치는 키가 있다면 parameter로 전달되는 키 값이 overwrite된다."
   ]
  },
  {
   "cell_type": "code",
   "execution_count": 30,
   "id": "f78785a5",
   "metadata": {},
   "outputs": [
    {
     "name": "stdout",
     "output_type": "stream",
     "text": [
      "{'a': 2, 'b': 2, 'c': 3, 'd': 4, 'e': 5}\n"
     ]
    }
   ],
   "source": [
    "a={'a':1,'b':2,'c':3}\n",
    "b={'a':2,'d':4,'e':5}\n",
    "\n",
    "a.update(b)\n",
    "print(a)"
   ]
  },
  {
   "cell_type": "markdown",
   "id": "676c8da1",
   "metadata": {},
   "source": [
    "- **key 삭제**\n",
    "    - del 키워드 사용\n",
    "    - pop 함수 이용"
   ]
  },
  {
   "cell_type": "code",
   "execution_count": 31,
   "id": "1586c98e",
   "metadata": {},
   "outputs": [
    {
     "name": "stdout",
     "output_type": "stream",
     "text": [
      "{'a': 1, 'c': 3}\n"
     ]
    }
   ],
   "source": [
    "a={'a':1,'b':2,'c':3}\n",
    "\n",
    "#a.pop('b')\n",
    "del a['b']\n",
    "\n",
    "print(a)"
   ]
  },
  {
   "cell_type": "markdown",
   "id": "cf6209d6",
   "metadata": {},
   "source": [
    "- **clear()**\n",
    "    - 딕셔너리의 모든 값을 초기화"
   ]
  },
  {
   "cell_type": "code",
   "execution_count": 32,
   "id": "d205dff6",
   "metadata": {},
   "outputs": [
    {
     "name": "stdout",
     "output_type": "stream",
     "text": [
      "{}\n"
     ]
    }
   ],
   "source": [
    "a={'a':1,'b':2,'c':3}\n",
    "\n",
    "a.clear()\n",
    "print(a)"
   ]
  },
  {
   "cell_type": "markdown",
   "id": "aab14fa5",
   "metadata": {},
   "source": [
    "- **in**\n",
    "    - key값 존재 확인\n",
    "    - O(1) 연산 - 딕셔너리의 크기와 관계없이 항상 연산의 속도가 일정하다는 의미"
   ]
  },
  {
   "cell_type": "code",
   "execution_count": 33,
   "id": "f6bf6165",
   "metadata": {},
   "outputs": [
    {
     "data": {
      "text/plain": [
       "True"
      ]
     },
     "execution_count": 33,
     "metadata": {},
     "output_type": "execute_result"
    }
   ],
   "source": [
    "a={'a':1,'b':2,'c':3}\n",
    "\n",
    "'b' in a"
   ]
  },
  {
   "cell_type": "markdown",
   "id": "a07d7def",
   "metadata": {},
   "source": [
    "- **value access**\n",
    "    - dict[key]로 접근, 키가 없는 경우 에러 발생\n",
    "    - .get()함수로 접근 , 키가 없는 경우 None 반환"
   ]
  },
  {
   "cell_type": "code",
   "execution_count": 34,
   "id": "81476826",
   "metadata": {},
   "outputs": [
    {
     "name": "stdout",
     "output_type": "stream",
     "text": [
      "2\n",
      "2\n"
     ]
    }
   ],
   "source": [
    "a={'a':1,'b':2,'c':3}\n",
    "\n",
    "print(a['b'])\n",
    "print(a.get('b'))"
   ]
  },
  {
   "cell_type": "markdown",
   "id": "ab424631",
   "metadata": {},
   "source": [
    "#### 모든 keys, values 접근\n",
    "- keys() - 키만 반환\n",
    "- values() - 값만 반환\n",
    "- items() - 키,값의 튜플을 반환"
   ]
  },
  {
   "cell_type": "code",
   "execution_count": 35,
   "id": "0a1f695d",
   "metadata": {},
   "outputs": [
    {
     "name": "stdout",
     "output_type": "stream",
     "text": [
      "dict_keys(['a', 'b', 'c'])\n",
      "dict_values([1, 2, 3])\n",
      "dict_items([('a', 1), ('b', 2), ('c', 3)])\n"
     ]
    }
   ],
   "source": [
    "a={'a':1,'b':2,'c':3}\n",
    "\n",
    "print(a.keys())\n",
    "print(a.values())\n",
    "\n",
    "print(a.items())\n",
    "\n",
    "\n",
    "\n",
    "print(list(a.keys()))\n",
    "print(list(a.values()))\n",
    "\n",
    "print(list(a.items()))"
   ]
  },
  {
   "cell_type": "markdown",
   "id": "220d507b",
   "metadata": {},
   "source": [
    "### **set**\n",
    "- dictionary에서 key만 활용하는 구조로 이해\n",
    "- 수학에서의 집합과 동일한 개념"
   ]
  },
  {
   "cell_type": "code",
   "execution_count": 37,
   "id": "fb5d2fec",
   "metadata": {},
   "outputs": [
    {
     "name": "stdout",
     "output_type": "stream",
     "text": [
      "{1, 2, 3, 4, 5}\n"
     ]
    }
   ],
   "source": [
    "a={1,1,2,3,3,4,1,5}\n",
    "print(a)"
   ]
  },
  {
   "cell_type": "markdown",
   "id": "cd655145",
   "metadata": {},
   "source": [
    "- **set()으로 집합으로 변환**"
   ]
  },
  {
   "cell_type": "code",
   "execution_count": 38,
   "id": "78b21ada",
   "metadata": {},
   "outputs": [
    {
     "name": "stdout",
     "output_type": "stream",
     "text": [
      "[1, 1, 2, 3, 3, 4, 1, 5]\n",
      "{1, 2, 3, 4, 5}\n"
     ]
    }
   ],
   "source": [
    "a=[1,1,2,3,3,4,1,5]\n",
    "print(a)\n",
    "\n",
    "b=set(a)\n",
    "print(b)"
   ]
  },
  {
   "cell_type": "markdown",
   "id": "cf2bc898",
   "metadata": {},
   "source": [
    "- **set operations**\n",
    "    - 수학 연산과 동일\n",
    "    - 교집합, 합집합, 차집합 등 지원"
   ]
  },
  {
   "cell_type": "code",
   "execution_count": 39,
   "id": "13c9f836",
   "metadata": {
    "scrolled": true
   },
   "outputs": [
    {
     "name": "stdout",
     "output_type": "stream",
     "text": [
      "{1, 2, 3, 4}\n",
      "{2, 3}\n",
      "{1}\n"
     ]
    }
   ],
   "source": [
    "a={1,2,3}\n",
    "b={2,3,4}\n",
    "\n",
    "print(a.union(b)) #합집합\n",
    "print(a.intersection(b))#교집합\n",
    "print(a.difference(b))#차집합\n",
    "\n",
    "print(a.issubset(b))#부분 집합"
   ]
  }
 ],
 "metadata": {
  "kernelspec": {
   "display_name": "Python 3 (ipykernel)",
   "language": "python",
   "name": "python3"
  },
  "language_info": {
   "codemirror_mode": {
    "name": "ipython",
    "version": 3
   },
   "file_extension": ".py",
   "mimetype": "text/x-python",
   "name": "python",
   "nbconvert_exporter": "python",
   "pygments_lexer": "ipython3",
   "version": "3.9.13"
  }
 },
 "nbformat": 4,
 "nbformat_minor": 5
}
