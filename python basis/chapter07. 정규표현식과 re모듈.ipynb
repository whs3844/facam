{
 "cells": [
  {
   "cell_type": "markdown",
   "id": "8b413ed9",
   "metadata": {},
   "source": [
    "- 정규 표현식\n",
    "    - regular expression\n",
    "    - 특정한 패턴과 일치하는 문자열을 '검색', '치환', '제거'하는 기능을 지원\n",
    "    - 정규표현식의 도움없이 패턴을 찾는 작업(Rule 기반)은 불완전 하거나, 작업의 cost가 높음\n",
    "    - e.g) 이메일 형식 판별, 전화번호 형식 판별, 숫자로만 이루어진 문자열 등"
   ]
  },
  {
   "cell_type": "markdown",
   "id": "699813bb",
   "metadata": {},
   "source": [
    "- **raw string**\n",
    "    - 문자열 앞에 r이 붙으면 해당 문자열이 구성된 그대로 문자열로 반환"
   ]
  },
  {
   "cell_type": "code",
   "execution_count": 1,
   "id": "e79aad75",
   "metadata": {},
   "outputs": [
    {
     "name": "stdout",
     "output_type": "stream",
     "text": [
      "abcdef\n",
      "\n",
      "abcdef\\n\n"
     ]
    }
   ],
   "source": [
    "a='abcdef\\n'\n",
    "print(a)\n",
    "\n",
    "b=r'abcdef\\n'\n",
    "print(b)"
   ]
  },
  {
   "cell_type": "markdown",
   "id": "ab724665",
   "metadata": {},
   "source": [
    "**raw string**\n",
    "- a,X,9 등등 문자 하나하나의 character들은 정확히 해당 문자와 일치\n",
    "    - e.g) 패턴 test는 test문자열과 일치\n",
    "    - 대소문자의 경우 기본적으로 구별하나, 구별하지 않도록 설정 가능\n",
    "- 몇몇 문자들에 대해서는 예외가 존재하는데, 이들은 특별한 의미로 사용 됨\n",
    "     - . ^ * + ? {} [] \\ | ()\n",
    "- .(마침표) - 어떤 한개의 character와 일치(newline(엔터) 제외)\n",
    "- \\w - 문자 character와 일치[a-zA-z0`9_]\n",
    "- \\s - 공백문자와 일치\n",
    "- \\t, \\n, \\r - tab,newline,return\n",
    "- \\d - 숫자 characte와 일치 [0-9]\n",
    "- ^=시작, $= 끝 각각 문자열의 시작과 끝을 의미\n",
    "- \\가 붙으면 스페셜한 의미가 없어짐. 예를들어 \\\\.는 .자체를 의미 \\\\\\는 \\를 의미\n",
    "- 자세한 내용은 링크 참조 https://doocs.python.org/3/library/re.html"
   ]
  },
  {
   "cell_type": "markdown",
   "id": "e15cbd40",
   "metadata": {},
   "source": [
    "**search method**\n",
    "- 첫번째로 패턴을 찾으면 match 객체를 반환\n",
    "- 패턴을 찾지 못하면 None 반환"
   ]
  },
  {
   "cell_type": "code",
   "execution_count": 1,
   "id": "81a85902",
   "metadata": {},
   "outputs": [],
   "source": [
    "import re"
   ]
  },
  {
   "cell_type": "code",
   "execution_count": 3,
   "id": "64f112e0",
   "metadata": {},
   "outputs": [
    {
     "data": {
      "text/plain": [
       "re.Match"
      ]
     },
     "execution_count": 3,
     "metadata": {},
     "output_type": "execute_result"
    }
   ],
   "source": [
    "m=re.search(r'abc','abcdef')\n",
    "type(m)"
   ]
  },
  {
   "cell_type": "code",
   "execution_count": 4,
   "id": "f8b900de",
   "metadata": {},
   "outputs": [
    {
     "name": "stdout",
     "output_type": "stream",
     "text": [
      "0\n",
      "3\n",
      "abc\n"
     ]
    }
   ],
   "source": [
    "print(m.start())\n",
    "print(m.end())\n",
    "print(m.group())"
   ]
  },
  {
   "cell_type": "code",
   "execution_count": 5,
   "id": "6ec6f105",
   "metadata": {},
   "outputs": [
    {
     "name": "stdout",
     "output_type": "stream",
     "text": [
      "3\n",
      "6\n",
      "abc\n"
     ]
    }
   ],
   "source": [
    "m=re.search(r'abc','123abcdef')\n",
    "print(m.start())\n",
    "print(m.end())\n",
    "print(m.group())"
   ]
  },
  {
   "cell_type": "code",
   "execution_count": 6,
   "id": "0e00f27c",
   "metadata": {},
   "outputs": [
    {
     "data": {
      "text/plain": [
       "<re.Match object; span=(0, 2), match='11'>"
      ]
     },
     "execution_count": 6,
     "metadata": {},
     "output_type": "execute_result"
    }
   ],
   "source": [
    "m=re.search(r'\\d\\d','112abcdef119')#가장 먼저 발견한 패턴을 찾음\n",
    "m"
   ]
  },
  {
   "cell_type": "code",
   "execution_count": 7,
   "id": "2e4a584f",
   "metadata": {},
   "outputs": [
    {
     "data": {
      "text/plain": [
       "<re.Match object; span=(0, 3), match='112'>"
      ]
     },
     "execution_count": 7,
     "metadata": {},
     "output_type": "execute_result"
    }
   ],
   "source": [
    "m=re.search(r'\\d\\d\\d','112abcdef119')\n",
    "m"
   ]
  },
  {
   "cell_type": "code",
   "execution_count": 8,
   "id": "4cfb17ec",
   "metadata": {},
   "outputs": [
    {
     "data": {
      "text/plain": [
       "<re.Match object; span=(0, 4), match='112a'>"
      ]
     },
     "execution_count": 8,
     "metadata": {},
     "output_type": "execute_result"
    }
   ],
   "source": [
    "m=re.search(r'\\d\\d\\d\\w','112abcdef119')\n",
    "m"
   ]
  },
  {
   "cell_type": "code",
   "execution_count": 2,
   "id": "a9c7b4b9",
   "metadata": {},
   "outputs": [
    {
     "data": {
      "text/plain": [
       "<re.Match object; span=(2, 6), match='$%AB'>"
      ]
     },
     "execution_count": 2,
     "metadata": {},
     "output_type": "execute_result"
    }
   ],
   "source": [
    "m=re.search(r'..\\w\\w','@#$%ABCDabcd')\n",
    "m"
   ]
  },
  {
   "cell_type": "markdown",
   "id": "18089d7f",
   "metadata": {},
   "source": [
    "**metacharacters(메타 캐릭터)**\n",
    "\n",
    "\n",
    "**[] 문자들의 범위를 나타내기 위해 사용**\n",
    "- []내부의 메타 캐릭터는 캐릭터 자체를 나타냄\n",
    "- e.g)\n",
    "    - [abck] : a or b or c or k\n",
    "    - [abc.^] : a or b or c or . or ^\n",
    "    - [a-d] : -와 함께 사용되면 해당 문자 사이의 범위에 속하는 문자 중 하나\n",
    "    - [0-9] : 모든 숫자\n",
    "    - [a-z] : 모든 소문자\n",
    "    - [A-Z] : 모든 대문자\n",
    "    - [a-zA-Z0-9] : 모든 알파벳 문자 및 숫자\n",
    "    - [^0-9] : ^가 맨 앞에 사용 되는 경우 해당 문자 패턴이 아닌 것과 매칭"
   ]
  },
  {
   "cell_type": "code",
   "execution_count": 19,
   "id": "4f6c185b",
   "metadata": {},
   "outputs": [
    {
     "data": {
      "text/plain": [
       "<re.Match object; span=(0, 3), match='cat'>"
      ]
     },
     "execution_count": 19,
     "metadata": {},
     "output_type": "execute_result"
    }
   ],
   "source": [
    "re.search(r'[cbm]at','cat')"
   ]
  },
  {
   "cell_type": "code",
   "execution_count": 20,
   "id": "8b54da5f",
   "metadata": {},
   "outputs": [
    {
     "data": {
      "text/plain": [
       "<re.Match object; span=(0, 3), match='bat'>"
      ]
     },
     "execution_count": 20,
     "metadata": {},
     "output_type": "execute_result"
    }
   ],
   "source": [
    "re.search(r'[cbm]at','bat')"
   ]
  },
  {
   "cell_type": "code",
   "execution_count": 21,
   "id": "d1ccacfe",
   "metadata": {},
   "outputs": [],
   "source": [
    "re.search(r'[cbm]at','aat')"
   ]
  },
  {
   "cell_type": "code",
   "execution_count": 22,
   "id": "0c73afec",
   "metadata": {},
   "outputs": [
    {
     "data": {
      "text/plain": [
       "<re.Match object; span=(0, 5), match='1haha'>"
      ]
     },
     "execution_count": 22,
     "metadata": {},
     "output_type": "execute_result"
    }
   ],
   "source": [
    "re.search(r'[0-9]haha','1haha')"
   ]
  },
  {
   "cell_type": "code",
   "execution_count": 24,
   "id": "f603d798",
   "metadata": {},
   "outputs": [],
   "source": [
    "re.search(r'[0-4]haha','7haha')"
   ]
  },
  {
   "cell_type": "code",
   "execution_count": 25,
   "id": "46109cca",
   "metadata": {},
   "outputs": [
    {
     "data": {
      "text/plain": [
       "<re.Match object; span=(0, 5), match='caron'>"
      ]
     },
     "execution_count": 25,
     "metadata": {},
     "output_type": "execute_result"
    }
   ],
   "source": [
    "re.search(r'[abc.^]aron','caron')"
   ]
  },
  {
   "cell_type": "code",
   "execution_count": 26,
   "id": "d84155ed",
   "metadata": {},
   "outputs": [],
   "source": [
    "re.search(r'[^abc.^]aron','aaron')"
   ]
  },
  {
   "cell_type": "code",
   "execution_count": 27,
   "id": "fd7f26e3",
   "metadata": {},
   "outputs": [
    {
     "data": {
      "text/plain": [
       "<re.Match object; span=(0, 5), match='karon'>"
      ]
     },
     "execution_count": 27,
     "metadata": {},
     "output_type": "execute_result"
    }
   ],
   "source": [
    "re.search(r'[^abc.^]aron','karon')"
   ]
  },
  {
   "cell_type": "markdown",
   "id": "31ecdb7f",
   "metadata": {},
   "source": [
    "1. 다른 문자와 함께 사용되어 특수한 의미를 지님\n",
    "- \\d : 숫자를 [0-9]와 동일\n",
    "- \\D : 숫자가 아닌 문자 [^0-9]와 동일\n",
    "- \\s : 공백 문자(띄어쓰기, 탭, 엔터 등)\n",
    "- \\S : 공백이 아닌 문자\n",
    "- \\w : 알파벳대소문자, 숫자 [0-9a-zA-Z]와 동일\n",
    "- \\W : non alpha_numeric 문자 [^0-9a-zA-Z]와 동일\n",
    "\n",
    "2.메타 캐릭터가 캐릭터 자체를 표현하도록 할 경우 사용\n",
    "- \\\\.,\\\\\\"
   ]
  },
  {
   "cell_type": "code",
   "execution_count": 28,
   "id": "a590135e",
   "metadata": {},
   "outputs": [
    {
     "data": {
      "text/plain": [
       "<re.Match object; span=(5, 9), match=' and'>"
      ]
     },
     "execution_count": 28,
     "metadata": {},
     "output_type": "execute_result"
    }
   ],
   "source": [
    "re.search(r'\\sand','apple and banana')"
   ]
  },
  {
   "cell_type": "code",
   "execution_count": 29,
   "id": "b0628f2a",
   "metadata": {},
   "outputs": [],
   "source": [
    "re.search(r'\\Sand','apple and banana')"
   ]
  },
  {
   "cell_type": "code",
   "execution_count": 31,
   "id": "60acde43",
   "metadata": {},
   "outputs": [
    {
     "data": {
      "text/plain": [
       "<re.Match object; span=(1, 2), match='.'>"
      ]
     },
     "execution_count": 31,
     "metadata": {},
     "output_type": "execute_result"
    }
   ],
   "source": [
    "#여기서는 .자체를 문자로 보고 찾기\n",
    "re.search(r'\\.','.and')"
   ]
  },
  {
   "cell_type": "markdown",
   "id": "46abfd72",
   "metadata": {},
   "source": [
    "**.**\n",
    "- 모든 문자를 의미"
   ]
  },
  {
   "cell_type": "code",
   "execution_count": 32,
   "id": "22d73706",
   "metadata": {},
   "outputs": [
    {
     "data": {
      "text/plain": [
       "<re.Match object; span=(0, 3), match='pig'>"
      ]
     },
     "execution_count": 32,
     "metadata": {},
     "output_type": "execute_result"
    }
   ],
   "source": [
    "re.search('p.g','pig')"
   ]
  },
  {
   "cell_type": "markdown",
   "id": "cf451e9f",
   "metadata": {},
   "source": [
    "**반복패턴**\n",
    "- 패턴 뒤에 위치하는 *,+,?는 해당 패턴이 반복적으로 존재하는지 검사\n",
    "    - '+' -> 1번 이상의 패턴이 발생\n",
    "    - '*' -> 0번 이상의 패턴이 발생\n",
    "    - '?' -> 0 혹은 1번의 패턴이 발생\n",
    "- 반복을 패턴의 경우 greedy하게 검색 함, 즉 가능한 많은 부분이 매칭되도록 함\n",
    "    - e.g)a[bcd]*b 패턴을 abcbdccb에서 검색하는 경우\n",
    "        - ab, abcb , abcbdccb 전부 가능하지만 최대한 많은 부분이 매칭된 abcbdccb가 검색된 패턴\n"
   ]
  },
  {
   "cell_type": "code",
   "execution_count": 33,
   "id": "aaa00f75",
   "metadata": {},
   "outputs": [
    {
     "data": {
      "text/plain": [
       "<re.Match object; span=(0, 8), match='abcbdccb'>"
      ]
     },
     "execution_count": 33,
     "metadata": {},
     "output_type": "execute_result"
    }
   ],
   "source": [
    "re.search(r'a[bcd]*b','abcbdccb')"
   ]
  },
  {
   "cell_type": "code",
   "execution_count": 34,
   "id": "596dfcb8",
   "metadata": {},
   "outputs": [
    {
     "data": {
      "text/plain": [
       "<re.Match object; span=(0, 6), match='banana'>"
      ]
     },
     "execution_count": 34,
     "metadata": {},
     "output_type": "execute_result"
    }
   ],
   "source": [
    "re.search(r'b\\w+a','banana')"
   ]
  },
  {
   "cell_type": "code",
   "execution_count": 35,
   "id": "f87c1dca",
   "metadata": {},
   "outputs": [
    {
     "data": {
      "text/plain": [
       "<re.Match object; span=(1, 3), match='ii'>"
      ]
     },
     "execution_count": 35,
     "metadata": {},
     "output_type": "execute_result"
    }
   ],
   "source": [
    "re.search(r'i+','piigiiii')"
   ]
  },
  {
   "cell_type": "code",
   "execution_count": 38,
   "id": "e53d3543",
   "metadata": {},
   "outputs": [],
   "source": [
    "re.search('pi+g','pg')"
   ]
  },
  {
   "cell_type": "code",
   "execution_count": 39,
   "id": "bf3abb13",
   "metadata": {},
   "outputs": [
    {
     "data": {
      "text/plain": [
       "<re.Match object; span=(0, 2), match='pg'>"
      ]
     },
     "execution_count": 39,
     "metadata": {},
     "output_type": "execute_result"
    }
   ],
   "source": [
    "re.search(r'pi*g','pg')"
   ]
  },
  {
   "cell_type": "code",
   "execution_count": 40,
   "id": "cec3e8aa",
   "metadata": {},
   "outputs": [
    {
     "data": {
      "text/plain": [
       "<re.Match object; span=(0, 5), match='https'>"
      ]
     },
     "execution_count": 40,
     "metadata": {},
     "output_type": "execute_result"
    }
   ],
   "source": [
    "re.search(r'https?','https://www.naver.com')"
   ]
  },
  {
   "cell_type": "code",
   "execution_count": 41,
   "id": "8f2b5227",
   "metadata": {},
   "outputs": [
    {
     "data": {
      "text/plain": [
       "<re.Match object; span=(0, 4), match='http'>"
      ]
     },
     "execution_count": 41,
     "metadata": {},
     "output_type": "execute_result"
    }
   ],
   "source": [
    "re.search(r'https?','http://www.naver.com')"
   ]
  },
  {
   "cell_type": "markdown",
   "id": "3ac8a4c2",
   "metadata": {},
   "source": [
    "**^*, *$**\n",
    "- ^ : 문자열의 맨 앞부터 일치하는 경우 검색(문자열이 ^뒤에오는 문자부터 시작해야 됨)\n",
    "- \\\\$ : 문자열의 맨 뒤부터 일치하는 경우 검색(문자열이 \\$앞에오는 문자로 끝나야 됨)"
   ]
  },
  {
   "cell_type": "code",
   "execution_count": 42,
   "id": "298038fe",
   "metadata": {},
   "outputs": [
    {
     "data": {
      "text/plain": [
       "<re.Match object; span=(2, 6), match='bana'>"
      ]
     },
     "execution_count": 42,
     "metadata": {},
     "output_type": "execute_result"
    }
   ],
   "source": [
    "re.search(r'b\\w+a','cabana')"
   ]
  },
  {
   "cell_type": "code",
   "execution_count": 43,
   "id": "e7868fdc",
   "metadata": {},
   "outputs": [],
   "source": [
    "re.search(r'^b\\w+a','cabana')"
   ]
  },
  {
   "cell_type": "code",
   "execution_count": 44,
   "id": "c2100c6d",
   "metadata": {},
   "outputs": [
    {
     "data": {
      "text/plain": [
       "<re.Match object; span=(0, 6), match='babana'>"
      ]
     },
     "execution_count": 44,
     "metadata": {},
     "output_type": "execute_result"
    }
   ],
   "source": [
    "re.search(r'^b\\w+a','babana')"
   ]
  },
  {
   "cell_type": "code",
   "execution_count": 45,
   "id": "8e011d9c",
   "metadata": {},
   "outputs": [
    {
     "data": {
      "text/plain": [
       "<re.Match object; span=(0, 6), match='babana'>"
      ]
     },
     "execution_count": 45,
     "metadata": {},
     "output_type": "execute_result"
    }
   ],
   "source": [
    "re.search(r'b\\w+a$','babana')"
   ]
  },
  {
   "cell_type": "code",
   "execution_count": 46,
   "id": "e4af83ea",
   "metadata": {},
   "outputs": [],
   "source": [
    "re.search(r'b\\w+a$','babanap')"
   ]
  },
  {
   "cell_type": "markdown",
   "id": "3806a630",
   "metadata": {},
   "source": [
    "**grouping**\n",
    "- ()를 사용하여 그루핍\n",
    "- 매칭 결과를 각 그룹별로 분리 가능\n",
    "- 패턴 명시 할 때, 각 그룹을 괄호() 안에 넣어 분리하여 사용"
   ]
  },
  {
   "cell_type": "code",
   "execution_count": 49,
   "id": "3aab2286",
   "metadata": {},
   "outputs": [
    {
     "data": {
      "text/plain": [
       "'test@gamil.com'"
      ]
     },
     "execution_count": 49,
     "metadata": {},
     "output_type": "execute_result"
    }
   ],
   "source": [
    "m=re.search(r'\\w+@.+','test@gamil.com')\n",
    "m.group()"
   ]
  },
  {
   "cell_type": "code",
   "execution_count": 53,
   "id": "14dc3ad4",
   "metadata": {},
   "outputs": [
    {
     "name": "stdout",
     "output_type": "stream",
     "text": [
      "test\n",
      "gamil.com\n",
      "test@gamil.com\n"
     ]
    }
   ],
   "source": [
    "m=re.search(r'(\\w+)@(.+)','test@gamil.com')\n",
    "print(m.group(1))\n",
    "print(m.group(2))\n",
    "print(m.group(0))"
   ]
  },
  {
   "cell_type": "markdown",
   "id": "376d9357",
   "metadata": {},
   "source": [
    "**{}**\n",
    "- *,+,?을 사용하여 반복적인 패턴을 찾는 것이 가능하나, 반복의 횟수 제한은 불가\n",
    "- 패턴뒤에 위치하는 중괄호에{}에 숫자를 명시하면 해당 숫자 만큼의 반복인 경우에만 매칭\n",
    "- {4} - 4번 반복\n",
    "- {3,4} - 3~4번 반복"
   ]
  },
  {
   "cell_type": "code",
   "execution_count": 55,
   "id": "3e7d8846",
   "metadata": {},
   "outputs": [
    {
     "data": {
      "text/plain": [
       "<re.Match object; span=(0, 5), match='piiig'>"
      ]
     },
     "execution_count": 55,
     "metadata": {},
     "output_type": "execute_result"
    }
   ],
   "source": [
    "re.search('pi{3}g','piiig')"
   ]
  },
  {
   "cell_type": "code",
   "execution_count": 56,
   "id": "9f5fd84f",
   "metadata": {},
   "outputs": [
    {
     "data": {
      "text/plain": [
       "<re.Match object; span=(0, 7), match='piiiiig'>"
      ]
     },
     "execution_count": 56,
     "metadata": {},
     "output_type": "execute_result"
    }
   ],
   "source": [
    "re.search('pi{3,5}g','piiiiig')"
   ]
  },
  {
   "cell_type": "markdown",
   "id": "3f094705",
   "metadata": {},
   "source": [
    "**미니멈 매칭(no-greedy way)**\n",
    "- 기본적으로 *,+,?를 사용하면 greedy(맥시멈 매칭)하게 동작함\n",
    "- *?, +? 을 이용하여 해당 기능을 구현"
   ]
  },
  {
   "cell_type": "code",
   "execution_count": 60,
   "id": "65c6bc2b",
   "metadata": {},
   "outputs": [
    {
     "data": {
      "text/plain": [
       "<re.Match object; span=(0, 6), match='<html>'>"
      ]
     },
     "execution_count": 60,
     "metadata": {},
     "output_type": "execute_result"
    }
   ],
   "source": [
    "# 앞부분 <html>찾기\n",
    "re.search(r'<.+?>','<html>haha<html>')"
   ]
  },
  {
   "cell_type": "markdown",
   "id": "5f6472ae",
   "metadata": {},
   "source": [
    "**{}?**\n",
    "- {m,n}의 경우 m~n번 반복하나 greedy하게 동작\n",
    "- {m,n}?로 사용하면 non-greedy하게 동작. 즉, 최소 m번만 매칭하면 만족"
   ]
  },
  {
   "cell_type": "code",
   "execution_count": 67,
   "id": "ec624d84",
   "metadata": {},
   "outputs": [
    {
     "data": {
      "text/plain": [
       "<re.Match object; span=(0, 5), match='aaaaa'>"
      ]
     },
     "execution_count": 67,
     "metadata": {},
     "output_type": "execute_result"
    }
   ],
   "source": [
    "re.search(r'a{3,5}','aaaaa')"
   ]
  },
  {
   "cell_type": "code",
   "execution_count": 65,
   "id": "5f4dc26f",
   "metadata": {},
   "outputs": [
    {
     "data": {
      "text/plain": [
       "<re.Match object; span=(0, 3), match='aaa'>"
      ]
     },
     "execution_count": 65,
     "metadata": {},
     "output_type": "execute_result"
    }
   ],
   "source": [
    "re.search(r'a{3,5}?','aaaaa')"
   ]
  },
  {
   "cell_type": "markdown",
   "id": "f0776141",
   "metadata": {},
   "source": [
    "**match**\n",
    "- search와 유사하나, 주어진 문자열의 시작부터 비교하여 패턴이 있는지 확인\n",
    "- 시작부터 해당 패턴이 존재하지 않는다면 None 반환"
   ]
  },
  {
   "cell_type": "code",
   "execution_count": 68,
   "id": "befd7448",
   "metadata": {},
   "outputs": [],
   "source": [
    "re.match(r'\\d\\d\\d','my number is 123')"
   ]
  },
  {
   "cell_type": "code",
   "execution_count": 69,
   "id": "918498cf",
   "metadata": {},
   "outputs": [
    {
     "data": {
      "text/plain": [
       "<re.Match object; span=(0, 3), match='123'>"
      ]
     },
     "execution_count": 69,
     "metadata": {},
     "output_type": "execute_result"
    }
   ],
   "source": [
    "re.match(r'\\d\\d\\d','123 is 123')"
   ]
  },
  {
   "cell_type": "markdown",
   "id": "cf5c9bdb",
   "metadata": {},
   "source": [
    "**findall**\n",
    "- search가 최초로 매칭되는 패턴만 반환한다면, findall은 매칭되는 전체의 패턴을 반환\n",
    "- 매칭되는 모든 결과를 리스트 형태로 반환"
   ]
  },
  {
   "cell_type": "code",
   "execution_count": 80,
   "id": "b1a876b9",
   "metadata": {},
   "outputs": [
    {
     "data": {
      "text/plain": [
       "['test@gamil.com', 'test2@gamil.com']"
      ]
     },
     "execution_count": 80,
     "metadata": {},
     "output_type": "execute_result"
    }
   ],
   "source": [
    "re.findall(r'[\\w]+@[\\w]+\\.[\\w]+','test@gamil.com haha test2@gamil.com nice test test' )"
   ]
  },
  {
   "cell_type": "markdown",
   "id": "f391f490",
   "metadata": {},
   "source": [
    "**sub**\n",
    "- 주어진 문자열에서 일치하는 모든패턴을 replace\n",
    "- 그 결과를 문자열로 다시 반환홤\n",
    "- 두번째 인자는 특정 문자열이 될 수도 있고, 함수가 될 수 도 있음\n",
    "- count가 0인 경우는 전체를, 1이상이면 해당 숫자만큼 치환 됨"
   ]
  },
  {
   "cell_type": "code",
   "execution_count": 81,
   "id": "90c7e638",
   "metadata": {},
   "outputs": [
    {
     "data": {
      "text/plain": [
       "'great haha great nice test test'"
      ]
     },
     "execution_count": 81,
     "metadata": {},
     "output_type": "execute_result"
    }
   ],
   "source": [
    "re.sub(r'[\\w]+@[\\w]+\\.[\\w]+','great','test@gamil.com haha test2@gamil.com nice test test' )"
   ]
  },
  {
   "cell_type": "markdown",
   "id": "ba1dd89c",
   "metadata": {},
   "source": [
    "**compile**\n",
    "- 동일한 정규표현식을 매번 다시 쓰기 번거로움을 해결\n",
    "- compile로 해당표현식을 re.RegexObject 객체로 저장하여 사용가능"
   ]
  },
  {
   "cell_type": "code",
   "execution_count": 82,
   "id": "3e93b227",
   "metadata": {},
   "outputs": [
    {
     "data": {
      "text/plain": [
       "<re.Match object; span=(0, 14), match='test@gamil.com'>"
      ]
     },
     "execution_count": 82,
     "metadata": {},
     "output_type": "execute_result"
    }
   ],
   "source": [
    "email_reg=re.compile(r'[\\w]+@[\\w]+\\.[\\w]+')\n",
    "email_reg.search('test@gamil.com haha good')"
   ]
  },
  {
   "cell_type": "markdown",
   "id": "fd46ba95",
   "metadata": {},
   "source": [
    "**연습문제**"
   ]
  },
  {
   "cell_type": "markdown",
   "id": "89806185",
   "metadata": {},
   "source": [
    "1. 아래 뉴스에서 이메일 주소를 추출해 보세요"
   ]
  },
  {
   "cell_type": "code",
   "execution_count": 2,
   "id": "a0457a4d",
   "metadata": {
    "scrolled": true
   },
   "outputs": [
    {
     "name": "stdout",
     "output_type": "stream",
     "text": [
      "(로스앤젤레스=연합뉴스) 옥철 특파원 = 팀 쿡 애플 최고경영자(CEO)가 16일(현지시간) 실리콘밸리 앞마당 격인 미국 서부 명문 스탠퍼드대학 학위수여식에서 테크기업들을 향해 쓴소리를 쏟아냈다.쿡은 이날 연설에서 실리콘밸리 테크기업들은 자신들이 만든 혼란에 대한 책임을 질 필요가 있다고 경고했다.근래 IT 업계의 가장 큰 이슈인 개인정보 침해, 사생활 보호 문제를 콕 집어 라이벌인 구글, 페이스북 등 IT 공룡을 겨냥한 발언이라는 해석이 나왔다.쿡은 \"최근 실리콘밸리 산업은 고귀한 혁신과는 점점 더 거리가 멀어지는 것으로 알려져 있다. 책임을 받아들이지 않고도 신뢰를 얻을 수 있다는 그런 믿음 말이다\"라고 꼬집었다.개인정보 유출 사건으로 미 의회 청문회에 줄줄이 불려 나간 경쟁사 CEO들을 향해 일침을 가한 것으로 보인다.그는 또 실리콘밸리에서 희대의 사기극을 연출한 바이오벤처 스타트업 테라노스(Theranos)를 직격했다.쿡은 \"피 한 방울로 거짓된 기적을 만들 수 있다고 믿었느냐\"면서 \"이런 식으로 혼돈의 공장을 만든다면 그 책임에서 절대 벗어날 수 없다\"라고 비난했다.테라노스는 손가락 끝을 찔러 극미량의 혈액 샘플만 있으면 각종 의학정보 분석은 물론 거의 모든 질병 진단이 가능한 바이오헬스 기술을 개발했다고 속여 월가 큰손들로부터 거액의 투자를 유치했다가 해당 기술이 사기인 것으로 드러나 청산한 기업이다.쿡은 애플의 경우 프라이버시(사생활) 보호에 초점을 맞춘 새로운 제품 기능들로 경쟁사들에 맞서고 있다며 자사의 데이터 보호 정책을 은근히 홍보하기도 했다.oakchul@yna.co.kr▶연합뉴스 앱 지금 바로 다운받기~<저작권자(c) 연합뉴스, 무단 전재-재배포 금지>\n"
     ]
    }
   ],
   "source": [
    "import requests\n",
    "from bs4 import BeautifulSoup\n",
    "\n",
    "def get_news_content(url):\n",
    "    response = requests.get(url)\n",
    "    content = response.text\n",
    "\n",
    "    soup = BeautifulSoup(content, 'html5lib')\n",
    "\n",
    "    div = soup.find('div', attrs = {'class' : 'article_view'})\n",
    "    \n",
    "    content = ''\n",
    "    for paragraph in div.find_all('p'):\n",
    "        content += paragraph.get_text()\n",
    "        \n",
    "    return content\n",
    "\n",
    "news1 = get_news_content('https://v.daum.net/v/20190617073049838')\n",
    "print(news1)"
   ]
  },
  {
   "cell_type": "code",
   "execution_count": 4,
   "id": "595de503",
   "metadata": {},
   "outputs": [
    {
     "data": {
      "text/plain": [
       "['oakchul@yna.co.kr']"
      ]
     },
     "execution_count": 4,
     "metadata": {},
     "output_type": "execute_result"
    }
   ],
   "source": [
    "import re\n",
    "re.findall(r'[\\w]+@[\\w.]+',news1)"
   ]
  },
  {
   "cell_type": "markdown",
   "id": "5e862112",
   "metadata": {},
   "source": [
    "2. 다음 중 올바른 웹페이지만 찾으시오"
   ]
  },
  {
   "cell_type": "code",
   "execution_count": 5,
   "id": "34dbc90e",
   "metadata": {
    "scrolled": true
   },
   "outputs": [],
   "source": [
    "webs = ['http://www.test.co.kr', \n",
    "        'https://www.test1.com', \n",
    "        'http://www.test.com', \n",
    "        'ftp://www.test.com', \n",
    "        'http:://www.test.com',\n",
    "       'htp://www.test.com',\n",
    "       'http://www.google.com', \n",
    "       'https://www.homepage.com.']"
   ]
  },
  {
   "cell_type": "code",
   "execution_count": 9,
   "id": "b4c68495",
   "metadata": {
    "scrolled": true
   },
   "outputs": [
    {
     "data": {
      "text/plain": [
       "['http://www.test.co.kr',\n",
       " 'https://www.test1.com',\n",
       " 'http://www.test.com',\n",
       " 'http://www.google.com']"
      ]
     },
     "execution_count": 9,
     "metadata": {},
     "output_type": "execute_result"
    }
   ],
   "source": [
    "# 내 풀이\n",
    "def right_homepage(homepage):\n",
    "    lst=[]\n",
    "    for i in homepage:\n",
    "        if re.search(r'^https?.{3}[\\w.]+\\w+$',i):\n",
    "             lst.append(re.search(r'^https?.{3}[\\w.]+',i).group())\n",
    "    return lst\n",
    "\n",
    "right_homepage(webs)"
   ]
  },
  {
   "cell_type": "code",
   "execution_count": 14,
   "id": "27e518a0",
   "metadata": {},
   "outputs": [
    {
     "data": {
      "text/plain": [
       "[True, True, True, False, False, False, True, False]"
      ]
     },
     "execution_count": 14,
     "metadata": {},
     "output_type": "execute_result"
    }
   ],
   "source": [
    "#강사 풀이\n",
    "web_reg=re.compile(r'^https?.{3}[\\w.]+\\w+$')\n",
    "list(map(lambda w: web_reg.search(w)  !=None, webs))"
   ]
  },
  {
   "cell_type": "code",
   "execution_count": null,
   "id": "2cff3f7b",
   "metadata": {},
   "outputs": [],
   "source": []
  }
 ],
 "metadata": {
  "kernelspec": {
   "display_name": "Python 3 (ipykernel)",
   "language": "python",
   "name": "python3"
  },
  "language_info": {
   "codemirror_mode": {
    "name": "ipython",
    "version": 3
   },
   "file_extension": ".py",
   "mimetype": "text/x-python",
   "name": "python",
   "nbconvert_exporter": "python",
   "pygments_lexer": "ipython3",
   "version": "3.9.13"
  }
 },
 "nbformat": 4,
 "nbformat_minor": 5
}
