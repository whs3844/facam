{
 "cells": [
  {
   "cell_type": "markdown",
   "id": "58eb6f8c",
   "metadata": {},
   "source": [
    "- **Lambda 함수**\n",
    "    - 단일문으로 표현되는 익명함수\n",
    "    - 익명함수란 이름이 없는 구현체만 존재하는 간단한 함수를 의미\n",
    "    - 코드 상에서 한번만 사용되는 기능이 있을 때, 굳이 함수로 만들지 않고 1회성으로 만들어서 쓸 때 사용."
   ]
  },
  {
   "cell_type": "code",
   "execution_count": 3,
   "id": "a86adfd3",
   "metadata": {},
   "outputs": [
    {
     "data": {
      "text/plain": [
       "25"
      ]
     },
     "execution_count": 3,
     "metadata": {},
     "output_type": "execute_result"
    }
   ],
   "source": [
    "square= lambda x:x**2\n",
    "type(square)#function\n",
    "square(5)"
   ]
  },
  {
   "cell_type": "code",
   "execution_count": 4,
   "id": "acbb9975",
   "metadata": {},
   "outputs": [
    {
     "data": {
      "text/plain": [
       "25"
      ]
     },
     "execution_count": 4,
     "metadata": {},
     "output_type": "execute_result"
    }
   ],
   "source": [
    "def square2(x):\n",
    "    return x**2\n",
    "\n",
    "square2(5)"
   ]
  },
  {
   "cell_type": "code",
   "execution_count": 5,
   "id": "a7eaea12",
   "metadata": {},
   "outputs": [
    {
     "data": {
      "text/plain": [
       "30"
      ]
     },
     "execution_count": 5,
     "metadata": {},
     "output_type": "execute_result"
    }
   ],
   "source": [
    "def add(x,y):\n",
    "    return x+y\n",
    "\n",
    "add2=lambda x,y: x+y\n",
    "add2(10,20)"
   ]
  },
  {
   "cell_type": "code",
   "execution_count": 6,
   "id": "bcfb73b8",
   "metadata": {},
   "outputs": [
    {
     "name": "stdout",
     "output_type": "stream",
     "text": [
      "['alexander', 'bob', 'charles', 'teddy']\n"
     ]
    }
   ],
   "source": [
    "strings=['bob','charles','alexander','teddy']\n",
    "strings.sort()\n",
    "\n",
    "print(strings)"
   ]
  },
  {
   "cell_type": "code",
   "execution_count": 8,
   "id": "52ca98da",
   "metadata": {},
   "outputs": [
    {
     "data": {
      "text/plain": [
       "4"
      ]
     },
     "execution_count": 8,
     "metadata": {},
     "output_type": "execute_result"
    }
   ],
   "source": [
    "def str_len(s):\n",
    "    return len(s)\n",
    "\n",
    "str_len('test')"
   ]
  },
  {
   "cell_type": "code",
   "execution_count": 10,
   "id": "4ea614eb",
   "metadata": {},
   "outputs": [
    {
     "name": "stdout",
     "output_type": "stream",
     "text": [
      "['bob', 'teddy', 'charles', 'alexander']\n"
     ]
    }
   ],
   "source": [
    "strings=['bob','charles','alexander','teddy']\n",
    "#strings.sort(key=str_len)\n",
    "strings.sort(key=lambda s:len(s))\n",
    "\n",
    "print(strings)"
   ]
  },
  {
   "cell_type": "markdown",
   "id": "389bfdb1",
   "metadata": {},
   "source": [
    "**filter, map, reduce**\n",
    "- lambda가 유용하게 사용되는 3가지 대표적 함수\n",
    "- 함수형 프로그래밍의 기본 요소이기도 함\n",
    "- filter : 특정 조건을 만족하는 요소만 남기고 필터링\n",
    "- map : 각 원소를 주어진 수식에 따라 변형하여 새로운 리스트를 반환\n",
    "- reduece : 차례대로 앞 2개의 원소를 가지고 연산. 연산의 결과가 또 다음 연산의 입력으로 진행됨. 따라서 마지막까지 진행되면 최종 출력은 한개의 값만 남게됨"
   ]
  },
  {
   "cell_type": "code",
   "execution_count": 2,
   "id": "5d7e6666",
   "metadata": {},
   "outputs": [
    {
     "data": {
      "text/plain": [
       "True"
      ]
     },
     "execution_count": 2,
     "metadata": {},
     "output_type": "execute_result"
    }
   ],
   "source": [
    "def even(n):\n",
    "    return n % 2==0\n",
    "\n",
    "even(2)"
   ]
  },
  {
   "cell_type": "code",
   "execution_count": 5,
   "id": "1130e7b8",
   "metadata": {},
   "outputs": [
    {
     "data": {
      "text/plain": [
       "[2, 6, 8, 10]"
      ]
     },
     "execution_count": 5,
     "metadata": {},
     "output_type": "execute_result"
    }
   ],
   "source": [
    "#filter(함수,리스트)\n",
    "nums=[1,2,3,6,8,9,10,11,13,15]\n",
    "\n",
    "list(filter(even,nums))"
   ]
  },
  {
   "cell_type": "code",
   "execution_count": 7,
   "id": "422c5e83",
   "metadata": {},
   "outputs": [
    {
     "data": {
      "text/plain": [
       "[2, 6, 8, 10]"
      ]
     },
     "execution_count": 7,
     "metadata": {},
     "output_type": "execute_result"
    }
   ],
   "source": [
    "list(filter(lambda n: n%2==0, nums))"
   ]
  },
  {
   "cell_type": "code",
   "execution_count": 15,
   "id": "1703b0c8",
   "metadata": {},
   "outputs": [
    {
     "data": {
      "text/plain": [
       "[1, 4, 9, 36, 64, 81]"
      ]
     },
     "execution_count": 15,
     "metadata": {},
     "output_type": "execute_result"
    }
   ],
   "source": [
    "#map(함수,리스트)\n",
    "nums=[1,2,3,6,8,9]\n",
    "list(map(lambda x: x**2,nums))"
   ]
  },
  {
   "cell_type": "code",
   "execution_count": 16,
   "id": "6a0beca0",
   "metadata": {},
   "outputs": [
    {
     "data": {
      "text/plain": [
       "17"
      ]
     },
     "execution_count": 16,
     "metadata": {},
     "output_type": "execute_result"
    }
   ],
   "source": [
    "import functools\n",
    "\n",
    "a=[1,3,5,8]\n",
    "functools.reduce(lambda x,y:x+y,a)"
   ]
  },
  {
   "cell_type": "code",
   "execution_count": null,
   "id": "91eac3f6",
   "metadata": {},
   "outputs": [],
   "source": []
  },
  {
   "cell_type": "markdown",
   "id": "c8268ce1",
   "metadata": {},
   "source": [
    "**함수 연습문제**"
   ]
  },
  {
   "cell_type": "markdown",
   "id": "ecfd7ba9",
   "metadata": {},
   "source": [
    "1. 주어진 숫자 리스트의 평균을 구하는 함수를 출력하시오"
   ]
  },
  {
   "cell_type": "code",
   "execution_count": 20,
   "id": "dd798d53",
   "metadata": {},
   "outputs": [
    {
     "data": {
      "text/plain": [
       "5.5"
      ]
     },
     "execution_count": 20,
     "metadata": {},
     "output_type": "execute_result"
    }
   ],
   "source": [
    "def mean(lst):\n",
    "    sum=0\n",
    "    for i in lst:\n",
    "        sum+=i\n",
    "    mean=sum/len(lst)\n",
    "    \n",
    "    return mean\n",
    "    \n",
    "a=[1,2,3,4,5,6,7,8,9,10]\n",
    "mean(a)"
   ]
  },
  {
   "cell_type": "markdown",
   "id": "238b6aa4",
   "metadata": {},
   "source": [
    "2. 해당 숫자가 소수인지 아닌지 판별하시오."
   ]
  },
  {
   "cell_type": "code",
   "execution_count": 32,
   "id": "5d3ea281",
   "metadata": {},
   "outputs": [
    {
     "name": "stdout",
     "output_type": "stream",
     "text": [
      "소수입니다\n"
     ]
    }
   ],
   "source": [
    "# 내풀이\n",
    "def is_prime(num):\n",
    "    lst=[]\n",
    "    for i in range(1,num+1):\n",
    "        if num%i==0:\n",
    "            lst.append(num)\n",
    "    if len(lst)==2:\n",
    "        return \"소수입니다\"\n",
    "    else:\n",
    "        return \"소수가 아닙니다\"\n",
    "\n",
    "        \n",
    "print(is_prime(5))"
   ]
  },
  {
   "cell_type": "code",
   "execution_count": 5,
   "id": "6d5d2956",
   "metadata": {},
   "outputs": [],
   "source": [
    "#강사풀이\n",
    "def is_prime(num):\n",
    "    for i in range(2,num):\n",
    "        if num%i==0:\n",
    "            return \"소수가 아닙니다\" \n",
    "    return \"소수입니다\"     #한번이라도 나눠떨어지지 않으면 for문을 끝까지돌고 return 문으로 옴\n",
    "\n"
   ]
  },
  {
   "cell_type": "markdown",
   "id": "3cf1d48f",
   "metadata": {},
   "source": [
    "3. 2부터 해당 숫자사이에 소수가 몇개인지 출력하는 함수를 구하시오."
   ]
  },
  {
   "cell_type": "code",
   "execution_count": 48,
   "id": "b512afcf",
   "metadata": {},
   "outputs": [
    {
     "data": {
      "text/plain": [
       "2"
      ]
     },
     "execution_count": 48,
     "metadata": {},
     "output_type": "execute_result"
    }
   ],
   "source": [
    "#내풀이\n",
    "def cnt(num):\n",
    "    lst=[]\n",
    "    sum=0\n",
    "    for i in range(2,num+1):\n",
    "        for j in range(1,i+1):\n",
    "            if i%j==0:\n",
    "                lst.append(i)\n",
    "        \n",
    "        if lst.count(i)==2:\n",
    "            sum+=1\n",
    "    \n",
    "    return sum\n",
    "    \n",
    "cnt(3)"
   ]
  },
  {
   "cell_type": "code",
   "execution_count": 7,
   "id": "5bcd1a5e",
   "metadata": {},
   "outputs": [
    {
     "name": "stdout",
     "output_type": "stream",
     "text": [
      "3\n"
     ]
    }
   ],
   "source": [
    "#강사풀이\n",
    "def num_prime(num):\n",
    "    cnt=0\n",
    "    for i in range(2,num+1):\n",
    "        if is_prime(i)==\"소수입니다\":\n",
    "            cnt+=1\n",
    "    return cnt\n",
    "\n",
    "print(num_prime(5))"
   ]
  }
 ],
 "metadata": {
  "kernelspec": {
   "display_name": "Python 3 (ipykernel)",
   "language": "python",
   "name": "python3"
  },
  "language_info": {
   "codemirror_mode": {
    "name": "ipython",
    "version": 3
   },
   "file_extension": ".py",
   "mimetype": "text/x-python",
   "name": "python",
   "nbconvert_exporter": "python",
   "pygments_lexer": "ipython3",
   "version": "3.9.13"
  }
 },
 "nbformat": 4,
 "nbformat_minor": 5
}
