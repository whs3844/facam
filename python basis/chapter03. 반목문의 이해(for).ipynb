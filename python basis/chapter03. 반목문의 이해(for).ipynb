{
 "cells": [
  {
   "cell_type": "markdown",
   "id": "bbbb1f69",
   "metadata": {},
   "source": [
    "## for 반복문\n",
    "- 리스트, 문자열 등등 순회 가능한 객체를 순회하면서 값을 처리할 때 사용\n",
    "- 아래와 같은 문법으로 사용\n",
    "- 여기서 i는 매번 수행 될 때마다, a의 아이템으로 순차적으로 변경 됨\n",
    "- 모든 아이템이 순회되면 for 블록 종료\n",
    "```python\n",
    "a=[1,2,4,3,5]\n",
    "for i in a:\n",
    "    print(i,i*2)\n",
    "    ```"
   ]
  },
  {
   "cell_type": "code",
   "execution_count": 1,
   "id": "536c42db",
   "metadata": {},
   "outputs": [
    {
     "name": "stdout",
     "output_type": "stream",
     "text": [
      "1 2\n",
      "2 4\n",
      "4 8\n",
      "3 6\n",
      "5 10\n"
     ]
    }
   ],
   "source": [
    "a=[1,2,4,3,5]\n",
    "for i in a:\n",
    "  print(i,i*2)"
   ]
  },
  {
   "cell_type": "markdown",
   "id": "35c83183",
   "metadata": {},
   "source": [
    "**문자열의 아이템 출력하기**\n",
    "- 문자열의 경우 순회 가능, 리스트와 유사하게 순회 가능"
   ]
  },
  {
   "cell_type": "code",
   "execution_count": 2,
   "id": "7f317e3e",
   "metadata": {},
   "outputs": [
    {
     "name": "stdout",
     "output_type": "stream",
     "text": [
      "h\n",
      "e\n",
      "l\n",
      "l\n",
      "o\n",
      " \n",
      "w\n",
      "o\n",
      "r\n",
      "l\n",
      "d\n"
     ]
    }
   ],
   "source": [
    "a='hello world'\n",
    "for i in a:\n",
    "    print(i)"
   ]
  },
  {
   "cell_type": "markdown",
   "id": "926a4e2e",
   "metadata": {},
   "source": [
    "**리스트 아이템 출력하기**"
   ]
  },
  {
   "cell_type": "code",
   "execution_count": 3,
   "id": "3e1f4152",
   "metadata": {},
   "outputs": [
    {
     "name": "stdout",
     "output_type": "stream",
     "text": [
      "1\n",
      "10\n",
      "3\n",
      "4\n",
      "5\n"
     ]
    }
   ],
   "source": [
    "a=[1,10,3,4,5]\n",
    "for num in a:\n",
    "    print(num)"
   ]
  },
  {
   "cell_type": "code",
   "execution_count": 6,
   "id": "667738c5",
   "metadata": {},
   "outputs": [
    {
     "name": "stdout",
     "output_type": "stream",
     "text": [
      "2\n",
      "5.0\n",
      "4\n",
      "2.0\n",
      "6\n"
     ]
    }
   ],
   "source": [
    "a=[1,10,3,4,5]\n",
    "for num in a:\n",
    "    if num%2==0:\n",
    "        print(num/2)\n",
    "    else :\n",
    "        print(num+1)"
   ]
  },
  {
   "cell_type": "markdown",
   "id": "3b80d2ea",
   "metadata": {},
   "source": [
    "**dict의 아이템 출력하기**\n",
    "- dictionary의 경우 기본적으로 순회 하게 되면 key값을 참조\n",
    "- keys()함수를 이용하여 key 값만 순회 가능\n",
    "- values()함수를 이용하여 value 값만 순회 가능\n",
    "- items()함수를 이용하여 tuple형태로 key,value 순회 가능"
   ]
  },
  {
   "cell_type": "code",
   "execution_count": 7,
   "id": "67687733",
   "metadata": {},
   "outputs": [
    {
     "name": "stdout",
     "output_type": "stream",
     "text": [
      "Korea\n",
      "Japan\n",
      "Canada\n"
     ]
    }
   ],
   "source": [
    "a={'Korea':'Seoul','Japan':'Tokyo','Canada':'Ottawa'}\n",
    "for k in a:\n",
    "    print(k)"
   ]
  },
  {
   "cell_type": "code",
   "execution_count": 8,
   "id": "652ae424",
   "metadata": {},
   "outputs": [
    {
     "name": "stdout",
     "output_type": "stream",
     "text": [
      "Korea Seoul\n",
      "Japan Tokyo\n",
      "Canada Ottawa\n"
     ]
    }
   ],
   "source": [
    "a={'Korea':'Seoul','Japan':'Tokyo','Canada':'Ottawa'}\n",
    "for k in a:\n",
    "    print(k,a[k])"
   ]
  },
  {
   "cell_type": "code",
   "execution_count": 9,
   "id": "f255121d",
   "metadata": {},
   "outputs": [
    {
     "name": "stdout",
     "output_type": "stream",
     "text": [
      "Seoul\n",
      "Tokyo\n",
      "Ottawa\n"
     ]
    }
   ],
   "source": [
    "a={'Korea':'Seoul','Japan':'Tokyo','Canada':'Ottawa'}\n",
    "for value in a.values():\n",
    "    print(value)"
   ]
  },
  {
   "cell_type": "code",
   "execution_count": 10,
   "id": "147abbd5",
   "metadata": {},
   "outputs": [
    {
     "name": "stdout",
     "output_type": "stream",
     "text": [
      "Korea Seoul\n",
      "Japan Tokyo\n",
      "Canada Ottawa\n"
     ]
    }
   ],
   "source": [
    "a={'Korea':'Seoul','Japan':'Tokyo','Canada':'Ottawa'}\n",
    "for key,value in a.items():\n",
    "    print(key,value)"
   ]
  },
  {
   "cell_type": "markdown",
   "id": "425a1373",
   "metadata": {},
   "source": [
    "**for에서 index 사용하기**\n",
    "- 기본적으로 for에 리스트를 순회하는 경우, 값만 추출 함\n",
    "- 아래와 같은 코드로 인덱스와 값 모두 사용 가능(enumerate 함수 이용)\n",
    "```python\n",
    "a=[1,2,3,4,5]\n",
    "for i,value in enumerate(a):\n",
    "    print(i,val)\n",
    "```"
   ]
  },
  {
   "cell_type": "code",
   "execution_count": 12,
   "id": "ea1db255",
   "metadata": {},
   "outputs": [
    {
     "name": "stdout",
     "output_type": "stream",
     "text": [
      "0 1\n",
      "1 2\n",
      "2 3\n",
      "3 4\n",
      "4 5\n"
     ]
    }
   ],
   "source": [
    "a=[1,2,3,4,5]\n",
    "for index,value in enumerate(a):\n",
    "    print(index,value)"
   ]
  },
  {
   "cell_type": "markdown",
   "id": "5f70ae97",
   "metadata": {},
   "source": [
    "**break**\n",
    "- for의 경우에도 특정 조건일 때, loop 종료가 가능"
   ]
  },
  {
   "cell_type": "code",
   "execution_count": 13,
   "id": "35fd1816",
   "metadata": {},
   "outputs": [
    {
     "name": "stdout",
     "output_type": "stream",
     "text": [
      "100\n",
      "90\n",
      "80\n"
     ]
    }
   ],
   "source": [
    "a=[100,90,80,70,60,50]\n",
    "for num in a:\n",
    "    if num<80:\n",
    "        break\n",
    "    print(num)"
   ]
  },
  {
   "cell_type": "markdown",
   "id": "0786a696",
   "metadata": {},
   "source": [
    "**continue**\n",
    "- 해당 아이템을 건너 뛰고 싶을 떄 사용"
   ]
  },
  {
   "cell_type": "code",
   "execution_count": 15,
   "id": "27097e2b",
   "metadata": {},
   "outputs": [
    {
     "name": "stdout",
     "output_type": "stream",
     "text": [
      "100\n",
      "90\n",
      "80\n",
      "50\n"
     ]
    }
   ],
   "source": [
    "a=[100,90,80,70,60,50]\n",
    "for num in a:\n",
    "    if (num>=60) & (num<=70):\n",
    "        continue\n",
    "    print(num)"
   ]
  },
  {
   "cell_type": "markdown",
   "id": "ba47baa0",
   "metadata": {},
   "source": [
    "**loop 중첩**\n",
    "- 반복문의 경우에도 중첩하여 사용 가능\n",
    "- 중첩이라는 것은 반복문 블록의 코드안에 또 반목문의 코드가 작성되는 것을 의미\n",
    "- 이런 경우, 내부 루프는 외부 루프가 수행되는 만큼 반복 수행됨\n",
    "- 또한 중첩의 경우 무한히 가능\n",
    "```python\n",
    "a=[1,2,4]\n",
    "for i in a:\n",
    "    for j in a:\n",
    "        print(i*j)\n",
    "```"
   ]
  },
  {
   "cell_type": "markdown",
   "id": "5c682cfd",
   "metadata": {},
   "source": [
    "**구구단 출력하기**"
   ]
  },
  {
   "cell_type": "code",
   "execution_count": 17,
   "id": "57097a0c",
   "metadata": {},
   "outputs": [
    {
     "name": "stdout",
     "output_type": "stream",
     "text": [
      "2 * 1 = 2\n",
      "2 * 2 = 4\n",
      "2 * 3 = 6\n",
      "2 * 4 = 8\n",
      "2 * 5 = 10\n",
      "2 * 6 = 12\n",
      "2 * 7 = 14\n",
      "2 * 8 = 16\n",
      "2 * 9 = 18\n",
      "3 * 1 = 3\n",
      "3 * 2 = 6\n",
      "3 * 3 = 9\n",
      "3 * 4 = 12\n",
      "3 * 5 = 15\n",
      "3 * 6 = 18\n",
      "3 * 7 = 21\n",
      "3 * 8 = 24\n",
      "3 * 9 = 27\n",
      "4 * 1 = 4\n",
      "4 * 2 = 8\n",
      "4 * 3 = 12\n",
      "4 * 4 = 16\n",
      "4 * 5 = 20\n",
      "4 * 6 = 24\n",
      "4 * 7 = 28\n",
      "4 * 8 = 32\n",
      "4 * 9 = 36\n",
      "5 * 1 = 5\n",
      "5 * 2 = 10\n",
      "5 * 3 = 15\n",
      "5 * 4 = 20\n",
      "5 * 5 = 25\n",
      "5 * 6 = 30\n",
      "5 * 7 = 35\n",
      "5 * 8 = 40\n",
      "5 * 9 = 45\n",
      "6 * 1 = 6\n",
      "6 * 2 = 12\n",
      "6 * 3 = 18\n",
      "6 * 4 = 24\n",
      "6 * 5 = 30\n",
      "6 * 6 = 36\n",
      "6 * 7 = 42\n",
      "6 * 8 = 48\n",
      "6 * 9 = 54\n",
      "7 * 1 = 7\n",
      "7 * 2 = 14\n",
      "7 * 3 = 21\n",
      "7 * 4 = 28\n",
      "7 * 5 = 35\n",
      "7 * 6 = 42\n",
      "7 * 7 = 49\n",
      "7 * 8 = 56\n",
      "7 * 9 = 63\n",
      "8 * 1 = 8\n",
      "8 * 2 = 16\n",
      "8 * 3 = 24\n",
      "8 * 4 = 32\n",
      "8 * 5 = 40\n",
      "8 * 6 = 48\n",
      "8 * 7 = 56\n",
      "8 * 8 = 64\n",
      "8 * 9 = 72\n",
      "9 * 1 = 9\n",
      "9 * 2 = 18\n",
      "9 * 3 = 27\n",
      "9 * 4 = 36\n",
      "9 * 5 = 45\n",
      "9 * 6 = 54\n",
      "9 * 7 = 63\n",
      "9 * 8 = 72\n",
      "9 * 9 = 81\n"
     ]
    }
   ],
   "source": [
    "a=[2,3,4,5,6,7,8,9]\n",
    "b=[1,2,3,4,5,6,7,8,9]\n",
    "for i in a:\n",
    "    for j in b:\n",
    "        print(i,'*',j,'=',i*j)"
   ]
  },
  {
   "cell_type": "markdown",
   "id": "7ba59df4",
   "metadata": {},
   "source": [
    "**collection의 길이**\n",
    "- len() 내장함수로 계산 가능\n",
    "- 내장함수란 파이썬 내부에 구현되어 있어서, import하지 않고도 사용 가능한 함수를 의미\n",
    "- abs, len, type, range 등이 있음"
   ]
  },
  {
   "cell_type": "code",
   "execution_count": 19,
   "id": "4b309146",
   "metadata": {},
   "outputs": [
    {
     "data": {
      "text/plain": [
       "5"
      ]
     },
     "execution_count": 19,
     "metadata": {},
     "output_type": "execute_result"
    }
   ],
   "source": [
    "a=[1,2,3,4,5]\n",
    "len(a)"
   ]
  },
  {
   "cell_type": "code",
   "execution_count": 20,
   "id": "169a7674",
   "metadata": {},
   "outputs": [
    {
     "data": {
      "text/plain": [
       "11"
      ]
     },
     "execution_count": 20,
     "metadata": {},
     "output_type": "execute_result"
    }
   ],
   "source": [
    "len('hello world')"
   ]
  },
  {
   "cell_type": "markdown",
   "id": "1ed0c9c2",
   "metadata": {},
   "source": [
    "**range 함수**\n",
    "- 리스트를 쉽게 만들 수 있는 내장함수\n",
    "- 주어진 값에 따라 다양한 결과를 반환\n",
    "\n",
    "```python\n",
    "range(10)          -> [0,1,2,3,4,5,6,7,8,9]\n",
    "range(2,10)        -> [2,3,4,5,6,7,8,9]\n",
    "range(2,10,3)      -> [2,5,8]\n",
    "```"
   ]
  },
  {
   "cell_type": "markdown",
   "id": "8ecac2f5",
   "metadata": {},
   "source": [
    "- 1~100까지의 리스트 생성하기"
   ]
  },
  {
   "cell_type": "code",
   "execution_count": 23,
   "id": "25f91ac9",
   "metadata": {},
   "outputs": [
    {
     "name": "stdout",
     "output_type": "stream",
     "text": [
      "[1, 2, 3, 4, 5, 6, 7, 8, 9, 10, 11, 12, 13, 14, 15, 16, 17, 18, 19, 20, 21, 22, 23, 24, 25, 26, 27, 28, 29, 30, 31, 32, 33, 34, 35, 36, 37, 38, 39, 40, 41, 42, 43, 44, 45, 46, 47, 48, 49, 50, 51, 52, 53, 54, 55, 56, 57, 58, 59, 60, 61, 62, 63, 64, 65, 66, 67, 68, 69, 70, 71, 72, 73, 74, 75, 76, 77, 78, 79, 80, 81, 82, 83, 84, 85, 86, 87, 88, 89, 90, 91, 92, 93, 94, 95, 96, 97, 98, 99, 100]\n"
     ]
    }
   ],
   "source": [
    "a=list(range(1,101))\n",
    "print(a)"
   ]
  },
  {
   "cell_type": "code",
   "execution_count": 24,
   "id": "478e474b",
   "metadata": {},
   "outputs": [
    {
     "data": {
      "text/plain": [
       "[1, 6, 11, 16, 21, 26, 31, 36, 41, 46, 51, 56, 61, 66, 71, 76, 81, 86, 91, 96]"
      ]
     },
     "execution_count": 24,
     "metadata": {},
     "output_type": "execute_result"
    }
   ],
   "source": [
    "list(range(1,101,5))"
   ]
  },
  {
   "cell_type": "markdown",
   "id": "d8aeb23b",
   "metadata": {},
   "source": [
    "**연습문제** 1부터 100사의 5의 배수만을 갖는 리스트를 생성하시오"
   ]
  },
  {
   "cell_type": "code",
   "execution_count": 26,
   "id": "47a8d531",
   "metadata": {},
   "outputs": [
    {
     "name": "stdout",
     "output_type": "stream",
     "text": [
      "[5, 10, 15, 20, 25, 30, 35, 40, 45, 50, 55, 60, 65, 70, 75, 80, 85, 90, 95, 100]\n"
     ]
    }
   ],
   "source": [
    "a=list(range(5,101,5))\n",
    "print(a)"
   ]
  },
  {
   "cell_type": "code",
   "execution_count": null,
   "id": "0fd5be86",
   "metadata": {},
   "outputs": [],
   "source": []
  },
  {
   "cell_type": "code",
   "execution_count": null,
   "id": "9dc241c1",
   "metadata": {},
   "outputs": [],
   "source": []
  },
  {
   "cell_type": "code",
   "execution_count": null,
   "id": "6f896e4b",
   "metadata": {},
   "outputs": [],
   "source": []
  },
  {
   "cell_type": "markdown",
   "id": "6a0d9f0c",
   "metadata": {},
   "source": [
    "## if & for 연습문제"
   ]
  },
  {
   "cell_type": "markdown",
   "id": "c6809c01",
   "metadata": {},
   "source": [
    "1. 구구단을 2 ~ 9단까지 출력하시오."
   ]
  },
  {
   "cell_type": "code",
   "execution_count": 27,
   "id": "f83e5401",
   "metadata": {},
   "outputs": [
    {
     "name": "stdout",
     "output_type": "stream",
     "text": [
      "2 * 1 = 2\n",
      "2 * 2 = 4\n",
      "2 * 3 = 6\n",
      "2 * 4 = 8\n",
      "2 * 5 = 10\n",
      "2 * 6 = 12\n",
      "2 * 7 = 14\n",
      "2 * 8 = 16\n",
      "2 * 9 = 18\n",
      "3 * 1 = 3\n",
      "3 * 2 = 6\n",
      "3 * 3 = 9\n",
      "3 * 4 = 12\n",
      "3 * 5 = 15\n",
      "3 * 6 = 18\n",
      "3 * 7 = 21\n",
      "3 * 8 = 24\n",
      "3 * 9 = 27\n",
      "4 * 1 = 4\n",
      "4 * 2 = 8\n",
      "4 * 3 = 12\n",
      "4 * 4 = 16\n",
      "4 * 5 = 20\n",
      "4 * 6 = 24\n",
      "4 * 7 = 28\n",
      "4 * 8 = 32\n",
      "4 * 9 = 36\n",
      "5 * 1 = 5\n",
      "5 * 2 = 10\n",
      "5 * 3 = 15\n",
      "5 * 4 = 20\n",
      "5 * 5 = 25\n",
      "5 * 6 = 30\n",
      "5 * 7 = 35\n",
      "5 * 8 = 40\n",
      "5 * 9 = 45\n",
      "6 * 1 = 6\n",
      "6 * 2 = 12\n",
      "6 * 3 = 18\n",
      "6 * 4 = 24\n",
      "6 * 5 = 30\n",
      "6 * 6 = 36\n",
      "6 * 7 = 42\n",
      "6 * 8 = 48\n",
      "6 * 9 = 54\n",
      "7 * 1 = 7\n",
      "7 * 2 = 14\n",
      "7 * 3 = 21\n",
      "7 * 4 = 28\n",
      "7 * 5 = 35\n",
      "7 * 6 = 42\n",
      "7 * 7 = 49\n",
      "7 * 8 = 56\n",
      "7 * 9 = 63\n",
      "8 * 1 = 8\n",
      "8 * 2 = 16\n",
      "8 * 3 = 24\n",
      "8 * 4 = 32\n",
      "8 * 5 = 40\n",
      "8 * 6 = 48\n",
      "8 * 7 = 56\n",
      "8 * 8 = 64\n",
      "8 * 9 = 72\n",
      "9 * 1 = 9\n",
      "9 * 2 = 18\n",
      "9 * 3 = 27\n",
      "9 * 4 = 36\n",
      "9 * 5 = 45\n",
      "9 * 6 = 54\n",
      "9 * 7 = 63\n",
      "9 * 8 = 72\n",
      "9 * 9 = 81\n"
     ]
    }
   ],
   "source": [
    "for i in range(2,10):\n",
    "    for j in range(1,10):\n",
    "        print(i,'*',j,'=',i*j)\n",
    "        \n",
    "        \n",
    "#x=2\n",
    "#while x<=9:\n",
    "#    y=1\n",
    "#    while y<=9:\n",
    "#        print(x*y)\n",
    "#        y+=1\n",
    "#    x+=1"
   ]
  },
  {
   "cell_type": "markdown",
   "id": "f320e89f",
   "metadata": {},
   "source": [
    "2. 1 ~ 100까지 정수 중 2의 배수 또는 11의 배수를 모두 출력하시오."
   ]
  },
  {
   "cell_type": "code",
   "execution_count": 29,
   "id": "87c61cdf",
   "metadata": {},
   "outputs": [
    {
     "name": "stdout",
     "output_type": "stream",
     "text": [
      "2\n",
      "4\n",
      "6\n",
      "8\n",
      "10\n",
      "11\n",
      "12\n",
      "14\n",
      "16\n",
      "18\n",
      "20\n",
      "22\n",
      "24\n",
      "26\n",
      "28\n",
      "30\n",
      "32\n",
      "33\n",
      "34\n",
      "36\n",
      "38\n",
      "40\n",
      "42\n",
      "44\n",
      "46\n",
      "48\n",
      "50\n",
      "52\n",
      "54\n",
      "55\n",
      "56\n",
      "58\n",
      "60\n",
      "62\n",
      "64\n",
      "66\n",
      "68\n",
      "70\n",
      "72\n",
      "74\n",
      "76\n",
      "77\n",
      "78\n",
      "80\n",
      "82\n",
      "84\n",
      "86\n",
      "88\n",
      "90\n",
      "92\n",
      "94\n",
      "96\n",
      "98\n",
      "99\n",
      "100\n"
     ]
    }
   ],
   "source": [
    "for i in range(1,101):\n",
    "    if (i%2==0) | (i%11==0):\n",
    "        print(i)"
   ]
  },
  {
   "cell_type": "markdown",
   "id": "70b865ea",
   "metadata": {},
   "source": [
    "3. a=[22,1,3,4,7,98,21,55,87,99,19,20,45]에서 최대값과 최소값을 찾으시오(sorted, sort 사용 금지)"
   ]
  },
  {
   "cell_type": "code",
   "execution_count": 31,
   "id": "7bfa09dd",
   "metadata": {},
   "outputs": [
    {
     "name": "stdout",
     "output_type": "stream",
     "text": [
      "최소값 :  1\n",
      "최대값 :  99\n"
     ]
    }
   ],
   "source": [
    "a=[22,1,3,4,7,98,21,55,87,99,19,20,45]\n",
    "min=10000\n",
    "max=-1000\n",
    "\n",
    "for i in a:\n",
    "    if i<min:\n",
    "        min=i\n",
    "print(\"최소값 : \",min)\n",
    "\n",
    "for i in a:\n",
    "    if i>max:\n",
    "        max=i\n",
    "print(\"최대값 : \",max)"
   ]
  },
  {
   "cell_type": "markdown",
   "id": "a469cbc1",
   "metadata": {},
   "source": [
    "4. a=[22,1,3,4,7,98,21,55,87,99,19,20,45]에서 평균을 구하시오."
   ]
  },
  {
   "cell_type": "code",
   "execution_count": 32,
   "id": "dd959587",
   "metadata": {
    "scrolled": true
   },
   "outputs": [
    {
     "name": "stdout",
     "output_type": "stream",
     "text": [
      "평균 :  37.0\n"
     ]
    }
   ],
   "source": [
    "a=[22,1,3,4,7,98,21,55,87,99,19,20,45]\n",
    "\n",
    "sum=0\n",
    "for i in a:\n",
    "    sum+=i\n",
    "print(\"평균 : \",sum/len(a))"
   ]
  }
 ],
 "metadata": {
  "kernelspec": {
   "display_name": "Python 3 (ipykernel)",
   "language": "python",
   "name": "python3"
  },
  "language_info": {
   "codemirror_mode": {
    "name": "ipython",
    "version": 3
   },
   "file_extension": ".py",
   "mimetype": "text/x-python",
   "name": "python",
   "nbconvert_exporter": "python",
   "pygments_lexer": "ipython3",
   "version": "3.9.13"
  }
 },
 "nbformat": 4,
 "nbformat_minor": 5
}
