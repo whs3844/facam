{
 "cells": [
  {
   "cell_type": "markdown",
   "id": "13eccb82",
   "metadata": {},
   "source": [
    "**class란?**\n",
    "- 실세계의 것을 모델링하여 속성(attribute)와 동작(method)를 갖는 데이터 타입\n",
    "- python에서의 string, list, dict,... 모두가 다 클래스로 존재\n",
    "- 예를 들어 학생이라는 클래스를 만든다면, 학생을 나타내는 속성가 학생이 행하는 행동을 함계 정의 할 수 있음\n",
    "- 따라서, 다루고자 하는 데이터(변수)와 데이터를 다루는 연산(함수)를 하나로 캡슐화하여 클래스로 표현\n",
    "- 모델링에서 중요시 하는 속성에 따라 클래스의 속성과 행동이 각각 달라짐"
   ]
  },
  {
   "cell_type": "code",
   "execution_count": 1,
   "id": "74590fbc",
   "metadata": {},
   "outputs": [
    {
     "name": "stdout",
     "output_type": "stream",
     "text": [
      "[1, 2, 3, 4, 5]\n"
     ]
    }
   ],
   "source": [
    "a=[1,2,3,4]\n",
    "a.append(5)\n",
    "print(a)"
   ]
  },
  {
   "cell_type": "markdown",
   "id": "acb58946",
   "metadata": {},
   "source": [
    "**object란?**\n",
    "- 클래스로 생성되어 구체화된 객체(인스턴스)\n",
    "- 파이썬의 모든 것(int,str,list,...등)은 객체(인스턴스)\n",
    "- 실제로 class가 인스턴스화 되어 메모리에 상주하는 상태를 의미\n",
    "- class가 빵틀이라면, dbject는 실제로 빵틀로 찍어낸 빵이라고 비유 가능"
   ]
  },
  {
   "cell_type": "code",
   "execution_count": 2,
   "id": "ba9c776b",
   "metadata": {},
   "outputs": [],
   "source": [
    "class Person:\n",
    "    pass    #정의만 하고 구현은 나중"
   ]
  },
  {
   "cell_type": "code",
   "execution_count": 3,
   "id": "e03bcd30",
   "metadata": {},
   "outputs": [
    {
     "name": "stdout",
     "output_type": "stream",
     "text": [
      "<class '__main__.Person'> <class '__main__.Person'>\n"
     ]
    }
   ],
   "source": [
    "bob=Person()   #a=list()와 비슷하다고 생각하면됨\n",
    "cathy=Person()\n",
    "\n",
    "print(type(bob),type(cathy))"
   ]
  },
  {
   "cell_type": "markdown",
   "id": "b219d506",
   "metadata": {},
   "source": [
    "**_ __init__ _(self)**\n",
    "- 생성자, 클래스 인스턴스가 생성될 떄 호출됨\n",
    "- self인자는 항상 첫번째에 오며 자기 자신을 가리킴\n",
    "- 이름이 꼭 slef일 필요는 없지만, 관례적으로 self로 사용\n",
    "- 생성자에서는 해당 클래스가 다루는 데이터를 정의\n",
    "    - 이 데이터를 멤버 변수 또는 속성이라고 함"
   ]
  },
  {
   "cell_type": "code",
   "execution_count": 8,
   "id": "0d9cc07e",
   "metadata": {},
   "outputs": [
    {
     "name": "stdout",
     "output_type": "stream",
     "text": [
      "<__main__.Person object at 0x000001F0A45E52E0> is generated\n",
      "<__main__.Person object at 0x000001F0A45E5E50> is generated\n",
      "Kate 10\n",
      "aaron Kate\n"
     ]
    }
   ],
   "source": [
    "class Person:\n",
    "    def __init__(self):\n",
    "        print(self , 'is generated')\n",
    "        self.name='Kate'\n",
    "        self.age=10\n",
    "        \n",
    "p1=Person()\n",
    "p2=Person()\n",
    "\n",
    "print(p1.name,p1.age)\n",
    "\n",
    "p1.name='aaron'\n",
    "p1.age=20\n",
    "print(p1.name,p2.name)"
   ]
  },
  {
   "cell_type": "code",
   "execution_count": 10,
   "id": "e50dbc33",
   "metadata": {
    "scrolled": true
   },
   "outputs": [
    {
     "name": "stdout",
     "output_type": "stream",
     "text": [
      "<__main__.Person object at 0x000001F0A45E5F10> is generated\n",
      "<__main__.Person object at 0x000001F0A45E52E0> is generated\n",
      "Bob 30\n",
      "Kate 20\n"
     ]
    }
   ],
   "source": [
    "class Person:\n",
    "    def __init__(self,name, age):\n",
    "        print(self , 'is generated')\n",
    "        self.name=name\n",
    "        self.age=age\n",
    "        \n",
    "p1=Person('Bob',30)\n",
    "p2=Person('Kate',20)\n",
    "\n",
    "print(p1.name,p1.age)\n",
    "print(p2.name,p2.age)"
   ]
  },
  {
   "cell_type": "code",
   "execution_count": 12,
   "id": "9d701aa5",
   "metadata": {},
   "outputs": [
    {
     "name": "stdout",
     "output_type": "stream",
     "text": [
      "<__main__.Person object at 0x000001F0A45EC8E0> is generated\n",
      "<__main__.Person object at 0x000001F0A45ECC70> is generated\n",
      "<__main__.Person object at 0x000001F0A45EC9A0> is generated\n",
      "Bob 30\n",
      "Kate 20\n",
      "keshi 10\n"
     ]
    }
   ],
   "source": [
    "class Person:\n",
    "    def __init__(self,name, age=10):\n",
    "        print(self , 'is generated')\n",
    "        self.name=name\n",
    "        self.age=age\n",
    "        \n",
    "p1=Person('Bob',30)\n",
    "p2=Person('Kate',20)\n",
    "p3=Person('keshi')\n",
    "\n",
    "print(p1.name,p1.age)\n",
    "print(p2.name,p2.age)\n",
    "print(p3.name,p3.age)"
   ]
  },
  {
   "cell_type": "markdown",
   "id": "b0b3f916",
   "metadata": {},
   "source": [
    "**self**\n",
    "- 파이썬의 method는 항상 첫번째 인자로 self를 전달\n",
    "- self는 현재 해당 method가 호출되는 객체 자신을 가리킴\n",
    "- c++/c#,java의 this에 해당\n",
    "- 역시, 이름이 self일 필요는 없으나, 위치는 항상 맨 처음의 parameter이며 관례적으로 self로 사용"
   ]
  },
  {
   "cell_type": "code",
   "execution_count": 16,
   "id": "b2e68ee6",
   "metadata": {},
   "outputs": [
    {
     "name": "stdout",
     "output_type": "stream",
     "text": [
      "Aaron 20\n",
      "Bob 30\n"
     ]
    }
   ],
   "source": [
    "class Person:\n",
    "    def __init__(self,name, age):\n",
    "        self.name=name\n",
    "        self.age=age\n",
    "        \n",
    "a=Person('Aaron',20) #self파라미터는 파이썬 자체적으로 a를 가리킴(self파라미터 자리에 아무것도 적지 않는 이유)\n",
    "b=Person(\"Bob\",30)  #self파라미터는 파이썬 자체적으로 b를 가리킴(self파라미터 자리에 아무것도 적지 않는 이유)\n",
    "\n",
    "print(a.name,a.age)\n",
    "print(b.name,b.age)"
   ]
  },
  {
   "cell_type": "markdown",
   "id": "2114ceb3",
   "metadata": {},
   "source": [
    "**method 정의**\n",
    "- 멤버함수라고도 하며, 해당 클래스의 object에서만 호출가능\n",
    "- method는 객체 레벨에서 호출되며, 해당 객체의 속성에 대한 연산을 행함\n",
    "- {obj}.{metho}()형태로 호출됨"
   ]
  },
  {
   "cell_type": "code",
   "execution_count": 19,
   "id": "21485dec",
   "metadata": {},
   "outputs": [
    {
     "data": {
      "text/plain": [
       "0"
      ]
     },
     "execution_count": 19,
     "metadata": {},
     "output_type": "execute_result"
    }
   ],
   "source": [
    "class Counter:\n",
    "    def __init__(self):\n",
    "        self.num=0\n",
    "    \n",
    "c1=Counter()\n",
    "c1.num"
   ]
  },
  {
   "cell_type": "code",
   "execution_count": 23,
   "id": "f2f922dd",
   "metadata": {},
   "outputs": [
    {
     "name": "stdout",
     "output_type": "stream",
     "text": [
      "현재값 :  0\n",
      "현재값 :  3\n",
      "현재값 :  0\n"
     ]
    }
   ],
   "source": [
    "class Counter:\n",
    "    def __init__(self):\n",
    "        self.num=0\n",
    "        \n",
    "    def increment(self):\n",
    "        self.num+=1\n",
    "    \n",
    "    def reset(self):\n",
    "        self.num=0\n",
    "        \n",
    "    def print_current_value(self):\n",
    "        print('현재값 : ', self.num)\n",
    "    \n",
    "c1=Counter()\n",
    "c1.print_current_value()\n",
    "\n",
    "c1.increment()\n",
    "c1.increment()\n",
    "c1.increment()\n",
    "c1.print_current_value()\n",
    "\n",
    "c1.reset()\n",
    "c1.print_current_value()"
   ]
  },
  {
   "cell_type": "markdown",
   "id": "1a074b26",
   "metadata": {},
   "source": [
    "**method type**\n",
    "- instance method - 객체로 호출\n",
    "    - method는 객체 레벨로 호출 되기 때문에, 해당 method를 호출한 객체에만 영향을 미침\n",
    "- class method(static method) - class로 호출\n",
    "    - class method의 경우, 클래스 레벨로 호출되기 때문에, 클래스 멤버 변수만 변경 가능"
   ]
  },
  {
   "cell_type": "code",
   "execution_count": 25,
   "id": "9b044511",
   "metadata": {},
   "outputs": [
    {
     "data": {
      "text/plain": [
       "200"
      ]
     },
     "execution_count": 25,
     "metadata": {},
     "output_type": "execute_result"
    }
   ],
   "source": [
    "class Math:\n",
    "    def add(self,a,b):\n",
    "        return a+b\n",
    "    \n",
    "    def multiply(self,a,b):\n",
    "        return a*b\n",
    "\n",
    "m=Math()\n",
    "m.add(10,20)\n",
    "m.multiply(10,20)"
   ]
  },
  {
   "cell_type": "code",
   "execution_count": 28,
   "id": "444f95b5",
   "metadata": {},
   "outputs": [
    {
     "data": {
      "text/plain": [
       "200"
      ]
     },
     "execution_count": 28,
     "metadata": {},
     "output_type": "execute_result"
    }
   ],
   "source": [
    "class Math:\n",
    "    @staticmethod\n",
    "    def add(a,b):\n",
    "        return a+b\n",
    "  \n",
    "    @staticmethod\n",
    "    def multiply(a,b):\n",
    "        return a*b\n",
    "    \n",
    "Math.add(10,20)\n",
    "Math.multiply(10,20)"
   ]
  },
  {
   "cell_type": "markdown",
   "id": "47707e7d",
   "metadata": {},
   "source": [
    "**Class Inheritance(상속)**\n",
    "- 기존에 정의해둔 클래스의 기능을 그대로 물려받을 수 있음\n",
    "- 기존 클래스에 기능 일부를 추가하거나, 변경하여 새로운 클래스를 정의함\n",
    "- 코드를 재사용할 수 있게됨\n",
    "- 상속 받고자 하는 대상인 기존 클래스는(Parent, Super,Base Class)라고 부름\n",
    "- 상속 받는 새로운 클래스는(Child, Sub, Derived class)라고 부름\n",
    "- 의미적으로 is-a관게를 가짐"
   ]
  },
  {
   "cell_type": "code",
   "execution_count": 4,
   "id": "96c1659a",
   "metadata": {},
   "outputs": [
    {
     "name": "stdout",
     "output_type": "stream",
     "text": [
      "Bob은 BBQ를 먹습니다\n",
      "Bob은 30분동안 먹습니다\n",
      "Bob은 60분동안 일합니다\n",
      "Kate은 chicken를 먹습니다\n",
      "Kate은 15분동안 먹습니다\n",
      "Kate은 5분동안 일합니다\n"
     ]
    }
   ],
   "source": [
    "class Person:\n",
    "    def __init__(self,name,age):\n",
    "        self.name=name\n",
    "        self.age=age\n",
    "        \n",
    "    def eat(self,food):\n",
    "        print('{}은 {}를 먹습니다'.format(self.name,food))\n",
    "    \n",
    "    def sleep(self,minute):\n",
    "        print('{}은 {}분동안 먹습니다'.format(self.name,minute))\n",
    "        \n",
    "    def work(self,minute):\n",
    "        print('{}은 {}분동안 일합니다'.format(self.name,minute))\n",
    "\n",
    "class Student(Person):\n",
    "    def __init__(self,name,age):\n",
    "        self.name=name\n",
    "        self.age=age\n",
    "        \n",
    "class Employee(Person):\n",
    "    def __init__(self,name,age):\n",
    "        self.name=name\n",
    "        self.age=age\n",
    "\n",
    "bob=Person('Bob',25)\n",
    "bob.eat('BBQ')\n",
    "bob.sleep(30)\n",
    "bob.work(60)\n",
    "\n",
    "kate=Student('Kate',10)\n",
    "kate.eat('chicken')\n",
    "kate.sleep(15)\n",
    "kate.work(5)"
   ]
  },
  {
   "cell_type": "markdown",
   "id": "fb6f599c",
   "metadata": {},
   "source": [
    "**method override**\n",
    "- 부모 클래스의 method를 재정의(override)\n",
    "- 하위 클래스(자식 클래스)의 인스턴스로 호출시, 재정의된 메소드가 호출됨"
   ]
  },
  {
   "cell_type": "code",
   "execution_count": 5,
   "id": "322b5547",
   "metadata": {},
   "outputs": [
    {
     "name": "stdout",
     "output_type": "stream",
     "text": [
      "Bob은 BBQ를 먹습니다\n",
      "Bob은 30분동안 먹습니다\n",
      "Bob은 60분동안 일합니다\n",
      "Kate은 chicken를 먹습니다\n",
      "Kate은 15분동안 먹습니다\n",
      "Kate은 5분동안 공부합니다\n"
     ]
    }
   ],
   "source": [
    "class Person:\n",
    "    def __init__(self,name,age):\n",
    "        self.name=name\n",
    "        self.age=age\n",
    "        \n",
    "    def eat(self,food):\n",
    "        print('{}은 {}를 먹습니다'.format(self.name,food))\n",
    "    \n",
    "    def sleep(self,minute):\n",
    "        print('{}은 {}분동안 먹습니다'.format(self.name,minute))\n",
    "        \n",
    "    def work(self,minute):\n",
    "        print('{}은 {}분동안 일합니다'.format(self.name,minute))\n",
    "\n",
    "class Student(Person):\n",
    "    def __init__(self,name,age):\n",
    "        self.name=name\n",
    "        self.age=age\n",
    "        \n",
    "    def work(self,minute):\n",
    "        print('{}은 {}분동안 공부합니다'.format(self.name,minute))\n",
    "        \n",
    "class Employee(Person):\n",
    "    def __init__(self,name,age):\n",
    "        self.name=name\n",
    "        self.age=age\n",
    "        \n",
    "    def work(self,minute):\n",
    "        print('{}은 {}분동안 업무를 합니다'.format(self.name,minute))\n",
    "\n",
    "bob=Person('Bob',25)\n",
    "bob.eat('BBQ')\n",
    "bob.sleep(30)\n",
    "bob.work(60)\n",
    "\n",
    "kate=Student('Kate',10)\n",
    "kate.eat('chicken')\n",
    "kate.sleep(15)\n",
    "kate.work(5)"
   ]
  },
  {
   "cell_type": "markdown",
   "id": "0adbc369",
   "metadata": {},
   "source": [
    "**super**\n",
    "- 하위클래스(자식 클래스)에서 부모클래스의 method를 호출할 때 사용"
   ]
  },
  {
   "cell_type": "code",
   "execution_count": 6,
   "id": "fdbcda12",
   "metadata": {},
   "outputs": [
    {
     "name": "stdout",
     "output_type": "stream",
     "text": [
      "Bob은 BBQ를 먹습니다\n",
      "Bob은 30분동안 먹습니다\n",
      "Bob은 60분동안 준비를 합니다\n",
      "Kate은 chicken를 먹습니다\n",
      "Kate은 15분동안 먹습니다\n",
      "Kate은 5분동안 준비를 합니다\n",
      "Kate은 5분동안 공부합니다\n"
     ]
    }
   ],
   "source": [
    "class Person:\n",
    "    def __init__(self,name,age):\n",
    "        self.name=name\n",
    "        self.age=age\n",
    "        \n",
    "    def eat(self,food):\n",
    "        print('{}은 {}를 먹습니다'.format(self.name,food))\n",
    "    \n",
    "    def sleep(self,minute):\n",
    "        print('{}은 {}분동안 먹습니다'.format(self.name,minute))\n",
    "        \n",
    "    def work(self,minute):\n",
    "        print('{}은 {}분동안 준비를 합니다'.format(self.name,minute))\n",
    "\n",
    "class Student(Person):\n",
    "    def __init__(self,name,age):\n",
    "        self.name=name\n",
    "        self.age=age\n",
    "        \n",
    "    def work(self,minute):\n",
    "        super().work(minute)\n",
    "        print('{}은 {}분동안 공부합니다'.format(self.name,minute))\n",
    "        \n",
    "class Employee(Person):\n",
    "    def __init__(self,name,age):\n",
    "        self.name=name\n",
    "        self.age=age\n",
    "        \n",
    "    def work(self,minute):\n",
    "        super().work(minute)\n",
    "        print('{}은 {}분동안 업무를 합니다'.format(self.name,minute))\n",
    "        \n",
    "bob=Person('Bob',25)\n",
    "bob.eat('BBQ')\n",
    "bob.sleep(30)\n",
    "bob.work(60)\n",
    "\n",
    "kate=Student('Kate',10)\n",
    "kate.eat('chicken')\n",
    "kate.sleep(15)\n",
    "kate.work(5)"
   ]
  },
  {
   "cell_type": "markdown",
   "id": "ca76f6ec",
   "metadata": {},
   "source": [
    "**special method**\n",
    "- _로 시작 _로 끝나는 특수 함수\n",
    "- 해당 method들을 구현하면, 커스텀 객체에 여러가지 파이썬 내장 함수나 연산자를 적용 가능\n",
    "- 오버라이딩 가능한 함수 목록은 아래 링크에서 참조\n",
    "    - https://docs.python.org/3/reference/datamodel.html\n",
    "    - https://docs.python.org/3/reference/datamodel.html#object.add"
   ]
  },
  {
   "cell_type": "code",
   "execution_count": 9,
   "id": "622699d8",
   "metadata": {},
   "outputs": [
    {
     "name": "stdout",
     "output_type": "stream",
     "text": [
      "(3,4)\n",
      "(2,7)\n"
     ]
    }
   ],
   "source": [
    "# Point\n",
    "# 2차원 좌표평면 각 점(x,y)\n",
    "# 연산\n",
    "# 두 점의 덧셈, 뺼셈 (1,2)+(3,4)=(4,)\n",
    "# 한점과 숫자의 곱셈(1,2) *3 =(3,6)\n",
    "# 그점의 길이(0,0,) 부터의 거리\n",
    "# x,y 값 가져오기\n",
    "# 출력하기\n",
    "class Point:\n",
    "    def __init__(self,x,y):\n",
    "        self.x=x\n",
    "        self.y=y\n",
    "    \n",
    "    def print_pt(self):\n",
    "        print('({},{})'.format(self.x,self.y))\n",
    "        \n",
    "p1=Point(3,4)\n",
    "p2=Point(2,7)\n",
    "\n",
    "p1.print_pt()\n",
    "p2.print_pt()"
   ]
  },
  {
   "cell_type": "code",
   "execution_count": 16,
   "id": "cd9319db",
   "metadata": {},
   "outputs": [
    {
     "name": "stdout",
     "output_type": "stream",
     "text": [
      "(3,4)\n",
      "(2,7)\n",
      "(5,11)\n"
     ]
    }
   ],
   "source": [
    "class Point:\n",
    "    def __init__(self,x,y):\n",
    "        self.x=x\n",
    "        self.y=y\n",
    "        \n",
    "    def add(self,pt):\n",
    "        new_x=self.x + pt.x\n",
    "        new_y=self.y + pt.y\n",
    "        return Point(new_x,new_y)\n",
    "    \n",
    "    def __str__(self):\n",
    "        return '({},{})'.format(self.x,self.y)\n",
    "    \n",
    "p1=Point(3,4)\n",
    "p2=Point(2,7)\n",
    "\n",
    "p3=p1.add(p2)#아래부분에서 다른 부분\n",
    "\n",
    "print(p1)\n",
    "print(p2)\n",
    "print(p3)"
   ]
  },
  {
   "cell_type": "code",
   "execution_count": 17,
   "id": "33fc3635",
   "metadata": {},
   "outputs": [
    {
     "name": "stdout",
     "output_type": "stream",
     "text": [
      "(3,4)\n",
      "(2,7)\n",
      "(5,11)\n"
     ]
    }
   ],
   "source": [
    "class Point:\n",
    "    def __init__(self,x,y):\n",
    "        self.x=x\n",
    "        self.y=y\n",
    "        \n",
    "    def __add__(self,pt):\n",
    "        new_x=self.x + pt.x\n",
    "        new_y=self.y + pt.y\n",
    "        return Point(new_x,new_y)\n",
    "    \n",
    "    def __str__(self):\n",
    "        return '({},{})'.format(self.x,self.y)\n",
    "    \n",
    "p1=Point(3,4)\n",
    "p2=Point(2,7)\n",
    "\n",
    "p3=p1+p2\n",
    "\n",
    "print(p1)\n",
    "print(p2)\n",
    "print(p3)"
   ]
  },
  {
   "cell_type": "markdown",
   "id": "d59f08d9",
   "metadata": {},
   "source": [
    "**연습문제**"
   ]
  },
  {
   "cell_type": "markdown",
   "id": "3e92de00",
   "metadata": {},
   "source": [
    "- 복소수 클래스 정의\n",
    "- 덧셈, 뺄셈, 곱셈 연산자 지원\n",
    "- 길이 (복소수의 크기) 지원\n",
    "- 복소수 출력 'i+4j'와 같이 표현\n",
    "- 비교연산 ==,!= 지원"
   ]
  },
  {
   "cell_type": "markdown",
   "id": "a531d09f",
   "metadata": {},
   "source": [
    "- > =,<=,<,> 연산 지원"
   ]
  },
  {
   "cell_type": "markdown",
   "id": "76aaacae",
   "metadata": {},
   "source": [
    "- 절대값 지원"
   ]
  },
  {
   "cell_type": "code",
   "execution_count": null,
   "id": "f070ed00",
   "metadata": {},
   "outputs": [],
   "source": [
    "class ComplexNumber:\n",
    "    def __init"
   ]
  }
 ],
 "metadata": {
  "kernelspec": {
   "display_name": "Python 3 (ipykernel)",
   "language": "python",
   "name": "python3"
  },
  "language_info": {
   "codemirror_mode": {
    "name": "ipython",
    "version": 3
   },
   "file_extension": ".py",
   "mimetype": "text/x-python",
   "name": "python",
   "nbconvert_exporter": "python",
   "pygments_lexer": "ipython3",
   "version": "3.9.13"
  }
 },
 "nbformat": 4,
 "nbformat_minor": 5
}
