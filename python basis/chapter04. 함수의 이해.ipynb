{
 "cells": [
  {
   "cell_type": "markdown",
   "id": "c0cf2137",
   "metadata": {},
   "source": [
    "## 함수?\n",
    "- 지금까지 무심코 코드에서 사용된 많은 함수들이 존재\n",
    "- 예를 들면, sum, len, range같은 함수 등\n",
    "- 함수란 우리가 알고있는 개념처럼 주어진 입력(input)에 대해서 의도된 출력(output)을 전달하는 역할을 함"
   ]
  },
  {
   "cell_type": "markdown",
   "id": "cb535082",
   "metadata": {},
   "source": [
    ">range 함수는 정수를 입력으로 전달하면 [0,정수)로 이루어진 리스트를 생성하는 역할"
   ]
  },
  {
   "cell_type": "markdown",
   "id": "e4873c10",
   "metadata": {},
   "source": [
    ">sum 함수는 리스트, 튜플등을 입력으로 전달하면 전체 아이템의 합을 출력으로 전달하는 역할"
   ]
  },
  {
   "cell_type": "markdown",
   "id": "93785e93",
   "metadata": {},
   "source": [
    ">len 함수는 리스트, 튜플등을 입력으로 전달하면 아이템의 개수를 출력으로 전달하는 역할"
   ]
  },
  {
   "cell_type": "markdown",
   "id": "d3186500",
   "metadata": {},
   "source": [
    "- 그리고, 위의 함수들은 모두 python 내부에 이미 정의(구현)이 되어 있음.\n",
    "- 위와 같은 함수를 내장함수라고 함."
   ]
  },
  {
   "cell_type": "code",
   "execution_count": 1,
   "id": "6d338fc0",
   "metadata": {},
   "outputs": [
    {
     "name": "stdout",
     "output_type": "stream",
     "text": [
      "4\n"
     ]
    }
   ],
   "source": [
    "# 내장 함수의 예\n",
    "a=[1,2,3,4]\n",
    "length=len(a)\n",
    "print(length)"
   ]
  },
  {
   "cell_type": "code",
   "execution_count": 2,
   "id": "42307b0f",
   "metadata": {},
   "outputs": [
    {
     "name": "stdout",
     "output_type": "stream",
     "text": [
      "10\n"
     ]
    }
   ],
   "source": [
    "summation=sum(a)\n",
    "print(summation)"
   ]
  },
  {
   "cell_type": "markdown",
   "id": "55b5a642",
   "metadata": {},
   "source": [
    "**함수의 정의**\n",
    "- 정의 시 최초에 def 키워드 사용\n",
    "- argument 정의(함수에 입력으로 전달하는 값을 의미, argument 또는 parameter라고 함)\n",
    "- :(콜론) -> 함수 역시 코드 블록이기 때문ㅇ 콜론(:) 필요\n",
    "- body (함수의 구현 부분, 함수 역시 코드 블록이기 때문에 들여쓰기 된 부분까지 함수의 코드블록으로 인지함)\n",
    "    - 함수를 호출한 코드(caller)로 함수가 해당 기능을 수행하는 완료된 값(output)을 전달하기 위해 return 키워드 사용\n",
    "    - 즉, return 이후에 오는 값을 caller로 전달\n",
    "- 함수의 네이밍 역시 중요\n",
    "    - 즉, 어떤 기능을 하는 함수인지 이름으로 최대한 나타날 수 있게 해야함\n",
    "    - e.g)get_a(x)  get_student_name(o)"
   ]
  },
  {
   "cell_type": "code",
   "execution_count": 3,
   "id": "301b957b",
   "metadata": {},
   "outputs": [
    {
     "name": "stdout",
     "output_type": "stream",
     "text": [
      "330\n"
     ]
    }
   ],
   "source": [
    "def add(x,y):\n",
    "    n = x+y\n",
    "    return n\n",
    "\n",
    "c=add(30,300)\n",
    "print(c)"
   ]
  },
  {
   "cell_type": "markdown",
   "id": "d8922baa",
   "metadata": {},
   "source": [
    "**함수의 사용(호출)**\n",
    "- 함수명(파라미터1, 파라미터2, .....,파라미터n)\n",
    "- 위와 같이 정의 된 함수의 이름과 전달되는 parameter(인자)를 괄호안에 전달하여 함수를 호출\n",
    "- 함수가 호출되면 실해의 흐름이 호출자(caller)에서 함수(callee)로 변경 됨\n",
    "- 함수의 입력(input)을 파라미터(parameter),아규먼트(argument)라고도 함"
   ]
  },
  {
   "cell_type": "markdown",
   "id": "0356b42c",
   "metadata": {},
   "source": [
    "**함수 네이밍(naming)**\n",
    "- 함수 이름으로부터 기능이 명시\n",
    "- 의미와 반대되거나 맞지 않는 이름은 사용금지"
   ]
  },
  {
   "cell_type": "code",
   "execution_count": 5,
   "id": "ad12fd7f",
   "metadata": {},
   "outputs": [
    {
     "name": "stdout",
     "output_type": "stream",
     "text": [
      "1\n"
     ]
    }
   ],
   "source": [
    "def add(x,y):\n",
    "    sub = x-y\n",
    "    return sub\n",
    "\n",
    "print(add(4,3))"
   ]
  },
  {
   "cell_type": "markdown",
   "id": "73b424c9",
   "metadata": {},
   "source": [
    "**parameter(argument) (인자)**\n",
    "- 함수에 전달되는 입력(input)\n",
    "- 입력이 필요하지 않을 수도, 1개의 입력만 있을 수도, 여러개의 입력이 존재할 수 도 있음\n",
    "- 파라미터로 int,string, float, boolean, list, dict등등 어떤 파이썬 객체도 전달 가능\n",
    "- 심지어, 함수도 함수의 파라미터로 전달 가능\n",
    "- python의 경우 타입 명시가 없기 때문에 함수 생성 시 의도된 파라미터의 타입에 맞게 입력을 전달하는 것이 중요\n",
    "- 또한 파라미터를 전달 할 때, 정의된 순서에 따라 값을 전달하는 것이 중요"
   ]
  },
  {
   "cell_type": "code",
   "execution_count": 6,
   "id": "7d1631e6",
   "metadata": {},
   "outputs": [
    {
     "name": "stdout",
     "output_type": "stream",
     "text": [
      "haha\n",
      "good\n",
      "100\n"
     ]
    }
   ],
   "source": [
    "def test():\n",
    "    print('haha')\n",
    "    print('good')\n",
    "    \n",
    "    return 100\n",
    "\n",
    "a=test()\n",
    "print(a)"
   ]
  },
  {
   "cell_type": "code",
   "execution_count": 7,
   "id": "193c24d9",
   "metadata": {},
   "outputs": [
    {
     "name": "stdout",
     "output_type": "stream",
     "text": [
      "10 20\n",
      "30\n"
     ]
    }
   ],
   "source": [
    "def test(x,y):\n",
    "    print(x,y)\n",
    "    n=x+y\n",
    "    return n\n",
    "\n",
    "a=test(10,20)\n",
    "print(a)"
   ]
  },
  {
   "cell_type": "markdown",
   "id": "7dbf0dfc",
   "metadata": {},
   "source": [
    "**Default parameter (기본 인자)**\n",
    "- 함수의 파라미터에 기본값 지정 가능\n",
    "- 파라미터를 명시하지 않을 경우, 지정된 기본값으로 대체"
   ]
  },
  {
   "cell_type": "code",
   "execution_count": 9,
   "id": "a3ac53e2",
   "metadata": {},
   "outputs": [
    {
     "data": {
      "text/plain": [
       "60"
      ]
     },
     "execution_count": 9,
     "metadata": {},
     "output_type": "execute_result"
    }
   ],
   "source": [
    "def add(x,y,z):\n",
    "    a=x+y+z\n",
    "    return a\n",
    "\n",
    "add(10,20,30)"
   ]
  },
  {
   "cell_type": "code",
   "execution_count": 10,
   "id": "aa350340",
   "metadata": {},
   "outputs": [
    {
     "data": {
      "text/plain": [
       "35"
      ]
     },
     "execution_count": 10,
     "metadata": {},
     "output_type": "execute_result"
    }
   ],
   "source": [
    "def add(x,y,z=5):\n",
    "    a=x+y+z\n",
    "    return a\n",
    "\n",
    "add(10,20)"
   ]
  },
  {
   "cell_type": "markdown",
   "id": "9516ae1a",
   "metadata": {},
   "source": [
    "- 기본 파라미터의 다른 예\n",
    "    - print 함수\n",
    "        - sep, end, file등 여러 기본 파라미터를 가짐"
   ]
  },
  {
   "cell_type": "code",
   "execution_count": 11,
   "id": "367fe905",
   "metadata": {},
   "outputs": [
    {
     "name": "stdout",
     "output_type": "stream",
     "text": [
      "1 2 3\n",
      "2 3 4\n"
     ]
    }
   ],
   "source": [
    "print(1,2,3)\n",
    "print(2,3,4)"
   ]
  },
  {
   "cell_type": "code",
   "execution_count": 12,
   "id": "f1e71d0e",
   "metadata": {},
   "outputs": [
    {
     "name": "stdout",
     "output_type": "stream",
     "text": [
      "1!2!3%%%2 3 4\n"
     ]
    }
   ],
   "source": [
    "print(1,2,3,sep='!',end='%%%')\n",
    "print(2,3,4)"
   ]
  },
  {
   "cell_type": "markdown",
   "id": "cb9deb5d",
   "metadata": {},
   "source": [
    "**Default parameter 사용 시 주의 점**\n",
    "- 디폴트 파라미터 뒤에 일반 파라미터가 위치할 수 없음\n",
    "- e.g) 올바른 예"
   ]
  },
  {
   "cell_type": "markdown",
   "id": "20333409",
   "metadata": {},
   "source": [
    ">def test(a,b,c=1)"
   ]
  },
  {
   "cell_type": "markdown",
   "id": "1756ab7c",
   "metadata": {},
   "source": [
    ">def test(a,b=1,c=2)"
   ]
  },
  {
   "cell_type": "markdown",
   "id": "4adba403",
   "metadata": {},
   "source": [
    ">def test(a=1,b=1,c=3)"
   ]
  },
  {
   "cell_type": "markdown",
   "id": "a5e42fed",
   "metadata": {},
   "source": [
    "- e.g) 올바르지 않은 예"
   ]
  },
  {
   "cell_type": "markdown",
   "id": "853e7ef4",
   "metadata": {},
   "source": [
    ">def test(a,b=1,c)"
   ]
  },
  {
   "cell_type": "markdown",
   "id": "cae577ca",
   "metadata": {},
   "source": [
    ">def test(a=1,b,c)"
   ]
  },
  {
   "cell_type": "markdown",
   "id": "e2252ecc",
   "metadata": {},
   "source": [
    ">def test(a=1,b=1,c)"
   ]
  },
  {
   "cell_type": "code",
   "execution_count": 13,
   "id": "a5f330c7",
   "metadata": {},
   "outputs": [
    {
     "name": "stdout",
     "output_type": "stream",
     "text": [
      "10 20 1\n"
     ]
    }
   ],
   "source": [
    "def test(a,b,c=1):\n",
    "    print(a,b,c)\n",
    "\n",
    "test(10,20,1)"
   ]
  },
  {
   "cell_type": "code",
   "execution_count": 14,
   "id": "20a05f59",
   "metadata": {},
   "outputs": [
    {
     "ename": "SyntaxError",
     "evalue": "non-default argument follows default argument (2627831990.py, line 1)",
     "output_type": "error",
     "traceback": [
      "\u001b[1;36m  File \u001b[1;32m\"C:\\Users\\whs38\\AppData\\Local\\Temp\\ipykernel_15292\\2627831990.py\"\u001b[1;36m, line \u001b[1;32m1\u001b[0m\n\u001b[1;33m    def test(a,b=3,c):\u001b[0m\n\u001b[1;37m                    ^\u001b[0m\n\u001b[1;31mSyntaxError\u001b[0m\u001b[1;31m:\u001b[0m non-default argument follows default argument\n"
     ]
    }
   ],
   "source": [
    "def test(a,b=3,c):\n",
    "    print(a,b,c)\n",
    "\n",
    "test(10,20,1)    "
   ]
  },
  {
   "cell_type": "markdown",
   "id": "4bfb3d2a",
   "metadata": {},
   "source": [
    "**keyword parameter(키워드 파라미터)**\n",
    "- 파이썬의 경우, 파라미터에 값을 전달 할 때, 파라미터의 이름을 명시하여 전달 가능\n",
    "- 파라미터 이름을 사용하지 않을 경우, 기본적으로 순서에 맞게 전달"
   ]
  },
  {
   "cell_type": "code",
   "execution_count": 15,
   "id": "3e2749a8",
   "metadata": {},
   "outputs": [
    {
     "data": {
      "text/plain": [
       "33"
      ]
     },
     "execution_count": 15,
     "metadata": {},
     "output_type": "execute_result"
    }
   ],
   "source": [
    "def test(x,y,z):\n",
    "    a=x+y+z\n",
    "    return a\n",
    "\n",
    "test(10,20,3)"
   ]
  },
  {
   "cell_type": "code",
   "execution_count": 16,
   "id": "7e8ffe9f",
   "metadata": {},
   "outputs": [
    {
     "data": {
      "text/plain": [
       "33"
      ]
     },
     "execution_count": 16,
     "metadata": {},
     "output_type": "execute_result"
    }
   ],
   "source": [
    "def test(x,y,z):\n",
    "    a=x+y+z\n",
    "    return a\n",
    "\n",
    "test(x=10,z=20,y=3)"
   ]
  },
  {
   "cell_type": "markdown",
   "id": "96e29dd1",
   "metadata": {},
   "source": [
    "**return(리턴)**\n",
    "- 기본적으로 함수의 종료를 명시\n",
    "    - return 옆에 값이나 수식이 있다면 해당 값을 호출자(caller)에게 반환(전달)\n",
    "    - return만 존재하면 None 반환\n",
    "    - return이 없는 경우, 기본적으로 함수 코드 블록이 종료되면 종료로 간주. 이때도 None 반환"
   ]
  },
  {
   "cell_type": "code",
   "execution_count": 19,
   "id": "3379dd18",
   "metadata": {},
   "outputs": [
    {
     "name": "stdout",
     "output_type": "stream",
     "text": [
      "15\n",
      "55\n"
     ]
    }
   ],
   "source": [
    "def multiply(x,y):\n",
    "    if x>10:\n",
    "        return x*y\n",
    "    return (x+2)*y\n",
    "    print(x+y) #return을 만나면 함수가 종료되므로 실행 안됨\n",
    "\n",
    "\n",
    "print(multiply(1,5))\n",
    "print(multiply(11,5))"
   ]
  },
  {
   "cell_type": "code",
   "execution_count": 21,
   "id": "1ced7468",
   "metadata": {},
   "outputs": [
    {
     "name": "stdout",
     "output_type": "stream",
     "text": [
      "None\n"
     ]
    }
   ],
   "source": [
    "def multiply(x,y):\n",
    "    if x>10:\n",
    "        return \n",
    "    return (x+2)*y\n",
    "    \n",
    "    print(x+y)\n",
    "    return (x+2)*y\n",
    "\n",
    "c=multiply(12,5)\n",
    "print(c)"
   ]
  },
  {
   "cell_type": "code",
   "execution_count": 22,
   "id": "325c5d67",
   "metadata": {},
   "outputs": [
    {
     "name": "stdout",
     "output_type": "stream",
     "text": [
      "None\n"
     ]
    }
   ],
   "source": [
    "def multiply(x,y):\n",
    "    if x>10:\n",
    "        return x*y\n",
    "    \n",
    "c=multiply(1,5)\n",
    "print(c)"
   ]
  },
  {
   "cell_type": "markdown",
   "id": "898c98f6",
   "metadata": {},
   "source": [
    "**multiple return(복수 값 반환)**\n",
    "- tuple반환을 하여 복수개의 값 리턴 가능"
   ]
  },
  {
   "cell_type": "code",
   "execution_count": 23,
   "id": "30af72ac",
   "metadata": {},
   "outputs": [
    {
     "name": "stdout",
     "output_type": "stream",
     "text": [
      "<class 'tuple'>\n",
      "(23, 60)\n"
     ]
    }
   ],
   "source": [
    "def add_mul(x,y):\n",
    "    s=x+y\n",
    "    m=x*y\n",
    "    \n",
    "    return s,m\n",
    "\n",
    "c=add_mul(20,3)\n",
    "print(type(c))\n",
    "print(c)"
   ]
  },
  {
   "cell_type": "code",
   "execution_count": 24,
   "id": "fa2d7846",
   "metadata": {},
   "outputs": [
    {
     "name": "stdout",
     "output_type": "stream",
     "text": [
      "23 60\n"
     ]
    }
   ],
   "source": [
    "def add_mul(x,y):\n",
    "    s=x+y\n",
    "    m=x*y\n",
    "    \n",
    "    return s,m\n",
    "\n",
    "a,b=add_mul(20,3)\n",
    "print(a,b)"
   ]
  },
  {
   "cell_type": "markdown",
   "id": "89040220",
   "metadata": {},
   "source": [
    "**variable scope(변수의 범위)**\n",
    "- 변수가 참조 가능한 코드상의 범위를 명시\n",
    "- 함수내의 변수는 자신이 속한 코드 블록이 종료되면 소멸됨\n",
    "- 이렇게 특정 코드 블록에서 선언된 변수를 지역변수라고 함\n",
    "- 반대로 가장 상단에서 정의디러 프로그램 종료 전까지 유지되는 변수를 전역변수라고 함\n",
    "- 같은 이름의 지역변수와 전역변수가 존재할 경우, 지역변수의 우선순위가 더 높음"
   ]
  },
  {
   "cell_type": "code",
   "execution_count": 26,
   "id": "779ed59d",
   "metadata": {},
   "outputs": [
    {
     "name": "stdout",
     "output_type": "stream",
     "text": [
      "30 40\n",
      "10 30\n"
     ]
    }
   ],
   "source": [
    "num1=10\n",
    "num2=30\n",
    "\n",
    "def test(num1,num2):\n",
    "    print(num1,num2)\n",
    "    return num1+num2\n",
    "\n",
    "test(30,40)\n",
    "print(num1,num2)"
   ]
  },
  {
   "cell_type": "markdown",
   "id": "50955675",
   "metadata": {},
   "source": [
    "**variable length argument (가변길이 인자)**\n",
    "- 전달되는 파라미터의 개수가 고정적이지 않은 경우 사용\n",
    "- e.g)\n",
    "    - print 함수\n",
    "    - format 함수"
   ]
  },
  {
   "cell_type": "markdown",
   "id": "496b8008",
   "metadata": {},
   "source": [
    ">     *args, ** kwargs"
   ]
  },
  {
   "cell_type": "markdown",
   "id": "d58fe750",
   "metadata": {},
   "source": [
    ">     *args : 파라미터를 튜플의 형태로 전달"
   ]
  },
  {
   "cell_type": "markdown",
   "id": "06570d47",
   "metadata": {},
   "source": [
    ">     **kwargs : 파라미터를 딕셔너리 형태로 전달(네임드 파라미터)"
   ]
  },
  {
   "cell_type": "code",
   "execution_count": 28,
   "id": "59adefb0",
   "metadata": {},
   "outputs": [
    {
     "name": "stdout",
     "output_type": "stream",
     "text": [
      "\n",
      "1\n",
      "1 2\n",
      "1 2 3\n",
      "1 2 3 4\n"
     ]
    }
   ],
   "source": [
    "print()\n",
    "print(1)\n",
    "print(1,2)\n",
    "print(1,2,3)\n",
    "print(1,2,3,4)"
   ]
  },
  {
   "cell_type": "code",
   "execution_count": 32,
   "id": "b3340699",
   "metadata": {},
   "outputs": [
    {
     "name": "stdout",
     "output_type": "stream",
     "text": [
      "<class 'tuple'>\n",
      "10\n",
      "20\n",
      "30\n",
      "40\n"
     ]
    }
   ],
   "source": [
    "def test(*args):\n",
    "    print(type(args))\n",
    "    for item in args:\n",
    "        print(item)\n",
    "\n",
    "test(10,20,30,40)"
   ]
  },
  {
   "cell_type": "markdown",
   "id": "a1177ca9",
   "metadata": {},
   "source": [
    "**keyword parameter(키워드 파라미터)**\n",
    "- **가 붙은 경우에는 키워드 파라미터로 인식\n",
    "- 즉 함수 호출 시, 파라미터의 이름과 값을 함께 전달 가능"
   ]
  },
  {
   "cell_type": "code",
   "execution_count": 37,
   "id": "004bb1e6",
   "metadata": {},
   "outputs": [
    {
     "name": "stdout",
     "output_type": "stream",
     "text": [
      "<class 'dict'>\n",
      "key: a value: 1\n",
      "key: b value: 2\n",
      "key: c value: 3\n",
      "key: d value: 4\n",
      "key: name value: Bob\n"
     ]
    }
   ],
   "source": [
    "def test2(**kwargs):\n",
    "    print(type(kwargs))\n",
    "    for key,value in kwargs.items():\n",
    "        print('key:',key,'value:',value)\n",
    "    \n",
    "test2(a=1,b=2,c=3,d=4,name='Bob')"
   ]
  },
  {
   "cell_type": "markdown",
   "id": "7ee16e59",
   "metadata": {},
   "source": [
    "- 가변길이 함수의 대표적인 예 : 문자열 포맷 함수\n",
    "    - 여러가지 값과 포맷을 이용하여 문자열을 정의할 수 있는 함수\n",
    "    - {} placejolder를 문자열 내에 위치 시킨 후, 해당 위치에 format함수로 전달된 값으로 대체하여 문자열 생성\n",
    "    - 포맷 구성은 다음 링크 참조 : https://pyformat.info/"
   ]
  },
  {
   "cell_type": "code",
   "execution_count": 38,
   "id": "a8c167ad",
   "metadata": {},
   "outputs": [
    {
     "name": "stdout",
     "output_type": "stream",
     "text": [
      "오늘 온도: 30도, 강수확률은 60%\n"
     ]
    }
   ],
   "source": [
    "a='오늘 온도: 30도, 강수확률: 60%'\n",
    "print(a)"
   ]
  },
  {
   "cell_type": "code",
   "execution_count": 39,
   "id": "599cc932",
   "metadata": {},
   "outputs": [
    {
     "name": "stdout",
     "output_type": "stream",
     "text": [
      "오늘 온도: 20도, 강수확률: 50%\n"
     ]
    }
   ],
   "source": [
    "a='오늘 온도: {}도, 강수확률: {}%'.format(20,50)\n",
    "print(a)"
   ]
  },
  {
   "cell_type": "code",
   "execution_count": 41,
   "id": "e5aede9a",
   "metadata": {},
   "outputs": [
    {
     "name": "stdout",
     "output_type": "stream",
     "text": [
      "오늘 온도: 10도, 강수확률: 50%, 내일 온도: 1도\n"
     ]
    }
   ],
   "source": [
    "a='오늘 온도: {today_temp}도, 강수확률: {today_prob}%, 내일 온도: {tomorrow_temp}도'.format(tomorrow_temp=1,today_prob=50,today_temp=10)\n",
    "print(a)"
   ]
  }
 ],
 "metadata": {
  "kernelspec": {
   "display_name": "Python 3 (ipykernel)",
   "language": "python",
   "name": "python3"
  },
  "language_info": {
   "codemirror_mode": {
    "name": "ipython",
    "version": 3
   },
   "file_extension": ".py",
   "mimetype": "text/x-python",
   "name": "python",
   "nbconvert_exporter": "python",
   "pygments_lexer": "ipython3",
   "version": "3.9.13"
  }
 },
 "nbformat": 4,
 "nbformat_minor": 5
}
