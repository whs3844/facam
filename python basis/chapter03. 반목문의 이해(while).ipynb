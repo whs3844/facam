{
 "cells": [
  {
   "cell_type": "markdown",
   "id": "352f0a00",
   "metadata": {},
   "source": [
    "### loop(반복문)\n",
    "- 반복적인 작업을 가능하게 해주는 도구\n",
    "- 특정 조건을 만족하는 경우 수행할 수 있음(while)\n",
    "- 리스트, 문자열, 튜플 등 컬렉션 타입의 아이템을 하나씩 순회하면서 사용 가능(for)\n",
    "- 코드 작업에서, 가장 많이 사용하는 구문 중 하나\n",
    "- 주의할점:while을 사용할 경우, 반복을 멈추게 하는 장치가 필요"
   ]
  },
  {
   "cell_type": "markdown",
   "id": "8ecea64a",
   "metadata": {},
   "source": [
    "**while 키워드**\n",
    "- while 뒤의 조건이 True일 경우, while 코드 블록을 계속 수행\n",
    "- while 코드 블록\n",
    "    - if와 마찬가지로 while문 아래의 들여쓰기로 작성 된 부분을 의미\n",
    "- 조건이 False가 되면 블록 수행을 멈추고 이후 코드를 실행"
   ]
  },
  {
   "cell_type": "markdown",
   "id": "961e1b9c",
   "metadata": {},
   "source": [
    "**while 키워드 이용하여 리스트의 아이템 출력하기**"
   ]
  },
  {
   "cell_type": "code",
   "execution_count": 3,
   "id": "1d5cf30c",
   "metadata": {},
   "outputs": [
    {
     "name": "stdout",
     "output_type": "stream",
     "text": [
      "value:  1 index:  0\n",
      "value:  10 index:  1\n",
      "value:  9 index:  2\n",
      "value:  24 index:  3\n",
      "value:  566 index:  4\n",
      "value:  23 index:  5\n",
      "value:  45 index:  6\n",
      "value:  67 index:  7\n",
      "value:  89 index:  8\n"
     ]
    }
   ],
   "source": [
    "a=[1,10,9,24,566,23,45,67,89]\n",
    "\n",
    "i=0\n",
    "while i < len(a):\n",
    "    print('value: ',a[i], 'index: ',i)\n",
    "    i+=1"
   ]
  },
  {
   "cell_type": "markdown",
   "id": "65903e33",
   "metadata": {},
   "source": [
    "**while 키워드 이용하여 리스트의 아이템 출력하기**\n",
    "- 조건문과 함계 사용하기"
   ]
  },
  {
   "cell_type": "code",
   "execution_count": 4,
   "id": "27c13015",
   "metadata": {},
   "outputs": [
    {
     "name": "stdout",
     "output_type": "stream",
     "text": [
      "24\n",
      "566\n",
      "23\n",
      "45\n",
      "67\n",
      "89\n"
     ]
    }
   ],
   "source": [
    "a=[1,10,9,24,566,23,45,67,89]\n",
    "\n",
    "i=0\n",
    "while i < len(a):\n",
    "    if a[i]>20:\n",
    "        print(a[i])\n",
    "    i+=1"
   ]
  },
  {
   "cell_type": "code",
   "execution_count": 5,
   "id": "68815898",
   "metadata": {},
   "outputs": [
    {
     "name": "stdout",
     "output_type": "stream",
     "text": [
      "1\n",
      "9\n",
      "23\n",
      "45\n",
      "67\n",
      "89\n"
     ]
    }
   ],
   "source": [
    "a=[1,10,9,24,566,23,45,67,89]\n",
    "\n",
    "i=0\n",
    "while i < len(a):\n",
    "    if a[i]%2==1:\n",
    "        print(a[i])\n",
    "    i+=1"
   ]
  },
  {
   "cell_type": "markdown",
   "id": "7541f6e0",
   "metadata": {},
   "source": [
    "**무한루프**\n",
    "- while의 경우 종료가 되지 않도록 코드를 작성하면 블록에서 빠져나올 수 없음"
   ]
  },
  {
   "cell_type": "markdown",
   "id": "c88c469f",
   "metadata": {},
   "source": [
    "**break**\n",
    "- loop를 중단할 때 사용\n",
    "- 보통 조건문 안에서 수행되며, 조건을 만족하는 경우 loop를 탈출하기 위해 사용\n",
    "- loop를 중단 하는 경우, while 이후의 코드를 수행"
   ]
  },
  {
   "cell_type": "code",
   "execution_count": 6,
   "id": "7175b596",
   "metadata": {},
   "outputs": [
    {
     "name": "stdout",
     "output_type": "stream",
     "text": [
      "1\n",
      "10\n",
      "9\n"
     ]
    }
   ],
   "source": [
    "a=[1,10,9,24,566,23,45,67,89]\n",
    "\n",
    "i=0\n",
    "while i < len(a):\n",
    "        if a[i]>20:\n",
    "            break\n",
    "        \n",
    "        print(a[i])\n",
    "        \n",
    "        i+=1"
   ]
  },
  {
   "cell_type": "markdown",
   "id": "3ee6e59f",
   "metadata": {},
   "source": [
    "**continue**\n",
    "- break 처럼 반복을 중단하여 빠져나오지 않고, 다시 while조건으로 점프함\n",
    "- 특정한 경우에는 코드를 수행하지 않고 다음으로 건너 뛰기 위해 사용"
   ]
  },
  {
   "cell_type": "code",
   "execution_count": 1,
   "id": "4ec1798c",
   "metadata": {},
   "outputs": [
    {
     "name": "stdout",
     "output_type": "stream",
     "text": [
      "6\n",
      "5\n",
      "4\n",
      "3\n",
      "2\n",
      "1\n",
      "0\n"
     ]
    }
   ],
   "source": [
    "a=7\n",
    "while a>0:\n",
    "    a-=1\n",
    "    print(a)"
   ]
  },
  {
   "cell_type": "code",
   "execution_count": 2,
   "id": "48b7b65d",
   "metadata": {},
   "outputs": [
    {
     "name": "stdout",
     "output_type": "stream",
     "text": [
      "6\n",
      "4\n",
      "3\n",
      "2\n",
      "1\n",
      "0\n"
     ]
    }
   ],
   "source": [
    "  a=7\n",
    "while a>0:\n",
    "    a-=1\n",
    "    if a==5:\n",
    "        continue\n",
    "    print(a)"
   ]
  },
  {
   "cell_type": "markdown",
   "id": "f0262f47",
   "metadata": {},
   "source": [
    "### 1 ~ 100까지 더하기"
   ]
  },
  {
   "cell_type": "code",
   "execution_count": 4,
   "id": "9efb734d",
   "metadata": {},
   "outputs": [
    {
     "name": "stdout",
     "output_type": "stream",
     "text": [
      "5050\n"
     ]
    }
   ],
   "source": [
    "sum=0\n",
    "i=1\n",
    "while i<=100:\n",
    "    sum+=i\n",
    "    i+=1\n",
    "print(sum)"
   ]
  },
  {
   "cell_type": "code",
   "execution_count": null,
   "id": "3e360b3d",
   "metadata": {},
   "outputs": [],
   "source": []
  }
 ],
 "metadata": {
  "kernelspec": {
   "display_name": "Python 3 (ipykernel)",
   "language": "python",
   "name": "python3"
  },
  "language_info": {
   "codemirror_mode": {
    "name": "ipython",
    "version": 3
   },
   "file_extension": ".py",
   "mimetype": "text/x-python",
   "name": "python",
   "nbconvert_exporter": "python",
   "pygments_lexer": "ipython3",
   "version": "3.9.13"
  }
 },
 "nbformat": 4,
 "nbformat_minor": 5
}
