{
 "cells": [
  {
   "cell_type": "markdown",
   "id": "c2079449",
   "metadata": {},
   "source": [
    "**= : 대입연산자, == : 비교연산자**\n",
    "\n",
    "- 대입의 경우, 오른쪽의 수식이나 값을 evaluation한뒤,\n",
    "- 왼쪽에 명시된 변수에 해당 값을 대입\n",
    "- 변수는 해당 값을 가지게 됨"
   ]
  },
  {
   "cell_type": "code",
   "execution_count": 1,
   "id": "b801e5ae",
   "metadata": {},
   "outputs": [],
   "source": [
    "a = 10\n",
    "b = 11.4"
   ]
  },
  {
   "cell_type": "markdown",
   "id": "7bfb72df",
   "metadata": {},
   "source": [
    "**comment(주석)**\n",
    "\n",
    "- 코드에서 #으로 시작하는 뒷 부분은 실행되지 않음\n",
    "- python이 소스코드를 실행하면서 #를 만나면 무시\n",
    "- 개발자(사람)가 보기 위한 용도로 사용"
   ]
  },
  {
   "cell_type": "code",
   "execution_count": 2,
   "id": "194fc634",
   "metadata": {},
   "outputs": [],
   "source": [
    "# this line is very important\n",
    "# so don't delete those lines\n",
    "\n",
    "a = 10\n",
    "b = 11.4"
   ]
  },
  {
   "cell_type": "markdown",
   "id": "bc023134",
   "metadata": {},
   "source": [
    "**print 함수**\n",
    "\n",
    "- 함수란 특정 기능을 반복적으로 호툴하여 사용가능한 코드블럭\n",
    "- 해당 변수의 값을 출력\n",
    "- ,로 여러 변수를 나열하면 한줄에 출력\n",
    "- 기본적으로는 한칸 띄어스기 후 출력"
   ]
  },
  {
   "cell_type": "code",
   "execution_count": 3,
   "id": "9c12e1dc",
   "metadata": {},
   "outputs": [
    {
     "name": "stdout",
     "output_type": "stream",
     "text": [
      "10 11.4\n"
     ]
    }
   ],
   "source": [
    "print(a, b)"
   ]
  },
  {
   "cell_type": "markdown",
   "id": "772bb681",
   "metadata": {},
   "source": [
    "- **print함수 설정**\n",
    "    - sep : 구분자, 각 출력한 변수 사이에서 구별하는 역할을 함\n",
    "    - end : 마지막에 출력할 문자열"
   ]
  },
  {
   "cell_type": "code",
   "execution_count": 4,
   "id": "1de8e1e6",
   "metadata": {},
   "outputs": [
    {
     "name": "stdout",
     "output_type": "stream",
     "text": [
      "10*11.4*100!!"
     ]
    }
   ],
   "source": [
    "print(a, b, 100, sep='*', end='!!')"
   ]
  },
  {
   "cell_type": "markdown",
   "id": "3a2f922c",
   "metadata": {},
   "source": [
    "**변수 값 확인법**\n",
    "\n",
    "- print() 함수 사용\n",
    "- 변수 값을 코드의 마지막에 위치 시킨 후 실행\n",
    "    - 이 경우 output으로 변수의 값이 출력"
   ]
  },
  {
   "cell_type": "code",
   "execution_count": 5,
   "id": "96a73975",
   "metadata": {},
   "outputs": [
    {
     "name": "stdout",
     "output_type": "stream",
     "text": [
      "10\n",
      "10 11.4\n"
     ]
    },
    {
     "data": {
      "text/plain": [
       "10"
      ]
     },
     "execution_count": 5,
     "metadata": {},
     "output_type": "execute_result"
    }
   ],
   "source": [
    "print(a)\n",
    "print(a,b)\n",
    "a\n",
    "b"
   ]
  },
  {
   "cell_type": "markdown",
   "id": "1db1cce4",
   "metadata": {},
   "source": [
    "**variable naming (변수 이름 규칙)**\n",
    "\n",
    "- 숫자로 시작하는 이름을 제외하고 영문 대소문자, _, 숫자로 구성가능\n",
    "- 아래의 예제는 모두 valid한 변수 이름\n",
    "- 일반적으로 해당 변수를 표현하고자 하는 정확하고 간결한 이름을 사용하는 것이 원칙\n",
    "    - 코드를 읽은 것을 더 쉽게 할 수 있음\n",
    "    - e.g) a=1000의 경우보다 student_num=1000로 명시한 것이 변수에 대한 이해가 빠름"
   ]
  },
  {
   "cell_type": "code",
   "execution_count": 6,
   "id": "c2ed9d23",
   "metadata": {},
   "outputs": [],
   "source": [
    "abcABC =100\n",
    "_abc124 =200\n",
    "abc124=200\n",
    "a112bc=100"
   ]
  },
  {
   "cell_type": "markdown",
   "id": "8a3327ed",
   "metadata": {},
   "source": [
    "- **invalid한 변수 이름의 예**\n",
    "    - 숫자로 시작하면 안되는 이유는?"
   ]
  },
  {
   "cell_type": "code",
   "execution_count": null,
   "id": "8186b9cc",
   "metadata": {},
   "outputs": [],
   "source": [
    "3abc=100"
   ]
  },
  {
   "cell_type": "markdown",
   "id": "c901625f",
   "metadata": {},
   "source": [
    "**reserved keyword(예약어)**\n",
    "\n",
    "- pytho에서 미리 선점하여 사용중인 키워드\n",
    "- 변수, 함수, 클래스 등등의 사용자 정의 이름으로 사용할 수 없음"
   ]
  },
  {
   "cell_type": "code",
   "execution_count": null,
   "id": "38b6520b",
   "metadata": {},
   "outputs": [],
   "source": []
  },
  {
   "cell_type": "markdown",
   "id": "6bc3e380",
   "metadata": {},
   "source": [
    "**기본 데이터 타입**\n",
    "\n",
    "- 정수(int)\n",
    "- 실수(float)\n",
    "- 문자열 (str)\n",
    "- 불리언(boolean)"
   ]
  },
  {
   "cell_type": "markdown",
   "id": "7003df2f",
   "metadata": {},
   "source": [
    "\n",
    "\n",
    "**type 함수**\n",
    "- 해당 변수, 값의 타입(type)을 알고자 할 떄 사용"
   ]
  },
  {
   "cell_type": "code",
   "execution_count": 7,
   "id": "b58e16db",
   "metadata": {},
   "outputs": [
    {
     "data": {
      "text/plain": [
       "(int, float)"
      ]
     },
     "execution_count": 7,
     "metadata": {},
     "output_type": "execute_result"
    }
   ],
   "source": [
    "a=10\n",
    "b=11.4\n",
    "\n",
    "type(a),type(b)"
   ]
  },
  {
   "cell_type": "markdown",
   "id": "6fa5432d",
   "metadata": {},
   "source": [
    "**None**\n",
    "\n",
    "- 아무런 값을 갖지 않을 때 사용\n",
    "- 일반적으로 변수가 초기값을 갖지 않게 하여 해당 변수를 생성할 때 사용\n",
    "- 기타 언어의 NULL,nil등과 같은 의미로 사용"
   ]
  },
  {
   "cell_type": "code",
   "execution_count": 8,
   "id": "c26e6ba1",
   "metadata": {},
   "outputs": [
    {
     "name": "stdout",
     "output_type": "stream",
     "text": [
      "None\n"
     ]
    }
   ],
   "source": [
    "c=None\n",
    "print(c)"
   ]
  },
  {
   "cell_type": "markdown",
   "id": "5cfc988a",
   "metadata": {},
   "source": [
    "**comparison operator(비교 연산자)**\n",
    "\n",
    "- 프로그래밍에서는 비교 할 경우, = 대신 ==를 사용\n",
    "- <,>(작다, 크다)\n",
    "- <=,>=(작거나 같다, 크거나 같다)\n",
    "- ==(같다)\n",
    "- !=(같지 않다)\n",
    "- 비교 연산자의 결과는 bool 타입"
   ]
  },
  {
   "cell_type": "code",
   "execution_count": 9,
   "id": "c5ed1af6",
   "metadata": {},
   "outputs": [
    {
     "name": "stdout",
     "output_type": "stream",
     "text": [
      "True\n",
      "False\n",
      "True\n",
      "False\n",
      "False\n",
      "True\n"
     ]
    }
   ],
   "source": [
    "a=5\n",
    "b=4\n",
    "\n",
    "\n",
    "print(a>b)\n",
    "print(a<b)\n",
    "print(a>=b)\n",
    "print(a<=b)\n",
    "print(a==b)\n",
    "print(a!=b)"
   ]
  },
  {
   "cell_type": "markdown",
   "id": "b9be2cc1",
   "metadata": {},
   "source": [
    "**numbers(숫자형 타입)**\n",
    "\n",
    "- 정수, 실수로 구성\n",
    "- 수학의 기본 연산자(가감승제) 사용 가능"
   ]
  },
  {
   "cell_type": "code",
   "execution_count": 10,
   "id": "d84efb4f",
   "metadata": {},
   "outputs": [
    {
     "name": "stdout",
     "output_type": "stream",
     "text": [
      "9\n",
      "20\n",
      "1\n",
      "1.25\n",
      "1\n",
      "625\n"
     ]
    }
   ],
   "source": [
    "a=5\n",
    "b=4\n",
    "\n",
    "print(a+b)\n",
    "print(a*b)\n",
    "print(a-b)\n",
    "print(a/b)\n",
    "print(a%b)\n",
    "print(a**b)"
   ]
  },
  {
   "cell_type": "markdown",
   "id": "bb68b29b",
   "metadata": {},
   "source": [
    "**operator priorities (연산자 우선순위)**\n",
    "\n",
    "- 기본적인 수학의 연산자와 동일\n",
    "- 강제로 연산을 선수하기 위해선, 괄호()를 사용"
   ]
  },
  {
   "cell_type": "code",
   "execution_count": 11,
   "id": "74cf1cda",
   "metadata": {},
   "outputs": [
    {
     "data": {
      "text/plain": [
       "21"
      ]
     },
     "execution_count": 11,
     "metadata": {},
     "output_type": "execute_result"
    }
   ],
   "source": [
    "a=5\n",
    "b=4\n",
    "\n",
    "a+b*4"
   ]
  },
  {
   "cell_type": "markdown",
   "id": "2d7a7432",
   "metadata": {},
   "source": [
    "- **연습문제** 다음의 각 a값을 출력 했을 때 결과는?"
   ]
  },
  {
   "cell_type": "code",
   "execution_count": 12,
   "id": "14a65fe6",
   "metadata": {},
   "outputs": [
    {
     "name": "stdout",
     "output_type": "stream",
     "text": [
      "9\n",
      "6\n",
      "9\n"
     ]
    }
   ],
   "source": [
    "a=9\n",
    "print(a)\n",
    "print(a-3)\n",
    "print(a)"
   ]
  },
  {
   "cell_type": "markdown",
   "id": "a38b6c1f",
   "metadata": {},
   "source": [
    "**expression evaluation & assignment (식평가 & 대입)**\n",
    "\n",
    "- 변수의 값이 변경되기 위해서는 =를 사용하여 대입이 발생하는 경우에만 해당"
   ]
  }
 ],
 "metadata": {
  "kernelspec": {
   "display_name": "Python 3 (ipykernel)",
   "language": "python",
   "name": "python3"
  },
  "language_info": {
   "codemirror_mode": {
    "name": "ipython",
    "version": 3
   },
   "file_extension": ".py",
   "mimetype": "text/x-python",
   "name": "python",
   "nbconvert_exporter": "python",
   "pygments_lexer": "ipython3",
   "version": "3.9.13"
  }
 },
 "nbformat": 4,
 "nbformat_minor": 5
}
