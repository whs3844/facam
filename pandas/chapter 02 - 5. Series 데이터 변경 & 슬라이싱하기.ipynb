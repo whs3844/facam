{
 "cells": [
  {
   "cell_type": "code",
   "execution_count": 1,
   "id": "070ddb6f",
   "metadata": {},
   "outputs": [],
   "source": [
    "import pandas as pd\n",
    "import numpy as np"
   ]
  },
  {
   "cell_type": "markdown",
   "id": "11130e21",
   "metadata": {},
   "source": [
    "#### Series 값 변경\n",
    "- 추가 및 업데이트 : 인덱스를 이용\n",
    "- 삭제 : drop함수를 이용"
   ]
  },
  {
   "cell_type": "code",
   "execution_count": 2,
   "id": "dc966e45",
   "metadata": {},
   "outputs": [
    {
     "data": {
      "text/plain": [
       "a    100\n",
       "b    101\n",
       "c    102\n",
       "d    103\n",
       "e    104\n",
       "dtype: int32"
      ]
     },
     "execution_count": 2,
     "metadata": {},
     "output_type": "execute_result"
    }
   ],
   "source": [
    "s=pd.Series(np.arange(100,105),['a','b','c','d','e'])\n",
    "s"
   ]
  },
  {
   "cell_type": "code",
   "execution_count": 3,
   "id": "fe4eccad",
   "metadata": {},
   "outputs": [
    {
     "data": {
      "text/plain": [
       "a    200\n",
       "b    101\n",
       "c    102\n",
       "d    103\n",
       "e    104\n",
       "dtype: int32"
      ]
     },
     "execution_count": 3,
     "metadata": {},
     "output_type": "execute_result"
    }
   ],
   "source": [
    "s['a']=200\n",
    "s"
   ]
  },
  {
   "cell_type": "code",
   "execution_count": 4,
   "id": "75d72c89",
   "metadata": {},
   "outputs": [
    {
     "data": {
      "text/plain": [
       "a    200\n",
       "b    101\n",
       "c    102\n",
       "d    103\n",
       "e    104\n",
       "k    300\n",
       "dtype: int64"
      ]
     },
     "execution_count": 4,
     "metadata": {},
     "output_type": "execute_result"
    }
   ],
   "source": [
    "s['k']=300\n",
    "s"
   ]
  },
  {
   "cell_type": "code",
   "execution_count": 5,
   "id": "271ac1b1",
   "metadata": {},
   "outputs": [
    {
     "data": {
      "text/plain": [
       "a    200\n",
       "b    101\n",
       "c    102\n",
       "d    103\n",
       "e    104\n",
       "dtype: int64"
      ]
     },
     "execution_count": 5,
     "metadata": {},
     "output_type": "execute_result"
    }
   ],
   "source": [
    "s.drop('k')#s는 변경이 안됨 inplace=True 파라미터를 넣으면 s자체가 변경딤"
   ]
  },
  {
   "cell_type": "code",
   "execution_count": 6,
   "id": "455d8465",
   "metadata": {},
   "outputs": [
    {
     "data": {
      "text/plain": [
       "a    200\n",
       "b    101\n",
       "c    102\n",
       "d    103\n",
       "e    104\n",
       "k    300\n",
       "dtype: int64"
      ]
     },
     "execution_count": 6,
     "metadata": {},
     "output_type": "execute_result"
    }
   ],
   "source": [
    "s"
   ]
  },
  {
   "cell_type": "markdown",
   "id": "13a1289e",
   "metadata": {},
   "source": [
    "#### Slicing\n",
    "- 리스트, ndarray와 동일하게 적용"
   ]
  },
  {
   "cell_type": "code",
   "execution_count": 7,
   "id": "a56de07a",
   "metadata": {},
   "outputs": [
    {
     "data": {
      "text/plain": [
       "0    100\n",
       "1    101\n",
       "2    102\n",
       "3    103\n",
       "4    104\n",
       "dtype: int32"
      ]
     },
     "execution_count": 7,
     "metadata": {},
     "output_type": "execute_result"
    }
   ],
   "source": [
    "s1=pd.Series(np.arange(100,105))\n",
    "s1"
   ]
  },
  {
   "cell_type": "code",
   "execution_count": 8,
   "id": "b6051d4e",
   "metadata": {},
   "outputs": [
    {
     "data": {
      "text/plain": [
       "1    101\n",
       "2    102\n",
       "dtype: int32"
      ]
     },
     "execution_count": 8,
     "metadata": {},
     "output_type": "execute_result"
    }
   ],
   "source": [
    "s1[1:3]"
   ]
  },
  {
   "cell_type": "code",
   "execution_count": 10,
   "id": "e885029a",
   "metadata": {},
   "outputs": [
    {
     "data": {
      "text/plain": [
       "a    100\n",
       "b    101\n",
       "c    102\n",
       "d    103\n",
       "e    104\n",
       "dtype: int32"
      ]
     },
     "execution_count": 10,
     "metadata": {},
     "output_type": "execute_result"
    }
   ],
   "source": [
    "s2=pd.Series(np.arange(100,105),['a','b','c','d','e'])\n",
    "s2"
   ]
  },
  {
   "cell_type": "code",
   "execution_count": 11,
   "id": "fc670c83",
   "metadata": {},
   "outputs": [
    {
     "data": {
      "text/plain": [
       "b    101\n",
       "c    102\n",
       "dtype: int32"
      ]
     },
     "execution_count": 11,
     "metadata": {},
     "output_type": "execute_result"
    }
   ],
   "source": [
    "s2[1:3]"
   ]
  },
  {
   "cell_type": "code",
   "execution_count": 12,
   "id": "8f57fb89",
   "metadata": {},
   "outputs": [
    {
     "data": {
      "text/plain": [
       "b    101\n",
       "c    102\n",
       "d    103\n",
       "dtype: int32"
      ]
     },
     "execution_count": 12,
     "metadata": {},
     "output_type": "execute_result"
    }
   ],
   "source": [
    "s2['b':'d']#문자열 인덱스로 하면 마지막도 포함"
   ]
  }
 ],
 "metadata": {
  "kernelspec": {
   "display_name": "Python 3 (ipykernel)",
   "language": "python",
   "name": "python3"
  },
  "language_info": {
   "codemirror_mode": {
    "name": "ipython",
    "version": 3
   },
   "file_extension": ".py",
   "mimetype": "text/x-python",
   "name": "python",
   "nbconvert_exporter": "python",
   "pygments_lexer": "ipython3",
   "version": "3.9.13"
  }
 },
 "nbformat": 4,
 "nbformat_minor": 5
}
