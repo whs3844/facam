{
 "cells": [
  {
   "cell_type": "markdown",
   "id": "e4721f7c",
   "metadata": {},
   "source": [
    "### Numpy\n",
    "- 데이터를 행렬로 표현\n",
    "- 행렬 데이터 생성, 수정, 계산등을 빠르게 처리해주는 패키지\n",
    "- 특징\n",
    "    - c,c++, 포트란으로 작성\n",
    "    - 선형대수학을 빠르게 연산\n",
    "        - 스칼라, 벡터, 매트릭스"
   ]
  },
  {
   "cell_type": "code",
   "execution_count": 1,
   "id": "5169e5d4",
   "metadata": {},
   "outputs": [],
   "source": [
    "import numpy as np"
   ]
  },
  {
   "cell_type": "code",
   "execution_count": 2,
   "id": "c9ff7506",
   "metadata": {},
   "outputs": [],
   "source": [
    "# 행렬 데이터 생성\n",
    "# ndarray : 한가지 데이터 타입만 값으로 사용 가능"
   ]
  },
  {
   "cell_type": "code",
   "execution_count": 3,
   "id": "d7c1f8ef",
   "metadata": {},
   "outputs": [
    {
     "data": {
      "text/plain": [
       "(array([1, 2, 3]), numpy.ndarray)"
      ]
     },
     "execution_count": 3,
     "metadata": {},
     "output_type": "execute_result"
    }
   ],
   "source": [
    "array=np.array([1,2,3])\n",
    "array,type(array)"
   ]
  },
  {
   "cell_type": "code",
   "execution_count": 4,
   "id": "7d554ddc",
   "metadata": {},
   "outputs": [
    {
     "data": {
      "text/plain": [
       "array([[1, 2, 3],\n",
       "       [4, 5, 6]])"
      ]
     },
     "execution_count": 4,
     "metadata": {},
     "output_type": "execute_result"
    }
   ],
   "source": [
    "array2=np.array([[1,2,3],[4,5,6]])\n",
    "array2"
   ]
  },
  {
   "cell_type": "code",
   "execution_count": 5,
   "id": "6516e882",
   "metadata": {},
   "outputs": [
    {
     "data": {
      "text/plain": [
       "(2, (2, 3))"
      ]
     },
     "execution_count": 5,
     "metadata": {},
     "output_type": "execute_result"
    }
   ],
   "source": [
    "array2.ndim, array2.shape"
   ]
  },
  {
   "cell_type": "code",
   "execution_count": 6,
   "id": "3947952b",
   "metadata": {},
   "outputs": [
    {
     "data": {
      "text/plain": [
       "array([[1, 2],\n",
       "       [3, 4],\n",
       "       [5, 6]])"
      ]
     },
     "execution_count": 6,
     "metadata": {},
     "output_type": "execute_result"
    }
   ],
   "source": [
    "# 행렬의 모양(shape) 변경하기\n",
    "\n",
    "array2.reshape(3,2) "
   ]
  },
  {
   "cell_type": "code",
   "execution_count": 7,
   "id": "72f30375",
   "metadata": {},
   "outputs": [
    {
     "data": {
      "text/plain": [
       "array([1, 2, 3, 4, 5, 6])"
      ]
     },
     "execution_count": 7,
     "metadata": {},
     "output_type": "execute_result"
    }
   ],
   "source": [
    "array2.reshape(6)"
   ]
  },
  {
   "cell_type": "code",
   "execution_count": 10,
   "id": "0125c210",
   "metadata": {},
   "outputs": [
    {
     "data": {
      "text/plain": [
       "array([4, 5, 6])"
      ]
     },
     "execution_count": 10,
     "metadata": {},
     "output_type": "execute_result"
    }
   ],
   "source": [
    "# 행렬 데이터 선택 : offset index\n",
    "array2[1]"
   ]
  },
  {
   "cell_type": "code",
   "execution_count": 11,
   "id": "b285f1e4",
   "metadata": {},
   "outputs": [
    {
     "data": {
      "text/plain": [
       "6"
      ]
     },
     "execution_count": 11,
     "metadata": {},
     "output_type": "execute_result"
    }
   ],
   "source": [
    "array2[1][2] #array2[1,2]"
   ]
  },
  {
   "cell_type": "code",
   "execution_count": 12,
   "id": "9fa128b4",
   "metadata": {},
   "outputs": [
    {
     "data": {
      "text/plain": [
       "array([4, 5])"
      ]
     },
     "execution_count": 12,
     "metadata": {},
     "output_type": "execute_result"
    }
   ],
   "source": [
    "array2[1][:2]"
   ]
  },
  {
   "cell_type": "code",
   "execution_count": 13,
   "id": "00cab743",
   "metadata": {},
   "outputs": [],
   "source": [
    "# 데이터 수정"
   ]
  },
  {
   "cell_type": "code",
   "execution_count": 14,
   "id": "9c127625",
   "metadata": {},
   "outputs": [
    {
     "data": {
      "text/plain": [
       "array([[ 1,  2,  3],\n",
       "       [ 4,  5, 10]])"
      ]
     },
     "execution_count": 14,
     "metadata": {},
     "output_type": "execute_result"
    }
   ],
   "source": [
    "array2[1][2]=10\n",
    "array2"
   ]
  },
  {
   "cell_type": "code",
   "execution_count": 15,
   "id": "4a4c0152",
   "metadata": {},
   "outputs": [
    {
     "data": {
      "text/plain": [
       "array([[ 0,  0,  0],\n",
       "       [ 4,  5, 10]])"
      ]
     },
     "execution_count": 15,
     "metadata": {},
     "output_type": "execute_result"
    }
   ],
   "source": [
    "# 브로드 캐스팅\n",
    "array2[0]=0\n",
    "array2"
   ]
  },
  {
   "cell_type": "code",
   "execution_count": 16,
   "id": "a0988cbf",
   "metadata": {},
   "outputs": [
    {
     "data": {
      "text/plain": [
       "array([[ 7,  8,  9],\n",
       "       [ 4,  5, 10]])"
      ]
     },
     "execution_count": 16,
     "metadata": {},
     "output_type": "execute_result"
    }
   ],
   "source": [
    "array2[0]=[7,8,9]\n",
    "array2"
   ]
  },
  {
   "cell_type": "code",
   "execution_count": 18,
   "id": "8557158f",
   "metadata": {},
   "outputs": [
    {
     "data": {
      "text/plain": [
       "array([[False,  True,  True],\n",
       "       [False, False,  True]])"
      ]
     },
     "execution_count": 18,
     "metadata": {},
     "output_type": "execute_result"
    }
   ],
   "source": [
    "# 조건으로 선택\n",
    "idx=array2>7\n",
    "idx"
   ]
  },
  {
   "cell_type": "code",
   "execution_count": 19,
   "id": "30a5fe3c",
   "metadata": {},
   "outputs": [
    {
     "data": {
      "text/plain": [
       "array([ 8,  9, 10])"
      ]
     },
     "execution_count": 19,
     "metadata": {},
     "output_type": "execute_result"
    }
   ],
   "source": [
    "array2[idx]"
   ]
  },
  {
   "cell_type": "code",
   "execution_count": 20,
   "id": "a85a6ddc",
   "metadata": {},
   "outputs": [
    {
     "data": {
      "text/plain": [
       "array([[0., 0., 0.],\n",
       "       [0., 0., 0.]])"
      ]
     },
     "execution_count": 20,
     "metadata": {},
     "output_type": "execute_result"
    }
   ],
   "source": [
    "# 행렬 데이터의 생성 2\n",
    "data=np.zeros((2,3))\n",
    "data"
   ]
  },
  {
   "cell_type": "code",
   "execution_count": 21,
   "id": "c8c85d6f",
   "metadata": {},
   "outputs": [
    {
     "data": {
      "text/plain": [
       "array([[0, 0, 0],\n",
       "       [0, 0, 0]])"
      ]
     },
     "execution_count": 21,
     "metadata": {},
     "output_type": "execute_result"
    }
   ],
   "source": [
    "data.astype('int')"
   ]
  },
  {
   "cell_type": "code",
   "execution_count": 22,
   "id": "325bc5a6",
   "metadata": {},
   "outputs": [
    {
     "data": {
      "text/plain": [
       "array([[[1., 1., 1.],\n",
       "        [1., 1., 1.]],\n",
       "\n",
       "       [[1., 1., 1.],\n",
       "        [1., 1., 1.]]])"
      ]
     },
     "execution_count": 22,
     "metadata": {},
     "output_type": "execute_result"
    }
   ],
   "source": [
    "np.ones((2,2,3))"
   ]
  },
  {
   "cell_type": "code",
   "execution_count": 23,
   "id": "19db3fe1",
   "metadata": {},
   "outputs": [
    {
     "data": {
      "text/plain": [
       "array([0, 1, 2, 3, 4])"
      ]
     },
     "execution_count": 23,
     "metadata": {},
     "output_type": "execute_result"
    }
   ],
   "source": [
    "# arange\n",
    "np.arange(5)"
   ]
  },
  {
   "cell_type": "code",
   "execution_count": 24,
   "id": "ac1fb0eb",
   "metadata": {},
   "outputs": [
    {
     "data": {
      "text/plain": [
       "array([5, 6, 7, 8, 9])"
      ]
     },
     "execution_count": 24,
     "metadata": {},
     "output_type": "execute_result"
    }
   ],
   "source": [
    "np.arange(5,10)"
   ]
  },
  {
   "cell_type": "code",
   "execution_count": 25,
   "id": "8953e3e3",
   "metadata": {
    "scrolled": false
   },
   "outputs": [
    {
     "data": {
      "text/plain": [
       "array([5, 7, 9])"
      ]
     },
     "execution_count": 25,
     "metadata": {},
     "output_type": "execute_result"
    }
   ],
   "source": [
    "np.arange(5,10,2)"
   ]
  },
  {
   "cell_type": "markdown",
   "id": "6f72eec5",
   "metadata": {},
   "source": [
    "### linspace, logspace 함수\n",
    "- linspace : 설정한 범위에서 선형적으로 분할한 위치의 값을 출력\n",
    "- logspace : 설정한 범위에서 로그로 분할한 위치의 값을 출력"
   ]
  },
  {
   "cell_type": "code",
   "execution_count": 47,
   "id": "68acb922",
   "metadata": {},
   "outputs": [
    {
     "data": {
      "text/plain": [
       "array([  0.,  25.,  50.,  75., 100.])"
      ]
     },
     "execution_count": 47,
     "metadata": {},
     "output_type": "execute_result"
    }
   ],
   "source": [
    "# linspace\n",
    "np.linspace(0,100,5)"
   ]
  },
  {
   "cell_type": "code",
   "execution_count": 48,
   "id": "06156ed2",
   "metadata": {},
   "outputs": [
    {
     "data": {
      "text/plain": [
       "array([  100.,  1000., 10000.])"
      ]
     },
     "execution_count": 48,
     "metadata": {},
     "output_type": "execute_result"
    }
   ],
   "source": [
    "# logspace\n",
    "# log10(x1)=2, log10(x2)=3, log10(x3)=4\n",
    "np.logspace(2,4,3)"
   ]
  },
  {
   "cell_type": "code",
   "execution_count": 49,
   "id": "f70254a7",
   "metadata": {},
   "outputs": [],
   "source": [
    "# 30세에 연봉이 $100000이고 60세의 연봉이 $1000000일 떄,\n",
    "# 연봉이 선형으로 증가, 지수함수로 증가하는 두 경우에서의 40세, 50세 연봉을 출력"
   ]
  },
  {
   "cell_type": "code",
   "execution_count": 55,
   "id": "f54f8b7d",
   "metadata": {},
   "outputs": [
    {
     "data": {
      "text/plain": [
       "array([400000., 700000.])"
      ]
     },
     "execution_count": 55,
     "metadata": {},
     "output_type": "execute_result"
    }
   ],
   "source": [
    "np.linspace(100000,1000000,4)[1:3]"
   ]
  },
  {
   "cell_type": "code",
   "execution_count": 57,
   "id": "9064f380",
   "metadata": {},
   "outputs": [
    {
     "data": {
      "text/plain": [
       "array([215443.46900319, 464158.88336128])"
      ]
     },
     "execution_count": 57,
     "metadata": {},
     "output_type": "execute_result"
    }
   ],
   "source": [
    "np.logspace(5,6,4)[1:3]"
   ]
  },
  {
   "cell_type": "markdown",
   "id": "557ca742",
   "metadata": {},
   "source": [
    "### Numpy random\n",
    "- seed : 랜덤값을 설정값\n",
    "- rand : 균등분포로 랜덤한 값 생성\n",
    "- randn : 정규분포로 난수를 발생\n",
    "- randint : 균등분포로 정수값을 생성\n",
    "- shuffle : 행렬 데이터를 섞어 줌\n",
    "- choice : 특정 확률로 데이터를 선택"
   ]
  },
  {
   "cell_type": "code",
   "execution_count": 58,
   "id": "cc305748",
   "metadata": {},
   "outputs": [
    {
     "data": {
      "text/plain": [
       "(array([47, 22, 82, 19, 85, 15, 89, 74, 26, 11]),\n",
       " array([47, 22, 82, 19, 85, 15, 89, 74, 26, 11]),\n",
       " array([50, 25, 82, 32, 53, 92, 85, 17, 44, 59]))"
      ]
     },
     "execution_count": 58,
     "metadata": {},
     "output_type": "execute_result"
    }
   ],
   "source": [
    "# seed\n",
    "np.random.seed(1)\n",
    "result1= np.random.randint(10,100,10)\n",
    "\n",
    "np.random.seed(1)\n",
    "result2=np.random.randint(10,100,10)\n",
    "\n",
    "np.random.seed(2)\n",
    "result3=np.random.randint(10,100,10)\n",
    "\n",
    "result1,result2,result3"
   ]
  },
  {
   "cell_type": "code",
   "execution_count": 59,
   "id": "01ebf49a",
   "metadata": {},
   "outputs": [
    {
     "data": {
      "text/plain": [
       "array([0.20464863, 0.61927097, 0.29965467, 0.26682728, 0.62113383,\n",
       "       0.52914209, 0.13457995, 0.51357812, 0.18443987, 0.78533515])"
      ]
     },
     "execution_count": 59,
     "metadata": {},
     "output_type": "execute_result"
    }
   ],
   "source": [
    "np.random.rand(10)"
   ]
  },
  {
   "cell_type": "code",
   "execution_count": 60,
   "id": "0b7cd516",
   "metadata": {},
   "outputs": [
    {
     "data": {
      "text/plain": [
       "array([-0.0191305 ,  1.17500122, -0.74787095,  0.00902525, -0.87810789,\n",
       "       -0.15643417,  0.25657045, -0.98877905, -0.33882197, -0.23618403])"
      ]
     },
     "execution_count": 60,
     "metadata": {},
     "output_type": "execute_result"
    }
   ],
   "source": [
    "np.random.randn(10)"
   ]
  },
  {
   "cell_type": "code",
   "execution_count": 61,
   "id": "51e2d3da",
   "metadata": {},
   "outputs": [
    {
     "data": {
      "text/plain": [
       "array([[2, 8, 9, 3],\n",
       "       [9, 8, 2, 7],\n",
       "       [9, 6, 4, 1]])"
      ]
     },
     "execution_count": 61,
     "metadata": {},
     "output_type": "execute_result"
    }
   ],
   "source": [
    "# shuffle(제일 앞에 있는 차원만 바뀜)\n",
    "r=np.random.randint(1,10,(3,4))\n",
    "r"
   ]
  },
  {
   "cell_type": "code",
   "execution_count": 62,
   "id": "e30d9745",
   "metadata": {},
   "outputs": [
    {
     "data": {
      "text/plain": [
       "array([[9, 8, 2, 7],\n",
       "       [9, 6, 4, 1],\n",
       "       [2, 8, 9, 3]])"
      ]
     },
     "execution_count": 62,
     "metadata": {},
     "output_type": "execute_result"
    }
   ],
   "source": [
    "np.random.shuffle(r)\n",
    "r"
   ]
  },
  {
   "cell_type": "code",
   "execution_count": 65,
   "id": "b5e644de",
   "metadata": {},
   "outputs": [
    {
     "data": {
      "text/plain": [
       "array([4, 4, 3, 2, 4, 2, 4, 4, 3, 4])"
      ]
     },
     "execution_count": 65,
     "metadata": {},
     "output_type": "execute_result"
    }
   ],
   "source": [
    "# choice\n",
    "np.random.choice(5,10,p=[0.1,0,0.4,0.2,0.3])"
   ]
  },
  {
   "cell_type": "code",
   "execution_count": 67,
   "id": "cb834393",
   "metadata": {},
   "outputs": [
    {
     "name": "stdout",
     "output_type": "stream",
     "text": [
      "[1 2 3 4 6 7 8 9]\n",
      "[1 2 1 1 1 1 2 3]\n"
     ]
    }
   ],
   "source": [
    "#unique\n",
    "numbers, counts=np.unique(r,return_counts=True)\n",
    "print(numbers)\n",
    "print(counts)"
   ]
  },
  {
   "cell_type": "markdown",
   "id": "7af3dff8",
   "metadata": {},
   "source": [
    "### 행렬 데이터의 결합\n",
    "- concatenate"
   ]
  },
  {
   "cell_type": "code",
   "execution_count": 69,
   "id": "1db2762c",
   "metadata": {},
   "outputs": [],
   "source": [
    "num1=np.random.randint(10,size=(2,3))\n",
    "num2=np.random.randint(10,size=(3,2))\n",
    "num3=np.random.randint(10,size=(3,3))"
   ]
  },
  {
   "cell_type": "code",
   "execution_count": 74,
   "id": "aa8b0045",
   "metadata": {},
   "outputs": [
    {
     "data": {
      "text/plain": [
       "array([[5, 0, 8],\n",
       "       [6, 5, 1],\n",
       "       [0, 8, 5],\n",
       "       [4, 2, 9],\n",
       "       [7, 1, 9]])"
      ]
     },
     "execution_count": 74,
     "metadata": {},
     "output_type": "execute_result"
    }
   ],
   "source": [
    "#세로 결합\n",
    "np.concatenate((num1,num3))"
   ]
  },
  {
   "cell_type": "code",
   "execution_count": 77,
   "id": "b5dff565",
   "metadata": {},
   "outputs": [
    {
     "data": {
      "text/plain": [
       "array([[7, 4, 0, 8, 5],\n",
       "       [3, 6, 4, 2, 9],\n",
       "       [1, 4, 7, 1, 9]])"
      ]
     },
     "execution_count": 77,
     "metadata": {},
     "output_type": "execute_result"
    }
   ],
   "source": [
    "#가로 결합\n",
    "np.concatenate((num2,num3),axis=1)"
   ]
  },
  {
   "cell_type": "code",
   "execution_count": 78,
   "id": "a8aeabe6",
   "metadata": {},
   "outputs": [
    {
     "data": {
      "text/plain": [
       "array([[1, 4],\n",
       "       [2, 5],\n",
       "       [3, 6]])"
      ]
     },
     "execution_count": 78,
     "metadata": {},
     "output_type": "execute_result"
    }
   ],
   "source": [
    "# c_, r_\n",
    "np.c_[np.array([1,2,3]),np.array([4,5,6])]"
   ]
  },
  {
   "cell_type": "code",
   "execution_count": 79,
   "id": "6bf22b65",
   "metadata": {},
   "outputs": [
    {
     "data": {
      "text/plain": [
       "array([1, 2, 3, 4, 5, 6])"
      ]
     },
     "execution_count": 79,
     "metadata": {},
     "output_type": "execute_result"
    }
   ],
   "source": [
    "np.r_[np.array([1,2,3]),np.array([4,5,6])]"
   ]
  },
  {
   "cell_type": "markdown",
   "id": "9eca9963",
   "metadata": {},
   "source": [
    "### quiz\n",
    "- 100~130까지 랜덤한 숫자를 가지는 8*8행렬을 만들고,\n",
    "- 3의 배수는 fiz, 5의 배수는 buz, 3과 5의 배수는 fbz 문자로 변환"
   ]
  },
  {
   "cell_type": "code",
   "execution_count": 13,
   "id": "c053f2c6",
   "metadata": {},
   "outputs": [
    {
     "data": {
      "text/plain": [
       "array([[112, 104, 104, 119, 114, 125, 109, 103],\n",
       "       [121, 106, 122, 114, 107, 100, 116, 123],\n",
       "       [114, 121, 115, 127, 117, 128, 107, 118],\n",
       "       [103, 102, 116, 124, 129, 121, 112, 106],\n",
       "       [104, 117, 126, 116, 107, 115, 116, 113],\n",
       "       [117, 121, 119, 100, 110, 124, 107, 120],\n",
       "       [122, 123, 116, 104, 130, 101, 119, 112],\n",
       "       [118, 117, 112, 103, 102, 113, 111, 101]])"
      ]
     },
     "execution_count": 13,
     "metadata": {},
     "output_type": "execute_result"
    }
   ],
   "source": [
    "array=np.array(np.random.randint(100,131,64)).reshape(8,8)\n",
    "array"
   ]
  },
  {
   "cell_type": "code",
   "execution_count": 29,
   "id": "331d44f6",
   "metadata": {},
   "outputs": [],
   "source": [
    "array1=array.astype('str')"
   ]
  },
  {
   "cell_type": "code",
   "execution_count": 35,
   "id": "7147eea3",
   "metadata": {},
   "outputs": [
    {
     "data": {
      "text/plain": [
       "array([['112', '104', '104', '119', 'fiz', 'buz', '109', '103'],\n",
       "       ['121', '106', '122', 'fiz', '107', 'buz', '116', 'fiz'],\n",
       "       ['fiz', '121', 'buz', '127', 'fiz', '128', '107', '118'],\n",
       "       ['103', 'fiz', '116', '124', 'fiz', '121', '112', '106'],\n",
       "       ['104', 'fiz', 'fiz', '116', '107', 'buz', '116', '113'],\n",
       "       ['fiz', '121', '119', 'buz', 'buz', '124', '107', 'fbz'],\n",
       "       ['122', 'fiz', '116', '104', 'buz', '101', '119', '112'],\n",
       "       ['118', 'fiz', '112', '103', 'fiz', '113', 'fiz', '101']],\n",
       "      dtype='<U11')"
      ]
     },
     "execution_count": 35,
     "metadata": {},
     "output_type": "execute_result"
    }
   ],
   "source": [
    "array1[array%3==0]='fiz'\n",
    "array1[array%5==0]='buz'\n",
    "array1[(array%3==0) & (array%5==0)]='fbz'"
   ]
  },
  {
   "cell_type": "markdown",
   "id": "e6bbfe35",
   "metadata": {},
   "source": [
    "### Quiz\n",
    "- 1~20까지 랜덤한 숫자를 가지는 5*5 행렬 생성\n",
    "- 최대값에는 MAX, 최소값에는 MIN 문자열이 들어가도록 치환하는 코드"
   ]
  },
  {
   "cell_type": "code",
   "execution_count": 37,
   "id": "2550e680",
   "metadata": {},
   "outputs": [
    {
     "data": {
      "text/plain": [
       "array([[13,  2, 11,  7,  7],\n",
       "       [ 1, 18, 16,  5, 15],\n",
       "       [ 1,  2, 15, 12,  6],\n",
       "       [19, 14,  4,  2,  8],\n",
       "       [15,  3,  8, 10,  3]])"
      ]
     },
     "execution_count": 37,
     "metadata": {},
     "output_type": "execute_result"
    }
   ],
   "source": [
    "array=np.random.randint(1,21,size=(5,5))\n",
    "array"
   ]
  },
  {
   "cell_type": "code",
   "execution_count": 39,
   "id": "c48f0d86",
   "metadata": {},
   "outputs": [
    {
     "data": {
      "text/plain": [
       "(1, 19)"
      ]
     },
     "execution_count": 39,
     "metadata": {},
     "output_type": "execute_result"
    }
   ],
   "source": [
    "array.min(),array.max()"
   ]
  },
  {
   "cell_type": "code",
   "execution_count": 41,
   "id": "13a9d652",
   "metadata": {},
   "outputs": [
    {
     "data": {
      "text/plain": [
       "array([[False, False, False, False, False],\n",
       "       [ True, False, False, False, False],\n",
       "       [ True, False, False, False, False],\n",
       "       [False, False, False, False, False],\n",
       "       [False, False, False, False, False]])"
      ]
     },
     "execution_count": 41,
     "metadata": {},
     "output_type": "execute_result"
    }
   ],
   "source": [
    "min_idx=array==array.min()\n",
    "min_idx"
   ]
  },
  {
   "cell_type": "code",
   "execution_count": 42,
   "id": "9be28d98",
   "metadata": {},
   "outputs": [
    {
     "data": {
      "text/plain": [
       "array([[False, False, False, False, False],\n",
       "       [False, False, False, False, False],\n",
       "       [False, False, False, False, False],\n",
       "       [ True, False, False, False, False],\n",
       "       [False, False, False, False, False]])"
      ]
     },
     "execution_count": 42,
     "metadata": {},
     "output_type": "execute_result"
    }
   ],
   "source": [
    "max_idx=array==array.max()\n",
    "max_idx"
   ]
  },
  {
   "cell_type": "code",
   "execution_count": 43,
   "id": "cb9919a8",
   "metadata": {},
   "outputs": [],
   "source": [
    "result=array.astype('str')"
   ]
  },
  {
   "cell_type": "code",
   "execution_count": 45,
   "id": "e1762fc8",
   "metadata": {},
   "outputs": [],
   "source": [
    "result[min_idx]='MIN'\n",
    "result[max_idx]='MAX'"
   ]
  },
  {
   "cell_type": "code",
   "execution_count": 46,
   "id": "dd3837a8",
   "metadata": {},
   "outputs": [
    {
     "data": {
      "text/plain": [
       "array([['13', '2', '11', '7', '7'],\n",
       "       ['MIN', '18', '16', '5', '15'],\n",
       "       ['MIN', '2', '15', '12', '6'],\n",
       "       ['MAX', '14', '4', '2', '8'],\n",
       "       ['15', '3', '8', '10', '3']], dtype='<U11')"
      ]
     },
     "execution_count": 46,
     "metadata": {},
     "output_type": "execute_result"
    }
   ],
   "source": [
    "result"
   ]
  }
 ],
 "metadata": {
  "kernelspec": {
   "display_name": "Python 3 (ipykernel)",
   "language": "python",
   "name": "python3"
  },
  "language_info": {
   "codemirror_mode": {
    "name": "ipython",
    "version": 3
   },
   "file_extension": ".py",
   "mimetype": "text/x-python",
   "name": "python",
   "nbconvert_exporter": "python",
   "pygments_lexer": "ipython3",
   "version": "3.9.13"
  }
 },
 "nbformat": 4,
 "nbformat_minor": 5
}
