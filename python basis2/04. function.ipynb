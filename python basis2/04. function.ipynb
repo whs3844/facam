{
 "cells": [
  {
   "cell_type": "markdown",
   "id": "3057511c",
   "metadata": {},
   "source": [
    "### 함수\n",
    "- 반복되는 코드를 묶음으로 효율적인 코드를 작성하도록 해주는 기능\n",
    "- 기본 함수\n",
    "- 파라미터와 아규먼트\n",
    "- 리턴\n",
    "- `*args`, `**kwargs`\n",
    "- docstring\n",
    "- scope\n",
    "- inner function\n",
    "- Lambda function\n",
    "- Map, Filter, Reduce\n",
    "- Decorator"
   ]
  },
  {
   "cell_type": "markdown",
   "id": "01fda6d8",
   "metadata": {},
   "source": [
    "### 1. 기본 함수\n",
    "- 함수의 선언과 호출"
   ]
  },
  {
   "cell_type": "code",
   "execution_count": 1,
   "id": "ab0374d0",
   "metadata": {},
   "outputs": [
    {
     "name": "stdout",
     "output_type": "stream",
     "text": [
      "B\n"
     ]
    }
   ],
   "source": [
    "point=88\n",
    "\n",
    "if point>=90:\n",
    "    print('A')\n",
    "elif point>=80:\n",
    "    print('B')\n",
    "else:\n",
    "    print('C')"
   ]
  },
  {
   "cell_type": "code",
   "execution_count": 3,
   "id": "112c265f",
   "metadata": {},
   "outputs": [],
   "source": [
    "# 함수 선언\n",
    "def grade(point):\n",
    "    if point>=90:\n",
    "        print('A')\n",
    "    elif point>=80:\n",
    "        print('B')\n",
    "    else:\n",
    "        print('C')"
   ]
  },
  {
   "cell_type": "code",
   "execution_count": 4,
   "id": "655399cd",
   "metadata": {},
   "outputs": [
    {
     "name": "stdout",
     "output_type": "stream",
     "text": [
      "B\n"
     ]
    }
   ],
   "source": [
    "# 함수 호출\n",
    "grade(88)"
   ]
  },
  {
   "cell_type": "markdown",
   "id": "67011081",
   "metadata": {},
   "source": [
    "### 2.파라미터와 아규먼트\n",
    "- 파라미터 : 함수를 선언할 때 호출하는 부분에서 보내주는 데이터를 받는 변수\n",
    "- 아규먼트 : 함수를 호출할 때 함수에 보내주는 데이터"
   ]
  },
  {
   "cell_type": "code",
   "execution_count": 11,
   "id": "96aaede0",
   "metadata": {},
   "outputs": [],
   "source": [
    "def plus(num1, num2=10, num3=20): # 파라미터\n",
    "    print(num1+num2)"
   ]
  },
  {
   "cell_type": "code",
   "execution_count": 12,
   "id": "bf748365",
   "metadata": {},
   "outputs": [
    {
     "name": "stdout",
     "output_type": "stream",
     "text": [
      "3\n"
     ]
    }
   ],
   "source": [
    "plus(1,2) # 아규먼트"
   ]
  },
  {
   "cell_type": "code",
   "execution_count": 13,
   "id": "11085cf3",
   "metadata": {},
   "outputs": [
    {
     "name": "stdout",
     "output_type": "stream",
     "text": [
      "13\n"
     ]
    }
   ],
   "source": [
    "plus(3)"
   ]
  },
  {
   "cell_type": "code",
   "execution_count": 14,
   "id": "b05c521d",
   "metadata": {},
   "outputs": [
    {
     "name": "stdout",
     "output_type": "stream",
     "text": [
      "13\n"
     ]
    }
   ],
   "source": [
    "plus(3,num3=100)"
   ]
  },
  {
   "cell_type": "markdown",
   "id": "1efdb514",
   "metadata": {},
   "source": [
    "### 3. 리턴\n",
    "- 함수를 실행한 결과를 저장하고 싶을 때 사용\n",
    "- return"
   ]
  },
  {
   "cell_type": "code",
   "execution_count": 15,
   "id": "23ad8f21",
   "metadata": {},
   "outputs": [],
   "source": [
    "def plus(num1, num2):\n",
    "    print(num1+num2)"
   ]
  },
  {
   "cell_type": "code",
   "execution_count": 16,
   "id": "30115682",
   "metadata": {},
   "outputs": [
    {
     "name": "stdout",
     "output_type": "stream",
     "text": [
      "3\n",
      "None\n"
     ]
    }
   ],
   "source": [
    "result=plus(1,2)\n",
    "print(result)"
   ]
  },
  {
   "cell_type": "code",
   "execution_count": 17,
   "id": "ee324fa8",
   "metadata": {},
   "outputs": [],
   "source": [
    "def plus2(num1,num2):\n",
    "    return num1+num2"
   ]
  },
  {
   "cell_type": "code",
   "execution_count": 19,
   "id": "869b7785",
   "metadata": {},
   "outputs": [
    {
     "name": "stdout",
     "output_type": "stream",
     "text": [
      "3\n"
     ]
    }
   ],
   "source": [
    "result=plus2(1,2)\n",
    "print(result)"
   ]
  },
  {
   "cell_type": "code",
   "execution_count": 20,
   "id": "e0c614e3",
   "metadata": {},
   "outputs": [
    {
     "name": "stdout",
     "output_type": "stream",
     "text": [
      "PYTHON\n"
     ]
    }
   ],
   "source": [
    "data1='python'\n",
    "result=data1.upper()\n",
    "print(result)"
   ]
  },
  {
   "cell_type": "code",
   "execution_count": 21,
   "id": "6792cf14",
   "metadata": {},
   "outputs": [
    {
     "name": "stdout",
     "output_type": "stream",
     "text": [
      "None\n"
     ]
    }
   ],
   "source": [
    "data2=[3,1,2]\n",
    "result=data2.sort()\n",
    "print(result)"
   ]
  },
  {
   "cell_type": "code",
   "execution_count": 24,
   "id": "54fd4a78",
   "metadata": {},
   "outputs": [],
   "source": [
    "# 함수에서 return 코드가 실행되면 무조건 함수의 코드 실행이 종료\n",
    "def echo(msg):\n",
    "    if msg=='quit':\n",
    "        return\n",
    "    print(msg)"
   ]
  },
  {
   "cell_type": "code",
   "execution_count": 25,
   "id": "da35812c",
   "metadata": {},
   "outputs": [
    {
     "name": "stdout",
     "output_type": "stream",
     "text": [
      "python\n"
     ]
    }
   ],
   "source": [
    "echo('python')"
   ]
  },
  {
   "cell_type": "code",
   "execution_count": 26,
   "id": "039a8bee",
   "metadata": {},
   "outputs": [],
   "source": [
    "echo('quit')"
   ]
  },
  {
   "cell_type": "markdown",
   "id": "6f613c2e",
   "metadata": {},
   "source": [
    "### 4. `*args`, `**kwargs`\n",
    "- 함수를 호출할 때 아규먼트와 키워드 아규먼트의 갯수를 특정지을 수 없을 때 사용"
   ]
  },
  {
   "cell_type": "code",
   "execution_count": 27,
   "id": "c90ce2a9",
   "metadata": {},
   "outputs": [],
   "source": [
    "def plus(num1, num2):\n",
    "    return num1+num2"
   ]
  },
  {
   "cell_type": "code",
   "execution_count": 28,
   "id": "f99698c2",
   "metadata": {},
   "outputs": [
    {
     "data": {
      "text/plain": [
       "3"
      ]
     },
     "execution_count": 28,
     "metadata": {},
     "output_type": "execute_result"
    }
   ],
   "source": [
    "plus(1,2)"
   ]
  },
  {
   "cell_type": "code",
   "execution_count": 29,
   "id": "37bcffa0",
   "metadata": {},
   "outputs": [],
   "source": [
    "def plus2(*args):\n",
    "    print(type(args), args)\n",
    "    return sum(args)"
   ]
  },
  {
   "cell_type": "code",
   "execution_count": 31,
   "id": "ec0300f3",
   "metadata": {},
   "outputs": [
    {
     "name": "stdout",
     "output_type": "stream",
     "text": [
      "<class 'tuple'> (1, 2, 3, 4, 5)\n"
     ]
    },
    {
     "data": {
      "text/plain": [
       "15"
      ]
     },
     "execution_count": 31,
     "metadata": {},
     "output_type": "execute_result"
    }
   ],
   "source": [
    "plus2(1,2,3,4,5)"
   ]
  },
  {
   "cell_type": "code",
   "execution_count": 32,
   "id": "aa9b446e",
   "metadata": {},
   "outputs": [],
   "source": [
    "def plus3(*args,**kwargs):\n",
    "    print(type(args), args)\n",
    "    print(type(kwargs), kwargs)\n",
    "    return sum(args)"
   ]
  },
  {
   "cell_type": "code",
   "execution_count": 33,
   "id": "05b33979",
   "metadata": {},
   "outputs": [
    {
     "name": "stdout",
     "output_type": "stream",
     "text": [
      "<class 'tuple'> (1, 2, 3, 4, 5)\n",
      "<class 'dict'> {'num1': 7, 'num2': 10}\n"
     ]
    },
    {
     "data": {
      "text/plain": [
       "15"
      ]
     },
     "execution_count": 33,
     "metadata": {},
     "output_type": "execute_result"
    }
   ],
   "source": [
    "plus3(1,2,3,4,5,num1=7,num2=10)"
   ]
  },
  {
   "cell_type": "code",
   "execution_count": 37,
   "id": "6b56f005",
   "metadata": {},
   "outputs": [
    {
     "data": {
      "text/plain": [
       "6"
      ]
     },
     "execution_count": 37,
     "metadata": {},
     "output_type": "execute_result"
    }
   ],
   "source": [
    "def func(num1,num2=10,num3=20):\n",
    "    return num1+num2+num3\n",
    "\n",
    "data=[1,2,3]\n",
    "func(*data) # func(1,2,3)"
   ]
  },
  {
   "cell_type": "code",
   "execution_count": 36,
   "id": "c2b365b6",
   "metadata": {},
   "outputs": [
    {
     "data": {
      "text/plain": [
       "301"
      ]
     },
     "execution_count": 36,
     "metadata": {},
     "output_type": "execute_result"
    }
   ],
   "source": [
    "data={'num2':100,'num3':200}\n",
    "func(1,**data)# func(1,num2=100,num3=200)"
   ]
  },
  {
   "cell_type": "markdown",
   "id": "94e0a2bd",
   "metadata": {},
   "source": [
    "### 5.docstring\n",
    "- 함수의 설명을 작성"
   ]
  },
  {
   "cell_type": "code",
   "execution_count": 2,
   "id": "fa356140",
   "metadata": {},
   "outputs": [],
   "source": [
    "def echo(msg):\n",
    "    'echo print masg'\n",
    "    print(msg)"
   ]
  },
  {
   "cell_type": "code",
   "execution_count": null,
   "id": "9619dcf3",
   "metadata": {},
   "outputs": [],
   "source": [
    "echo"
   ]
  },
  {
   "cell_type": "code",
   "execution_count": 3,
   "id": "cb86c81d",
   "metadata": {},
   "outputs": [],
   "source": [
    "def echo(msg):\n",
    "    '''\n",
    "    echo return its input argument\n",
    "    The operation is:\n",
    "        1. print msg parameter\n",
    "        2. return msg parameter\n",
    "    param : msg : str\n",
    "    return : str\n",
    "    '''\n",
    "    print(msg)\n",
    "    return msg"
   ]
  },
  {
   "cell_type": "code",
   "execution_count": null,
   "id": "cb357319",
   "metadata": {},
   "outputs": [],
   "source": [
    "echo # shift+tab"
   ]
  },
  {
   "cell_type": "code",
   "execution_count": 4,
   "id": "d76ceb77",
   "metadata": {},
   "outputs": [],
   "source": [
    "echo?"
   ]
  },
  {
   "cell_type": "code",
   "execution_count": 5,
   "id": "80fefd13",
   "metadata": {},
   "outputs": [],
   "source": [
    "echo??"
   ]
  },
  {
   "cell_type": "code",
   "execution_count": 6,
   "id": "0ed14016",
   "metadata": {},
   "outputs": [
    {
     "name": "stdout",
     "output_type": "stream",
     "text": [
      "Help on function echo in module __main__:\n",
      "\n",
      "echo(msg)\n",
      "    echo return its input argument\n",
      "    The operation is:\n",
      "        1. print msg parameter\n",
      "        2. return msg parameter\n",
      "    param : msg : str\n",
      "    return : str\n",
      "\n"
     ]
    }
   ],
   "source": [
    "help(echo)"
   ]
  },
  {
   "cell_type": "code",
   "execution_count": 7,
   "id": "ee19fa7f",
   "metadata": {},
   "outputs": [
    {
     "name": "stdout",
     "output_type": "stream",
     "text": [
      "\n",
      "    echo return its input argument\n",
      "    The operation is:\n",
      "        1. print msg parameter\n",
      "        2. return msg parameter\n",
      "    param : msg : str\n",
      "    return : str\n",
      "    \n"
     ]
    }
   ],
   "source": [
    "print(echo.__doc__)"
   ]
  },
  {
   "cell_type": "markdown",
   "id": "fa8d4be2",
   "metadata": {},
   "source": [
    "### 6. scope(범위)\n",
    "- 함수 안에서 선언되는 변수와 함수 밖에서 선언되는 변수의 범위가 다름\n",
    "- global(전역), local(지역)"
   ]
  },
  {
   "cell_type": "code",
   "execution_count": 1,
   "id": "27bce5c7",
   "metadata": {},
   "outputs": [
    {
     "name": "stdout",
     "output_type": "stream",
     "text": [
      "10\n"
     ]
    }
   ],
   "source": [
    "# global\n",
    "\n",
    "gv=10\n",
    "\n",
    "def echo():\n",
    "    print(gv)\n",
    "    \n",
    "echo()"
   ]
  },
  {
   "cell_type": "code",
   "execution_count": 2,
   "id": "fbcad3ac",
   "metadata": {},
   "outputs": [
    {
     "name": "stdout",
     "output_type": "stream",
     "text": [
      "100\n"
     ]
    }
   ],
   "source": [
    "# local\n",
    "gv=10\n",
    "\n",
    "def echo():\n",
    "    gv=100\n",
    "    print(gv)\n",
    "    \n",
    "echo()"
   ]
  },
  {
   "cell_type": "code",
   "execution_count": 4,
   "id": "8dd27698",
   "metadata": {},
   "outputs": [
    {
     "name": "stdout",
     "output_type": "stream",
     "text": [
      "100\n"
     ]
    },
    {
     "data": {
      "text/plain": [
       "100"
      ]
     },
     "execution_count": 4,
     "metadata": {},
     "output_type": "execute_result"
    }
   ],
   "source": [
    "gv=10\n",
    "\n",
    "def echo():\n",
    "    global gv \n",
    "    gv=100\n",
    "    print(gv)\n",
    "    \n",
    "echo()\n",
    "gv"
   ]
  },
  {
   "cell_type": "markdown",
   "id": "5ef08b37",
   "metadata": {},
   "source": [
    "### 7. inner function\n",
    "- 함수가 지역영역에 선언, 함수 안에 함수가 선언"
   ]
  },
  {
   "cell_type": "code",
   "execution_count": 5,
   "id": "65f6b6db",
   "metadata": {},
   "outputs": [],
   "source": [
    "def outer(a,b):\n",
    "    \n",
    "    def inner(c,d):\n",
    "        return c+d\n",
    "    \n",
    "    return inner(a,b)"
   ]
  },
  {
   "cell_type": "code",
   "execution_count": 6,
   "id": "1ddc3d1a",
   "metadata": {},
   "outputs": [
    {
     "data": {
      "text/plain": [
       "3"
      ]
     },
     "execution_count": 6,
     "metadata": {},
     "output_type": "execute_result"
    }
   ],
   "source": [
    "outer(1,2)"
   ]
  },
  {
   "cell_type": "code",
   "execution_count": 7,
   "id": "e73de85d",
   "metadata": {},
   "outputs": [
    {
     "ename": "NameError",
     "evalue": "name 'inner' is not defined",
     "output_type": "error",
     "traceback": [
      "\u001b[1;31m---------------------------------------------------------------------------\u001b[0m",
      "\u001b[1;31mNameError\u001b[0m                                 Traceback (most recent call last)",
      "\u001b[1;32m~\\AppData\\Local\\Temp\\ipykernel_19804\\1577367326.py\u001b[0m in \u001b[0;36m<module>\u001b[1;34m\u001b[0m\n\u001b[0;32m      1\u001b[0m \u001b[1;31m#지역함수는 전역영역에서 사용 불가\u001b[0m\u001b[1;33m\u001b[0m\u001b[1;33m\u001b[0m\u001b[0m\n\u001b[1;32m----> 2\u001b[1;33m \u001b[0minner\u001b[0m\u001b[1;33m(\u001b[0m\u001b[1;36m1\u001b[0m\u001b[1;33m,\u001b[0m\u001b[1;36m2\u001b[0m\u001b[1;33m)\u001b[0m\u001b[1;33m\u001b[0m\u001b[1;33m\u001b[0m\u001b[0m\n\u001b[0m",
      "\u001b[1;31mNameError\u001b[0m: name 'inner' is not defined"
     ]
    }
   ],
   "source": [
    "#지역함수는 전역영역에서 사용 불가\n",
    "inner(1,2)"
   ]
  },
  {
   "cell_type": "code",
   "execution_count": 8,
   "id": "b65e3e1d",
   "metadata": {},
   "outputs": [],
   "source": [
    "def outer(a,b):\n",
    "    \n",
    "    def inner(c,d):\n",
    "        return c+d\n",
    "    \n",
    "    return inner"
   ]
  },
  {
   "cell_type": "code",
   "execution_count": 10,
   "id": "6c6158a5",
   "metadata": {},
   "outputs": [
    {
     "data": {
      "text/plain": [
       "7"
      ]
     },
     "execution_count": 10,
     "metadata": {},
     "output_type": "execute_result"
    }
   ],
   "source": [
    "outer(1,2)(3,4) #inner(3,4)"
   ]
  },
  {
   "cell_type": "code",
   "execution_count": 12,
   "id": "5d064f2e",
   "metadata": {},
   "outputs": [],
   "source": [
    "# callback function : 함수를 아규먼트 파라미터로 설정해서 사용"
   ]
  },
  {
   "cell_type": "code",
   "execution_count": 13,
   "id": "24f45691",
   "metadata": {},
   "outputs": [],
   "source": [
    "def calc(func,a,b):\n",
    "    return func(a,b)"
   ]
  },
  {
   "cell_type": "code",
   "execution_count": 14,
   "id": "b185bf97",
   "metadata": {},
   "outputs": [],
   "source": [
    "def plus(a,b):\n",
    "    return a+b\n",
    "\n",
    "def minus(a,b):\n",
    "    return a-b"
   ]
  },
  {
   "cell_type": "code",
   "execution_count": 15,
   "id": "d9411304",
   "metadata": {},
   "outputs": [
    {
     "data": {
      "text/plain": [
       "3"
      ]
     },
     "execution_count": 15,
     "metadata": {},
     "output_type": "execute_result"
    }
   ],
   "source": [
    "calc(plus,1,2) #덧셈"
   ]
  },
  {
   "cell_type": "code",
   "execution_count": 16,
   "id": "8bad1953",
   "metadata": {},
   "outputs": [
    {
     "data": {
      "text/plain": [
       "-1"
      ]
     },
     "execution_count": 16,
     "metadata": {},
     "output_type": "execute_result"
    }
   ],
   "source": [
    "calc(minus,1,2) #뺄셈"
   ]
  },
  {
   "cell_type": "markdown",
   "id": "c7f8425a",
   "metadata": {},
   "source": [
    "### 9. 람다 함수\n",
    "- 파라미터를 간단한 계산으로 리턴되는 함수 : 삼항연산"
   ]
  },
  {
   "cell_type": "code",
   "execution_count": 19,
   "id": "54e47760",
   "metadata": {},
   "outputs": [],
   "source": [
    "def plus(a,b):\n",
    "    return a+b"
   ]
  },
  {
   "cell_type": "code",
   "execution_count": 20,
   "id": "3524db9f",
   "metadata": {},
   "outputs": [
    {
     "data": {
      "text/plain": [
       "3"
      ]
     },
     "execution_count": 20,
     "metadata": {},
     "output_type": "execute_result"
    }
   ],
   "source": [
    "plus(1,2)"
   ]
  },
  {
   "cell_type": "code",
   "execution_count": 22,
   "id": "0c8034fb",
   "metadata": {},
   "outputs": [],
   "source": [
    "plus2=lambda a,b : a+b "
   ]
  },
  {
   "cell_type": "code",
   "execution_count": 23,
   "id": "4dfd0f1f",
   "metadata": {},
   "outputs": [
    {
     "data": {
      "text/plain": [
       "3"
      ]
     },
     "execution_count": 23,
     "metadata": {},
     "output_type": "execute_result"
    }
   ],
   "source": [
    "plus2(1,2)"
   ]
  },
  {
   "cell_type": "markdown",
   "id": "dfc81d7d",
   "metadata": {},
   "source": [
    "### 10. map, filter, reduce\n",
    "- map : 순서가 있는 데이터 집합에서 모든 값에 함수를 적용시킨 결과를 출력"
   ]
  },
  {
   "cell_type": "code",
   "execution_count": 24,
   "id": "e0961735",
   "metadata": {},
   "outputs": [
    {
     "data": {
      "text/plain": [
       "('odd', 'even')"
      ]
     },
     "execution_count": 24,
     "metadata": {},
     "output_type": "execute_result"
    }
   ],
   "source": [
    "ls=[1,2,3,4]\n",
    "\n",
    "def odd_even(num):\n",
    "    return 'odd' if num%2 else 'even'\n",
    "\n",
    "odd_even(3), odd_even(4)"
   ]
  },
  {
   "cell_type": "code",
   "execution_count": 25,
   "id": "f43532bb",
   "metadata": {},
   "outputs": [
    {
     "data": {
      "text/plain": [
       "['odd', 'even', 'odd', 'even']"
      ]
     },
     "execution_count": 25,
     "metadata": {},
     "output_type": "execute_result"
    }
   ],
   "source": [
    "list(map(odd_even,ls))"
   ]
  },
  {
   "cell_type": "code",
   "execution_count": null,
   "id": "07e87b59",
   "metadata": {},
   "outputs": [],
   "source": [
    "# input 함수로 구분자는 \" \"으로 여러개의 숫자를 입력 받고\n",
    "# str.split(\" \") 리스트로 만들고\n",
    "# 만들어진 리스트의 값들을 int형 변환"
   ]
  },
  {
   "cell_type": "code",
   "execution_count": 27,
   "id": "b7f249c1",
   "metadata": {},
   "outputs": [
    {
     "name": "stdout",
     "output_type": "stream",
     "text": [
      "insert numbers :10 20 30 40 10 20 15\n"
     ]
    }
   ],
   "source": [
    "datas=input('insert numbers :')"
   ]
  },
  {
   "cell_type": "code",
   "execution_count": 28,
   "id": "d595289c",
   "metadata": {},
   "outputs": [
    {
     "data": {
      "text/plain": [
       "['10', '20', '30', '40', '10', '20', '15']"
      ]
     },
     "execution_count": 28,
     "metadata": {},
     "output_type": "execute_result"
    }
   ],
   "source": [
    "result=datas.split(\" \")\n",
    "result"
   ]
  },
  {
   "cell_type": "code",
   "execution_count": 29,
   "id": "2b61edd5",
   "metadata": {},
   "outputs": [
    {
     "data": {
      "text/plain": [
       "[10, 20, 30, 40, 10, 20, 15]"
      ]
     },
     "execution_count": 29,
     "metadata": {},
     "output_type": "execute_result"
    }
   ],
   "source": [
    "result=list(map(int,result))\n",
    "result"
   ]
  },
  {
   "cell_type": "markdown",
   "id": "c4c8a61b",
   "metadata": {},
   "source": [
    "### filter\n",
    "- 리스트 데이터에서 특정 조건에 맞는 value만 남기는 함수"
   ]
  },
  {
   "cell_type": "code",
   "execution_count": 31,
   "id": "ecf56480",
   "metadata": {},
   "outputs": [],
   "source": [
    "ls=range(10)"
   ]
  },
  {
   "cell_type": "code",
   "execution_count": 32,
   "id": "65e8a378",
   "metadata": {},
   "outputs": [
    {
     "data": {
      "text/plain": [
       "[1, 3, 5, 7, 9]"
      ]
     },
     "execution_count": 32,
     "metadata": {},
     "output_type": "execute_result"
    }
   ],
   "source": [
    "# 홀수만 출력\n",
    "list(filter(lambda data: True if data%2 else False,ls))"
   ]
  },
  {
   "cell_type": "markdown",
   "id": "afa9e8b6",
   "metadata": {},
   "source": [
    "### reduce\n",
    "- 리스트 데이터를 처음부터 순서대로 특정 함수를 실행하여 결과를 누적시켜 주는 함수"
   ]
  },
  {
   "cell_type": "code",
   "execution_count": 33,
   "id": "a1eb9bf1",
   "metadata": {},
   "outputs": [],
   "source": [
    "from functools import reduce"
   ]
  },
  {
   "cell_type": "code",
   "execution_count": 34,
   "id": "8b5b3c70",
   "metadata": {},
   "outputs": [
    {
     "data": {
      "text/plain": [
       "15"
      ]
     },
     "execution_count": 34,
     "metadata": {},
     "output_type": "execute_result"
    }
   ],
   "source": [
    "ls=[3,1,2,4,5]\n",
    "reduce(lambda x,y:x+y,ls)"
   ]
  },
  {
   "cell_type": "markdown",
   "id": "d1b29b24",
   "metadata": {},
   "source": [
    "### 11. Decorator\n",
    "- 함수에서 코드를 바꾸지 않고 기능을 추가하거나 수정하고 싶을때 사용하는 문법\n",
    "```\n",
    "def a():\n",
    "    code_1\n",
    "    code_2\n",
    "    code_3\n",
    "def b():\n",
    "    code_1\n",
    "    code_4\n",
    "    code_3\n",
    "    \n",
    "``` \n"
   ]
  },
  {
   "cell_type": "markdown",
   "id": "4e81c44b",
   "metadata": {},
   "source": [
    "- 데코레이터의 사용\n",
    "```\n",
    "def c(func):\n",
    "    def wrapper(*args,**kwargs):\n",
    "        code_1\n",
    "        result=func(*args,**kwargs)\n",
    "        code_3\n",
    "        return result\n",
    "        \n",
    "    return wrapper\n",
    "@c\n",
    "def a():\n",
    "    code_2\n",
    "@c    \n",
    "def b():\n",
    "    code_4\n",
    "```"
   ]
  },
  {
   "cell_type": "code",
   "execution_count": 37,
   "id": "54c123ca",
   "metadata": {},
   "outputs": [],
   "source": [
    "# a\n",
    "def plus(a,b):\n",
    "    print('start') # code1\n",
    "    result= a+b    #code2\n",
    "    print('result : {}'.format(result)) #code3\n",
    "    return result"
   ]
  },
  {
   "cell_type": "code",
   "execution_count": 38,
   "id": "2eb364b3",
   "metadata": {},
   "outputs": [],
   "source": [
    "# b\n",
    "def minus(a,b):\n",
    "    print('start') # code1\n",
    "    result= a-b    #code4\n",
    "    print('result : {}'.format(result)) #code3\n",
    "    return result"
   ]
  },
  {
   "cell_type": "code",
   "execution_count": 39,
   "id": "d9a9b9e6",
   "metadata": {},
   "outputs": [],
   "source": [
    "# c\n",
    "def disp(func):\n",
    "    def wrapper(*args,**kwargs):\n",
    "        print('start')\n",
    "        result=func(*args,**kwargs)\n",
    "        print('result : {}'.format(result))\n",
    "        \n",
    "        return result\n",
    "    return wrapper    "
   ]
  },
  {
   "cell_type": "code",
   "execution_count": 40,
   "id": "ad4eb48f",
   "metadata": {},
   "outputs": [],
   "source": [
    "@disp\n",
    "def plus(a,b):\n",
    "    result= a+b    #code2\n",
    "    return result"
   ]
  },
  {
   "cell_type": "code",
   "execution_count": 41,
   "id": "be3772d5",
   "metadata": {},
   "outputs": [
    {
     "name": "stdout",
     "output_type": "stream",
     "text": [
      "start\n",
      "result : 3\n"
     ]
    },
    {
     "data": {
      "text/plain": [
       "3"
      ]
     },
     "execution_count": 41,
     "metadata": {},
     "output_type": "execute_result"
    }
   ],
   "source": [
    "plus(1,2)"
   ]
  },
  {
   "cell_type": "code",
   "execution_count": 42,
   "id": "bb19a188",
   "metadata": {},
   "outputs": [],
   "source": [
    "# 함수의 실행 시간을 출력하는 데코레이터 함수"
   ]
  },
  {
   "cell_type": "code",
   "execution_count": 43,
   "id": "97a15c87",
   "metadata": {},
   "outputs": [],
   "source": [
    "import time"
   ]
  },
  {
   "cell_type": "code",
   "execution_count": 45,
   "id": "4b9c48f4",
   "metadata": {},
   "outputs": [],
   "source": [
    "def timer(func):\n",
    "    def wrapper(*args,**kwargs):\n",
    "        start_time=time.time()\n",
    "        result=func(*args,**kwargs)\n",
    "        end_time=time.time()\n",
    "        print('running time : {}'.format(end_time-start_time))\n",
    "        return result\n",
    "        \n",
    "    return wrapper"
   ]
  },
  {
   "cell_type": "code",
   "execution_count": 44,
   "id": "c3ea542e",
   "metadata": {},
   "outputs": [],
   "source": [
    "def test1(num1,num2):\n",
    "    data=range(num1,num2+1)\n",
    "    return sum(data)\n",
    "\n",
    "def test2(num1,num2):\n",
    "    result=0\n",
    "    for num in range(num1,num2+1):\n",
    "        result+=num\n",
    "    return result "
   ]
  },
  {
   "cell_type": "code",
   "execution_count": 47,
   "id": "b781900f",
   "metadata": {},
   "outputs": [
    {
     "data": {
      "text/plain": [
       "5000050000"
      ]
     },
     "execution_count": 47,
     "metadata": {},
     "output_type": "execute_result"
    }
   ],
   "source": [
    "test1(1,100000)"
   ]
  },
  {
   "cell_type": "code",
   "execution_count": 48,
   "id": "4b902f6e",
   "metadata": {},
   "outputs": [
    {
     "data": {
      "text/plain": [
       "5000050000"
      ]
     },
     "execution_count": 48,
     "metadata": {},
     "output_type": "execute_result"
    }
   ],
   "source": [
    "test2(1,100000)"
   ]
  },
  {
   "cell_type": "code",
   "execution_count": 49,
   "id": "914439b5",
   "metadata": {},
   "outputs": [],
   "source": [
    "@timer\n",
    "def test1(num1,num2):\n",
    "    data=range(num1,num2+1)\n",
    "    return sum(data)\n",
    "\n",
    "@timer\n",
    "def test2(num1,num2):\n",
    "    result=0\n",
    "    for num in range(num1,num2+1):\n",
    "        result+=num\n",
    "    return result "
   ]
  },
  {
   "cell_type": "code",
   "execution_count": 50,
   "id": "eea20134",
   "metadata": {},
   "outputs": [
    {
     "name": "stdout",
     "output_type": "stream",
     "text": [
      "running time : 0.002711772918701172\n"
     ]
    },
    {
     "data": {
      "text/plain": [
       "5000050000"
      ]
     },
     "execution_count": 50,
     "metadata": {},
     "output_type": "execute_result"
    }
   ],
   "source": [
    "test1(1,100000)"
   ]
  },
  {
   "cell_type": "code",
   "execution_count": 51,
   "id": "086ef5b3",
   "metadata": {},
   "outputs": [
    {
     "name": "stdout",
     "output_type": "stream",
     "text": [
      "running time : 0.014992952346801758\n"
     ]
    },
    {
     "data": {
      "text/plain": [
       "5000050000"
      ]
     },
     "execution_count": 51,
     "metadata": {},
     "output_type": "execute_result"
    }
   ],
   "source": [
    "test2(1,100000)"
   ]
  },
  {
   "cell_type": "code",
   "execution_count": 52,
   "id": "1a0dd1c1",
   "metadata": {},
   "outputs": [],
   "source": [
    "# 패스워드를 입력 받아야 함수가 실행되도록 하는 데코레이터 함수"
   ]
  },
  {
   "cell_type": "code",
   "execution_count": 58,
   "id": "b966efa0",
   "metadata": {},
   "outputs": [],
   "source": [
    "def check_password(func):\n",
    "    def wrapper(*args,**kwargs):\n",
    "        pw='dss11'\n",
    "        #check password\n",
    "        input_pw=input('insert pw : ')\n",
    "        if input_pw==pw:\n",
    "            result=func(*args,**kwargs)\n",
    "        else :\n",
    "            result='not allow'\n",
    "            \n",
    "        return result\n",
    "\n",
    "    return wrapper"
   ]
  },
  {
   "cell_type": "code",
   "execution_count": 57,
   "id": "353f6eff",
   "metadata": {},
   "outputs": [],
   "source": [
    "def plus(a,b):\n",
    "    return a+b"
   ]
  },
  {
   "cell_type": "code",
   "execution_count": 59,
   "id": "609297a5",
   "metadata": {},
   "outputs": [
    {
     "data": {
      "text/plain": [
       "3"
      ]
     },
     "execution_count": 59,
     "metadata": {},
     "output_type": "execute_result"
    }
   ],
   "source": [
    "plus(1,2)"
   ]
  },
  {
   "cell_type": "code",
   "execution_count": 55,
   "id": "49c30afb",
   "metadata": {},
   "outputs": [],
   "source": [
    "import random\n",
    "\n",
    "def lotto_func():\n",
    "    lotto=[]\n",
    "    while True:\n",
    "        number=random.randint(1,45)\n",
    "        \n",
    "        # 숫자를 추가할 때 lotto 리스트에 중복되는 숫자가 없으면 추가\n",
    "        if number not in lotto:\n",
    "            lotto.append(number)\n",
    "        \n",
    "        if len(lotto)>=6:\n",
    "            lotto.sort()\n",
    "            break\n",
    "    return lotto"
   ]
  },
  {
   "cell_type": "code",
   "execution_count": 56,
   "id": "ce040e5c",
   "metadata": {},
   "outputs": [
    {
     "data": {
      "text/plain": [
       "[9, 18, 21, 23, 32, 36]"
      ]
     },
     "execution_count": 56,
     "metadata": {},
     "output_type": "execute_result"
    }
   ],
   "source": [
    "lotto_func()"
   ]
  },
  {
   "cell_type": "code",
   "execution_count": 60,
   "id": "97d31e0d",
   "metadata": {},
   "outputs": [],
   "source": [
    "@check_password\n",
    "def plus(a,b):\n",
    "    return a+b"
   ]
  },
  {
   "cell_type": "code",
   "execution_count": 61,
   "id": "30aa7c07",
   "metadata": {},
   "outputs": [
    {
     "name": "stdout",
     "output_type": "stream",
     "text": [
      "insert pw : dis11\n"
     ]
    },
    {
     "data": {
      "text/plain": [
       "'not allow'"
      ]
     },
     "execution_count": 61,
     "metadata": {},
     "output_type": "execute_result"
    }
   ],
   "source": [
    "plus(1,2)"
   ]
  },
  {
   "cell_type": "code",
   "execution_count": 62,
   "id": "75a46317",
   "metadata": {},
   "outputs": [],
   "source": [
    "@check_password\n",
    "def lotto_func():\n",
    "    lotto=[]\n",
    "    while True:\n",
    "        number=random.randint(1,45)\n",
    "        \n",
    "        # 숫자를 추가할 때 lotto 리스트에 중복되는 숫자가 없으면 추가\n",
    "        if number not in lotto:\n",
    "            lotto.append(number)\n",
    "        \n",
    "        if len(lotto)>=6:\n",
    "            lotto.sort()\n",
    "            break\n",
    "    return lotto"
   ]
  },
  {
   "cell_type": "code",
   "execution_count": 63,
   "id": "1304c819",
   "metadata": {},
   "outputs": [
    {
     "name": "stdout",
     "output_type": "stream",
     "text": [
      "insert pw : dss11\n"
     ]
    },
    {
     "data": {
      "text/plain": [
       "[2, 5, 12, 18, 19, 43]"
      ]
     },
     "execution_count": 63,
     "metadata": {},
     "output_type": "execute_result"
    }
   ],
   "source": [
    "lotto_func()"
   ]
  },
  {
   "cell_type": "markdown",
   "id": "c4392421",
   "metadata": {},
   "source": [
    "### 연습문제"
   ]
  },
  {
   "cell_type": "code",
   "execution_count": 33,
   "id": "43e64306",
   "metadata": {},
   "outputs": [],
   "source": [
    "user_datas=[{'id':'test1','pw':'1234','count':0},{'id':'python','pw':'5678','count':0}]"
   ]
  },
  {
   "cell_type": "code",
   "execution_count": 43,
   "id": "6ee1af6e",
   "metadata": {},
   "outputs": [],
   "source": [
    "#user_data를 입력 받아서 아이디와 패스워드를 체크하는 데코레이터 함수를 코드로 작성\n",
    "# 로그인 될 때마다 count를 1씩 증가\n",
    "\n",
    "def idpw_check(func):\n",
    "    def wrappers(*args,**kwargs):\n",
    "        id=input('id를 입력하시오 : ')\n",
    "        pw=input('password를 입력하시오 : ')\n",
    "        \n",
    "        for i in range(len(user_datas)):\n",
    "            if (id==user_datas[i]['id']) & (pw==user_datas[i]['pw']):\n",
    "                user_datas[i]['count']+=1\n",
    "                return func(*args,**kwargs)\n",
    "        return 'wrong login data'\n",
    "        \n",
    "    return wrappers"
   ]
  },
  {
   "cell_type": "code",
   "execution_count": 44,
   "id": "cb91695a",
   "metadata": {},
   "outputs": [],
   "source": [
    "@idpw_check\n",
    "def plus(a,c):\n",
    "    return a+c"
   ]
  },
  {
   "cell_type": "code",
   "execution_count": 45,
   "id": "f0c39744",
   "metadata": {
    "scrolled": false
   },
   "outputs": [
    {
     "name": "stdout",
     "output_type": "stream",
     "text": [
      "id를 입력하시오 : test1\n",
      "password를 입력하시오 : 1234\n"
     ]
    },
    {
     "data": {
      "text/plain": [
       "3"
      ]
     },
     "execution_count": 45,
     "metadata": {},
     "output_type": "execute_result"
    }
   ],
   "source": [
    "plus(1,2)"
   ]
  },
  {
   "cell_type": "code",
   "execution_count": 46,
   "id": "ab519256",
   "metadata": {},
   "outputs": [
    {
     "data": {
      "text/plain": [
       "[{'id': 'test1', 'pw': '1234', 'count': 2},\n",
       " {'id': 'python', 'pw': '5678', 'count': 0}]"
      ]
     },
     "execution_count": 46,
     "metadata": {},
     "output_type": "execute_result"
    }
   ],
   "source": [
    "user_datas"
   ]
  }
 ],
 "metadata": {
  "kernelspec": {
   "display_name": "Python 3 (ipykernel)",
   "language": "python",
   "name": "python3"
  },
  "language_info": {
   "codemirror_mode": {
    "name": "ipython",
    "version": 3
   },
   "file_extension": ".py",
   "mimetype": "text/x-python",
   "name": "python",
   "nbconvert_exporter": "python",
   "pygments_lexer": "ipython3",
   "version": "3.9.13"
  }
 },
 "nbformat": 4,
 "nbformat_minor": 5
}
