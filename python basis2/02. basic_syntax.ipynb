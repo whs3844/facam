{
 "cells": [
  {
   "cell_type": "markdown",
   "id": "b5e5be71",
   "metadata": {},
   "source": [
    "### 파이썬의 기본 문법\n",
    "- 변수 선언, 식별자, 자료형, 형변환, 연산자 학습"
   ]
  },
  {
   "cell_type": "markdown",
   "id": "4f0e9a10",
   "metadata": {},
   "source": [
    "#### 1. 주석(comment)과 출력(print)"
   ]
  },
  {
   "cell_type": "code",
   "execution_count": 1,
   "id": "f60a57b7",
   "metadata": {},
   "outputs": [
    {
     "name": "stdout",
     "output_type": "stream",
     "text": [
      "1\n",
      "2\n",
      "3\n"
     ]
    }
   ],
   "source": [
    "# 주석 : 앞에 #을 붙이면 코드로 실행이 안됨\n",
    "# 코드에 대한 설명이나 중간에 코드를 실행시키고 싶지 않을때 사용\n",
    "# 단축기 : ctrl+/\n",
    "# 블럭설정 : shift + 방향키\n",
    "\n",
    "print(1)\n",
    "print(2)\n",
    "print(3)"
   ]
  },
  {
   "cell_type": "code",
   "execution_count": 2,
   "id": "e0fd611d",
   "metadata": {},
   "outputs": [
    {
     "name": "stdout",
     "output_type": "stream",
     "text": [
      "1\n",
      "3\n"
     ]
    }
   ],
   "source": [
    "print(1)\n",
    "# print(2)\n",
    "print(3)"
   ]
  },
  {
   "cell_type": "code",
   "execution_count": 3,
   "id": "537f6bcf",
   "metadata": {},
   "outputs": [],
   "source": [
    "# 출력 : print함수\n",
    "# 코드 중간에 변수에 들어있는 값을 확인하고 싶을때 사용"
   ]
  },
  {
   "cell_type": "code",
   "execution_count": 4,
   "id": "7dcb7bb4",
   "metadata": {},
   "outputs": [
    {
     "name": "stdout",
     "output_type": "stream",
     "text": [
      "2\n",
      "4\n"
     ]
    }
   ],
   "source": [
    "a=1\n",
    "b=2\n",
    "print(b)\n",
    "c=3\n",
    "b=4\n",
    "print(b)"
   ]
  },
  {
   "cell_type": "code",
   "execution_count": 5,
   "id": "38e716af",
   "metadata": {},
   "outputs": [
    {
     "name": "stdout",
     "output_type": "stream",
     "text": [
      "1 2\n",
      "3\n"
     ]
    }
   ],
   "source": [
    "# print 함수의 옵션\n",
    "print(1,2)\n",
    "print(3)"
   ]
  },
  {
   "cell_type": "code",
   "execution_count": 6,
   "id": "24d53583",
   "metadata": {},
   "outputs": [
    {
     "name": "stdout",
     "output_type": "stream",
     "text": [
      "1-2\t3\n"
     ]
    }
   ],
   "source": [
    "print(1,2,sep='-',end='\\t')\n",
    "print(3)"
   ]
  },
  {
   "cell_type": "code",
   "execution_count": null,
   "id": "49c05658",
   "metadata": {},
   "outputs": [],
   "source": []
  },
  {
   "cell_type": "markdown",
   "id": "c68c760c",
   "metadata": {},
   "source": [
    "#### 2.변수 선언\n",
    "- RAM 저장공간에 값을 할당하는 행위"
   ]
  },
  {
   "cell_type": "code",
   "execution_count": 8,
   "id": "d2641f0b",
   "metadata": {},
   "outputs": [
    {
     "data": {
      "text/plain": [
       "3"
      ]
     },
     "execution_count": 8,
     "metadata": {},
     "output_type": "execute_result"
    }
   ],
   "source": [
    "a=1\n",
    "b=2\n",
    "c=a+b\n",
    "c"
   ]
  },
  {
   "cell_type": "code",
   "execution_count": 9,
   "id": "887afbe1",
   "metadata": {},
   "outputs": [],
   "source": [
    "d,e = 3,4\n",
    "f=g=5"
   ]
  },
  {
   "cell_type": "markdown",
   "id": "c047989a",
   "metadata": {},
   "source": [
    "#### 3.식별자\n",
    "- 변수, 함수, 클래스, 모듈등의 이름을 식별자 라고 함.\n",
    "- 식별자 규칙\n",
    "    - 소문자, 대문자, 숫자, _를 사용\n",
    "    - 맨 앞에 숫자 사용 불가\n",
    "    - 예약어의 사용 불가 : def, class, try, except,.....\n",
    "    - 컨벤션\n",
    "        - snake case : fast_campus -> 변수, 함수 선언\n",
    "        - camel case : FastCampus -> 클래스 선언"
   ]
  },
  {
   "cell_type": "markdown",
   "id": "f11c536c",
   "metadata": {},
   "source": [
    "#### 4.데이터 타입\n",
    "- RAM 저장공간을 효율적으로 사용하기 위해서 저장공간의 타입을 설정\n",
    "- 동적타이핑\n",
    "    - 변수 선언시 저장되는 값에 따라서 자동으로 데이터 타입이 설정\n",
    "- 기본 데이터 타입 : float, int, bool, st\n",
    "- 컬렉션 데이터 타입 : list, tuple, dict"
   ]
  },
  {
   "cell_type": "code",
   "execution_count": 11,
   "id": "abd50a02",
   "metadata": {},
   "outputs": [
    {
     "data": {
      "text/plain": [
       "(int, str)"
      ]
     },
     "execution_count": 11,
     "metadata": {},
     "output_type": "execute_result"
    }
   ],
   "source": [
    "a=1\n",
    "b='python'\n",
    "type(a),type(b)"
   ]
  },
  {
   "cell_type": "code",
   "execution_count": 12,
   "id": "457a603d",
   "metadata": {},
   "outputs": [
    {
     "data": {
      "text/plain": [
       "(int, float, bool, str)"
      ]
     },
     "execution_count": 12,
     "metadata": {},
     "output_type": "execute_result"
    }
   ],
   "source": [
    "# 기본 데이터 타입 : int, float, bool, str\n",
    "a=1\n",
    "b=1.2\n",
    "c=True # False\n",
    "d='data'\n",
    "type(a), type(b), type(c), type(d)"
   ]
  },
  {
   "cell_type": "code",
   "execution_count": 14,
   "id": "8e51075d",
   "metadata": {},
   "outputs": [],
   "source": [
    "# 데이터 타입에 함수 : 문자열\n",
    "e= d.upper()"
   ]
  },
  {
   "cell_type": "code",
   "execution_count": 15,
   "id": "eebda6f6",
   "metadata": {},
   "outputs": [
    {
     "data": {
      "text/plain": [
       "('data', 'DATA')"
      ]
     },
     "execution_count": 15,
     "metadata": {},
     "output_type": "execute_result"
    }
   ],
   "source": [
    "d,e"
   ]
  },
  {
   "cell_type": "code",
   "execution_count": 18,
   "id": "b5abe854",
   "metadata": {},
   "outputs": [],
   "source": [
    "f=' Fast Campus '"
   ]
  },
  {
   "cell_type": "code",
   "execution_count": 19,
   "id": "973ce664",
   "metadata": {},
   "outputs": [
    {
     "data": {
      "text/plain": [
       "' fast campus '"
      ]
     },
     "execution_count": 19,
     "metadata": {},
     "output_type": "execute_result"
    }
   ],
   "source": [
    "#lower : 소문자로 변환\n",
    "f.lower()"
   ]
  },
  {
   "cell_type": "code",
   "execution_count": 20,
   "id": "8d3dfbe0",
   "metadata": {},
   "outputs": [
    {
     "data": {
      "text/plain": [
       "'Fast Campus'"
      ]
     },
     "execution_count": 20,
     "metadata": {},
     "output_type": "execute_result"
    }
   ],
   "source": [
    "#strip : 공백제거\n",
    "f.strip()"
   ]
  },
  {
   "cell_type": "code",
   "execution_count": 21,
   "id": "63b8daa4",
   "metadata": {},
   "outputs": [
    {
     "data": {
      "text/plain": [
       "'FastCampus'"
      ]
     },
     "execution_count": 21,
     "metadata": {},
     "output_type": "execute_result"
    }
   ],
   "source": [
    "#replace : 특정 문자열 치환\n",
    "f.replace(' ','')"
   ]
  },
  {
   "cell_type": "code",
   "execution_count": 22,
   "id": "cd8b5ac3",
   "metadata": {},
   "outputs": [],
   "source": [
    "# 오프셋 인덱스 : []\n",
    "# 문자열은 순서가 있는 문자들의 집합"
   ]
  },
  {
   "cell_type": "code",
   "execution_count": 23,
   "id": "3dbf1d8d",
   "metadata": {},
   "outputs": [],
   "source": [
    "g='abcdefg'"
   ]
  },
  {
   "cell_type": "code",
   "execution_count": 25,
   "id": "a397b75e",
   "metadata": {},
   "outputs": [
    {
     "data": {
      "text/plain": [
       "('c', 'f')"
      ]
     },
     "execution_count": 25,
     "metadata": {},
     "output_type": "execute_result"
    }
   ],
   "source": [
    "g[2],g[-2]"
   ]
  },
  {
   "cell_type": "code",
   "execution_count": 26,
   "id": "0e53da9f",
   "metadata": {},
   "outputs": [
    {
     "data": {
      "text/plain": [
       "'cde'"
      ]
     },
     "execution_count": 26,
     "metadata": {},
     "output_type": "execute_result"
    }
   ],
   "source": [
    "g[2:5]"
   ]
  },
  {
   "cell_type": "code",
   "execution_count": 27,
   "id": "278bf02d",
   "metadata": {},
   "outputs": [
    {
     "data": {
      "text/plain": [
       "'gfedcba'"
      ]
     },
     "execution_count": 27,
     "metadata": {},
     "output_type": "execute_result"
    }
   ],
   "source": [
    "g[::-1]"
   ]
  },
  {
   "cell_type": "code",
   "execution_count": 35,
   "id": "9f78364f",
   "metadata": {},
   "outputs": [
    {
     "data": {
      "text/plain": [
       "'97531'"
      ]
     },
     "execution_count": 35,
     "metadata": {},
     "output_type": "execute_result"
    }
   ],
   "source": [
    "numbers='123456789' #97531 출력\n",
    "numbers[::2][::-1]"
   ]
  },
  {
   "cell_type": "markdown",
   "id": "9b9b857b",
   "metadata": {},
   "source": [
    "#### 컬렉션 데이터 타입 : list, tuple, dict\n",
    "- list : 순서가 있는 수정이 가능한 데이터 타입\n",
    "- tuple : 순서가 있는 수정이 불가능한 데이터 타입\n",
    "- dict : 순서가 없고 키,값으로 구성되어 있는 데이터 타입"
   ]
  },
  {
   "cell_type": "code",
   "execution_count": 38,
   "id": "54eb9df5",
   "metadata": {},
   "outputs": [
    {
     "data": {
      "text/plain": [
       "(list, [1, 2, 3, 'four', [5, 6], True, 1, 2])"
      ]
     },
     "execution_count": 38,
     "metadata": {},
     "output_type": "execute_result"
    }
   ],
   "source": [
    "# list\n",
    "lst=[1,2,3,'four',[5,6],True,1,2]\n",
    "type(lst),lst"
   ]
  },
  {
   "cell_type": "code",
   "execution_count": 39,
   "id": "d7de5728",
   "metadata": {},
   "outputs": [
    {
     "data": {
      "text/plain": [
       "'four'"
      ]
     },
     "execution_count": 39,
     "metadata": {},
     "output_type": "execute_result"
    }
   ],
   "source": [
    "# offset index 사용가능\n",
    "lst[3]"
   ]
  },
  {
   "cell_type": "code",
   "execution_count": 40,
   "id": "e23e9c33",
   "metadata": {},
   "outputs": [],
   "source": [
    "# list 함수"
   ]
  },
  {
   "cell_type": "code",
   "execution_count": 41,
   "id": "0d70986b",
   "metadata": {},
   "outputs": [],
   "source": [
    "lst=[1,5,2,4]"
   ]
  },
  {
   "cell_type": "code",
   "execution_count": 42,
   "id": "747b024f",
   "metadata": {},
   "outputs": [
    {
     "data": {
      "text/plain": [
       "[1, 5, 2, 4, 3]"
      ]
     },
     "execution_count": 42,
     "metadata": {},
     "output_type": "execute_result"
    }
   ],
   "source": [
    "# append : 맨 뒤에 값을 추가\n",
    "lst.append(3)\n",
    "lst"
   ]
  },
  {
   "cell_type": "code",
   "execution_count": 43,
   "id": "2c7dcc59",
   "metadata": {},
   "outputs": [
    {
     "data": {
      "text/plain": [
       "[1, 2, 3, 4, 5]"
      ]
     },
     "execution_count": 43,
     "metadata": {},
     "output_type": "execute_result"
    }
   ],
   "source": [
    "# sort : 오름차순으로 정렬\n",
    "lst.sort()\n",
    "lst"
   ]
  },
  {
   "cell_type": "code",
   "execution_count": 44,
   "id": "7fe6f078",
   "metadata": {},
   "outputs": [
    {
     "data": {
      "text/plain": [
       "(5, [1, 2, 3, 4])"
      ]
     },
     "execution_count": 44,
     "metadata": {},
     "output_type": "execute_result"
    }
   ],
   "source": [
    "# pop : 가장 마지막 데이터를 출력하고 출력한 데이터를 삭제\n",
    "num=lst.pop()\n",
    "num,lst"
   ]
  },
  {
   "cell_type": "code",
   "execution_count": 45,
   "id": "19707976",
   "metadata": {},
   "outputs": [],
   "source": [
    "# 리스트의 복사"
   ]
  },
  {
   "cell_type": "code",
   "execution_count": 46,
   "id": "1b55b462",
   "metadata": {},
   "outputs": [
    {
     "data": {
      "text/plain": [
       "([1, 2, 3], [1, 2, 3])"
      ]
     },
     "execution_count": 46,
     "metadata": {},
     "output_type": "execute_result"
    }
   ],
   "source": [
    "lst1=[1,2,3]\n",
    "lst2=lst1# 얕은 복사 : 주소값 복사\n",
    "lst1,lst2"
   ]
  },
  {
   "cell_type": "code",
   "execution_count": 47,
   "id": "ef0a34b9",
   "metadata": {},
   "outputs": [
    {
     "data": {
      "text/plain": [
       "([1, 2, 5], [1, 2, 5])"
      ]
     },
     "execution_count": 47,
     "metadata": {},
     "output_type": "execute_result"
    }
   ],
   "source": [
    "lst2[2]=5\n",
    "lst1,lst2"
   ]
  },
  {
   "cell_type": "code",
   "execution_count": 48,
   "id": "a92d488a",
   "metadata": {},
   "outputs": [
    {
     "data": {
      "text/plain": [
       "([1, 2, 5], [1, 2, 5])"
      ]
     },
     "execution_count": 48,
     "metadata": {},
     "output_type": "execute_result"
    }
   ],
   "source": [
    "lst3=lst1.copy()\n",
    "lst1,lst3"
   ]
  },
  {
   "cell_type": "code",
   "execution_count": 49,
   "id": "bea73184",
   "metadata": {},
   "outputs": [
    {
     "data": {
      "text/plain": [
       "([1, 2, 10], [1, 2, 5])"
      ]
     },
     "execution_count": 49,
     "metadata": {},
     "output_type": "execute_result"
    }
   ],
   "source": [
    "lst1[2]=10\n",
    "lst1,lst3"
   ]
  },
  {
   "cell_type": "markdown",
   "id": "dccfd086",
   "metadata": {},
   "source": [
    "#### Tuple () \n",
    "- 리스트와 같지만 수정이 불가능한 데이터 타입\n",
    "- 튜플은 리스트보다 같은 데이터를 가졌을때 공간을 적게 사용"
   ]
  },
  {
   "cell_type": "code",
   "execution_count": 50,
   "id": "1238aea3",
   "metadata": {},
   "outputs": [
    {
     "data": {
      "text/plain": [
       "(tuple, tuple)"
      ]
     },
     "execution_count": 50,
     "metadata": {},
     "output_type": "execute_result"
    }
   ],
   "source": [
    "tpl1=1,2,3\n",
    "tpl2=(4,5,6)\n",
    "type(tpl1),type(tpl2)"
   ]
  },
  {
   "cell_type": "code",
   "execution_count": 51,
   "id": "5cd1a306",
   "metadata": {},
   "outputs": [
    {
     "data": {
      "text/plain": [
       "(2, (3, 2, 1))"
      ]
     },
     "execution_count": 51,
     "metadata": {},
     "output_type": "execute_result"
    }
   ],
   "source": [
    "# offset index 사용\n",
    "tpl1[1],tpl1[::-1]"
   ]
  },
  {
   "cell_type": "code",
   "execution_count": 53,
   "id": "dd4dda11",
   "metadata": {},
   "outputs": [
    {
     "name": "stdout",
     "output_type": "stream",
     "text": [
      "120 64\n"
     ]
    }
   ],
   "source": [
    "# 리스트와 튜플의 저장공간 차이 비교\n",
    "import sys\n",
    "\n",
    "lst=[1,2,3]\n",
    "tp=(1,2,3)\n",
    "\n",
    "print(sys.getsizeof(lst),sys.getsizeof(tp))"
   ]
  },
  {
   "cell_type": "markdown",
   "id": "f97356e2",
   "metadata": {},
   "source": [
    "#### dict {}\n",
    "- 순서가 없고 {키:값} 으로 구성되어 있는 데이터 타입"
   ]
  },
  {
   "cell_type": "code",
   "execution_count": 57,
   "id": "a6d78c59",
   "metadata": {},
   "outputs": [],
   "source": [
    "# 선언 : 키는 정수, 문자열 데이터 타입만 사용가능\n",
    "# 인덱스 대신 키를 사용\n",
    "dic={1:'one','two':2,'three':[1,2,3]}"
   ]
  },
  {
   "cell_type": "code",
   "execution_count": 58,
   "id": "765e3e32",
   "metadata": {},
   "outputs": [
    {
     "data": {
      "text/plain": [
       "(dict, {1: 'one', 'two': 2, 'three': [1, 2, 3]})"
      ]
     },
     "execution_count": 58,
     "metadata": {},
     "output_type": "execute_result"
    }
   ],
   "source": [
    "type(dic),dic"
   ]
  },
  {
   "cell_type": "code",
   "execution_count": 59,
   "id": "1020d6ef",
   "metadata": {},
   "outputs": [
    {
     "data": {
      "text/plain": [
       "'one'"
      ]
     },
     "execution_count": 59,
     "metadata": {},
     "output_type": "execute_result"
    }
   ],
   "source": [
    "dic[1]"
   ]
  },
  {
   "cell_type": "code",
   "execution_count": 60,
   "id": "ba43123b",
   "metadata": {},
   "outputs": [
    {
     "data": {
      "text/plain": [
       "[1, 2, 3]"
      ]
     },
     "execution_count": 60,
     "metadata": {},
     "output_type": "execute_result"
    }
   ],
   "source": [
    "dic['three']"
   ]
  },
  {
   "cell_type": "code",
   "execution_count": 62,
   "id": "cf083109",
   "metadata": {},
   "outputs": [
    {
     "data": {
      "text/plain": [
       "{1: 'one', 'two': 123, 'three': [1, 2, 3], 'tow': 123}"
      ]
     },
     "execution_count": 62,
     "metadata": {},
     "output_type": "execute_result"
    }
   ],
   "source": [
    "dic['two']=123\n",
    "dic"
   ]
  },
  {
   "cell_type": "code",
   "execution_count": 63,
   "id": "14ed43db",
   "metadata": {},
   "outputs": [],
   "source": [
    "# 도시 : seoul, busan, daegu\n",
    "# 인구 : 9,700,000, 3,400,000, 2,400,000"
   ]
  },
  {
   "cell_type": "code",
   "execution_count": 64,
   "id": "8a80c693",
   "metadata": {},
   "outputs": [],
   "source": [
    "#리스트\n",
    "city=['seoul','busan','daegu']\n",
    "population=[9700000,3400000,2400000]"
   ]
  },
  {
   "cell_type": "code",
   "execution_count": 65,
   "id": "591688cb",
   "metadata": {},
   "outputs": [],
   "source": [
    "#딕셔너리\n",
    "data={'seoul':9700000,'busan':3400000,'daegu':2400000}"
   ]
  },
  {
   "cell_type": "code",
   "execution_count": 66,
   "id": "d69618aa",
   "metadata": {},
   "outputs": [
    {
     "data": {
      "text/plain": [
       "21500000"
      ]
     },
     "execution_count": 66,
     "metadata": {},
     "output_type": "execute_result"
    }
   ],
   "source": [
    "sum(population)"
   ]
  },
  {
   "cell_type": "code",
   "execution_count": 68,
   "id": "d4377d85",
   "metadata": {},
   "outputs": [
    {
     "data": {
      "text/plain": [
       "15500000"
      ]
     },
     "execution_count": 68,
     "metadata": {},
     "output_type": "execute_result"
    }
   ],
   "source": [
    "sum(data.values())"
   ]
  },
  {
   "cell_type": "markdown",
   "id": "05b61b55",
   "metadata": {},
   "source": [
    "### 5. 형변환\n",
    "- 데이터 타입을 변환하는 방법\n",
    "- int, float, bool, str, list, tuple, dict"
   ]
  },
  {
   "cell_type": "code",
   "execution_count": 70,
   "id": "9e029511",
   "metadata": {},
   "outputs": [
    {
     "data": {
      "text/plain": [
       "3"
      ]
     },
     "execution_count": 70,
     "metadata": {},
     "output_type": "execute_result"
    }
   ],
   "source": [
    "a=1\n",
    "b='2'\n",
    "a+int(b)"
   ]
  },
  {
   "cell_type": "code",
   "execution_count": 71,
   "id": "1248ce33",
   "metadata": {},
   "outputs": [
    {
     "data": {
      "text/plain": [
       "'12'"
      ]
     },
     "execution_count": 71,
     "metadata": {},
     "output_type": "execute_result"
    }
   ],
   "source": [
    "str(a)+b"
   ]
  },
  {
   "cell_type": "code",
   "execution_count": 72,
   "id": "f75e0453",
   "metadata": {},
   "outputs": [
    {
     "data": {
      "text/plain": [
       "[('seoul', 9700000), ('busan', 9400000), ('daegu', 2400000)]"
      ]
     },
     "execution_count": 72,
     "metadata": {},
     "output_type": "execute_result"
    }
   ],
   "source": [
    "# zip : 같은 인덱스 데이터끼리 묶어주는 함수\n",
    "list(zip(city,population))"
   ]
  },
  {
   "cell_type": "code",
   "execution_count": 73,
   "id": "fe4b944e",
   "metadata": {},
   "outputs": [
    {
     "data": {
      "text/plain": [
       "{'seoul': 9700000, 'busan': 9400000, 'daegu': 2400000}"
      ]
     },
     "execution_count": 73,
     "metadata": {},
     "output_type": "execute_result"
    }
   ],
   "source": [
    "dict(list(zip(city,population)))"
   ]
  },
  {
   "cell_type": "markdown",
   "id": "b1dd6032",
   "metadata": {},
   "source": [
    "### 6. 연산자\n",
    "- 산술연산자 : +,-,*,/,//,%,**\n",
    "- 할당연산자 : 변수에 누적시켜서 연산 -> +=, //=, *=\n",
    "- 비교연산자 : <,>,==,<=,>=,!= -> 결과로 True, False 출력\n",
    "- 논리연산자 : &(and),|(or),not -> True,False를 연산 \n",
    "- 멤버연산자 : in, not in -> 특정 데이터가 있는지 확인할 때 사용"
   ]
  },
  {
   "cell_type": "code",
   "execution_count": 4,
   "id": "f6ebe61c",
   "metadata": {},
   "outputs": [
    {
     "ename": "TypeError",
     "evalue": "randint() takes 3 positional arguments but 4 were given",
     "output_type": "error",
     "traceback": [
      "\u001b[1;31m---------------------------------------------------------------------------\u001b[0m",
      "\u001b[1;31mTypeError\u001b[0m                                 Traceback (most recent call last)",
      "\u001b[1;32m~\\AppData\\Local\\Temp\\ipykernel_29300\\2331439974.py\u001b[0m in \u001b[0;36m<module>\u001b[1;34m\u001b[0m\n\u001b[0;32m      2\u001b[0m \u001b[1;32mimport\u001b[0m \u001b[0mrandom\u001b[0m\u001b[1;33m\u001b[0m\u001b[1;33m\u001b[0m\u001b[0m\n\u001b[0;32m      3\u001b[0m \u001b[1;33m\u001b[0m\u001b[0m\n\u001b[1;32m----> 4\u001b[1;33m \u001b[0mrandom\u001b[0m\u001b[1;33m.\u001b[0m\u001b[0mrandint\u001b[0m\u001b[1;33m(\u001b[0m\u001b[1;36m1\u001b[0m\u001b[1;33m,\u001b[0m\u001b[1;36m10\u001b[0m\u001b[1;33m,\u001b[0m\u001b[1;36m2\u001b[0m\u001b[1;33m)\u001b[0m\u001b[1;33m\u001b[0m\u001b[1;33m\u001b[0m\u001b[0m\n\u001b[0m",
      "\u001b[1;31mTypeError\u001b[0m: randint() takes 3 positional arguments but 4 were given"
     ]
    }
   ],
   "source": [
    "### 랜덤함수\n",
    "import random\n",
    "\n",
    "random.randint(1,10)"
   ]
  },
  {
   "cell_type": "code",
   "execution_count": 2,
   "id": "e40edea9",
   "metadata": {},
   "outputs": [
    {
     "name": "stdout",
     "output_type": "stream",
     "text": [
      "insert string : 안녕하세요\n"
     ]
    },
    {
     "data": {
      "text/plain": [
       "'안녕하세요'"
      ]
     },
     "execution_count": 2,
     "metadata": {},
     "output_type": "execute_result"
    }
   ],
   "source": [
    "# 입력함수\n",
    "data=input(\"insert string : \")\n",
    "data"
   ]
  },
  {
   "cell_type": "code",
   "execution_count": 3,
   "id": "b9e6130c",
   "metadata": {},
   "outputs": [],
   "source": [
    "# 해결의 책 : 질문을 하면 질문데 대한 답변을 해주는 책"
   ]
  },
  {
   "cell_type": "code",
   "execution_count": 5,
   "id": "d82e3c0a",
   "metadata": {},
   "outputs": [],
   "source": [
    "# 솔루션을 리스트로 작성\n",
    "# 질문 입력 받음\n",
    "# 솔루션의 갯수에 맞게 랜덤한 index 정수 값을 생성\n",
    "# index에 해당하는 솔루션 리스트의 데이터를 출력"
   ]
  },
  {
   "cell_type": "code",
   "execution_count": 11,
   "id": "7df115a9",
   "metadata": {},
   "outputs": [
    {
     "name": "stdout",
     "output_type": "stream",
     "text": [
      "질문을 입력하세요 : 저는 육아지옥을 탈출할 수 있을까요?\n"
     ]
    },
    {
     "data": {
      "text/plain": [
       "'무엇을 상상하던 그 이상이다.'"
      ]
     },
     "execution_count": 11,
     "metadata": {},
     "output_type": "execute_result"
    }
   ],
   "source": [
    "#솔루션을 리스트로 작성\n",
    "solutions=[\"무엇을 하던 잘 안될 것이다.\", \n",
    "           '생각지도 않게 좋은 일이 생길 것이다.',\n",
    "           '무엇을 상상하던 그 이상이다.']\n",
    "\n",
    "# 질문 입력 받음\n",
    "input('질문을 입력하세요 : ')\n",
    "\n",
    "# 솔루션의 갯수에 맞게 랜덤한 index 정수 값을 생성\n",
    "idx=random.randint(0,len(solutions)-1)\n",
    "\n",
    "# index에 해당하는 솔루션 리스트의 데이터를 출력\n",
    "solutions[idx]"
   ]
  }
 ],
 "metadata": {
  "kernelspec": {
   "display_name": "Python 3 (ipykernel)",
   "language": "python",
   "name": "python3"
  },
  "language_info": {
   "codemirror_mode": {
    "name": "ipython",
    "version": 3
   },
   "file_extension": ".py",
   "mimetype": "text/x-python",
   "name": "python",
   "nbconvert_exporter": "python",
   "pygments_lexer": "ipython3",
   "version": "3.9.13"
  }
 },
 "nbformat": 4,
 "nbformat_minor": 5
}
