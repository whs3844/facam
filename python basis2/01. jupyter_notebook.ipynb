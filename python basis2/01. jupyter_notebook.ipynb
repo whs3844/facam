{
 "cells": [
  {
   "cell_type": "markdown",
   "id": "4fc5cc45",
   "metadata": {},
   "source": [
    "### Jupyter Notebook\n",
    "- moode\n",
    "    - 명령모드(esc) : 셀을 수정할 때 사용\n",
    "    - 편집모드(enter) : 셀안의 내용을 수정할 때 사용\n",
    "- style\n",
    "    - markdown(명령모드 + m) : 셀안에 설명을 작성할 때 사용\n",
    "    - code(명령모드 + y) : 파이썬 코드를 작성할 때 사용\n",
    "- 셀 실행 : shift + enter or ctrl+enter or alt+enter"
   ]
  },
  {
   "cell_type": "markdown",
   "id": "fbbd1be7",
   "metadata": {},
   "source": [
    "### Magic Command\n",
    "- 셀 내부에서 특별하게 동작하는 키워드\n",
    "- % : 한줄의 magic command를 동작\n",
    "- %% : 셀 단위의 magic command를 동작\n",
    "- 주요 magic command\n",
    "    - pwd : 현재 주피터 노트북 파일의 경로\n",
    "    - ls : 현재 디렉토리의 파일 리스트\n",
    "    - whos : 현재 선언된 변수를 출력\n",
    "    - reset : 현재 선언된 모든 변수를 삭제"
   ]
  },
  {
   "cell_type": "code",
   "execution_count": 3,
   "id": "9ef34981",
   "metadata": {},
   "outputs": [
    {
     "data": {
      "text/plain": [
       "'C:\\\\Users\\\\whs38\\\\패스트캠퍼스\\\\파이썬 기초2'"
      ]
     },
     "execution_count": 3,
     "metadata": {},
     "output_type": "execute_result"
    }
   ],
   "source": [
    "%pwd"
   ]
  },
  {
   "cell_type": "code",
   "execution_count": 4,
   "id": "f712f97f",
   "metadata": {},
   "outputs": [
    {
     "name": "stdout",
     "output_type": "stream",
     "text": [
      " C 드라이브의 볼륨에는 이름이 없습니다.\n",
      " 볼륨 일련 번호: F21A-1FB2\n",
      "\n",
      " C:\\Users\\whs38\\패스트캠퍼스\\파이썬 기초2 디렉터리\n",
      "\n",
      "2023-01-25  오후 08:46    <DIR>          .\n",
      "2023-01-25  오후 04:56    <DIR>          ..\n",
      "2023-01-25  오후 08:40    <DIR>          .ipynb_checkpoints\n",
      "2023-01-25  오후 08:46             1,280 01. jupyter_notebook.ipynb\n",
      "2023-01-25  오후 08:23            20,056 02. basic_syntax.ipynb\n",
      "               2개 파일              21,336 바이트\n",
      "               3개 디렉터리  55,740,485,632 바이트 남음\n"
     ]
    }
   ],
   "source": [
    "%ls"
   ]
  },
  {
   "cell_type": "code",
   "execution_count": 5,
   "id": "1c47d177",
   "metadata": {},
   "outputs": [],
   "source": [
    "a=1"
   ]
  },
  {
   "cell_type": "code",
   "execution_count": 6,
   "id": "ff021afe",
   "metadata": {},
   "outputs": [
    {
     "name": "stdout",
     "output_type": "stream",
     "text": [
      "Variable   Type    Data/Info\n",
      "----------------------------\n",
      "a          int     1\n"
     ]
    }
   ],
   "source": [
    "%whos"
   ]
  },
  {
   "cell_type": "code",
   "execution_count": 7,
   "id": "16deea8b",
   "metadata": {},
   "outputs": [
    {
     "name": "stdout",
     "output_type": "stream",
     "text": [
      "Once deleted, variables cannot be recovered. Proceed (y/[n])? y\n"
     ]
    }
   ],
   "source": [
    "%reset"
   ]
  },
  {
   "cell_type": "code",
   "execution_count": 8,
   "id": "cc8d4b94",
   "metadata": {},
   "outputs": [
    {
     "name": "stdout",
     "output_type": "stream",
     "text": [
      "Interactive namespace is empty.\n"
     ]
    }
   ],
   "source": [
    "%whos"
   ]
  },
  {
   "cell_type": "markdown",
   "id": "85c7ced9",
   "metadata": {},
   "source": [
    "#### Shell Command\n",
    "- 주피터 노트북을 실행 쉘 환경의 명령을 사용\n",
    "- 명령어 앞에 !를 붙여서 실행\n",
    "- 주요 명령어\n",
    "    - ls, cat, echo,...."
   ]
  },
  {
   "cell_type": "code",
   "execution_count": 10,
   "id": "489fff9d",
   "metadata": {},
   "outputs": [
    {
     "name": "stdout",
     "output_type": "stream",
     "text": [
      "python\n"
     ]
    }
   ],
   "source": [
    "!echo python"
   ]
  },
  {
   "cell_type": "code",
   "execution_count": 14,
   "id": "1b739569",
   "metadata": {},
   "outputs": [
    {
     "name": "stdout",
     "output_type": "stream",
     "text": [
      " C 드라이브의 볼륨에는 이름이 없습니다.\n",
      " 볼륨 일련 번호: F21A-1FB2\n",
      "\n",
      " C:\\Users\\whs38\\패스트캠퍼스\\파이썬 기초2 디렉터리\n",
      "\n",
      "2023-01-25  오후 08:52    <DIR>          .\n",
      "2023-01-25  오후 04:56    <DIR>          ..\n",
      "2023-01-25  오후 08:40    <DIR>          .ipynb_checkpoints\n",
      "2023-01-25  오후 08:52             5,036 01. jupyter_notebook.ipynb\n",
      "2023-01-25  오후 08:23            20,056 02. basic_syntax.ipynb\n",
      "               2개 파일              25,092 바이트\n",
      "               3개 디렉터리  55,736,549,376 바이트 남음\n"
     ]
    }
   ],
   "source": [
    "!dir"
   ]
  },
  {
   "cell_type": "code",
   "execution_count": 16,
   "id": "e54430ce",
   "metadata": {},
   "outputs": [
    {
     "name": "stdout",
     "output_type": "stream",
     "text": [
      "\f",
      "\n"
     ]
    }
   ],
   "source": [
    "!cls"
   ]
  }
 ],
 "metadata": {
  "kernelspec": {
   "display_name": "Python 3 (ipykernel)",
   "language": "python",
   "name": "python3"
  },
  "language_info": {
   "codemirror_mode": {
    "name": "ipython",
    "version": 3
   },
   "file_extension": ".py",
   "mimetype": "text/x-python",
   "name": "python",
   "nbconvert_exporter": "python",
   "pygments_lexer": "ipython3",
   "version": "3.9.13"
  }
 },
 "nbformat": 4,
 "nbformat_minor": 5
}
