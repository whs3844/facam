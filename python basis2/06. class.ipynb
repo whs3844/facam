{
 "cells": [
  {
   "cell_type": "markdown",
   "id": "71c0077c",
   "metadata": {},
   "source": [
    "### class : 클래스\n",
    "- 변수와 함수를 묶어 놓은 개념\n",
    "- 사용방법\n",
    "    - 변수와 함수가 들어있는 클래스를 선언\n",
    "    - 클래스를 객체로 만들어서 클래스 안에 선언된 변수와 함수를 사용"
   ]
  },
  {
   "cell_type": "markdown",
   "id": "5e61fe04",
   "metadata": {},
   "source": [
    "### 1. 기본 클래스의 사용"
   ]
  },
  {
   "cell_type": "code",
   "execution_count": 15,
   "id": "c2fd4791",
   "metadata": {},
   "outputs": [],
   "source": [
    "# 클래스의 선언\n",
    "class Calculator:\n",
    "    \n",
    "    num1=1\n",
    "    num2=2\n",
    "    \n",
    "    def plus(self):\n",
    "        return self.num1 + self.num2\n",
    "    \n",
    "    def minus(self):\n",
    "        return self.num1 - self.num2"
   ]
  },
  {
   "cell_type": "code",
   "execution_count": 16,
   "id": "6a7775ad",
   "metadata": {},
   "outputs": [],
   "source": [
    "# 클래스의 사용\n",
    "calc=Calculator()"
   ]
  },
  {
   "cell_type": "code",
   "execution_count": 17,
   "id": "e2344c5b",
   "metadata": {},
   "outputs": [
    {
     "data": {
      "text/plain": [
       "<__main__.Calculator at 0x154b35b0bb0>"
      ]
     },
     "execution_count": 17,
     "metadata": {},
     "output_type": "execute_result"
    }
   ],
   "source": [
    "calc"
   ]
  },
  {
   "cell_type": "code",
   "execution_count": 18,
   "id": "034e31e3",
   "metadata": {},
   "outputs": [
    {
     "data": {
      "text/plain": [
       "(1,\n",
       " 2,\n",
       " <bound method Calculator.plus of <__main__.Calculator object at 0x00000154B35B0BB0>>)"
      ]
     },
     "execution_count": 18,
     "metadata": {},
     "output_type": "execute_result"
    }
   ],
   "source": [
    "calc.num1, calc.num2, calc.plus"
   ]
  },
  {
   "cell_type": "code",
   "execution_count": 19,
   "id": "4d8cfef3",
   "metadata": {},
   "outputs": [
    {
     "data": {
      "text/plain": [
       "(3, -1)"
      ]
     },
     "execution_count": 19,
     "metadata": {},
     "output_type": "execute_result"
    }
   ],
   "source": [
    "calc.plus(),calc.minus()"
   ]
  },
  {
   "cell_type": "code",
   "execution_count": 20,
   "id": "32dd956a",
   "metadata": {},
   "outputs": [],
   "source": [
    "# self의 의미 : 객체 자신\n",
    "calc2=Calculator()"
   ]
  },
  {
   "cell_type": "code",
   "execution_count": 21,
   "id": "98120658",
   "metadata": {},
   "outputs": [],
   "source": [
    "calc2.num1=10"
   ]
  },
  {
   "cell_type": "code",
   "execution_count": 22,
   "id": "9f099aee",
   "metadata": {},
   "outputs": [
    {
     "data": {
      "text/plain": [
       "12"
      ]
     },
     "execution_count": 22,
     "metadata": {},
     "output_type": "execute_result"
    }
   ],
   "source": [
    "calc2.plus()"
   ]
  },
  {
   "cell_type": "markdown",
   "id": "d6562ae3",
   "metadata": {},
   "source": [
    "### 2. 객체지향\n",
    "- 실제 세계를 코드에 반영해서 개발하는 방법\n",
    "- 여러 명의 개발자가 코드를 효율적으로 작성해서 프로젝트를 완성시키기 위한 방법\n",
    "- 설계도 작성(class) -> 실제 물건(object)\n",
    "- 사용자 정의 데이터 타입"
   ]
  },
  {
   "cell_type": "code",
   "execution_count": 23,
   "id": "96687890",
   "metadata": {},
   "outputs": [
    {
     "data": {
      "text/plain": [
       "'PYTHON'"
      ]
     },
     "execution_count": 23,
     "metadata": {},
     "output_type": "execute_result"
    }
   ],
   "source": [
    "obj='python'\n",
    "obj.upper()"
   ]
  },
  {
   "cell_type": "code",
   "execution_count": 24,
   "id": "ac2cbfc8",
   "metadata": {},
   "outputs": [],
   "source": [
    "ls=[1,3,2]\n",
    "ls.sort()"
   ]
  },
  {
   "cell_type": "code",
   "execution_count": 25,
   "id": "376159ae",
   "metadata": {},
   "outputs": [
    {
     "data": {
      "text/plain": [
       "[1, 2, 3]"
      ]
     },
     "execution_count": 25,
     "metadata": {},
     "output_type": "execute_result"
    }
   ],
   "source": [
    "ls"
   ]
  },
  {
   "cell_type": "code",
   "execution_count": 26,
   "id": "cf123ba3",
   "metadata": {},
   "outputs": [
    {
     "data": {
      "text/plain": [
       "['__class__',\n",
       " '__delattr__',\n",
       " '__dict__',\n",
       " '__dir__',\n",
       " '__doc__',\n",
       " '__eq__',\n",
       " '__format__',\n",
       " '__ge__',\n",
       " '__getattribute__',\n",
       " '__gt__',\n",
       " '__hash__',\n",
       " '__init__',\n",
       " '__init_subclass__',\n",
       " '__le__',\n",
       " '__lt__',\n",
       " '__module__',\n",
       " '__ne__',\n",
       " '__new__',\n",
       " '__reduce__',\n",
       " '__reduce_ex__',\n",
       " '__repr__',\n",
       " '__setattr__',\n",
       " '__sizeof__',\n",
       " '__str__',\n",
       " '__subclasshook__',\n",
       " '__weakref__',\n",
       " 'minus',\n",
       " 'num1',\n",
       " 'num2',\n",
       " 'plus']"
      ]
     },
     "execution_count": 26,
     "metadata": {},
     "output_type": "execute_result"
    }
   ],
   "source": [
    "dir(calc)"
   ]
  },
  {
   "cell_type": "code",
   "execution_count": 27,
   "id": "8930fa32",
   "metadata": {},
   "outputs": [
    {
     "data": {
      "text/plain": [
       "['minus', 'num1', 'num2', 'plus']"
      ]
     },
     "execution_count": 27,
     "metadata": {},
     "output_type": "execute_result"
    }
   ],
   "source": [
    "[data for data in dir(calc) if data[:2]!='__']"
   ]
  },
  {
   "cell_type": "markdown",
   "id": "e644b896",
   "metadata": {},
   "source": [
    "### 3. 생성자\n",
    "- 클래스가 객체로 생성될 때 실행되는 함수\n",
    "- 변수(재료)를 추가할 때 사용"
   ]
  },
  {
   "cell_type": "code",
   "execution_count": 4,
   "id": "02fafe2a",
   "metadata": {},
   "outputs": [],
   "source": [
    "class Calculator:\n",
    "    \n",
    "    # 생성자 함수 : init\n",
    "    def __init__(self, num1, num2=10):\n",
    "        self.num1=num1\n",
    "        self.num2=num2\n",
    "    \n",
    "    def plus(self):\n",
    "        return self.num1 + self.num2\n",
    "    \n",
    "    def minus(self):\n",
    "        return self.num1 - self.num2"
   ]
  },
  {
   "cell_type": "code",
   "execution_count": 5,
   "id": "e4008e1b",
   "metadata": {},
   "outputs": [],
   "source": [
    "calc1=Calculator(3,4)"
   ]
  },
  {
   "cell_type": "code",
   "execution_count": 6,
   "id": "563970dd",
   "metadata": {},
   "outputs": [
    {
     "data": {
      "text/plain": [
       "7"
      ]
     },
     "execution_count": 6,
     "metadata": {},
     "output_type": "execute_result"
    }
   ],
   "source": [
    "calc1.plus()"
   ]
  },
  {
   "cell_type": "code",
   "execution_count": 7,
   "id": "736694f5",
   "metadata": {},
   "outputs": [],
   "source": [
    "calc2=Calculator(3)"
   ]
  },
  {
   "cell_type": "code",
   "execution_count": 8,
   "id": "3b4f4d41",
   "metadata": {
    "scrolled": false
   },
   "outputs": [
    {
     "data": {
      "text/plain": [
       "13"
      ]
     },
     "execution_count": 8,
     "metadata": {},
     "output_type": "execute_result"
    }
   ],
   "source": [
    "calc2.plus()"
   ]
  },
  {
   "cell_type": "markdown",
   "id": "94040106",
   "metadata": {},
   "source": [
    "### 4. 상속\n",
    "- 클래스의 기능을 가져다가 기능을 추가하거나 추가할 때 사용하는 방법"
   ]
  },
  {
   "cell_type": "code",
   "execution_count": 75,
   "id": "866d8e08",
   "metadata": {},
   "outputs": [],
   "source": [
    "class Calculator:\n",
    "    \n",
    "    def __init__(self,num1,num2):\n",
    "        self.num1=num1\n",
    "        self.num2=num2\n",
    "        \n",
    "    def plus(self):\n",
    "        return self.num1+self.num2"
   ]
  },
  {
   "cell_type": "code",
   "execution_count": 76,
   "id": "b72d6cc7",
   "metadata": {},
   "outputs": [
    {
     "data": {
      "text/plain": [
       "3"
      ]
     },
     "execution_count": 76,
     "metadata": {},
     "output_type": "execute_result"
    }
   ],
   "source": [
    "calc=Calculator(1,2)\n",
    "calc.plus()"
   ]
  },
  {
   "cell_type": "code",
   "execution_count": null,
   "id": "1f4e7670",
   "metadata": {},
   "outputs": [],
   "source": [
    "# minus기능을 추가한 클래스"
   ]
  },
  {
   "cell_type": "code",
   "execution_count": 77,
   "id": "8c56adef",
   "metadata": {},
   "outputs": [],
   "source": [
    "class Calculator2:\n",
    "    \n",
    "    def __init__(self,num1,num2):\n",
    "        self.num1=num1\n",
    "        self.num2=num2\n",
    "        \n",
    "    def plus(self):\n",
    "        return self.num1+self.num2\n",
    "    \n",
    "    def minus(self):\n",
    "        return self.num1-self.num2"
   ]
  },
  {
   "cell_type": "code",
   "execution_count": 78,
   "id": "f0b7dec8",
   "metadata": {},
   "outputs": [
    {
     "data": {
      "text/plain": [
       "-1"
      ]
     },
     "execution_count": 78,
     "metadata": {},
     "output_type": "execute_result"
    }
   ],
   "source": [
    "calc2=Calculator2(1,2)\n",
    "calc2.minus()"
   ]
  },
  {
   "cell_type": "code",
   "execution_count": 79,
   "id": "3c088c96",
   "metadata": {},
   "outputs": [],
   "source": [
    "# 상속을 사용하여 minus 함수 추가\n",
    "class Calculator3(Calculator):\n",
    "    def minus(self):\n",
    "        return self.num1-self.num2"
   ]
  },
  {
   "cell_type": "code",
   "execution_count": 80,
   "id": "5f55e83c",
   "metadata": {},
   "outputs": [],
   "source": [
    "calc3=Calculator3(1,2)"
   ]
  },
  {
   "cell_type": "code",
   "execution_count": 81,
   "id": "5aa4eaae",
   "metadata": {},
   "outputs": [
    {
     "data": {
      "text/plain": [
       "(3, -1)"
      ]
     },
     "execution_count": 81,
     "metadata": {},
     "output_type": "execute_result"
    }
   ],
   "source": [
    "calc3.plus(),calc3.minus()"
   ]
  },
  {
   "cell_type": "code",
   "execution_count": 84,
   "id": "1dd2a5d4",
   "metadata": {},
   "outputs": [],
   "source": [
    "# 메서드 오버라이딩\n",
    "class Calculator4(Calculator3):\n",
    "    def plus(self):\n",
    "        return self.num1**2+self.num2**2"
   ]
  },
  {
   "cell_type": "code",
   "execution_count": 85,
   "id": "4eec430f",
   "metadata": {},
   "outputs": [
    {
     "data": {
      "text/plain": [
       "5"
      ]
     },
     "execution_count": 85,
     "metadata": {},
     "output_type": "execute_result"
    }
   ],
   "source": [
    "calc4=Calculator4(1,2)\n",
    "calc4.plus()"
   ]
  },
  {
   "cell_type": "markdown",
   "id": "fe3d51b8",
   "metadata": {},
   "source": [
    "### 다중 상속"
   ]
  },
  {
   "cell_type": "code",
   "execution_count": 98,
   "id": "8ecda793",
   "metadata": {},
   "outputs": [],
   "source": [
    "class Galaxy:\n",
    "    def show_img(self):\n",
    "        return 'show img'"
   ]
  },
  {
   "cell_type": "code",
   "execution_count": 99,
   "id": "70f15ffe",
   "metadata": {},
   "outputs": [],
   "source": [
    "class Dssphone(Iphone3,Galaxy):\n",
    "    def camera(self):\n",
    "        return 'camera'"
   ]
  },
  {
   "cell_type": "code",
   "execution_count": 100,
   "id": "7eecb44d",
   "metadata": {},
   "outputs": [],
   "source": [
    "dss_phone=Dssphone()"
   ]
  },
  {
   "cell_type": "code",
   "execution_count": 103,
   "id": "2d8ee024",
   "metadata": {},
   "outputs": [
    {
     "data": {
      "text/plain": [
       "['calling', 'camera', 'internet', 'send_msg', 'show_img']"
      ]
     },
     "execution_count": 103,
     "metadata": {},
     "output_type": "execute_result"
    }
   ],
   "source": [
    "[data for data in dir(dss_phone) if data[:2]!='__']"
   ]
  },
  {
   "cell_type": "markdown",
   "id": "5392d010",
   "metadata": {},
   "source": [
    "### Super\n",
    "- 부모 클래스에서 사용된 함수의 코드를 가져다가 자식 클래스의 함수에서 재사용할때 사용\n",
    "```python\n",
    "class A:\n",
    "    def plus(self):\n",
    "        code1     \n",
    "class B(A):\n",
    "    def minus(self):\n",
    "        code1 # super().plus()\n",
    "        code2\n",
    "```        "
   ]
  },
  {
   "cell_type": "code",
   "execution_count": 105,
   "id": "6bc1cd61",
   "metadata": {},
   "outputs": [],
   "source": [
    "class Marine:\n",
    "    \n",
    "    def __init__(self):\n",
    "        self.health=40\n",
    "        self.attack_pw=5\n",
    "        \n",
    "    def attack(self,unit):\n",
    "        unit.health-=self.attack_pw\n",
    "        \n",
    "        if unit.health<=0:\n",
    "            unit.health=0"
   ]
  },
  {
   "cell_type": "code",
   "execution_count": 106,
   "id": "469aae33",
   "metadata": {},
   "outputs": [],
   "source": [
    "class Marine2(Marine):\n",
    "    def __init__(self):\n",
    "        self.health=40\n",
    "        self.attack_pw=5\n",
    "        self.max_health=40"
   ]
  },
  {
   "cell_type": "code",
   "execution_count": 108,
   "id": "d5906d54",
   "metadata": {},
   "outputs": [],
   "source": [
    "class Marine3(Marine):\n",
    "    def __init__(self):\n",
    "        super().__init__()\n",
    "        self.max_health=40"
   ]
  },
  {
   "cell_type": "code",
   "execution_count": 109,
   "id": "979f43ea",
   "metadata": {},
   "outputs": [],
   "source": [
    "marine=Marine3()"
   ]
  },
  {
   "cell_type": "code",
   "execution_count": 110,
   "id": "e4405f52",
   "metadata": {},
   "outputs": [
    {
     "data": {
      "text/plain": [
       "(40, 40, 5)"
      ]
     },
     "execution_count": 110,
     "metadata": {},
     "output_type": "execute_result"
    }
   ],
   "source": [
    "marine.health,marine.max_health,marine.attack_pw"
   ]
  },
  {
   "cell_type": "markdown",
   "id": "d59ca8ef",
   "metadata": {},
   "source": [
    "### 5. class의 getter, setter\n",
    "- 객체 내부의 변수에 접근 할 때 특정 로직을 거쳐서 접근시키는 방법"
   ]
  },
  {
   "cell_type": "code",
   "execution_count": 170,
   "id": "56804431",
   "metadata": {},
   "outputs": [],
   "source": [
    "class User:\n",
    "    def __init__(self,first_name):\n",
    "        self.first_name=first_name\n",
    "        \n",
    "    def setter(self, first_name):\n",
    "        if len(first_name)>=3:\n",
    "            self.first_name=first_name\n",
    "        else :\n",
    "            print('error')\n",
    "    \n",
    "    def getter(self):\n",
    "        print('getter')\n",
    "        return self.first_name.upper()\n",
    "        \n",
    "    def disp(self):\n",
    "        print(self.first_name)\n",
    "    \n",
    "    name=property(getter,setter) # name이라는 변수가 getter,setter에 접근할 수 있도록 해줌"
   ]
  },
  {
   "cell_type": "code",
   "execution_count": 171,
   "id": "57234265",
   "metadata": {},
   "outputs": [],
   "source": [
    "user1=User('Andy')"
   ]
  },
  {
   "cell_type": "code",
   "execution_count": 172,
   "id": "408ead47",
   "metadata": {},
   "outputs": [
    {
     "data": {
      "text/plain": [
       "'Andy'"
      ]
     },
     "execution_count": 172,
     "metadata": {},
     "output_type": "execute_result"
    }
   ],
   "source": [
    "user1.first_name"
   ]
  },
  {
   "cell_type": "code",
   "execution_count": 176,
   "id": "e87c5f21",
   "metadata": {},
   "outputs": [
    {
     "name": "stdout",
     "output_type": "stream",
     "text": [
      "error\n"
     ]
    }
   ],
   "source": [
    "# setter 함수 실행 : 데이터를 변경\n",
    "user1.name='jo'"
   ]
  },
  {
   "cell_type": "code",
   "execution_count": 173,
   "id": "9d9d44db",
   "metadata": {},
   "outputs": [],
   "source": [
    "# setter 함수 실행 : 데이터를 변경\n",
    "user1.name='john'"
   ]
  },
  {
   "cell_type": "code",
   "execution_count": 174,
   "id": "48d998cf",
   "metadata": {},
   "outputs": [
    {
     "data": {
      "text/plain": [
       "'john'"
      ]
     },
     "execution_count": 174,
     "metadata": {},
     "output_type": "execute_result"
    }
   ],
   "source": [
    "user1.first_name"
   ]
  },
  {
   "cell_type": "code",
   "execution_count": 175,
   "id": "cd79c494",
   "metadata": {},
   "outputs": [
    {
     "name": "stdout",
     "output_type": "stream",
     "text": [
      "getter\n"
     ]
    },
    {
     "data": {
      "text/plain": [
       "'JOHN'"
      ]
     },
     "execution_count": 175,
     "metadata": {},
     "output_type": "execute_result"
    }
   ],
   "source": [
    "# getter 함수 실행 : 데이터를 읽음\n",
    "user1.name"
   ]
  },
  {
   "cell_type": "markdown",
   "id": "f7bbc590",
   "metadata": {},
   "source": [
    "### 6. non public\n",
    "- mangling 이라는 방법으로 다이렉트로 객체의 변수에 접근하지 못하게 하는 방법"
   ]
  },
  {
   "cell_type": "code",
   "execution_count": 16,
   "id": "5330a3a3",
   "metadata": {},
   "outputs": [],
   "source": [
    "class Calculator:\n",
    "    \n",
    "    def __init__(self,num1,num2):\n",
    "        self.num1=num1\n",
    "        self.num2=num2\n",
    "        \n",
    "    def getter(self):\n",
    "        return self.num2\n",
    "    \n",
    "    #num2에 0이 들어가지 않도록 함\n",
    "    def setter(self,num2):\n",
    "        if num2==0:\n",
    "            num2=1\n",
    "        self.num2=num2\n",
    "        \n",
    "    def div(self):\n",
    "        return self.num1/self.num2\n",
    "        \n",
    "    number2=property(getter,setter)"
   ]
  },
  {
   "cell_type": "code",
   "execution_count": 17,
   "id": "d81b6721",
   "metadata": {},
   "outputs": [],
   "source": [
    "calc=Calculator(1,2)"
   ]
  },
  {
   "cell_type": "code",
   "execution_count": 18,
   "id": "54c6b901",
   "metadata": {},
   "outputs": [
    {
     "data": {
      "text/plain": [
       "0.5"
      ]
     },
     "execution_count": 18,
     "metadata": {},
     "output_type": "execute_result"
    }
   ],
   "source": [
    "calc.div()"
   ]
  },
  {
   "cell_type": "code",
   "execution_count": 19,
   "id": "5b8ec642",
   "metadata": {},
   "outputs": [
    {
     "data": {
      "text/plain": [
       "2"
      ]
     },
     "execution_count": 19,
     "metadata": {},
     "output_type": "execute_result"
    }
   ],
   "source": [
    "calc.number2"
   ]
  },
  {
   "cell_type": "code",
   "execution_count": 20,
   "id": "db41d7c8",
   "metadata": {},
   "outputs": [],
   "source": [
    "calc.number2=0"
   ]
  },
  {
   "cell_type": "code",
   "execution_count": 21,
   "id": "4fe2c323",
   "metadata": {},
   "outputs": [
    {
     "data": {
      "text/plain": [
       "1"
      ]
     },
     "execution_count": 21,
     "metadata": {},
     "output_type": "execute_result"
    }
   ],
   "source": [
    "calc.number2"
   ]
  },
  {
   "cell_type": "code",
   "execution_count": 22,
   "id": "c1073b8b",
   "metadata": {},
   "outputs": [],
   "source": [
    "calc.num2=0"
   ]
  },
  {
   "cell_type": "code",
   "execution_count": 23,
   "id": "92315d59",
   "metadata": {},
   "outputs": [
    {
     "ename": "ZeroDivisionError",
     "evalue": "division by zero",
     "output_type": "error",
     "traceback": [
      "\u001b[1;31m---------------------------------------------------------------------------\u001b[0m",
      "\u001b[1;31mZeroDivisionError\u001b[0m                         Traceback (most recent call last)",
      "\u001b[1;32m~\\AppData\\Local\\Temp\\ipykernel_12192\\907247508.py\u001b[0m in \u001b[0;36m<module>\u001b[1;34m\u001b[0m\n\u001b[1;32m----> 1\u001b[1;33m \u001b[0mcalc\u001b[0m\u001b[1;33m.\u001b[0m\u001b[0mdiv\u001b[0m\u001b[1;33m(\u001b[0m\u001b[1;33m)\u001b[0m\u001b[1;33m\u001b[0m\u001b[1;33m\u001b[0m\u001b[0m\n\u001b[0m",
      "\u001b[1;32m~\\AppData\\Local\\Temp\\ipykernel_12192\\1583987904.py\u001b[0m in \u001b[0;36mdiv\u001b[1;34m(self)\u001b[0m\n\u001b[0;32m     14\u001b[0m \u001b[1;33m\u001b[0m\u001b[0m\n\u001b[0;32m     15\u001b[0m     \u001b[1;32mdef\u001b[0m \u001b[0mdiv\u001b[0m\u001b[1;33m(\u001b[0m\u001b[0mself\u001b[0m\u001b[1;33m)\u001b[0m\u001b[1;33m:\u001b[0m\u001b[1;33m\u001b[0m\u001b[1;33m\u001b[0m\u001b[0m\n\u001b[1;32m---> 16\u001b[1;33m         \u001b[1;32mreturn\u001b[0m \u001b[0mself\u001b[0m\u001b[1;33m.\u001b[0m\u001b[0mnum1\u001b[0m\u001b[1;33m/\u001b[0m\u001b[0mself\u001b[0m\u001b[1;33m.\u001b[0m\u001b[0mnum2\u001b[0m\u001b[1;33m\u001b[0m\u001b[1;33m\u001b[0m\u001b[0m\n\u001b[0m\u001b[0;32m     17\u001b[0m \u001b[1;33m\u001b[0m\u001b[0m\n\u001b[0;32m     18\u001b[0m     \u001b[0mnumber2\u001b[0m\u001b[1;33m=\u001b[0m\u001b[0mproperty\u001b[0m\u001b[1;33m(\u001b[0m\u001b[0mgetter\u001b[0m\u001b[1;33m,\u001b[0m\u001b[0msetter\u001b[0m\u001b[1;33m)\u001b[0m\u001b[1;33m\u001b[0m\u001b[1;33m\u001b[0m\u001b[0m\n",
      "\u001b[1;31mZeroDivisionError\u001b[0m: division by zero"
     ]
    }
   ],
   "source": [
    "calc.div()"
   ]
  },
  {
   "cell_type": "code",
   "execution_count": 41,
   "id": "8ece0d41",
   "metadata": {},
   "outputs": [],
   "source": [
    "class Calculator2:\n",
    "    \n",
    "    def __init__(self,num1,num2):\n",
    "        self.num1=num1\n",
    "        self.__num2=num2\n",
    "        \n",
    "    def getter(self):\n",
    "        return self.__num2\n",
    "    \n",
    "    #num2에 0이 들어가지 않도록 함\n",
    "    def setter(self,num2):\n",
    "        if num2==0:\n",
    "            num2=1\n",
    "        self.__num2=num2\n",
    "        \n",
    "    def div(self):\n",
    "        self.__disp()\n",
    "        return self.num1/self.__num2\n",
    "    \n",
    "    def __disp(self):\n",
    "        print(self.num1,self.__num2)\n",
    "        \n",
    "    number2=property(getter,setter)"
   ]
  },
  {
   "cell_type": "code",
   "execution_count": 42,
   "id": "1a52fbd6",
   "metadata": {},
   "outputs": [],
   "source": [
    "calc2=Calculator2(1,2)"
   ]
  },
  {
   "cell_type": "code",
   "execution_count": 43,
   "id": "b9b4f748",
   "metadata": {
    "scrolled": true
   },
   "outputs": [
    {
     "ename": "AttributeError",
     "evalue": "'Calculator2' object has no attribute 'num2'",
     "output_type": "error",
     "traceback": [
      "\u001b[1;31m---------------------------------------------------------------------------\u001b[0m",
      "\u001b[1;31mAttributeError\u001b[0m                            Traceback (most recent call last)",
      "\u001b[1;32m~\\AppData\\Local\\Temp\\ipykernel_12192\\2479780226.py\u001b[0m in \u001b[0;36m<module>\u001b[1;34m\u001b[0m\n\u001b[1;32m----> 1\u001b[1;33m \u001b[0mcalc2\u001b[0m\u001b[1;33m.\u001b[0m\u001b[0mnum2\u001b[0m\u001b[1;33m\u001b[0m\u001b[1;33m\u001b[0m\u001b[0m\n\u001b[0m",
      "\u001b[1;31mAttributeError\u001b[0m: 'Calculator2' object has no attribute 'num2'"
     ]
    }
   ],
   "source": [
    "calc2.num2"
   ]
  },
  {
   "cell_type": "code",
   "execution_count": 44,
   "id": "082ca382",
   "metadata": {},
   "outputs": [
    {
     "ename": "AttributeError",
     "evalue": "'Calculator2' object has no attribute '__num2'",
     "output_type": "error",
     "traceback": [
      "\u001b[1;31m---------------------------------------------------------------------------\u001b[0m",
      "\u001b[1;31mAttributeError\u001b[0m                            Traceback (most recent call last)",
      "\u001b[1;32m~\\AppData\\Local\\Temp\\ipykernel_12192\\3461498360.py\u001b[0m in \u001b[0;36m<module>\u001b[1;34m\u001b[0m\n\u001b[1;32m----> 1\u001b[1;33m \u001b[0mcalc2\u001b[0m\u001b[1;33m.\u001b[0m\u001b[0m__num2\u001b[0m\u001b[1;33m\u001b[0m\u001b[1;33m\u001b[0m\u001b[0m\n\u001b[0m",
      "\u001b[1;31mAttributeError\u001b[0m: 'Calculator2' object has no attribute '__num2'"
     ]
    }
   ],
   "source": [
    "calc2.__num2"
   ]
  },
  {
   "cell_type": "code",
   "execution_count": 45,
   "id": "086fe4ac",
   "metadata": {
    "scrolled": true
   },
   "outputs": [
    {
     "data": {
      "text/plain": [
       "2"
      ]
     },
     "execution_count": 45,
     "metadata": {},
     "output_type": "execute_result"
    }
   ],
   "source": [
    "calc2._Calculator2__num2"
   ]
  },
  {
   "cell_type": "code",
   "execution_count": 46,
   "id": "b9bb5e67",
   "metadata": {},
   "outputs": [
    {
     "name": "stdout",
     "output_type": "stream",
     "text": [
      "1 2\n"
     ]
    }
   ],
   "source": [
    "calc2._Calculator2__disp()"
   ]
  },
  {
   "cell_type": "markdown",
   "id": "5a1aff94",
   "metadata": {},
   "source": [
    "### 7. is a & has a\n",
    "- 클래스를 설계하는 개념\n",
    "- A is a B\n",
    "    - A는 B이다. 상속을 이용해서 클래스를 만드는 방법\n",
    "\n",
    "- A has a B\n",
    "    - A는 B를 가진다. A가 B객체를 가지고 클래스를 만드는 방법"
   ]
  },
  {
   "cell_type": "code",
   "execution_count": 47,
   "id": "510d6395",
   "metadata": {},
   "outputs": [],
   "source": [
    "# 사람 : 이름, 이메일, 정보출력"
   ]
  },
  {
   "cell_type": "code",
   "execution_count": 58,
   "id": "893b1b75",
   "metadata": {},
   "outputs": [],
   "source": [
    "# is a \n",
    "class Person:\n",
    "    def __init__(self,name,email):\n",
    "        self.name=name\n",
    "        self.email=email"
   ]
  },
  {
   "cell_type": "code",
   "execution_count": 59,
   "id": "77cedaf0",
   "metadata": {},
   "outputs": [],
   "source": [
    "class Person2(Person):\n",
    "    def info(self):\n",
    "        print(self.name, self.email)"
   ]
  },
  {
   "cell_type": "code",
   "execution_count": 60,
   "id": "e6090e27",
   "metadata": {},
   "outputs": [],
   "source": [
    "p=Person2('andy','andy@gmail.com')"
   ]
  },
  {
   "cell_type": "code",
   "execution_count": 61,
   "id": "4dda611a",
   "metadata": {},
   "outputs": [
    {
     "name": "stdout",
     "output_type": "stream",
     "text": [
      "andy andy@gmail.com\n"
     ]
    }
   ],
   "source": [
    "p.info()"
   ]
  },
  {
   "cell_type": "code",
   "execution_count": 62,
   "id": "4313a142",
   "metadata": {},
   "outputs": [],
   "source": [
    "# has a\n",
    "class Name:\n",
    "    def __init__(self,name):\n",
    "        self.name=name\n",
    "\n",
    "class Email:\n",
    "    def __init__(self,email):\n",
    "        self.email=email"
   ]
  },
  {
   "cell_type": "code",
   "execution_count": 75,
   "id": "b7cde818",
   "metadata": {},
   "outputs": [],
   "source": [
    "class Person:\n",
    "    def __init__(self,name_obj,email_obj):\n",
    "        self.name=name_obj\n",
    "        self.email=email_obj\n",
    "        \n",
    "    def info(self):\n",
    "        print(name.name, email.email)"
   ]
  },
  {
   "cell_type": "code",
   "execution_count": 76,
   "id": "f2eb7a1d",
   "metadata": {},
   "outputs": [],
   "source": [
    "name=Name('andy')\n",
    "email=Email('andy@gmail.com')\n",
    "person=Person(name,email)"
   ]
  },
  {
   "cell_type": "code",
   "execution_count": 77,
   "id": "82aa6148",
   "metadata": {},
   "outputs": [
    {
     "name": "stdout",
     "output_type": "stream",
     "text": [
      "andy andy@gmail.com\n"
     ]
    }
   ],
   "source": [
    "person.info()"
   ]
  },
  {
   "cell_type": "markdown",
   "id": "82bad693",
   "metadata": {},
   "source": [
    "### 8. Magis(Special) Method\n",
    "- compare\n",
    "    - `__eq__` : ==\n",
    "    - `__ne__` : !=\n",
    "    - `__lt__` : <\n",
    "- calculate\n",
    "    - `__add__` : +\n",
    "    - `__sub__` : -\n",
    "- `__repr__` : 객체의 내용을 출력(개발자용)\n",
    "- `__str__` : 객체의 내용을 출력"
   ]
  },
  {
   "cell_type": "code",
   "execution_count": 78,
   "id": "ea0a7c0b",
   "metadata": {},
   "outputs": [
    {
     "data": {
      "text/plain": [
       "True"
      ]
     },
     "execution_count": 78,
     "metadata": {},
     "output_type": "execute_result"
    }
   ],
   "source": [
    "\"test\"=='test'"
   ]
  },
  {
   "cell_type": "code",
   "execution_count": 79,
   "id": "05728b04",
   "metadata": {},
   "outputs": [
    {
     "data": {
      "text/plain": [
       "True"
      ]
     },
     "execution_count": 79,
     "metadata": {},
     "output_type": "execute_result"
    }
   ],
   "source": [
    "'test'.__eq__('test')"
   ]
  },
  {
   "cell_type": "code",
   "execution_count": 100,
   "id": "83e62164",
   "metadata": {},
   "outputs": [],
   "source": [
    "class Text:\n",
    "    def __init__(self,text):\n",
    "        self.text=text\n",
    "        \n",
    "    def __eq__(self,text_obj):\n",
    "        return self.text.lower()==text_obj.text.lower()\n",
    "    \n",
    "    def __repr__(self):\n",
    "        return \"Text(text={})\".format(self.text)\n",
    "    \n",
    "    def __str__(self):\n",
    "        return self.text"
   ]
  },
  {
   "cell_type": "code",
   "execution_count": 101,
   "id": "4173a1d0",
   "metadata": {},
   "outputs": [],
   "source": [
    "t1=Text('python')\n",
    "t2=Text('PYTHON')\n",
    "t3=t1"
   ]
  },
  {
   "cell_type": "code",
   "execution_count": 102,
   "id": "eb20d22b",
   "metadata": {
    "scrolled": true
   },
   "outputs": [
    {
     "data": {
      "text/plain": [
       "(True, True, True)"
      ]
     },
     "execution_count": 102,
     "metadata": {},
     "output_type": "execute_result"
    }
   ],
   "source": [
    "t1==t2,t1==t3,t2==t3"
   ]
  },
  {
   "cell_type": "code",
   "execution_count": 103,
   "id": "f9a8cee3",
   "metadata": {},
   "outputs": [
    {
     "data": {
      "text/plain": [
       "Text(text=python)"
      ]
     },
     "execution_count": 103,
     "metadata": {},
     "output_type": "execute_result"
    }
   ],
   "source": [
    "t1"
   ]
  },
  {
   "cell_type": "code",
   "execution_count": 104,
   "id": "a16bdded",
   "metadata": {},
   "outputs": [
    {
     "name": "stdout",
     "output_type": "stream",
     "text": [
      "python\n"
     ]
    }
   ],
   "source": [
    "print(t1)"
   ]
  },
  {
   "cell_type": "code",
   "execution_count": 108,
   "id": "1a3b7a0b",
   "metadata": {},
   "outputs": [],
   "source": [
    "# Integer 객체\n",
    "class Integer:\n",
    "    \n",
    "    def __init__(self,number):\n",
    "        self.number=number\n",
    "        \n",
    "    def __add__(self,obj):\n",
    "        return self.number+obj.number\n",
    "    \n",
    "    def __str__(self):\n",
    "        return str(self.number)\n",
    "    \n",
    "    def __repr__(self):\n",
    "        return str(self.number)"
   ]
  },
  {
   "cell_type": "code",
   "execution_count": 109,
   "id": "af27a994",
   "metadata": {},
   "outputs": [],
   "source": [
    "num1=Integer(1)\n",
    "num2=Integer(2)"
   ]
  },
  {
   "cell_type": "code",
   "execution_count": 110,
   "id": "2951ea46",
   "metadata": {},
   "outputs": [
    {
     "data": {
      "text/plain": [
       "3"
      ]
     },
     "execution_count": 110,
     "metadata": {},
     "output_type": "execute_result"
    }
   ],
   "source": [
    "num1+num2"
   ]
  },
  {
   "cell_type": "code",
   "execution_count": 111,
   "id": "5df65a0f",
   "metadata": {},
   "outputs": [
    {
     "data": {
      "text/plain": [
       "(1, 2)"
      ]
     },
     "execution_count": 111,
     "metadata": {},
     "output_type": "execute_result"
    }
   ],
   "source": [
    "num1, num2"
   ]
  },
  {
   "cell_type": "markdown",
   "id": "94564d4a",
   "metadata": {},
   "source": [
    "### 연습문제"
   ]
  },
  {
   "cell_type": "code",
   "execution_count": 128,
   "id": "3f296984",
   "metadata": {},
   "outputs": [],
   "source": [
    "# 스타크래프트의 마린을 클래스로 설계\n",
    "# 체력(health:40), 공격력(attack_pw:5), 공격(attack())\n",
    "# 마린 클래스로 마린 객체 2개 생성해서 마린 1이 마린 2를 공격하는 코드 작성\n",
    "# attack(self,unit)"
   ]
  },
  {
   "cell_type": "code",
   "execution_count": 129,
   "id": "3a79cdb7",
   "metadata": {},
   "outputs": [],
   "source": [
    "class Marine:\n",
    "    \n",
    "    def __init__(self,health=40,attack_pw=5):\n",
    "        self.health=health\n",
    "        self.attack_pw=attack_pw\n",
    "        \n",
    "    def attack(self,unit):\n",
    "        unit.health-=self.attack_pw\n",
    "        \n",
    "        if unit.health<=0:\n",
    "            unit.health=0\n",
    "            print('사망')"
   ]
  },
  {
   "cell_type": "code",
   "execution_count": 130,
   "id": "50694a14",
   "metadata": {},
   "outputs": [],
   "source": [
    "marine1=Marine()"
   ]
  },
  {
   "cell_type": "code",
   "execution_count": 131,
   "id": "b3c905cd",
   "metadata": {},
   "outputs": [],
   "source": [
    "marine2=Marine()"
   ]
  },
  {
   "cell_type": "code",
   "execution_count": 132,
   "id": "df856131",
   "metadata": {},
   "outputs": [],
   "source": [
    "marine1.attack(marine2)"
   ]
  },
  {
   "cell_type": "code",
   "execution_count": 133,
   "id": "8bdc9c8a",
   "metadata": {},
   "outputs": [
    {
     "data": {
      "text/plain": [
       "(40, 35)"
      ]
     },
     "execution_count": 133,
     "metadata": {},
     "output_type": "execute_result"
    }
   ],
   "source": [
    "marine1.health, marine2.health"
   ]
  },
  {
   "cell_type": "code",
   "execution_count": 134,
   "id": "722faa61",
   "metadata": {},
   "outputs": [],
   "source": [
    "# 메딕 : heal_pw, heal(unit)\n",
    "class Medic:\n",
    "    \n",
    "    def __init__(self,health=40,heal_pw=6):\n",
    "        self.health=health\n",
    "        self.heal_pw=heal_pw\n",
    "        \n",
    "    def heal(self,unit):\n",
    "        if self.health>0:\n",
    "            unit.health+=self.heal_pw\n",
    "            if unit.health>=40:\n",
    "                unit.health=40\n",
    "        else:\n",
    "            print('치료 불가')"
   ]
  },
  {
   "cell_type": "code",
   "execution_count": 135,
   "id": "6bae43e4",
   "metadata": {},
   "outputs": [],
   "source": [
    "medic=Medic()"
   ]
  },
  {
   "cell_type": "code",
   "execution_count": 136,
   "id": "979e9ffc",
   "metadata": {},
   "outputs": [],
   "source": [
    "medic.heal(marine2)"
   ]
  },
  {
   "cell_type": "code",
   "execution_count": 137,
   "id": "d9c0734b",
   "metadata": {},
   "outputs": [
    {
     "data": {
      "text/plain": [
       "40"
      ]
     },
     "execution_count": 137,
     "metadata": {},
     "output_type": "execute_result"
    }
   ],
   "source": [
    "marine2.health"
   ]
  },
  {
   "cell_type": "code",
   "execution_count": 121,
   "id": "08561d21",
   "metadata": {},
   "outputs": [],
   "source": [
    "# 아이폰 1, 2, 3\n",
    "# 아이폰 1: calling -> print('calling')\n",
    "# 아이폰 2: send msg\n",
    "# 아이폰 3: internet"
   ]
  },
  {
   "cell_type": "code",
   "execution_count": 122,
   "id": "deed0195",
   "metadata": {},
   "outputs": [],
   "source": [
    "class Iphone:\n",
    "        \n",
    "    def calling(self):\n",
    "        return 'calling'"
   ]
  },
  {
   "cell_type": "code",
   "execution_count": 123,
   "id": "e0022da4",
   "metadata": {},
   "outputs": [
    {
     "data": {
      "text/plain": [
       "'calling'"
      ]
     },
     "execution_count": 123,
     "metadata": {},
     "output_type": "execute_result"
    }
   ],
   "source": [
    "iphone1=Iphone()\n",
    "iphone1.calling()"
   ]
  },
  {
   "cell_type": "code",
   "execution_count": 124,
   "id": "02d40c63",
   "metadata": {},
   "outputs": [],
   "source": [
    "class Iphone2(Iphone):\n",
    "    \n",
    "    def send_msg(self):\n",
    "        return 'send msg'"
   ]
  },
  {
   "cell_type": "code",
   "execution_count": 125,
   "id": "30315946",
   "metadata": {},
   "outputs": [
    {
     "data": {
      "text/plain": [
       "('calling', 'send msg')"
      ]
     },
     "execution_count": 125,
     "metadata": {},
     "output_type": "execute_result"
    }
   ],
   "source": [
    "iphone2=Iphone2()\n",
    "iphone2.calling(),iphone2.send_msg()"
   ]
  },
  {
   "cell_type": "code",
   "execution_count": 126,
   "id": "6fa5b00a",
   "metadata": {},
   "outputs": [],
   "source": [
    "class Iphone3(Iphone2):\n",
    "    \n",
    "    def internet(self):\n",
    "        return 'internet'"
   ]
  },
  {
   "cell_type": "code",
   "execution_count": 127,
   "id": "2090d48c",
   "metadata": {
    "scrolled": true
   },
   "outputs": [
    {
     "data": {
      "text/plain": [
       "('calling', 'send msg', 'internet')"
      ]
     },
     "execution_count": 127,
     "metadata": {},
     "output_type": "execute_result"
    }
   ],
   "source": [
    "iphone3=Iphone3()\n",
    "iphone3.calling(),iphone3.send_msg(), iphone3.internet()"
   ]
  },
  {
   "cell_type": "code",
   "execution_count": null,
   "id": "19011408",
   "metadata": {},
   "outputs": [],
   "source": [
    "# 계좌 클래스 만들기 \n",
    "# 변수: 자산 (asset), 이자율 (interest)\n",
    "# 함수 : 인출(draw), 입금(insert), 이자추가(add_interest)\n",
    "# 인출시 자산이상의 돈을 인출할 수 없음"
   ]
  },
  {
   "cell_type": "code",
   "execution_count": 168,
   "id": "f217880a",
   "metadata": {},
   "outputs": [],
   "source": [
    "class Account:\n",
    "    def __init__(self,asset,interest):\n",
    "        self.__asset=asset\n",
    "        self.__interest=interest\n",
    "        \n",
    "    def draw(self,money):\n",
    "        if money>self.__asset:\n",
    "            return '인출 불가'\n",
    "        self.__asset-=money\n",
    "        return '{}원이 인출되었습니다'.format(money)\n",
    "    \n",
    "    def insert(self,money):\n",
    "        self.__asset+=money\n",
    "        \n",
    "    def add_interest(self):\n",
    "        self.__asset*=(1+self.__interest)\n",
    "        \n",
    "    def __repr__(self):\n",
    "        return 'Account(asset:{}, interest:{})'.format(self.__asset, self.__interest)"
   ]
  },
  {
   "cell_type": "code",
   "execution_count": 169,
   "id": "dccf1f73",
   "metadata": {},
   "outputs": [],
   "source": [
    "account=Account(1000000,0.5)"
   ]
  }
 ],
 "metadata": {
  "kernelspec": {
   "display_name": "Python 3 (ipykernel)",
   "language": "python",
   "name": "python3"
  },
  "language_info": {
   "codemirror_mode": {
    "name": "ipython",
    "version": 3
   },
   "file_extension": ".py",
   "mimetype": "text/x-python",
   "name": "python",
   "nbconvert_exporter": "python",
   "pygments_lexer": "ipython3",
   "version": "3.9.13"
  }
 },
 "nbformat": 4,
 "nbformat_minor": 5
}
