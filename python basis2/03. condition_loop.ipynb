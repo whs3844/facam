{
 "cells": [
  {
   "cell_type": "markdown",
   "id": "82c842a8",
   "metadata": {},
   "source": [
    "### 1. 조건문\n",
    "- 특정 조건에 따라서 코드를 실행하고자 할때 사용\n",
    "- if, elif, else"
   ]
  },
  {
   "cell_type": "code",
   "execution_count": 1,
   "id": "bc69f7b6",
   "metadata": {},
   "outputs": [
    {
     "name": "stdout",
     "output_type": "stream",
     "text": [
      "python2\n"
     ]
    }
   ],
   "source": [
    "# 조건부분에 bool 데이터 타입 이외의 데이터 타입이 오면 bool으로 형변환 되어 판단\n",
    "# int : 0을 제외한 나머지 값은 True\n",
    "num=0\n",
    "\n",
    "if num:\n",
    "    print('python1')\n",
    "    \n",
    "num=1\n",
    "\n",
    "if num:\n",
    "    print('python2')"
   ]
  },
  {
   "cell_type": "code",
   "execution_count": 2,
   "id": "89be64f9",
   "metadata": {},
   "outputs": [
    {
     "name": "stdout",
     "output_type": "stream",
     "text": [
      "홀수\n"
     ]
    }
   ],
   "source": [
    "number=7\n",
    "\n",
    "if number&2:\n",
    "    print('홀수')"
   ]
  },
  {
   "cell_type": "code",
   "execution_count": 3,
   "id": "20c4336d",
   "metadata": {},
   "outputs": [],
   "source": [
    "# float : 0.0을 제외한 나머지 실수는 True\n",
    "# str : ''을 제외한 나머지 문자열은 True\n",
    "# list,tupe,dict : [],(),{}을 제외한 나머지는 True"
   ]
  },
  {
   "cell_type": "code",
   "execution_count": 4,
   "id": "bd0ec67b",
   "metadata": {},
   "outputs": [
    {
     "name": "stdout",
     "output_type": "stream",
     "text": [
      "얼마를 가지고 있나요 : 10000\n",
      "택시를 탄다\n"
     ]
    }
   ],
   "source": [
    "# 지갑에 돈이 10,000원 이상 있으면 택시를 타고 그렇지 않으면 걸어서 집에 갑니다.\n",
    "money=int(input('얼마를 가지고 있나요 : '))\n",
    "\n",
    "if money>=10000:\n",
    "    print('택시를 탄다')\n",
    "else :\n",
    "    print('걸어서 간다')"
   ]
  },
  {
   "cell_type": "code",
   "execution_count": 5,
   "id": "115503a0",
   "metadata": {},
   "outputs": [
    {
     "name": "stdout",
     "output_type": "stream",
     "text": [
      "얼마를 가지고 있나요 : 3500\n",
      "버스를 탄다\n"
     ]
    }
   ],
   "source": [
    "# 지갑에 돈이 10,000원 이상 있으면 택시를 타고\n",
    "# 2,000원 이상 10,000원 미만이 있으면 버스를 타고\n",
    "# 그렇지 않으면 걸어서 집에 갑니다.\n",
    "money=int(input('얼마를 가지고 있나요 : '))\n",
    "\n",
    "if money>=10000:\n",
    "    print('택시를 탄다')\n",
    "elif (money>=2000) & (money<10000):\n",
    "    print('버스를 탄다')\n",
    "else :\n",
    "    print('걸어서 간다')"
   ]
  },
  {
   "cell_type": "code",
   "execution_count": 8,
   "id": "24af4549",
   "metadata": {},
   "outputs": [
    {
     "name": "stdout",
     "output_type": "stream",
     "text": [
      "얼마를 인출하실 건가요? : 12000\n",
      "인출이 불가능합니다.\n",
      "10000\n"
     ]
    }
   ],
   "source": [
    "# 계좌에 10,000원이 들어있다.\n",
    "# 인출 금액을 입력 받습니다.\n",
    "# 인출 금액이 계좌에 있는 금액보다 크면 '인출이 불가능합니다' 출력\n",
    "# 인출 금액이 계좌에 있는 금액보다 작으면 '인출 되었습니다' 출력\n",
    "# 마지막에 현재 계좌이 잔액을 출력\n",
    "\n",
    "account=10000\n",
    "out=int(input('얼마를 인출하실 건가요? : '))\n",
    "\n",
    "if account<out:\n",
    "    print('인출이 불가능합니다.')\n",
    "else:\n",
    "    print(str(out)+'원이 인출 되었습니다.')\n",
    "    account-=out\n",
    "print(account)"
   ]
  },
  {
   "cell_type": "code",
   "execution_count": 11,
   "id": "b8005a5d",
   "metadata": {},
   "outputs": [
    {
     "name": "stdout",
     "output_type": "stream",
     "text": [
      "현재 잔액은10000원 입니다.\n",
      "현재 잔액은 10000원 입니다.\n",
      "현재 잔액은 10000원 입니다. 인출금액은 12000원 입니다\n"
     ]
    }
   ],
   "source": [
    "# string 데이터 타입의 format 함수\n",
    "print('현재 잔액은' +str(account)+'원 입니다.')\n",
    "print('현재 잔액은 {}원 입니다.'.format(account))\n",
    "print('현재 잔액은 {data1}원 입니다. 인출금액은 {data2}원 입니다'.format(data2=out,data1=account))"
   ]
  },
  {
   "cell_type": "markdown",
   "id": "8104a7eb",
   "metadata": {},
   "source": [
    "### 삼항연산자\n",
    "- 간단한 if, else 구문을 한줄의 코드로 표현할 수 있는 방법"
   ]
  },
  {
   "cell_type": "code",
   "execution_count": 12,
   "id": "1874a11a",
   "metadata": {},
   "outputs": [
    {
     "name": "stdout",
     "output_type": "stream",
     "text": [
      "zero\n"
     ]
    }
   ],
   "source": [
    "# data 변수가 0이면 'zero' 출력, 아니면 'not zero'출력\n",
    "data=0\n",
    "if data:\n",
    "    print('not zero')\n",
    "else :\n",
    "    print('zero')"
   ]
  },
  {
   "cell_type": "code",
   "execution_count": 13,
   "id": "28519821",
   "metadata": {},
   "outputs": [
    {
     "data": {
      "text/plain": [
       "'not zero'"
      ]
     },
     "execution_count": 13,
     "metadata": {},
     "output_type": "execute_result"
    }
   ],
   "source": [
    "data=1\n",
    "'not zero' if data else 'zero'"
   ]
  },
  {
   "cell_type": "markdown",
   "id": "f4112878",
   "metadata": {},
   "source": [
    "### 2. 반복문\n",
    "- 반복되는 코드를 실행할 때 사용\n",
    "- while, for, break, continue\n",
    "- list comprehention"
   ]
  },
  {
   "cell_type": "code",
   "execution_count": 14,
   "id": "989561b3",
   "metadata": {},
   "outputs": [
    {
     "name": "stdout",
     "output_type": "stream",
     "text": [
      "3\n",
      "2\n",
      "1\n"
     ]
    }
   ],
   "source": [
    "# while\n",
    "data=3\n",
    "while data:#조건이 false가 될떄까지 구문의 코드를 실행\n",
    "    # 반복되는 코드\n",
    "    print(data)\n",
    "    data-=1"
   ]
  },
  {
   "cell_type": "code",
   "execution_count": 5,
   "id": "d2808df2",
   "metadata": {},
   "outputs": [],
   "source": [
    "# 학생이 국어: 80점, 영어: 90점, 수학:100점 while 문을 이용해서 총점과 평균을 출력\n",
    "# 학생의 점수는 list or dict로 표현\n",
    "total=0\n",
    "avg=0\n",
    "points=[80,90,100]\n",
    "dic={'국어':80,'영어':90,'수학':100}"
   ]
  },
  {
   "cell_type": "code",
   "execution_count": 6,
   "id": "a3d20100",
   "metadata": {},
   "outputs": [],
   "source": [
    "datas=points.copy()"
   ]
  },
  {
   "cell_type": "code",
   "execution_count": 7,
   "id": "0224bb69",
   "metadata": {},
   "outputs": [
    {
     "data": {
      "text/plain": [
       "(270, 90.0)"
      ]
     },
     "execution_count": 7,
     "metadata": {},
     "output_type": "execute_result"
    }
   ],
   "source": [
    "while datas:\n",
    "    total+=datas.pop()\n",
    "avg=total/len(points)\n",
    "total,avg"
   ]
  },
  {
   "cell_type": "code",
   "execution_count": null,
   "id": "e946abf0",
   "metadata": {},
   "outputs": [],
   "source": [
    "#무한루프\n",
    "result=1\n",
    "while result:\n",
    "    result+=1\n",
    "print(result)"
   ]
  },
  {
   "cell_type": "code",
   "execution_count": 8,
   "id": "b0878faf",
   "metadata": {},
   "outputs": [
    {
     "name": "stdout",
     "output_type": "stream",
     "text": [
      "10\n"
     ]
    }
   ],
   "source": [
    "# break : 반복문을 중단 시킬때 사용되는 예약어\n",
    "result=1\n",
    "while result:\n",
    "    result+=1\n",
    "    \n",
    "    if result>=10:\n",
    "        break\n",
    "    \n",
    "print(result)"
   ]
  },
  {
   "cell_type": "markdown",
   "id": "cda50ae1",
   "metadata": {},
   "source": [
    "### for\n",
    "- iterable(순서가 있는)한 값을 하나씩 꺼내서 value에 대입시킨후 코드를 iterable 변수의 값 개수 만큼 실행\n",
    "\n",
    "```python\n",
    "for <variable> in <iterables>:\n",
    "    <code>\n",
    "```"
   ]
  },
  {
   "cell_type": "code",
   "execution_count": 9,
   "id": "830fffe3",
   "metadata": {},
   "outputs": [
    {
     "name": "stdout",
     "output_type": "stream",
     "text": [
      "0\n",
      "1\n",
      "2\n",
      "3\n",
      "4\n"
     ]
    }
   ],
   "source": [
    "lst=[0,1,2,3,4]\n",
    "for data in lst:\n",
    "    print(data)"
   ]
  },
  {
   "cell_type": "code",
   "execution_count": 12,
   "id": "fa214317",
   "metadata": {},
   "outputs": [
    {
     "name": "stdout",
     "output_type": "stream",
     "text": [
      "0 2 4 "
     ]
    }
   ],
   "source": [
    "# for -> continue: 조건부분으로 올라가서 코드가 실행\n",
    "lst=[0,1,2,3,4]\n",
    "for data in lst:\n",
    "    if data%2:\n",
    "        continue\n",
    "    print(data,end=' ')\n",
    "        \n",
    "    "
   ]
  },
  {
   "cell_type": "code",
   "execution_count": 13,
   "id": "853c1e18",
   "metadata": {},
   "outputs": [
    {
     "data": {
      "text/plain": [
       "4950"
      ]
     },
     "execution_count": 13,
     "metadata": {},
     "output_type": "execute_result"
    }
   ],
   "source": [
    "# for를 이용하여 코드를 100번 실행\n",
    "result=0\n",
    "for data in range(100):\n",
    "    result+=data\n",
    "result\n",
    "    "
   ]
  },
  {
   "cell_type": "code",
   "execution_count": 15,
   "id": "8d261cd3",
   "metadata": {},
   "outputs": [
    {
     "data": {
      "text/plain": [
       "([0, 1, 2, 3, 4], [5, 6, 7, 8, 9], [1, 3, 5, 7, 9])"
      ]
     },
     "execution_count": 15,
     "metadata": {},
     "output_type": "execute_result"
    }
   ],
   "source": [
    "# range함수: offset index 개념과 비슷하게 사용\n",
    "list(range(5)),list(range(5,10)),list(range(1,10,2))"
   ]
  },
  {
   "cell_type": "code",
   "execution_count": 18,
   "id": "3982dde7",
   "metadata": {},
   "outputs": [
    {
     "data": {
      "text/plain": [
       "30"
      ]
     },
     "execution_count": 18,
     "metadata": {},
     "output_type": "execute_result"
    }
   ],
   "source": [
    "# 0~10까지 짝수를 더한 총합\n",
    "result=0\n",
    "for i in range(0,11,2):\n",
    "    result+=i\n",
    "result"
   ]
  },
  {
   "cell_type": "code",
   "execution_count": 19,
   "id": "e8699f97",
   "metadata": {},
   "outputs": [],
   "source": [
    "dic={'국어':80,'영어':90,'수학':100}\n"
   ]
  },
  {
   "cell_type": "code",
   "execution_count": 21,
   "id": "36ae31f4",
   "metadata": {},
   "outputs": [
    {
     "name": "stdout",
     "output_type": "stream",
     "text": [
      "국어\n",
      "영어\n",
      "수학\n"
     ]
    }
   ],
   "source": [
    "for i in dic:\n",
    "    print(i)"
   ]
  },
  {
   "cell_type": "code",
   "execution_count": 23,
   "id": "e4e75b8c",
   "metadata": {},
   "outputs": [
    {
     "name": "stdout",
     "output_type": "stream",
     "text": [
      "('국어', 80)\n",
      "('영어', 90)\n",
      "('수학', 100)\n"
     ]
    }
   ],
   "source": [
    "for item in dic.items():\n",
    "    print(item)"
   ]
  },
  {
   "cell_type": "code",
   "execution_count": 25,
   "id": "e5a32b28",
   "metadata": {},
   "outputs": [
    {
     "name": "stdout",
     "output_type": "stream",
     "text": [
      "국어 80\n",
      "영어 90\n",
      "수학 100\n"
     ]
    }
   ],
   "source": [
    "for subject,point in dic.items():\n",
    "    print(subject,point)"
   ]
  },
  {
   "cell_type": "code",
   "execution_count": 12,
   "id": "0818e0fc",
   "metadata": {},
   "outputs": [
    {
     "name": "stdout",
     "output_type": "stream",
     "text": [
      "국어 80\n",
      "영어 90\n",
      "수학 100\n"
     ]
    }
   ],
   "source": [
    "# for문에서 iterable 데이터가 tuple로 나오면 여러개의 변수로 받을 수 있음\n",
    "subject_ls=['국어','영어','수학']\n",
    "point_ls=[80,90,100]\n",
    "\n",
    "for subject, point in zip(subject_ls,point_ls):\n",
    "    print(subject,point)"
   ]
  },
  {
   "cell_type": "markdown",
   "id": "34f7e160",
   "metadata": {},
   "source": [
    "- 구구단 출력 (가로 출력)\n",
    "    - 이중 for문 안에 for문\n",
    "    - print : end='\\t'\n",
    "    - string : format 함수 이용\n",
    "    ```python\n",
    "    2*1=2 3*1=3 .... 9*1=9\n",
    "    ....\n",
    "    2*9=18 3*9=27 .... 9*9=81\n",
    "    ```"
   ]
  },
  {
   "cell_type": "code",
   "execution_count": 18,
   "id": "e157dc24",
   "metadata": {},
   "outputs": [
    {
     "name": "stdout",
     "output_type": "stream",
     "text": [
      "2*1=2\t3*1=3\t4*1=4\t5*1=5\t6*1=6\t7*1=7\t8*1=8\t9*1=9\t\n",
      "2*2=4\t3*2=6\t4*2=8\t5*2=10\t6*2=12\t7*2=14\t8*2=16\t9*2=18\t\n",
      "2*3=6\t3*3=9\t4*3=12\t5*3=15\t6*3=18\t7*3=21\t8*3=24\t9*3=27\t\n",
      "2*4=8\t3*4=12\t4*4=16\t5*4=20\t6*4=24\t7*4=28\t8*4=32\t9*4=36\t\n",
      "2*5=10\t3*5=15\t4*5=20\t5*5=25\t6*5=30\t7*5=35\t8*5=40\t9*5=45\t\n",
      "2*6=12\t3*6=18\t4*6=24\t5*6=30\t6*6=36\t7*6=42\t8*6=48\t9*6=54\t\n",
      "2*7=14\t3*7=21\t4*7=28\t5*7=35\t6*7=42\t7*7=49\t8*7=56\t9*7=63\t\n",
      "2*8=16\t3*8=24\t4*8=32\t5*8=40\t6*8=48\t7*8=56\t8*8=64\t9*8=72\t\n",
      "2*9=18\t3*9=27\t4*9=36\t5*9=45\t6*9=54\t7*9=63\t8*9=72\t9*9=81\t\n"
     ]
    }
   ],
   "source": [
    "for i in range(1,10):\n",
    "    for j in range(2,10):\n",
    "        print('{}*{}={}'.format(j,i,j*i), end='\\t')\n",
    "    print()"
   ]
  },
  {
   "cell_type": "markdown",
   "id": "e0aca048",
   "metadata": {},
   "source": [
    "### 3. List Comprehension\n",
    "- 리스트 데이터를 만들어주는 방법\n",
    "- for문보다 빠르게 동작"
   ]
  },
  {
   "cell_type": "code",
   "execution_count": 19,
   "id": "675f8130",
   "metadata": {},
   "outputs": [
    {
     "data": {
      "text/plain": [
       "[0, 1, 4, 9]"
      ]
     },
     "execution_count": 19,
     "metadata": {},
     "output_type": "execute_result"
    }
   ],
   "source": [
    "# 각각의 값에 제곱한 결과 출력\n",
    "lst=[0,1,2,3]\n",
    "result=[]\n",
    "for num in lst:\n",
    "    result.append(num**2)\n",
    "result"
   ]
  },
  {
   "cell_type": "code",
   "execution_count": 21,
   "id": "f9b49e54",
   "metadata": {},
   "outputs": [
    {
     "data": {
      "text/plain": [
       "[0, 1, 4, 9]"
      ]
     },
     "execution_count": 21,
     "metadata": {},
     "output_type": "execute_result"
    }
   ],
   "source": [
    "result=[data**2 for data in lst]\n",
    "result"
   ]
  },
  {
   "cell_type": "code",
   "execution_count": 22,
   "id": "999760ff",
   "metadata": {},
   "outputs": [
    {
     "data": {
      "text/plain": [
       "['짝수', '홀수', '짝수', '홀수']"
      ]
     },
     "execution_count": 22,
     "metadata": {},
     "output_type": "execute_result"
    }
   ],
   "source": [
    "# 리스트 컴프리헨션을 써서 홀수와 짝수를 리스트로 출력해주는 코드\n",
    "# 삼항연산 사용\n",
    "lst=[0,1,2,3]\n",
    "#result=['짝수','홀수','짝수','홀수']\n",
    "\n",
    "result=[\n",
    "    '홀수' if data%2 else '짝수' for data in lst\n",
    "]\n",
    "result"
   ]
  },
  {
   "cell_type": "code",
   "execution_count": 23,
   "id": "d11d270e",
   "metadata": {},
   "outputs": [
    {
     "data": {
      "text/plain": [
       "[1, 3, 5, 7, 9]"
      ]
     },
     "execution_count": 23,
     "metadata": {},
     "output_type": "execute_result"
    }
   ],
   "source": [
    "# 리스트 컴프리헨션 조건문\n",
    "ls=range(10)\n",
    "[data for data in ls if data%2]"
   ]
  },
  {
   "cell_type": "code",
   "execution_count": 25,
   "id": "690e7030",
   "metadata": {},
   "outputs": [
    {
     "data": {
      "text/plain": [
       "['clear', 'copy', 'count']"
      ]
     },
     "execution_count": 25,
     "metadata": {},
     "output_type": "execute_result"
    }
   ],
   "source": [
    "ls=[1,2,3]\n",
    "[func for func in dir(ls) if (func[:2]!='__') & (func[0]=='c')]"
   ]
  }
 ],
 "metadata": {
  "kernelspec": {
   "display_name": "Python 3 (ipykernel)",
   "language": "python",
   "name": "python3"
  },
  "language_info": {
   "codemirror_mode": {
    "name": "ipython",
    "version": 3
   },
   "file_extension": ".py",
   "mimetype": "text/x-python",
   "name": "python",
   "nbconvert_exporter": "python",
   "pygments_lexer": "ipython3",
   "version": "3.9.13"
  }
 },
 "nbformat": 4,
 "nbformat_minor": 5
}
