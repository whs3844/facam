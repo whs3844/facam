{
 "cells": [
  {
   "cell_type": "markdown",
   "id": "5bfd0b61",
   "metadata": {},
   "source": [
    "#### Get 요청 : 데이터를 URL에 초함하여 전달(주로 리소스 요청에 사용)\n",
    "\n",
    "#### Post 요청 : 데이터를 Form data에 포함하여 전달(주로 로그인에 사용)"
   ]
  },
  {
   "cell_type": "markdown",
   "id": "77b4d0a0",
   "metadata": {},
   "source": [
    "#### 태그(Tag)란?\n",
    "**HTML 문서의 기본 블락**\n",
    "브라우저에게 어떻게 렌더링(화면에 표시)될지 전달\n",
    "\n",
    "- <태그명 속성1=\"속성값1\" 속성2=\"속성값2\">Value</태그명>\n",
    "- <태그명 속성1=\"속성값1\" 속성2=\"속성값2\"/>"
   ]
  }
 ],
 "metadata": {
  "kernelspec": {
   "display_name": "Python 3 (ipykernel)",
   "language": "python",
   "name": "python3"
  },
  "language_info": {
   "codemirror_mode": {
    "name": "ipython",
    "version": 3
   },
   "file_extension": ".py",
   "mimetype": "text/x-python",
   "name": "python",
   "nbconvert_exporter": "python",
   "pygments_lexer": "ipython3",
   "version": "3.9.13"
  }
 },
 "nbformat": 4,
 "nbformat_minor": 5
}
