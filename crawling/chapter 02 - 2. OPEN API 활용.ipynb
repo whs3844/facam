{
 "cells": [
  {
   "cell_type": "markdown",
   "id": "a33257e3",
   "metadata": {},
   "source": [
    "**공공데이터 포털 OPEN API 사용하기**\n",
    "1. 공공데이터 포털 회원가입/로그인(https://www.data.go.kr/)\n",
    "2. API 사용 요청 / 키 발급\n",
    "3. API 문서 확인\n",
    "4. API 테스트 및 개발"
   ]
  },
  {
   "cell_type": "markdown",
   "id": "0fb85659",
   "metadata": {},
   "source": [
    "**Endpoint 확인하기**\n",
    " - API가 서비스되는 서버의 IP 혹은 domain 주소"
   ]
  },
  {
   "cell_type": "code",
   "execution_count": 6,
   "id": "cc2bb420",
   "metadata": {},
   "outputs": [
    {
     "name": "stdout",
     "output_type": "stream",
     "text": [
      "https://apis.data.go.kr/B551011/EngService/areaBasedList?serviceKey=viJf7fm2QwvL2FPvNh93yG%2Fb%2BhoGz6xmOEhU2HqQFD2PBKKRZVRdaS939QadYny9AQP3cSounsGLHrXhk5YkRw%3D%3D&numOfRows=10&pageNo=1&MobileOS=ETC&MobileApp=AppTest&_type=json&listYN=Y&arrange=C&_type=json\n"
     ]
    }
   ],
   "source": [
    "endpoint='https://apis.data.go.kr/B551011/EngService/areaBasedList?serviceKey={}&numOfRows=10&pageNo=1&MobileOS=ETC&MobileApp=AppTest&_type=json&listYN=Y&arrange=C&_type=json'.format(service_key)\n",
    "print(endpoint)"
   ]
  },
  {
   "cell_type": "markdown",
   "id": "5b388592",
   "metadata": {},
   "source": [
    "**key 값 확인하기**\n",
    "- 서비스 호출 트래킹할 목적이나 악의적인 사용을 금지할 목적으로 주로 사용\n",
    "- 새로 발급받은 키는 1시간 이후 사용 가능"
   ]
  },
  {
   "cell_type": "code",
   "execution_count": 5,
   "id": "4d4256d2",
   "metadata": {},
   "outputs": [],
   "source": [
    "service_key='viJf7fm2QwvL2FPvNh93yG%2Fb%2BhoGz6xmOEhU2HqQFD2PBKKRZVRdaS939QadYny9AQP3cSounsGLHrXhk5YkRw%3D%3D'"
   ]
  },
  {
   "cell_type": "markdown",
   "id": "01074460",
   "metadata": {},
   "source": [
    "**Parameter 확인하기**\n",
    " - API 호출에 필요한 parameter 값 확인 및 구성"
   ]
  },
  {
   "cell_type": "code",
   "execution_count": 18,
   "id": "bbfc7429",
   "metadata": {},
   "outputs": [
    {
     "name": "stderr",
     "output_type": "stream",
     "text": [
      "C:\\Users\\whs38\\anaconda3\\lib\\site-packages\\urllib3\\connectionpool.py:1045: InsecureRequestWarning: Unverified HTTPS request is being made to host 'apis.data.go.kr'. Adding certificate verification is strongly advised. See: https://urllib3.readthedocs.io/en/1.26.x/advanced-usage.html#ssl-warnings\n",
      "  warnings.warn(\n"
     ]
    },
    {
     "name": "stdout",
     "output_type": "stream",
     "text": [
      "200\n",
      "{\"response\": {\"header\":{\"resultCode\":\"0000\",\"resultMsg\":\"OK\"},\"body\": {\"items\": {\"item\":[{\"addr1\":\"17-11, Jeodo-gil, Sacheon-si, Gyeongsangnam-do\",\"addr2\":\"\",\"areacode\":\"36\",\"cat1\":\"A01\",\"cat2\":\"A0101\",\"cat3\":\"A01011300\",\"contentid\":\"1937457\",\"contenttypeid\":\"76\",\"createdtime\":\"20140728195507\",\"firstimage\":\"http://tong.visitkorea.or.kr/cms/resource/61/2372761_image2_1.JPG\",\"firstimage2\":\"http://tong.visitkorea.or.kr/cms/resource/61/2372761_image2_1.JPG\",\"mapx\":\"128.0305844038\",\"mapy\":\"34.9435614116\",\"mlevel\":\"6\",\"modifiedtime\":\"20221229182526\",\"readcount\":22109,\"sigungucode\":\"8\",\"tel\":\"+82-55-835-1023\",\"title\":\"Jeodo Island (저도(딱섬))\",\"zipcode\":\"52570\"},{\"addr1\":\"10-3, Sangju-ro, Namhae-gun, Gyeongsangnam-do\",\"addr2\":\"\",\"areacode\":\"36\",\"cat1\":\"A01\",\"cat2\":\"A0101\",\"cat3\":\"A01011200\",\"contentid\":\"264621\",\"contenttypeid\":\"76\",\"createdtime\":\"20070522021626\",\"firstimage\":\"\",\"firstimage2\":\"\",\"mapx\":\"127.9874688864\",\"mapy\":\"34.7222160000\",\"mlevel\":\"6\",\"modifiedtime\":\"20221229175906\",\"readcount\":27829,\"sigungucode\":\"5\",\"tel\":\"+82-55-863-3573\",\"title\":\"Sangju Silver Sand Beach (상주 은모래비치)\",\"zipcode\":\"52440\"},{\"addr1\":\"15-5, Araealteo-gil, Goryeong-gun, Gyeongsangbuk-do\",\"addr2\":\"\",\"areacode\":\"35\",\"cat1\":\"A02\",\"cat2\":\"A0201\",\"cat3\":\"A02010700\",\"contentid\":\"1685262\",\"contenttypeid\":\"76\",\"createdtime\":\"20120802185354\",\"firstimage\":\"http://tong.visitkorea.or.kr/cms/resource/62/2493262_image2_1.jpg\",\"firstimage2\":\"http://tong.visitkorea.or.kr/cms/resource/62/2493262_image2_1.jpg\",\"mapx\":\"128.2921603954\",\"mapy\":\"35.7128155575\",\"mlevel\":\"6\",\"modifiedtime\":\"20221229175148\",\"readcount\":9430,\"sigungucode\":\"3\",\"tel\":\"+82-54-955-2201\",\"title\":\"Goryeong Janggi-ri Rock Art (고령 장기리 암각화)\",\"zipcode\":\"40134\"},{\"addr1\":\"139, Pyeonghwagongwon-ro, Gimpo-si, Gyeonggi-do\",\"addr2\":\"\",\"areacode\":\"31\",\"cat1\":\"A01\",\"cat2\":\"A0101\",\"cat3\":\"A01010400\",\"contentid\":\"1426597\",\"contenttypeid\":\"76\",\"createdtime\":\"20111103230910\",\"firstimage\":\"\",\"firstimage2\":\"\",\"mapx\":\"126.5940956030\",\"mapy\":\"37.7432407104\",\"mlevel\":\"7\",\"modifiedtime\":\"20221229173558\",\"readcount\":20514,\"sigungucode\":\"8\",\"tel\":\"+82-31-988-6128\",\"title\":\"Aegibong Peak (Gimpo Section) (애기봉 (김포))\",\"zipcode\":\"10004\"},{\"addr1\":\"129, Bongha-ro, Gimhae-si, Gyeongsangnam-do\",\"addr2\":\"\",\"areacode\":\"36\",\"cat1\":\"A02\",\"cat2\":\"A0201\",\"cat3\":\"A02010500\",\"contentid\":\"708737\",\"contenttypeid\":\"76\",\"createdtime\":\"20090321013129\",\"firstimage\":\"\",\"firstimage2\":\"\",\"mapx\":\"128.7712292248\",\"mapy\":\"35.3144525363\",\"mlevel\":\"6\",\"modifiedtime\":\"20221229172446\",\"readcount\":19028,\"sigungucode\":\"4\",\"tel\":\"+82-1688-0523\",\"title\":\"Birthplace of the16th President of Korea, Roh Moo-hyun (진영 봉하마을과 노무현 대통령 생가)\",\"zipcode\":\"50856\"},{\"addr1\":\"275-51, Jillye-ro, Jillye-myeon, Gimhae-si, Gyeongsangnam-do\",\"addr2\":\"\",\"areacode\":\"36\",\"cat1\":\"A02\",\"cat2\":\"A0206\",\"cat3\":\"A02060500\",\"contentid\":\"708804\",\"contenttypeid\":\"78\",\"createdtime\":\"20090321020855\",\"firstimage\":\"\",\"firstimage2\":\"\",\"mapx\":\"128.7442777866\",\"mapy\":\"35.2496676522\",\"mlevel\":\"6\",\"modifiedtime\":\"20221229171141\",\"readcount\":12887,\"sigungucode\":\"4\",\"tel\":\"\",\"title\":\"Clayarch Gimhae Museum (클레이아크 김해미술관)\",\"zipcode\":\"50874\"},{\"addr1\":\"Nabeup-ri, Jeju-si, Jeju-do\",\"addr2\":\"\",\"areacode\":\"39\",\"cat1\":\"A01\",\"cat2\":\"A0101\",\"cat3\":\"A01010500\",\"contentid\":\"1889466\",\"contenttypeid\":\"76\",\"createdtime\":\"20140127181659\",\"firstimage\":\"http://tong.visitkorea.or.kr/cms/resource/07/2513607_image2_1.jpg\",\"firstimage2\":\"http://tong.visitkorea.or.kr/cms/resource/07/2513607_image2_1.jpg\",\"mapx\":\"126.3307108375\",\"mapy\":\"33.4338956949\",\"mlevel\":\"6\",\"modifiedtime\":\"20221229170121\",\"readcount\":24838,\"sigungucode\":\"4\",\"tel\":\"+82-64-740-6000\",\"title\":\"Geumsan Park (Nabeup Subtropical Forest Zone) (금산공원 (납읍난대림지대))\",\"zipcode\":\"63035\"},{\"addr1\":\"Wongil-ri, Pyeongchang-gun, Gangwon-do\",\"addr2\":\"\",\"areacode\":\"32\",\"cat1\":\"A02\",\"cat2\":\"A0201\",\"cat3\":\"A02010600\",\"contentid\":\"1391570\",\"contenttypeid\":\"76\",\"createdtime\":\"20110924012340\",\"firstimage\":\"http://tong.visitkorea.or.kr/cms/resource/48/181148_image2_1.jpg\",\"firstimage2\":\"http://tong.visitkorea.or.kr/cms/resource/48/181148_image3_1.jpg\",\"mapx\":\"128.3721654297\",\"mapy\":\"37.6145022276\",\"mlevel\":\"6\",\"modifiedtime\":\"20221229165702\",\"readcount\":32006,\"sigungucode\":\"15\",\"tel\":\"+82-33-335-9669\",\"title\":\"Lee Hyo-seok Culture Village (이효석문화마을)\",\"zipcode\":\"25304\"},{\"addr1\":\"47, Changri-gil, Jindo-gun, Jeollanam-do\",\"addr2\":\"\",\"areacode\":\"38\",\"cat1\":\"A01\",\"cat2\":\"A0101\",\"cat3\":\"A01011300\",\"contentid\":\"1768508\",\"contenttypeid\":\"76\",\"createdtime\":\"20121217223621\",\"firstimage\":\"http://tong.visitkorea.or.kr/cms/resource/86/191486_image2_1.jpg\",\"firstimage2\":\"http://tong.visitkorea.or.kr/cms/resource/86/191486_image3_1.jpg\",\"mapx\":\"126.0477937196\",\"mapy\":\"34.2967006733\",\"mlevel\":\"6\",\"modifiedtime\":\"20221229165047\",\"readcount\":22269,\"sigungucode\":\"21\",\"tel\":\"+82-61-540-3045\",\"title\":\"Hajodo Island (하조도)\",\"zipcode\":\"58956\"},{\"addr1\":\"85, Gwangnaru-ro 56-gil, Gwangjin-gu, Seoul\",\"addr2\":\"(Guui-dong)\",\"areacode\":\"1\",\"cat1\":\"A04\",\"cat2\":\"A0401\",\"cat3\":\"A04010600\",\"contentid\":\"1843991\",\"contenttypeid\":\"79\",\"createdtime\":\"20130910002937\",\"firstimage\":\"http://tong.visitkorea.or.kr/cms/resource/65/1984465_image2_1.jpg\",\"firstimage2\":\"http://tong.visitkorea.or.kr/cms/resource/65/1984465_image3_1.jpg\",\"mapx\":\"127.0957612191\",\"mapy\":\"37.5355988375\",\"mlevel\":\"6\",\"modifiedtime\":\"20221229164820\",\"readcount\":63625,\"sigungucode\":\"6\",\"tel\":\"+82-2-3424-0114\",\"title\":\"Techno Mart - Gangbyeon Branch (테크노마트-강변점)\",\"zipcode\":\"05116\"}]},\"numOfRows\":10,\"pageNo\":1,\"totalCount\":6289}}}\n"
     ]
    },
    {
     "data": {
      "text/plain": [
       "{'item': [{'addr1': '17-11, Jeodo-gil, Sacheon-si, Gyeongsangnam-do',\n",
       "   'addr2': '',\n",
       "   'areacode': '36',\n",
       "   'cat1': 'A01',\n",
       "   'cat2': 'A0101',\n",
       "   'cat3': 'A01011300',\n",
       "   'contentid': '1937457',\n",
       "   'contenttypeid': '76',\n",
       "   'createdtime': '20140728195507',\n",
       "   'firstimage': 'http://tong.visitkorea.or.kr/cms/resource/61/2372761_image2_1.JPG',\n",
       "   'firstimage2': 'http://tong.visitkorea.or.kr/cms/resource/61/2372761_image2_1.JPG',\n",
       "   'mapx': '128.0305844038',\n",
       "   'mapy': '34.9435614116',\n",
       "   'mlevel': '6',\n",
       "   'modifiedtime': '20221229182526',\n",
       "   'readcount': 22109,\n",
       "   'sigungucode': '8',\n",
       "   'tel': '+82-55-835-1023',\n",
       "   'title': 'Jeodo Island (저도(딱섬))',\n",
       "   'zipcode': '52570'},\n",
       "  {'addr1': '10-3, Sangju-ro, Namhae-gun, Gyeongsangnam-do',\n",
       "   'addr2': '',\n",
       "   'areacode': '36',\n",
       "   'cat1': 'A01',\n",
       "   'cat2': 'A0101',\n",
       "   'cat3': 'A01011200',\n",
       "   'contentid': '264621',\n",
       "   'contenttypeid': '76',\n",
       "   'createdtime': '20070522021626',\n",
       "   'firstimage': '',\n",
       "   'firstimage2': '',\n",
       "   'mapx': '127.9874688864',\n",
       "   'mapy': '34.7222160000',\n",
       "   'mlevel': '6',\n",
       "   'modifiedtime': '20221229175906',\n",
       "   'readcount': 27829,\n",
       "   'sigungucode': '5',\n",
       "   'tel': '+82-55-863-3573',\n",
       "   'title': 'Sangju Silver Sand Beach (상주 은모래비치)',\n",
       "   'zipcode': '52440'},\n",
       "  {'addr1': '15-5, Araealteo-gil, Goryeong-gun, Gyeongsangbuk-do',\n",
       "   'addr2': '',\n",
       "   'areacode': '35',\n",
       "   'cat1': 'A02',\n",
       "   'cat2': 'A0201',\n",
       "   'cat3': 'A02010700',\n",
       "   'contentid': '1685262',\n",
       "   'contenttypeid': '76',\n",
       "   'createdtime': '20120802185354',\n",
       "   'firstimage': 'http://tong.visitkorea.or.kr/cms/resource/62/2493262_image2_1.jpg',\n",
       "   'firstimage2': 'http://tong.visitkorea.or.kr/cms/resource/62/2493262_image2_1.jpg',\n",
       "   'mapx': '128.2921603954',\n",
       "   'mapy': '35.7128155575',\n",
       "   'mlevel': '6',\n",
       "   'modifiedtime': '20221229175148',\n",
       "   'readcount': 9430,\n",
       "   'sigungucode': '3',\n",
       "   'tel': '+82-54-955-2201',\n",
       "   'title': 'Goryeong Janggi-ri Rock Art (고령 장기리 암각화)',\n",
       "   'zipcode': '40134'},\n",
       "  {'addr1': '139, Pyeonghwagongwon-ro, Gimpo-si, Gyeonggi-do',\n",
       "   'addr2': '',\n",
       "   'areacode': '31',\n",
       "   'cat1': 'A01',\n",
       "   'cat2': 'A0101',\n",
       "   'cat3': 'A01010400',\n",
       "   'contentid': '1426597',\n",
       "   'contenttypeid': '76',\n",
       "   'createdtime': '20111103230910',\n",
       "   'firstimage': '',\n",
       "   'firstimage2': '',\n",
       "   'mapx': '126.5940956030',\n",
       "   'mapy': '37.7432407104',\n",
       "   'mlevel': '7',\n",
       "   'modifiedtime': '20221229173558',\n",
       "   'readcount': 20514,\n",
       "   'sigungucode': '8',\n",
       "   'tel': '+82-31-988-6128',\n",
       "   'title': 'Aegibong Peak (Gimpo Section) (애기봉 (김포))',\n",
       "   'zipcode': '10004'},\n",
       "  {'addr1': '129, Bongha-ro, Gimhae-si, Gyeongsangnam-do',\n",
       "   'addr2': '',\n",
       "   'areacode': '36',\n",
       "   'cat1': 'A02',\n",
       "   'cat2': 'A0201',\n",
       "   'cat3': 'A02010500',\n",
       "   'contentid': '708737',\n",
       "   'contenttypeid': '76',\n",
       "   'createdtime': '20090321013129',\n",
       "   'firstimage': '',\n",
       "   'firstimage2': '',\n",
       "   'mapx': '128.7712292248',\n",
       "   'mapy': '35.3144525363',\n",
       "   'mlevel': '6',\n",
       "   'modifiedtime': '20221229172446',\n",
       "   'readcount': 19028,\n",
       "   'sigungucode': '4',\n",
       "   'tel': '+82-1688-0523',\n",
       "   'title': 'Birthplace of the16th President of Korea, Roh Moo-hyun (진영 봉하마을과 노무현 대통령 생가)',\n",
       "   'zipcode': '50856'},\n",
       "  {'addr1': '275-51, Jillye-ro, Jillye-myeon, Gimhae-si, Gyeongsangnam-do',\n",
       "   'addr2': '',\n",
       "   'areacode': '36',\n",
       "   'cat1': 'A02',\n",
       "   'cat2': 'A0206',\n",
       "   'cat3': 'A02060500',\n",
       "   'contentid': '708804',\n",
       "   'contenttypeid': '78',\n",
       "   'createdtime': '20090321020855',\n",
       "   'firstimage': '',\n",
       "   'firstimage2': '',\n",
       "   'mapx': '128.7442777866',\n",
       "   'mapy': '35.2496676522',\n",
       "   'mlevel': '6',\n",
       "   'modifiedtime': '20221229171141',\n",
       "   'readcount': 12887,\n",
       "   'sigungucode': '4',\n",
       "   'tel': '',\n",
       "   'title': 'Clayarch Gimhae Museum (클레이아크 김해미술관)',\n",
       "   'zipcode': '50874'},\n",
       "  {'addr1': 'Nabeup-ri, Jeju-si, Jeju-do',\n",
       "   'addr2': '',\n",
       "   'areacode': '39',\n",
       "   'cat1': 'A01',\n",
       "   'cat2': 'A0101',\n",
       "   'cat3': 'A01010500',\n",
       "   'contentid': '1889466',\n",
       "   'contenttypeid': '76',\n",
       "   'createdtime': '20140127181659',\n",
       "   'firstimage': 'http://tong.visitkorea.or.kr/cms/resource/07/2513607_image2_1.jpg',\n",
       "   'firstimage2': 'http://tong.visitkorea.or.kr/cms/resource/07/2513607_image2_1.jpg',\n",
       "   'mapx': '126.3307108375',\n",
       "   'mapy': '33.4338956949',\n",
       "   'mlevel': '6',\n",
       "   'modifiedtime': '20221229170121',\n",
       "   'readcount': 24838,\n",
       "   'sigungucode': '4',\n",
       "   'tel': '+82-64-740-6000',\n",
       "   'title': 'Geumsan Park (Nabeup Subtropical Forest Zone) (금산공원 (납읍난대림지대))',\n",
       "   'zipcode': '63035'},\n",
       "  {'addr1': 'Wongil-ri, Pyeongchang-gun, Gangwon-do',\n",
       "   'addr2': '',\n",
       "   'areacode': '32',\n",
       "   'cat1': 'A02',\n",
       "   'cat2': 'A0201',\n",
       "   'cat3': 'A02010600',\n",
       "   'contentid': '1391570',\n",
       "   'contenttypeid': '76',\n",
       "   'createdtime': '20110924012340',\n",
       "   'firstimage': 'http://tong.visitkorea.or.kr/cms/resource/48/181148_image2_1.jpg',\n",
       "   'firstimage2': 'http://tong.visitkorea.or.kr/cms/resource/48/181148_image3_1.jpg',\n",
       "   'mapx': '128.3721654297',\n",
       "   'mapy': '37.6145022276',\n",
       "   'mlevel': '6',\n",
       "   'modifiedtime': '20221229165702',\n",
       "   'readcount': 32006,\n",
       "   'sigungucode': '15',\n",
       "   'tel': '+82-33-335-9669',\n",
       "   'title': 'Lee Hyo-seok Culture Village (이효석문화마을)',\n",
       "   'zipcode': '25304'},\n",
       "  {'addr1': '47, Changri-gil, Jindo-gun, Jeollanam-do',\n",
       "   'addr2': '',\n",
       "   'areacode': '38',\n",
       "   'cat1': 'A01',\n",
       "   'cat2': 'A0101',\n",
       "   'cat3': 'A01011300',\n",
       "   'contentid': '1768508',\n",
       "   'contenttypeid': '76',\n",
       "   'createdtime': '20121217223621',\n",
       "   'firstimage': 'http://tong.visitkorea.or.kr/cms/resource/86/191486_image2_1.jpg',\n",
       "   'firstimage2': 'http://tong.visitkorea.or.kr/cms/resource/86/191486_image3_1.jpg',\n",
       "   'mapx': '126.0477937196',\n",
       "   'mapy': '34.2967006733',\n",
       "   'mlevel': '6',\n",
       "   'modifiedtime': '20221229165047',\n",
       "   'readcount': 22269,\n",
       "   'sigungucode': '21',\n",
       "   'tel': '+82-61-540-3045',\n",
       "   'title': 'Hajodo Island (하조도)',\n",
       "   'zipcode': '58956'},\n",
       "  {'addr1': '85, Gwangnaru-ro 56-gil, Gwangjin-gu, Seoul',\n",
       "   'addr2': '(Guui-dong)',\n",
       "   'areacode': '1',\n",
       "   'cat1': 'A04',\n",
       "   'cat2': 'A0401',\n",
       "   'cat3': 'A04010600',\n",
       "   'contentid': '1843991',\n",
       "   'contenttypeid': '79',\n",
       "   'createdtime': '20130910002937',\n",
       "   'firstimage': 'http://tong.visitkorea.or.kr/cms/resource/65/1984465_image2_1.jpg',\n",
       "   'firstimage2': 'http://tong.visitkorea.or.kr/cms/resource/65/1984465_image3_1.jpg',\n",
       "   'mapx': '127.0957612191',\n",
       "   'mapy': '37.5355988375',\n",
       "   'mlevel': '6',\n",
       "   'modifiedtime': '20221229164820',\n",
       "   'readcount': 63625,\n",
       "   'sigungucode': '6',\n",
       "   'tel': '+82-2-3424-0114',\n",
       "   'title': 'Techno Mart - Gangbyeon Branch (테크노마트-강변점)',\n",
       "   'zipcode': '05116'}]}"
      ]
     },
     "execution_count": 18,
     "metadata": {},
     "output_type": "execute_result"
    }
   ],
   "source": [
    "import requests\n",
    "endpoint='https://apis.data.go.kr/B551011/EngService/areaBasedList?serviceKey={}&numOfRows=10&pageNo={}&MobileOS=ETC&MobileApp=AppTest&_type=json&listYN=Y&arrange=C&_type=json'.format(service_key,1)\n",
    "\n",
    "resp = requests.get(endpoint,verify=False)\n",
    "\n",
    "print(resp.status_code)\n",
    "print(resp.text)\n"
   ]
  },
  {
   "cell_type": "markdown",
   "id": "f5b9d035",
   "metadata": {},
   "source": [
    "**요청 및 Response 확인**\n",
    " - requests 모듈을 활용하여 API 호출\n",
    " - response 확인하여 원하는 정보 추출\n",
    " - json 데이터의 경우, python dictionary로 변경하여 사용가능"
   ]
  },
  {
   "cell_type": "code",
   "execution_count": null,
   "id": "53fb6f99",
   "metadata": {},
   "outputs": [],
   "source": [
    "#API를 json 타입으로 불러 왔음(&_type=json)\n",
    "data=resp.json()#type:dict\n",
    "data['response']['body']['items']"
   ]
  }
 ],
 "metadata": {
  "kernelspec": {
   "display_name": "Python 3 (ipykernel)",
   "language": "python",
   "name": "python3"
  },
  "language_info": {
   "codemirror_mode": {
    "name": "ipython",
    "version": 3
   },
   "file_extension": ".py",
   "mimetype": "text/x-python",
   "name": "python",
   "nbconvert_exporter": "python",
   "pygments_lexer": "ipython3",
   "version": "3.9.13"
  }
 },
 "nbformat": 4,
 "nbformat_minor": 5
}
