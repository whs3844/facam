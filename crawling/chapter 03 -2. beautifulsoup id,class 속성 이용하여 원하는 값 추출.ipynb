{
 "cells": [
  {
   "cell_type": "code",
   "execution_count": 1,
   "id": "7aed1bb2",
   "metadata": {},
   "outputs": [],
   "source": [
    "import requests\n",
    "from bs4 import BeautifulSoup"
   ]
  },
  {
   "cell_type": "markdown",
   "id": "48ad10cc",
   "metadata": {},
   "source": [
    "#### **다음 뉴스 데이터 추출**\n",
    "- 뉴스기사에서 제목, 작성자, 작성일, 댓글 개수 추출\n",
    "- 뉴스링크\n",
    "- tag를 추출할때는 가장 그 tag를 쉽게 특정할 수 있는 속성을 사용\n",
    "    - id의 경우 원칙적으로 한 html 문서 내에서 유일"
   ]
  },
  {
   "cell_type": "markdown",
   "id": "13b324ef",
   "metadata": {},
   "source": [
    "- id, class 속성으로 tag 찾기\n",
    "    - 타이틀\n",
    "    - 작성자, 작성일"
   ]
  },
  {
   "cell_type": "code",
   "execution_count": 2,
   "id": "977d0612",
   "metadata": {},
   "outputs": [
    {
     "data": {
      "text/plain": [
       "'일론머스크 \"테슬라에서 넷플릭스·유튜브 즐길 날 온다\"'"
      ]
     },
     "execution_count": 2,
     "metadata": {},
     "output_type": "execute_result"
    }
   ],
   "source": [
    "url='https://news.v.daum.net/v/20190728165812603'\n",
    "resp=requests.get(url)\n",
    "resp.text\n",
    "\n",
    "soup=BeautifulSoup(resp.text)\n",
    "\n",
    "soup.find('h3',class_='tit_view').get_text()"
   ]
  },
  {
   "cell_type": "markdown",
   "id": "80ddaa28",
   "metadata": {},
   "source": [
    "**작성자와 작성일은 태그와 class가 같음**"
   ]
  },
  {
   "cell_type": "code",
   "execution_count": 3,
   "id": "37ae9997",
   "metadata": {},
   "outputs": [
    {
     "data": {
      "text/plain": [
       "'이민우'"
      ]
     },
     "execution_count": 3,
     "metadata": {},
     "output_type": "execute_result"
    }
   ],
   "source": [
    "url='https://news.v.daum.net/v/20190728165812603'\n",
    "resp=requests.get(url)\n",
    "\n",
    "soup=BeautifulSoup(resp.text)\n",
    "\n",
    "soup.find_all('span',class_='txt_info')[0].get_text()"
   ]
  },
  {
   "cell_type": "code",
   "execution_count": 4,
   "id": "d278e20f",
   "metadata": {},
   "outputs": [
    {
     "data": {
      "text/plain": [
       "'입력 2019. 7. 28. 16:58'"
      ]
     },
     "execution_count": 4,
     "metadata": {},
     "output_type": "execute_result"
    }
   ],
   "source": [
    "url='https://news.v.daum.net/v/20190728165812603'\n",
    "resp=requests.get(url)\n",
    "\n",
    "soup=BeautifulSoup(resp.text)\n",
    "\n",
    "soup.find_all('span',class_='txt_info')[1].get_text()"
   ]
  },
  {
   "cell_type": "code",
   "execution_count": 5,
   "id": "4ad79b87",
   "metadata": {},
   "outputs": [
    {
     "data": {
      "text/plain": [
       "<span class=\"txt_info\">이민우</span>"
      ]
     },
     "execution_count": 5,
     "metadata": {},
     "output_type": "execute_result"
    }
   ],
   "source": [
    "url='https://news.v.daum.net/v/20190728165812603'\n",
    "resp=requests.get(url)\n",
    "\n",
    "soup = BeautifulSoup(resp.text)\n",
    "info = soup.find('div', class_='info_view')\n",
    "info.find('span', class_='txt_info')"
   ]
  },
  {
   "cell_type": "code",
   "execution_count": 6,
   "id": "9f7d35fd",
   "metadata": {},
   "outputs": [
    {
     "data": {
      "text/plain": [
       "' [아시아경제 이민우 기자] 일론 머스크 테슬라 최고경영자(CEO)가 자사 전기 자동차 모델에 넷플릭스와 유튜브 등 온라인동영상서비스(OTT)를 탑재할 것이라고 예고했다. 단순히 자율 주행 전기차가 단순히 주행을 위한 정보를 알려주는 것을 넘어 각종 영상 콘텐츠를 즐기는 공간으로도 확장하겠다는 전략으로 풀이된다.27일(현지시간) 더버지 등 주요 외신들에 따르면 머스크 CEO는 자신의 트위터를 통해 이 같은 계획을 밝혔다. 그는 \"자동차가 정차했을 때 넷플릭스와 유튜브를 감상할 수 있는 기능이 조만간 추가될 것\"이라며 \"편안한 좌석과 서라운드 사운드 오디오를 통해 영화관과 같은 느낌을 받을 수 있을 것\"이라고 강조했다.테슬라가 이처럼 콘텐츠 방면으로 확장하려 든 것은 이번이 처음이 아니다. 지난달 세계 최대 게임쇼 E3에서는 이미 운전자가 \\'폴아웃 쉘터\\'라는 게임을 할 수 있을 것이라고 발표한 바 있다. 이후에도 최근 게임업체 아타리사(社)의 자동차 경주 게임 ‘폴포지션’, 슈팅게임 ‘템페스트’, ‘미사일커맨드’ 등 고전 게임을 제공하기도 했다. 운전대로 게임을 조작하는 방식으로, 차가 주차돼 있을 경우에만 즐길 수 있다.이번 영상 콘텐츠는 주행 중에도 감상할 수 있도록 하는 방안을 고려하고 있다. 테슬라 측은 규제당국이 자율주행에 대해 완전히 승인하면 차량이 움직일 때에도 승객이 동영상을 즐길 수 있을 것이라고 설명했다.하지만 아직까지 자율주행차의 안전에 대한 우려는 완전히 걷혀지지 않은 상황이다. 지난 2017년 차량공유 서비스 우버의 자율주행 시범차량이 보행자와 충돌한 사고가 발생한 바 있다. 게다가 당시 시험 운전자는 디즈니의 동영상 스트리밍 서비스인 \\'훌루\\'를 이용하고 있던 것으로 밝혀졌다.이민우 기자 letzwin@asiae.co.kr'"
      ]
     },
     "execution_count": 6,
     "metadata": {},
     "output_type": "execute_result"
    }
   ],
   "source": [
    "url='https://news.v.daum.net/v/20190728165812603'\n",
    "resp=requests.get(url)\n",
    "\n",
    "soup = BeautifulSoup(resp.text)\n",
    "\n",
    "container=soup.find('div',class_='article_view')\n",
    "contents=' '\n",
    "for  p in container.find_all('p'):\n",
    "    contents+=p.get_text().strip()\n",
    "contents"
   ]
  },
  {
   "cell_type": "markdown",
   "id": "9eb239e6",
   "metadata": {},
   "source": [
    "* CSS를 이용하여 tag 찾기\n",
    " - select, select_one함수 사용 \n",
    " - css selector 사용법\n",
    "   - 태그명 찾기 tag \n",
    "   - 자손 태그 찾기 - 자손 관계 (tag tag)\n",
    "   - 자식 태그 찾기 - 다이렉트 자식 관계 (tag > tag)\n",
    "   - 아이디 찾기 #id\n",
    "   - 클래스 찾기 .class\n",
    "   - 속성값 찾기 [name='test']\n",
    "     - 속성값 prefix 찾기 [name ^='test']\n",
    "     - 속성값 suffix 찾기 [name $='test']\n",
    "     - 속성값 substring 찾기 [name *='test]\n",
    "   - n번째 자식 tag 찾기 :nth-child(n)"
   ]
  },
  {
   "cell_type": "code",
   "execution_count": 7,
   "id": "aa43d949",
   "metadata": {},
   "outputs": [
    {
     "data": {
      "text/plain": [
       "[<h3 class=\"tit_view\" data-translation=\"true\">일론머스크 \"테슬라에서 넷플릭스·유튜브 즐길 날 온다\"</h3>,\n",
       " <h3 class=\"tit_box\">이 시각 추천뉴스</h3>,\n",
       " <h3 class=\"tit_box\">이 주제에 주목한 다른 언론사 뉴스</h3>,\n",
       " <h3 class=\"tit_box\">서비스 바로가기</h3>]"
      ]
     },
     "execution_count": 7,
     "metadata": {},
     "output_type": "execute_result"
    }
   ],
   "source": [
    "url='https://news.v.daum.net/v/20190728165812603'\n",
    "resp=requests.get(url)\n",
    "\n",
    "soup = BeautifulSoup(resp.text)\n",
    "soup.select('h3')"
   ]
  },
  {
   "cell_type": "code",
   "execution_count": 8,
   "id": "1b084776",
   "metadata": {},
   "outputs": [
    {
     "data": {
      "text/plain": [
       "[<p class=\"link_figure\"><img alt=\"일론 머스크 테슬라 최고경영자(CEO) [이미지출처=로이터연합뉴스]\" class=\"thumb_g_article\" data-org-src=\"https://t1.daumcdn.net/news/201907/28/akn/20190728165813230vjsq.jpg\" data-org-width=\"550\" dmcf-mid=\"NBMY3ZZhN4\" dmcf-mtype=\"image\" height=\"auto\" src=\"https://img2.daumcdn.net/thumb/R658x0.q70/?fname=https://t1.daumcdn.net/news/201907/28/akn/20190728165813230vjsq.jpg\" width=\"658\"/></p>,\n",
       " <p>[아시아경제 이민우 기자] 일론 머스크 테슬라 최고경영자(CEO)가 자사 전기 자동차 모델에 넷플릭스와 유튜브 등 온라인동영상서비스(OTT)를 탑재할 것이라고 예고했다. 단순히 자율 주행 전기차가 단순히 주행을 위한 정보를 알려주는 것을 넘어 각종 영상 콘텐츠를 즐기는 공간으로도 확장하겠다는 전략으로 풀이된다.</p>,\n",
       " <p>27일(현지시간) 더버지 등 주요 외신들에 따르면 머스크 CEO는 자신의 트위터를 통해 이 같은 계획을 밝혔다. 그는 \"자동차가 정차했을 때 넷플릭스와 유튜브를 감상할 수 있는 기능이 조만간 추가될 것\"이라며 \"편안한 좌석과 서라운드 사운드 오디오를 통해 영화관과 같은 느낌을 받을 수 있을 것\"이라고 강조했다.</p>,\n",
       " <p class=\"link_figure\"><img alt=\"(출처=일론 머스크 트위터 계정 캡쳐)\" class=\"thumb_g_article\" data-org-src=\"https://t1.daumcdn.net/news/201907/28/akn/20190728165813670hwxf.png\" data-org-width=\"550\" dmcf-mid=\"NRhnb5SRpx\" dmcf-mtype=\"image\" height=\"auto\" src=\"https://img2.daumcdn.net/thumb/R658x0.q70/?fname=https://t1.daumcdn.net/news/201907/28/akn/20190728165813670hwxf.png\" width=\"658\"/></p>,\n",
       " <p>테슬라가 이처럼 콘텐츠 방면으로 확장하려 든 것은 이번이 처음이 아니다. 지난달 세계 최대 게임쇼 E3에서는 이미 운전자가 '폴아웃 쉘터'라는 게임을 할 수 있을 것이라고 발표한 바 있다. 이후에도 최근 게임업체 아타리사(社)의 자동차 경주 게임 ‘폴포지션’, 슈팅게임 ‘템페스트’, ‘미사일커맨드’ 등 고전 게임을 제공하기도 했다. 운전대로 게임을 조작하는 방식으로, 차가 주차돼 있을 경우에만 즐길 수 있다.</p>,\n",
       " <p>이번 영상 콘텐츠는 주행 중에도 감상할 수 있도록 하는 방안을 고려하고 있다. 테슬라 측은 규제당국이 자율주행에 대해 완전히 승인하면 차량이 움직일 때에도 승객이 동영상을 즐길 수 있을 것이라고 설명했다.</p>,\n",
       " <p>하지만 아직까지 자율주행차의 안전에 대한 우려는 완전히 걷혀지지 않은 상황이다. 지난 2017년 차량공유 서비스 우버의 자율주행 시범차량이 보행자와 충돌한 사고가 발생한 바 있다. 게다가 당시 시험 운전자는 디즈니의 동영상 스트리밍 서비스인 '훌루'를 이용하고 있던 것으로 밝혀졌다.</p>,\n",
       " <p dmcf-pid=\"NUOWg8Qxyd\" dmcf-ptype=\"general\">이민우 기자 letzwin@asiae.co.kr</p>]"
      ]
     },
     "execution_count": 8,
     "metadata": {},
     "output_type": "execute_result"
    }
   ],
   "source": [
    "soup.select('.article_view p')"
   ]
  },
  {
   "cell_type": "code",
   "execution_count": 9,
   "id": "9c2745a1",
   "metadata": {},
   "outputs": [
    {
     "data": {
      "text/plain": [
       "[<h3 class=\"tit_view\" data-translation=\"true\">일론머스크 \"테슬라에서 넷플릭스·유튜브 즐길 날 온다\"</h3>]"
      ]
     },
     "execution_count": 9,
     "metadata": {},
     "output_type": "execute_result"
    }
   ],
   "source": [
    "soup.select('h3.tit_view')"
   ]
  },
  {
   "cell_type": "code",
   "execution_count": 10,
   "id": "37675863",
   "metadata": {},
   "outputs": [
    {
     "data": {
      "text/plain": [
       "[<h3 class=\"tit_view\" data-translation=\"true\">일론머스크 \"테슬라에서 넷플릭스·유튜브 즐길 날 온다\"</h3>]"
      ]
     },
     "execution_count": 10,
     "metadata": {},
     "output_type": "execute_result"
    }
   ],
   "source": [
    "soup.select('h3[class=\"tit_view\"]')"
   ]
  },
  {
   "cell_type": "code",
   "execution_count": 11,
   "id": "11da6caa",
   "metadata": {},
   "outputs": [
    {
     "data": {
      "text/plain": [
       "[<h3 class=\"tit_view\" data-translation=\"true\">일론머스크 \"테슬라에서 넷플릭스·유튜브 즐길 날 온다\"</h3>,\n",
       " <h3 class=\"tit_box\">이 시각 추천뉴스</h3>,\n",
       " <h3 class=\"tit_box\">이 주제에 주목한 다른 언론사 뉴스</h3>,\n",
       " <h3 class=\"tit_box\">서비스 바로가기</h3>]"
      ]
     },
     "execution_count": 11,
     "metadata": {},
     "output_type": "execute_result"
    }
   ],
   "source": [
    "#class가 t로 시작하는 것만\n",
    "soup.select('h3[class^=\"t\"]')"
   ]
  },
  {
   "cell_type": "code",
   "execution_count": 12,
   "id": "c1899617",
   "metadata": {},
   "outputs": [
    {
     "data": {
      "text/plain": [
       "[]"
      ]
     },
     "execution_count": 12,
     "metadata": {},
     "output_type": "execute_result"
    }
   ],
   "source": [
    "#class가 t로 시작하는 것만\n",
    "soup.select('h3[class^=\"tx\"]')"
   ]
  },
  {
   "cell_type": "code",
   "execution_count": 13,
   "id": "80686684",
   "metadata": {},
   "outputs": [
    {
     "data": {
      "text/plain": [
       "[]"
      ]
     },
     "execution_count": 13,
     "metadata": {},
     "output_type": "execute_result"
    }
   ],
   "source": [
    "#class가 t로 끝나는 것만\n",
    "soup.select('h3[class$=\"t\"]')"
   ]
  },
  {
   "cell_type": "code",
   "execution_count": 14,
   "id": "99527488",
   "metadata": {},
   "outputs": [
    {
     "data": {
      "text/plain": [
       "[<h3 class=\"tit_view\" data-translation=\"true\">일론머스크 \"테슬라에서 넷플릭스·유튜브 즐길 날 온다\"</h3>]"
      ]
     },
     "execution_count": 14,
     "metadata": {},
     "output_type": "execute_result"
    }
   ],
   "source": [
    "#class가 view로 끝나는 것만\n",
    "soup.select('h3[class$=view]')"
   ]
  },
  {
   "cell_type": "code",
   "execution_count": 15,
   "id": "09d9cbe5",
   "metadata": {},
   "outputs": [
    {
     "data": {
      "text/plain": [
       "[<h3 class=\"tit_view\" data-translation=\"true\">일론머스크 \"테슬라에서 넷플릭스·유튜브 즐길 날 온다\"</h3>]"
      ]
     },
     "execution_count": 15,
     "metadata": {},
     "output_type": "execute_result"
    }
   ],
   "source": [
    "#class가 view를 포함하는 것만\n",
    "soup.select('h3[class*=view]')"
   ]
  },
  {
   "cell_type": "code",
   "execution_count": 16,
   "id": "24a889b7",
   "metadata": {},
   "outputs": [
    {
     "data": {
      "text/plain": [
       "[<h3 class=\"tit_box\">이 시각 추천뉴스</h3>,\n",
       " <h3 class=\"tit_box\">이 주제에 주목한 다른 언론사 뉴스</h3>,\n",
       " <h3 class=\"tit_box\">서비스 바로가기</h3>]"
      ]
     },
     "execution_count": 16,
     "metadata": {},
     "output_type": "execute_result"
    }
   ],
   "source": [
    "#class가 box를 포함하는 것만\n",
    "soup.select('h3[class*=box]')"
   ]
  },
  {
   "cell_type": "code",
   "execution_count": 17,
   "id": "8eca624d",
   "metadata": {},
   "outputs": [
    {
     "name": "stdout",
     "output_type": "stream",
     "text": [
      "<span class=\"txt_info\">이민우</span>\n",
      "<span class=\"txt_info\">입력 <span class=\"num_date\">2019. 7. 28. 16:58</span></span>\n"
     ]
    }
   ],
   "source": [
    "print(soup.select('span.txt_info')[0])\n",
    "print(soup.select('span.txt_info')[1])"
   ]
  },
  {
   "cell_type": "code",
   "execution_count": 18,
   "id": "2b49774f",
   "metadata": {},
   "outputs": [
    {
     "data": {
      "text/plain": [
       "[<span class=\"txt_info\">이민우</span>]"
      ]
     },
     "execution_count": 18,
     "metadata": {},
     "output_type": "execute_result"
    }
   ],
   "source": [
    "soup.select('span.txt_info:nth-child(1)')"
   ]
  },
  {
   "cell_type": "markdown",
   "id": "1cb5b632",
   "metadata": {},
   "source": [
    "* 정규표현식으로 tag 찾기"
   ]
  },
  {
   "cell_type": "code",
   "execution_count": 19,
   "id": "a7e162a1",
   "metadata": {},
   "outputs": [],
   "source": [
    "import re"
   ]
  },
  {
   "cell_type": "code",
   "execution_count": 22,
   "id": "fcc34dae",
   "metadata": {
    "scrolled": true
   },
   "outputs": [
    {
     "data": {
      "text/plain": [
       "[<h1 class=\"doc-title\"> <a class=\"link_daum\" data-tiara=\"로고\" data-tiara-action-name=\"GNB다음로고_클릭\" href=\"//daum.net\"> <img alt=\"Daum\" class=\"logo_daum\" height=\"18\" src=\"//t1.daumcdn.net/media/common/newsview_2021/pc/rtn/logo_daum.png\" width=\"44\"/> </a> <a data-tiara=\"언론사명\" data-tiara-action-name=\"GNB언론사명_클릭\" href=\"https://v.daum.net/channel/90/home\" id=\"kakaoServiceLogo\">아시아경제</a> </h1>,\n",
       " <h2 class=\"screen_out\">검색</h2>,\n",
       " <h2 class=\"screen_out\">IT</h2>,\n",
       " <h3 class=\"tit_view\" data-translation=\"true\">일론머스크 \"테슬라에서 넷플릭스·유튜브 즐길 날 온다\"</h3>,\n",
       " <h3 class=\"tit_box\">이 시각 추천뉴스</h3>,\n",
       " <h3 class=\"tit_box\">이 주제에 주목한 다른 언론사 뉴스</h3>,\n",
       " <h3 class=\"tit_box\">서비스 바로가기</h3>,\n",
       " <h2 class=\"tit_direct\">바로가기</h2>,\n",
       " <h2 class=\"screen_out\">서비스 이용정보</h2>]"
      ]
     },
     "execution_count": 22,
     "metadata": {},
     "output_type": "execute_result"
    }
   ],
   "source": [
    "soup.find_all(re.compile('h\\d'))"
   ]
  },
  {
   "cell_type": "code",
   "execution_count": 25,
   "id": "2a49e394",
   "metadata": {},
   "outputs": [
    {
     "data": {
      "text/plain": [
       "[<img alt=\"일론 머스크 테슬라 최고경영자(CEO) [이미지출처=로이터연합뉴스]\" class=\"thumb_g_article\" data-org-src=\"https://t1.daumcdn.net/news/201907/28/akn/20190728165813230vjsq.jpg\" data-org-width=\"550\" dmcf-mid=\"NBMY3ZZhN4\" dmcf-mtype=\"image\" height=\"auto\" src=\"https://img2.daumcdn.net/thumb/R658x0.q70/?fname=https://t1.daumcdn.net/news/201907/28/akn/20190728165813230vjsq.jpg\" width=\"658\"/>]"
      ]
     },
     "execution_count": 25,
     "metadata": {},
     "output_type": "execute_result"
    }
   ],
   "source": [
    "soup.find_all('img',attrs={'src':re.compile('.+\\.jpg')})"
   ]
  },
  {
   "cell_type": "code",
   "execution_count": 27,
   "id": "79ea1aa8",
   "metadata": {},
   "outputs": [
    {
     "data": {
      "text/plain": [
       "[<h3 class=\"tit_view\" data-translation=\"true\">일론머스크 \"테슬라에서 넷플릭스·유튜브 즐길 날 온다\"</h3>]"
      ]
     },
     "execution_count": 27,
     "metadata": {},
     "output_type": "execute_result"
    }
   ],
   "source": [
    "soup.find_all('h3',class_='tit_view')\n",
    "#soup.find_all('h3',class_=re.compile('.+view$'))"
   ]
  },
  {
   "cell_type": "markdown",
   "id": "4c87c686",
   "metadata": {},
   "source": [
    "* 댓글 개수 추출\n",
    "    - 댓글의 경우, 최초 로딩시에 전달되지 않음\n",
    "    - 이 경우는 추가적으로 AJAX로 비동기적 호출을 하여 따로 data 전송을 함\n",
    "        - 개발자 도구의 network 탭에서 확인(XHR:XmlHTTPRequest)\n",
    "        - 비동기적 호출 : 사이트의 전체가 아닌 일부분만 업데이트 가능하도록 함"
   ]
  }
 ],
 "metadata": {
  "kernelspec": {
   "display_name": "Python 3 (ipykernel)",
   "language": "python",
   "name": "python3"
  },
  "language_info": {
   "codemirror_mode": {
    "name": "ipython",
    "version": 3
   },
   "file_extension": ".py",
   "mimetype": "text/x-python",
   "name": "python",
   "nbconvert_exporter": "python",
   "pygments_lexer": "ipython3",
   "version": "3.9.13"
  }
 },
 "nbformat": 4,
 "nbformat_minor": 5
}
