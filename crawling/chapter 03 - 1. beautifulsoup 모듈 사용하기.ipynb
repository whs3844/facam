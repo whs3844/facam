{
 "cells": [
  {
   "cell_type": "code",
   "execution_count": 1,
   "id": "dc2a8168",
   "metadata": {},
   "outputs": [],
   "source": [
    "from bs4 import BeautifulSoup"
   ]
  },
  {
   "cell_type": "markdown",
   "id": "680c795c",
   "metadata": {},
   "source": [
    "**html 문자열 파싱**\n",
    "- 문자열로 정의된 html 데이터 파싱하기"
   ]
  },
  {
   "cell_type": "code",
   "execution_count": 2,
   "id": "1144599e",
   "metadata": {},
   "outputs": [],
   "source": [
    "html = '''\n",
    "<html>\n",
    "  <head>\n",
    "    <title>BeautifulSoup test</title>\n",
    "  </head>\n",
    "  <body>\n",
    "    <div id='upper' class='test' custom='good'>\n",
    "      <h3 title='Good Content Title'>Contents Title</h3>\n",
    "      <p>Test contents</p>\n",
    "    </div>\n",
    "    <div id='lower' class='test' custom='nice'>\n",
    "      <p>Test Test Test 1</p>\n",
    "      <p>Test Test Test 2</p>\n",
    "      <p>Test Test Test 3</p>\n",
    "    </div>\n",
    "  </body>\n",
    "</html>'''"
   ]
  },
  {
   "cell_type": "markdown",
   "id": "d0a559be",
   "metadata": {},
   "source": [
    "**find 함수**\n",
    "- 특정 html tag를 검색\n",
    "- 검색 조건을 명시하여 찾고자하는 tag를 검색"
   ]
  },
  {
   "cell_type": "code",
   "execution_count": 3,
   "id": "e2299baf",
   "metadata": {},
   "outputs": [],
   "source": [
    "soup=BeautifulSoup(html)"
   ]
  },
  {
   "cell_type": "code",
   "execution_count": 4,
   "id": "4bd914b2",
   "metadata": {},
   "outputs": [
    {
     "data": {
      "text/plain": [
       "<h3 title=\"Good Content Title\">Contents Title</h3>"
      ]
     },
     "execution_count": 4,
     "metadata": {},
     "output_type": "execute_result"
    }
   ],
   "source": [
    "soup.find('h3')"
   ]
  },
  {
   "cell_type": "code",
   "execution_count": 5,
   "id": "aaa13dc4",
   "metadata": {},
   "outputs": [
    {
     "data": {
      "text/plain": [
       "<p>Test contents</p>"
      ]
     },
     "execution_count": 5,
     "metadata": {},
     "output_type": "execute_result"
    }
   ],
   "source": [
    "soup.find('p')"
   ]
  },
  {
   "cell_type": "code",
   "execution_count": 6,
   "id": "1378887e",
   "metadata": {},
   "outputs": [
    {
     "data": {
      "text/plain": [
       "<div class=\"test\" custom=\"good\" id=\"upper\">\n",
       "<h3 title=\"Good Content Title\">Contents Title</h3>\n",
       "<p>Test contents</p>\n",
       "</div>"
      ]
     },
     "execution_count": 6,
     "metadata": {},
     "output_type": "execute_result"
    }
   ],
   "source": [
    "soup.find('div')"
   ]
  },
  {
   "cell_type": "code",
   "execution_count": 7,
   "id": "5dfdbc19",
   "metadata": {},
   "outputs": [
    {
     "data": {
      "text/plain": [
       "<div class=\"test\" custom=\"nice\" id=\"lower\">\n",
       "<p>Test Test Test 1</p>\n",
       "<p>Test Test Test 2</p>\n",
       "<p>Test Test Test 3</p>\n",
       "</div>"
      ]
     },
     "execution_count": 7,
     "metadata": {},
     "output_type": "execute_result"
    }
   ],
   "source": [
    "soup.find('div',custom='nice')"
   ]
  },
  {
   "cell_type": "code",
   "execution_count": 8,
   "id": "40df5eed",
   "metadata": {},
   "outputs": [
    {
     "data": {
      "text/plain": [
       "<div class=\"test\" custom=\"good\" id=\"upper\">\n",
       "<h3 title=\"Good Content Title\">Contents Title</h3>\n",
       "<p>Test contents</p>\n",
       "</div>"
      ]
     },
     "execution_count": 8,
     "metadata": {},
     "output_type": "execute_result"
    }
   ],
   "source": [
    "soup.find('div',class_='test')"
   ]
  },
  {
   "cell_type": "code",
   "execution_count": 9,
   "id": "dfa74de1",
   "metadata": {},
   "outputs": [
    {
     "data": {
      "text/plain": [
       "<div class=\"test\" custom=\"good\" id=\"upper\">\n",
       "<h3 title=\"Good Content Title\">Contents Title</h3>\n",
       "<p>Test contents</p>\n",
       "</div>"
      ]
     },
     "execution_count": 9,
     "metadata": {},
     "output_type": "execute_result"
    }
   ],
   "source": [
    "attrs={'id':'upper', 'class':'test'}\n",
    "soup.find('div',attrs=attrs)"
   ]
  },
  {
   "cell_type": "markdown",
   "id": "0afd0381",
   "metadata": {},
   "source": [
    "**find_all 함수**\n",
    "- find가 조건에 만족하는 하나의 tag만 검색한다면, find_all은 조건에 맞는 모든 tag를 리스트로 반환"
   ]
  },
  {
   "cell_type": "code",
   "execution_count": 10,
   "id": "6a56a282",
   "metadata": {},
   "outputs": [
    {
     "data": {
      "text/plain": [
       "[<div class=\"test\" custom=\"good\" id=\"upper\">\n",
       " <h3 title=\"Good Content Title\">Contents Title</h3>\n",
       " <p>Test contents</p>\n",
       " </div>,\n",
       " <div class=\"test\" custom=\"nice\" id=\"lower\">\n",
       " <p>Test Test Test 1</p>\n",
       " <p>Test Test Test 2</p>\n",
       " <p>Test Test Test 3</p>\n",
       " </div>]"
      ]
     },
     "execution_count": 10,
     "metadata": {},
     "output_type": "execute_result"
    }
   ],
   "source": [
    "soup.find_all('div')"
   ]
  },
  {
   "cell_type": "code",
   "execution_count": 11,
   "id": "08e30b2e",
   "metadata": {},
   "outputs": [
    {
     "data": {
      "text/plain": [
       "[<p>Test contents</p>,\n",
       " <p>Test Test Test 1</p>,\n",
       " <p>Test Test Test 2</p>,\n",
       " <p>Test Test Test 3</p>]"
      ]
     },
     "execution_count": 11,
     "metadata": {},
     "output_type": "execute_result"
    }
   ],
   "source": [
    "soup.find_all('p')"
   ]
  },
  {
   "cell_type": "markdown",
   "id": "4e78eaaf",
   "metadata": {},
   "source": [
    "**get_text 함수**\n",
    "- tag안의 value를 추출\n",
    "- 부모 tag의 경우, 모든 자식 tag의 value를 추출"
   ]
  },
  {
   "cell_type": "code",
   "execution_count": 12,
   "id": "b9adc4c4",
   "metadata": {},
   "outputs": [
    {
     "name": "stdout",
     "output_type": "stream",
     "text": [
      "<h3 title=\"Good Content Title\">Contents Title</h3>\n"
     ]
    },
    {
     "data": {
      "text/plain": [
       "'Contents Title'"
      ]
     },
     "execution_count": 12,
     "metadata": {},
     "output_type": "execute_result"
    }
   ],
   "source": [
    "tag=soup.find('h3')\n",
    "print(tag)\n",
    "tag.get_text()"
   ]
  },
  {
   "cell_type": "code",
   "execution_count": 13,
   "id": "6398b860",
   "metadata": {},
   "outputs": [
    {
     "name": "stdout",
     "output_type": "stream",
     "text": [
      "<p>Test contents</p>\n"
     ]
    },
    {
     "data": {
      "text/plain": [
       "'Test contents'"
      ]
     },
     "execution_count": 13,
     "metadata": {},
     "output_type": "execute_result"
    }
   ],
   "source": [
    "tag = soup.find('p')\n",
    "print(tag)\n",
    "tag.get_text()"
   ]
  },
  {
   "cell_type": "code",
   "execution_count": 14,
   "id": "877ea6a0",
   "metadata": {},
   "outputs": [
    {
     "name": "stdout",
     "output_type": "stream",
     "text": [
      "<div class=\"test\" custom=\"good\" id=\"upper\">\n",
      "<h3 title=\"Good Content Title\">Contents Title</h3>\n",
      "<p>Test contents</p>\n",
      "</div>\n"
     ]
    },
    {
     "data": {
      "text/plain": [
       "'\\nContents Title\\nTest contents\\n'"
      ]
     },
     "execution_count": 14,
     "metadata": {},
     "output_type": "execute_result"
    }
   ],
   "source": [
    "tag=soup.find('div',id='upper')\n",
    "print(tag)\n",
    "tag.get_text()"
   ]
  },
  {
   "cell_type": "markdown",
   "id": "ddb1b9e2",
   "metadata": {},
   "source": [
    "**attribute 값 추출하기**\n",
    "- 경우에 따라 추출하고자 하는 값이 attribute에도 존재함\n",
    "- 이 경우에는 검색한 tag에 attribute 이름을 []연산을 통해 추출가능\n",
    "- 예) div.find('h3')['title']"
   ]
  },
  {
   "cell_type": "code",
   "execution_count": 15,
   "id": "db7a0d2d",
   "metadata": {},
   "outputs": [
    {
     "name": "stdout",
     "output_type": "stream",
     "text": [
      "<h3 title=\"Good Content Title\">Contents Title</h3>\n"
     ]
    },
    {
     "data": {
      "text/plain": [
       "'Good Content Title'"
      ]
     },
     "execution_count": 15,
     "metadata": {},
     "output_type": "execute_result"
    }
   ],
   "source": [
    "tag=soup.find('h3')\n",
    "print(tag)\n",
    "tag['title']"
   ]
  }
 ],
 "metadata": {
  "kernelspec": {
   "display_name": "Python 3 (ipykernel)",
   "language": "python",
   "name": "python3"
  },
  "language_info": {
   "codemirror_mode": {
    "name": "ipython",
    "version": 3
   },
   "file_extension": ".py",
   "mimetype": "text/x-python",
   "name": "python",
   "nbconvert_exporter": "python",
   "pygments_lexer": "ipython3",
   "version": "3.9.13"
  }
 },
 "nbformat": 4,
 "nbformat_minor": 5
}
