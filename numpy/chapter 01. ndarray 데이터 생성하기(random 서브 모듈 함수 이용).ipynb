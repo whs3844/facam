{
 "cells": [
  {
   "cell_type": "code",
   "execution_count": 1,
   "id": "f47d7938",
   "metadata": {},
   "outputs": [],
   "source": [
    "import numpy as np"
   ]
  },
  {
   "cell_type": "markdown",
   "id": "22d0565a",
   "metadata": {},
   "source": [
    "#### random 서브모듈"
   ]
  },
  {
   "cell_type": "markdown",
   "id": "25b831f3",
   "metadata": {},
   "source": [
    "#### rand 함수\n",
    "- 0,1사이의 분포로 랜덤한 ndarray 생성"
   ]
  },
  {
   "cell_type": "code",
   "execution_count": 2,
   "id": "322e1db7",
   "metadata": {},
   "outputs": [
    {
     "data": {
      "text/plain": [
       "array([[0.31609368, 0.58648207, 0.85882445],\n",
       "       [0.92149395, 0.79996426, 0.72018953]])"
      ]
     },
     "execution_count": 2,
     "metadata": {},
     "output_type": "execute_result"
    }
   ],
   "source": [
    "np.random.rand(2,3)"
   ]
  },
  {
   "cell_type": "markdown",
   "id": "464944a6",
   "metadata": {},
   "source": [
    "#### randn 함수\n",
    "- n:normal distribution(정규분포)\n",
    "- 정규분포로 샘플링된 랜덤 ndarray 생성"
   ]
  },
  {
   "cell_type": "code",
   "execution_count": 3,
   "id": "900e78d1",
   "metadata": {},
   "outputs": [
    {
     "data": {
      "text/plain": [
       "array([[-0.59612818,  0.41492966, -0.83819543,  1.30151673],\n",
       "       [ 1.3172903 ,  0.0603675 , -0.10277536, -0.03266223],\n",
       "       [-0.78434417, -0.28114789,  0.47593822,  0.22905176]])"
      ]
     },
     "execution_count": 3,
     "metadata": {},
     "output_type": "execute_result"
    }
   ],
   "source": [
    "np.random.randn(3,4)"
   ]
  },
  {
   "cell_type": "markdown",
   "id": "0c45495e",
   "metadata": {},
   "source": [
    "#### randint 함수\n",
    "- 특정 정수 사이에서 랜덤하게 샘플링"
   ]
  },
  {
   "cell_type": "code",
   "execution_count": 5,
   "id": "7cb7dddf",
   "metadata": {},
   "outputs": [
    {
     "data": {
      "text/plain": [
       "array([[ 8, 65, 64, 27, 68],\n",
       "       [33, 67,  4, 89, 68],\n",
       "       [22, 33, 76, 27,  6]])"
      ]
     },
     "execution_count": 5,
     "metadata": {},
     "output_type": "execute_result"
    }
   ],
   "source": [
    "np.random.randint(1,100,size=(3,5))"
   ]
  },
  {
   "cell_type": "code",
   "execution_count": 6,
   "id": "34adcb39",
   "metadata": {},
   "outputs": [
    {
     "data": {
      "text/plain": [
       "array([[[60, 61],\n",
       "        [36, 15],\n",
       "        [30, 52],\n",
       "        [41, 33],\n",
       "        [17, 45]],\n",
       "\n",
       "       [[97, 56],\n",
       "        [69, 70],\n",
       "        [50, 85],\n",
       "        [35,  9],\n",
       "        [27, 32]],\n",
       "\n",
       "       [[96,  6],\n",
       "        [21, 55],\n",
       "        [22, 81],\n",
       "        [89,  3],\n",
       "        [44, 45]]])"
      ]
     },
     "execution_count": 6,
     "metadata": {},
     "output_type": "execute_result"
    }
   ],
   "source": [
    "np.random.randint(1,100,size=(3,5,2))"
   ]
  },
  {
   "cell_type": "markdown",
   "id": "1d10456c",
   "metadata": {},
   "source": [
    "#### seed 함수\n",
    "- 랜덤한 값을 동일하게 다시 생성하고 할때 사용"
   ]
  },
  {
   "cell_type": "code",
   "execution_count": 7,
   "id": "2348c5da",
   "metadata": {},
   "outputs": [
    {
     "data": {
      "text/plain": [
       "array([[-1.74976547,  0.3426804 ,  1.1530358 , -0.25243604],\n",
       "       [ 0.98132079,  0.51421884,  0.22117967, -1.07004333],\n",
       "       [-0.18949583,  0.25500144, -0.45802699,  0.43516349]])"
      ]
     },
     "execution_count": 7,
     "metadata": {},
     "output_type": "execute_result"
    }
   ],
   "source": [
    "np.random.seed(100)\n",
    "np.random.randn(3,4)"
   ]
  },
  {
   "cell_type": "code",
   "execution_count": 8,
   "id": "3c128bf7",
   "metadata": {},
   "outputs": [
    {
     "data": {
      "text/plain": [
       "array([[-1.74976547,  0.3426804 ,  1.1530358 , -0.25243604],\n",
       "       [ 0.98132079,  0.51421884,  0.22117967, -1.07004333],\n",
       "       [-0.18949583,  0.25500144, -0.45802699,  0.43516349]])"
      ]
     },
     "execution_count": 8,
     "metadata": {},
     "output_type": "execute_result"
    }
   ],
   "source": [
    "np.random.seed(100)\n",
    "np.random.randn(3,4)"
   ]
  },
  {
   "cell_type": "code",
   "execution_count": 9,
   "id": "14b1519c",
   "metadata": {},
   "outputs": [
    {
     "data": {
      "text/plain": [
       "array([[-0.58359505,  0.81684707,  0.67272081, -0.10441114],\n",
       "       [-0.53128038,  1.02973269, -0.43813562, -1.11831825],\n",
       "       [ 1.61898166,  1.54160517, -0.25187914, -0.84243574]])"
      ]
     },
     "execution_count": 9,
     "metadata": {},
     "output_type": "execute_result"
    }
   ],
   "source": [
    "np.random.randn(3,4)"
   ]
  },
  {
   "cell_type": "markdown",
   "id": "a7b90ae5",
   "metadata": {},
   "source": [
    "#### choice\n",
    "- 주어진 1차원 ndarray로 부터 랜덤으로 샘플링\n",
    "- 정수가 주어진 경우, np.arange(해당숫자)로 간주"
   ]
  },
  {
   "cell_type": "code",
   "execution_count": 10,
   "id": "6366d433",
   "metadata": {},
   "outputs": [
    {
     "data": {
      "text/plain": [
       "array([[39, 38, 44, 18],\n",
       "       [64, 56, 34, 53],\n",
       "       [74, 17, 72, 13]])"
      ]
     },
     "execution_count": 10,
     "metadata": {},
     "output_type": "execute_result"
    }
   ],
   "source": [
    "np.random.choice(100,size=(3,4))"
   ]
  },
  {
   "cell_type": "code",
   "execution_count": 11,
   "id": "20a02d37",
   "metadata": {},
   "outputs": [
    {
     "data": {
      "text/plain": [
       "array([[3. , 4.9],\n",
       "       [2. , 6. ]])"
      ]
     },
     "execution_count": 11,
     "metadata": {},
     "output_type": "execute_result"
    }
   ],
   "source": [
    "x = np.array([1,2,3,1.5,2,6,4.9])\n",
    "np.random.choice(x,size=(2,2))"
   ]
  },
  {
   "cell_type": "markdown",
   "id": "9ee35154",
   "metadata": {},
   "source": [
    "#### 확률분포에 따른 ndarray 생성\n",
    "- uniform\n",
    "- normal 등등"
   ]
  },
  {
   "cell_type": "code",
   "execution_count": 12,
   "id": "d945d08c",
   "metadata": {},
   "outputs": [
    {
     "data": {
      "text/plain": [
       "array([[1.23660567, 2.72589134, 1.14973376, 2.65018972, 2.67226363],\n",
       "       [1.15078982, 1.02280158, 1.09684114, 1.71424542, 2.33138675],\n",
       "       [1.02277922, 1.21583553, 2.8020262 , 2.58975752, 2.62292196],\n",
       "       [2.28055611, 2.24955902, 1.29101502, 2.1404318 , 1.130225  ]])"
      ]
     },
     "execution_count": 12,
     "metadata": {},
     "output_type": "execute_result"
    }
   ],
   "source": [
    "np.random.uniform(1.0,3.0,size=(4,5))"
   ]
  },
  {
   "cell_type": "code",
   "execution_count": 13,
   "id": "767963f5",
   "metadata": {},
   "outputs": [
    {
     "data": {
      "text/plain": [
       "array([[-1.0411337 , -0.68659935, -2.55944758,  0.94631055],\n",
       "       [ 0.79067165,  0.68000189,  0.71660582,  0.47770485],\n",
       "       [-0.66623993,  0.08448008, -0.33876049,  0.70592118]])"
      ]
     },
     "execution_count": 13,
     "metadata": {},
     "output_type": "execute_result"
    }
   ],
   "source": [
    "np.random.normal(size=(3,4))#np.random.randn과 동일"
   ]
  }
 ],
 "metadata": {
  "kernelspec": {
   "display_name": "Python 3 (ipykernel)",
   "language": "python",
   "name": "python3"
  },
  "language_info": {
   "codemirror_mode": {
    "name": "ipython",
    "version": 3
   },
   "file_extension": ".py",
   "mimetype": "text/x-python",
   "name": "python",
   "nbconvert_exporter": "python",
   "pygments_lexer": "ipython3",
   "version": "3.9.13"
  }
 },
 "nbformat": 4,
 "nbformat_minor": 5
}
