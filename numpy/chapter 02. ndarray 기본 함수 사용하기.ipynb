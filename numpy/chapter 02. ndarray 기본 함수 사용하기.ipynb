{
 "cells": [
  {
   "cell_type": "code",
   "execution_count": 1,
   "id": "e3265923",
   "metadata": {},
   "outputs": [],
   "source": [
    "import numpy as np"
   ]
  },
  {
   "cell_type": "markdown",
   "id": "b146271e",
   "metadata": {},
   "source": [
    "#### **numpy documentation**\n",
    "- [numpy 공식 문서 링크](https://www.numpy.org/devdocs/reference/)\n",
    "- numpy에서 제공되는 함수등에 대한 문서"
   ]
  },
  {
   "cell_type": "code",
   "execution_count": 2,
   "id": "3537df36",
   "metadata": {},
   "outputs": [
    {
     "name": "stdout",
     "output_type": "stream",
     "text": [
      "[[ 0  1  2  3  4]\n",
      " [ 5  6  7  8  9]\n",
      " [10 11 12 13 14]]\n",
      "[[0.6267314  0.58731419 0.59315036 0.24244143 0.46190906]\n",
      " [0.04490486 0.0598036  0.68395831 0.9903198  0.86495658]\n",
      " [0.19604347 0.20940951 0.04401198 0.77361284 0.59606741]]\n"
     ]
    }
   ],
   "source": [
    "x=np.arange(15).reshape(3,5)\n",
    "y=np.random.rand(15).reshape(3,5)\n",
    "print(x)\n",
    "print(y)"
   ]
  },
  {
   "cell_type": "markdown",
   "id": "8e0b56f7",
   "metadata": {},
   "source": [
    "#### **연산 함수**\n",
    "- add,subtract, multiply, divide"
   ]
  },
  {
   "cell_type": "code",
   "execution_count": 3,
   "id": "171fe2ad",
   "metadata": {},
   "outputs": [
    {
     "data": {
      "text/plain": [
       "array([[ 0.6267314 ,  1.58731419,  2.59315036,  3.24244143,  4.46190906],\n",
       "       [ 5.04490486,  6.0598036 ,  7.68395831,  8.9903198 ,  9.86495658],\n",
       "       [10.19604347, 11.20940951, 12.04401198, 13.77361284, 14.59606741]])"
      ]
     },
     "execution_count": 3,
     "metadata": {},
     "output_type": "execute_result"
    }
   ],
   "source": [
    "np.add(x,y)"
   ]
  },
  {
   "cell_type": "code",
   "execution_count": 6,
   "id": "176c7f8a",
   "metadata": {},
   "outputs": [
    {
     "data": {
      "text/plain": [
       "array([[-0.6267314 ,  0.41268581,  1.40684964,  2.75755857,  3.53809094],\n",
       "       [ 4.95509514,  5.9401964 ,  6.31604169,  7.0096802 ,  8.13504342],\n",
       "       [ 9.80395653, 10.79059049, 11.95598802, 12.22638716, 13.40393259]])"
      ]
     },
     "execution_count": 6,
     "metadata": {},
     "output_type": "execute_result"
    }
   ],
   "source": [
    "np.subtract(x,y)"
   ]
  },
  {
   "cell_type": "code",
   "execution_count": 8,
   "id": "c0a659e4",
   "metadata": {},
   "outputs": [
    {
     "data": {
      "text/plain": [
       "array([[ 0.        ,  0.58731419,  1.18630071,  0.72732429,  1.84763624],\n",
       "       [ 0.22452431,  0.35882162,  4.78770814,  7.92255839,  7.78460918],\n",
       "       [ 1.96043473,  2.3035046 ,  0.52814379, 10.05696698,  8.34494381]])"
      ]
     },
     "execution_count": 8,
     "metadata": {},
     "output_type": "execute_result"
    }
   ],
   "source": [
    "np.multiply(x,y)"
   ]
  },
  {
   "cell_type": "code",
   "execution_count": 9,
   "id": "6da4fcb1",
   "metadata": {},
   "outputs": [
    {
     "data": {
      "text/plain": [
       "array([[  0.        ,   1.70266616,   3.37182635,  12.37412275,\n",
       "          8.65971323],\n",
       "       [111.34651977, 100.32840135,  10.23454198,   8.07819859,\n",
       "         10.40514663],\n",
       "       [ 51.00909426,  52.52865562, 272.6530191 ,  16.80427114,\n",
       "         23.48727618]])"
      ]
     },
     "execution_count": 9,
     "metadata": {},
     "output_type": "execute_result"
    }
   ],
   "source": [
    "np.divide(x,y)"
   ]
  },
  {
   "cell_type": "markdown",
   "id": "a0e8d3bc",
   "metadata": {},
   "source": [
    "#### **통계 함수**\n",
    "- 평균, 분산, 중앙, 최대, 최소값 등등 통계 관련된 함수가 내장"
   ]
  },
  {
   "cell_type": "code",
   "execution_count": 10,
   "id": "1da04f9d",
   "metadata": {},
   "outputs": [
    {
     "name": "stdout",
     "output_type": "stream",
     "text": [
      "[[0.6267314  0.58731419 0.59315036 0.24244143 0.46190906]\n",
      " [0.04490486 0.0598036  0.68395831 0.9903198  0.86495658]\n",
      " [0.19604347 0.20940951 0.04401198 0.77361284 0.59606741]]\n"
     ]
    }
   ],
   "source": [
    "print(y)"
   ]
  },
  {
   "cell_type": "code",
   "execution_count": 11,
   "id": "ae563f71",
   "metadata": {},
   "outputs": [
    {
     "data": {
      "text/plain": [
       "0.4649756537174427"
      ]
     },
     "execution_count": 11,
     "metadata": {},
     "output_type": "execute_result"
    }
   ],
   "source": [
    "np.mean(y)#y.mean()"
   ]
  },
  {
   "cell_type": "code",
   "execution_count": 12,
   "id": "8d67f3b3",
   "metadata": {},
   "outputs": [
    {
     "data": {
      "text/plain": [
       "0.990319798199412"
      ]
     },
     "execution_count": 12,
     "metadata": {},
     "output_type": "execute_result"
    }
   ],
   "source": [
    "np.max(y)"
   ]
  },
  {
   "cell_type": "code",
   "execution_count": 13,
   "id": "6818786c",
   "metadata": {},
   "outputs": [
    {
     "data": {
      "text/plain": [
       "14"
      ]
     },
     "execution_count": 13,
     "metadata": {},
     "output_type": "execute_result"
    }
   ],
   "source": [
    "np.argmax(x)#가장 큰값의 인덱스"
   ]
  },
  {
   "cell_type": "code",
   "execution_count": 14,
   "id": "a6e5947b",
   "metadata": {},
   "outputs": [
    {
     "data": {
      "text/plain": [
       "(0.09059537992769379, 0.5873141915280646, 0.3009906641869375)"
      ]
     },
     "execution_count": 14,
     "metadata": {},
     "output_type": "execute_result"
    }
   ],
   "source": [
    "np.var(y),np.median(y),np.std(y)"
   ]
  },
  {
   "cell_type": "markdown",
   "id": "0f74c5a0",
   "metadata": {},
   "source": [
    "#### **집계 함수**\n",
    "- 합계(sum), 누적합계(cumsum) 등등 계산 가능"
   ]
  },
  {
   "cell_type": "code",
   "execution_count": 15,
   "id": "8189a0ba",
   "metadata": {},
   "outputs": [
    {
     "name": "stdout",
     "output_type": "stream",
     "text": [
      "[[0.6267314  0.58731419 0.59315036 0.24244143 0.46190906]\n",
      " [0.04490486 0.0598036  0.68395831 0.9903198  0.86495658]\n",
      " [0.19604347 0.20940951 0.04401198 0.77361284 0.59606741]]\n"
     ]
    }
   ],
   "source": [
    "print(y)"
   ]
  },
  {
   "cell_type": "code",
   "execution_count": 17,
   "id": "fcd12690",
   "metadata": {
    "scrolled": true
   },
   "outputs": [
    {
     "data": {
      "text/plain": [
       "6.9746348057616405"
      ]
     },
     "execution_count": 17,
     "metadata": {},
     "output_type": "execute_result"
    }
   ],
   "source": [
    "np.sum(y)"
   ]
  },
  {
   "cell_type": "code",
   "execution_count": 19,
   "id": "cce13c0a",
   "metadata": {},
   "outputs": [
    {
     "data": {
      "text/plain": [
       "array([0.86767973, 0.85652731, 1.32112064, 2.00637407, 1.92293305])"
      ]
     },
     "execution_count": 19,
     "metadata": {},
     "output_type": "execute_result"
    }
   ],
   "source": [
    "np.sum(y,axis=0)"
   ]
  },
  {
   "cell_type": "code",
   "execution_count": 18,
   "id": "581fbea9",
   "metadata": {},
   "outputs": [
    {
     "data": {
      "text/plain": [
       "array([0.6267314 , 1.21404559, 1.80719595, 2.04963738, 2.51154644,\n",
       "       2.5564513 , 2.6162549 , 3.30021321, 4.29053301, 5.15548958,\n",
       "       5.35153305, 5.56094256, 5.60495455, 6.37856739, 6.97463481])"
      ]
     },
     "execution_count": 18,
     "metadata": {},
     "output_type": "execute_result"
    }
   ],
   "source": [
    "np.cumsum(y)"
   ]
  },
  {
   "cell_type": "markdown",
   "id": "60fea113",
   "metadata": {},
   "source": [
    "#### **any,all함수**\n",
    "- any : 특정 조건을 만족하는 것이 하나라도 있으면 True, 아니면 False\n",
    "- all : 모든 원소가 특정 조건을 만족한다면 True, 아니면 False"
   ]
  },
  {
   "cell_type": "code",
   "execution_count": 22,
   "id": "45148cb2",
   "metadata": {},
   "outputs": [
    {
     "name": "stdout",
     "output_type": "stream",
     "text": [
      "[ 2.96704297 -0.66845149 -0.12281887  1.96725409 -0.77858985  0.45388274\n",
      " -0.07360737 -0.0476611   0.51125738 -1.65641402]\n"
     ]
    }
   ],
   "source": [
    "z=np.random.randn(10)\n",
    "print(z)"
   ]
  },
  {
   "cell_type": "code",
   "execution_count": 23,
   "id": "2ff9d65e",
   "metadata": {},
   "outputs": [
    {
     "data": {
      "text/plain": [
       "array([ True, False, False,  True, False,  True, False, False,  True,\n",
       "       False])"
      ]
     },
     "execution_count": 23,
     "metadata": {},
     "output_type": "execute_result"
    }
   ],
   "source": [
    "z>0"
   ]
  },
  {
   "cell_type": "code",
   "execution_count": 24,
   "id": "99947ac4",
   "metadata": {},
   "outputs": [
    {
     "data": {
      "text/plain": [
       "True"
      ]
     },
     "execution_count": 24,
     "metadata": {},
     "output_type": "execute_result"
    }
   ],
   "source": [
    "np.any(z>0)"
   ]
  },
  {
   "cell_type": "code",
   "execution_count": 25,
   "id": "4a21e0a5",
   "metadata": {},
   "outputs": [
    {
     "data": {
      "text/plain": [
       "False"
      ]
     },
     "execution_count": 25,
     "metadata": {},
     "output_type": "execute_result"
    }
   ],
   "source": [
    "np.all(z>0)"
   ]
  },
  {
   "cell_type": "code",
   "execution_count": 26,
   "id": "966736ae",
   "metadata": {},
   "outputs": [
    {
     "data": {
      "text/plain": [
       "True"
      ]
     },
     "execution_count": 26,
     "metadata": {},
     "output_type": "execute_result"
    }
   ],
   "source": [
    "np.all(z!=0)"
   ]
  },
  {
   "cell_type": "markdown",
   "id": "ae687cc3",
   "metadata": {},
   "source": [
    "#### **where 함수**\n",
    "- 조건에 따라 선별적으로 값을 선택 가능\n",
    "- 사용 예) 음수인경우는 0, 나머지는 그대로 값을 쓰는 경우"
   ]
  },
  {
   "cell_type": "code",
   "execution_count": 27,
   "id": "c73df79a",
   "metadata": {},
   "outputs": [
    {
     "name": "stdout",
     "output_type": "stream",
     "text": [
      "[ 0.56164067  2.89992728 -0.25003737  0.48708724 -0.25016838  0.91991428\n",
      "  0.92842125 -1.45273164  1.09578021 -0.62659549]\n"
     ]
    }
   ],
   "source": [
    "z=np.random.randn(10)\n",
    "print(z)"
   ]
  },
  {
   "cell_type": "code",
   "execution_count": 28,
   "id": "ce30e947",
   "metadata": {},
   "outputs": [
    {
     "data": {
      "text/plain": [
       "array([0.56164067, 2.89992728, 0.        , 0.48708724, 0.        ,\n",
       "       0.91991428, 0.92842125, 0.        , 1.09578021, 0.        ])"
      ]
     },
     "execution_count": 28,
     "metadata": {},
     "output_type": "execute_result"
    }
   ],
   "source": [
    "np.where(z>0,z,0)#where(조건,조건에 맞을때 반환값,조건과 다를때 반환값)"
   ]
  }
 ],
 "metadata": {
  "kernelspec": {
   "display_name": "Python 3 (ipykernel)",
   "language": "python",
   "name": "python3"
  },
  "language_info": {
   "codemirror_mode": {
    "name": "ipython",
    "version": 3
   },
   "file_extension": ".py",
   "mimetype": "text/x-python",
   "name": "python",
   "nbconvert_exporter": "python",
   "pygments_lexer": "ipython3",
   "version": "3.9.13"
  }
 },
 "nbformat": 4,
 "nbformat_minor": 5
}
