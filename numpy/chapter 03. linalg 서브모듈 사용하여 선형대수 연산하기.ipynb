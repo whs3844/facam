{
 "cells": [
  {
   "cell_type": "code",
   "execution_count": 1,
   "id": "4b97f239",
   "metadata": {},
   "outputs": [],
   "source": [
    "import numpy as np"
   ]
  },
  {
   "cell_type": "markdown",
   "id": "dc88cf5d",
   "metadata": {},
   "source": [
    "#### np.linalg.inv\n",
    "- 역행렬을 구할때 사용\n",
    "- 모든 차원의 값이 같아야 함"
   ]
  },
  {
   "cell_type": "code",
   "execution_count": 2,
   "id": "cb7b590f",
   "metadata": {},
   "outputs": [
    {
     "name": "stdout",
     "output_type": "stream",
     "text": [
      "[[0.2290951  0.23205248 0.66865329]\n",
      " [0.25833461 0.49039212 0.39021745]\n",
      " [0.87381759 0.87899654 0.25711057]]\n"
     ]
    }
   ],
   "source": [
    "x=np.random.rand(3,3)\n",
    "print(x)"
   ]
  },
  {
   "cell_type": "code",
   "execution_count": 3,
   "id": "0bb8ba85",
   "metadata": {},
   "outputs": [
    {
     "data": {
      "text/plain": [
       "array([[ 1.00000000e+00, -1.54409833e-16, -5.91575770e-17],\n",
       "       [-1.18708011e-16,  1.00000000e+00, -1.02834730e-17],\n",
       "       [ 6.58557071e-17,  7.14305324e-17,  1.00000000e+00]])"
      ]
     },
     "execution_count": 3,
     "metadata": {},
     "output_type": "execute_result"
    }
   ],
   "source": [
    "x @ np.linalg.inv(x) # np.matmul(x,lina.inv(x))"
   ]
  },
  {
   "cell_type": "markdown",
   "id": "393836e9",
   "metadata": {},
   "source": [
    "#### np.linalg.solve\n",
    "- Ax=B 형태의 선형대수식 솔루션을 제공\n",
    "- 예제) 호랑이와 홍합의 합 : 25, 호랑이 다리와 홍합 다리의 합은 64\n",
    "    - X + Y =25\n",
    "    - 2X + 4Y = 64\n",
    " $$\\begin{pmatrix} 1 & 1 \\\\ 2 & 4 \\end{pmatrix}\\begin{pmatrix} x \\\\ y \\end{pmatrix}= \\begin{pmatrix} 25 \\\\ 64 \\end{pmatrix}$$\n",
    "    \n",
    "    "
   ]
  },
  {
   "cell_type": "code",
   "execution_count": 4,
   "id": "ac8bdefd",
   "metadata": {},
   "outputs": [
    {
     "name": "stdout",
     "output_type": "stream",
     "text": [
      "[18.  7.]\n"
     ]
    }
   ],
   "source": [
    "A = np.array([[1,1],[2,4]])\n",
    "B=np.array([25,64])\n",
    "\n",
    "x=np.linalg.solve(A,B)\n",
    "print(x)"
   ]
  }
 ],
 "metadata": {
  "kernelspec": {
   "display_name": "Python 3 (ipykernel)",
   "language": "python",
   "name": "python3"
  },
  "language_info": {
   "codemirror_mode": {
    "name": "ipython",
    "version": 3
   },
   "file_extension": ".py",
   "mimetype": "text/x-python",
   "name": "python",
   "nbconvert_exporter": "python",
   "pygments_lexer": "ipython3",
   "version": "3.9.13"
  }
 },
 "nbformat": 4,
 "nbformat_minor": 5
}
