{
 "cells": [
  {
   "cell_type": "code",
   "execution_count": 1,
   "id": "d439c724",
   "metadata": {},
   "outputs": [],
   "source": [
    "import numpy as np"
   ]
  },
  {
   "cell_type": "markdown",
   "id": "bc22361c",
   "metadata": {},
   "source": [
    "#### **axis 이해하기**\n",
    "- 몇몇 함수에는 axis keyword 파라미터가 존재\n",
    "- axis값이 없는 경우에는 전체 데이터에 대해 적용\n",
    "- axis값이 있는 경우에는, 해당 axis를 따라서 연산 적용"
   ]
  },
  {
   "cell_type": "markdown",
   "id": "a884a355",
   "metadata": {},
   "source": [
    "- axis를 파라미터로 갖는 함수를 이용하기\n",
    "    - 거의 대부분의 연산 함수들이 axis 파라미터를 사용\n",
    "    - 이 경우, 해당 값이 주어졌을 때, 해당 axis를 따라서 연산이 적용\n",
    "        - 따라서 결과는 해당 axis가 제외된 나머지 차원의 데이터만 남게 됨\n",
    "    - 예) np.sum, np.mean, np.any 등등"
   ]
  },
  {
   "cell_type": "code",
   "execution_count": 2,
   "id": "64c65c23",
   "metadata": {},
   "outputs": [
    {
     "name": "stdout",
     "output_type": "stream",
     "text": [
      "[ 0  1  2  3  4  5  6  7  8  9 10 11 12 13 14]\n"
     ]
    }
   ],
   "source": [
    "x=np.arange(15)\n",
    "print(x)"
   ]
  },
  {
   "cell_type": "markdown",
   "id": "31ccab25",
   "metadata": {},
   "source": [
    "- **1차원 데이터에 적용하기**"
   ]
  },
  {
   "cell_type": "code",
   "execution_count": 4,
   "id": "fd6f8760",
   "metadata": {},
   "outputs": [
    {
     "data": {
      "text/plain": [
       "105"
      ]
     },
     "execution_count": 4,
     "metadata": {},
     "output_type": "execute_result"
    }
   ],
   "source": [
    "np.sum(x,axis=0)"
   ]
  },
  {
   "cell_type": "markdown",
   "id": "153bf841",
   "metadata": {},
   "source": [
    "- **행렬에 적용하기**"
   ]
  },
  {
   "cell_type": "code",
   "execution_count": 5,
   "id": "a5fccb8d",
   "metadata": {},
   "outputs": [
    {
     "name": "stdout",
     "output_type": "stream",
     "text": [
      "[[ 0  1  2  3  4]\n",
      " [ 5  6  7  8  9]\n",
      " [10 11 12 13 14]]\n"
     ]
    }
   ],
   "source": [
    "y=x.reshape(3,5)\n",
    "print(y)"
   ]
  },
  {
   "cell_type": "code",
   "execution_count": 6,
   "id": "ef82e765",
   "metadata": {},
   "outputs": [
    {
     "data": {
      "text/plain": [
       "105"
      ]
     },
     "execution_count": 6,
     "metadata": {},
     "output_type": "execute_result"
    }
   ],
   "source": [
    "np.sum(y)"
   ]
  },
  {
   "cell_type": "code",
   "execution_count": 7,
   "id": "6cc2410f",
   "metadata": {},
   "outputs": [
    {
     "data": {
      "text/plain": [
       "array([15, 18, 21, 24, 27])"
      ]
     },
     "execution_count": 7,
     "metadata": {},
     "output_type": "execute_result"
    }
   ],
   "source": [
    "np.sum(y,axis=0)"
   ]
  },
  {
   "cell_type": "code",
   "execution_count": 8,
   "id": "78cf0853",
   "metadata": {},
   "outputs": [
    {
     "data": {
      "text/plain": [
       "array([10, 35, 60])"
      ]
     },
     "execution_count": 8,
     "metadata": {},
     "output_type": "execute_result"
    }
   ],
   "source": [
    "np.sum(y,axis=1)"
   ]
  },
  {
   "cell_type": "markdown",
   "id": "7ad09145",
   "metadata": {},
   "source": [
    "- **3차원 텐서에 적용하기**"
   ]
  },
  {
   "cell_type": "code",
   "execution_count": 9,
   "id": "55dc1f36",
   "metadata": {},
   "outputs": [
    {
     "name": "stdout",
     "output_type": "stream",
     "text": [
      "[[[ 0  1  2]\n",
      "  [ 3  4  5]\n",
      "  [ 6  7  8]\n",
      "  [ 9 10 11]]\n",
      "\n",
      " [[12 13 14]\n",
      "  [15 16 17]\n",
      "  [18 19 20]\n",
      "  [21 22 23]]\n",
      "\n",
      " [[24 25 26]\n",
      "  [27 28 29]\n",
      "  [30 31 32]\n",
      "  [33 34 35]]]\n"
     ]
    }
   ],
   "source": [
    "z=np.arange(36).reshape(3,4,3)\n",
    "print(z)"
   ]
  },
  {
   "cell_type": "code",
   "execution_count": 10,
   "id": "5871dd69",
   "metadata": {},
   "outputs": [
    {
     "data": {
      "text/plain": [
       "array([[36, 39, 42],\n",
       "       [45, 48, 51],\n",
       "       [54, 57, 60],\n",
       "       [63, 66, 69]])"
      ]
     },
     "execution_count": 10,
     "metadata": {},
     "output_type": "execute_result"
    }
   ],
   "source": [
    "np.sum(z,axis=0)"
   ]
  },
  {
   "cell_type": "code",
   "execution_count": 13,
   "id": "be40cb3e",
   "metadata": {},
   "outputs": [
    {
     "data": {
      "text/plain": [
       "array([[ 18,  22,  26],\n",
       "       [ 66,  70,  74],\n",
       "       [114, 118, 122]])"
      ]
     },
     "execution_count": 13,
     "metadata": {},
     "output_type": "execute_result"
    }
   ],
   "source": [
    "np.sum(z,axis=1)"
   ]
  },
  {
   "cell_type": "code",
   "execution_count": 15,
   "id": "663e4e67",
   "metadata": {},
   "outputs": [
    {
     "data": {
      "text/plain": [
       "array([[  3,  12,  21,  30],\n",
       "       [ 39,  48,  57,  66],\n",
       "       [ 75,  84,  93, 102]])"
      ]
     },
     "execution_count": 15,
     "metadata": {},
     "output_type": "execute_result"
    }
   ],
   "source": [
    "np.sum(z,axis=2)"
   ]
  },
  {
   "cell_type": "markdown",
   "id": "34a80547",
   "metadata": {},
   "source": [
    "- **axis의 값이 튜플일 경우**\n",
    "    - 해당 튜플에 명시된 모든 axis에 대해서 연산"
   ]
  },
  {
   "cell_type": "code",
   "execution_count": 16,
   "id": "cc5b4e23",
   "metadata": {},
   "outputs": [
    {
     "name": "stdout",
     "output_type": "stream",
     "text": [
      "[[[ 0  1  2]\n",
      "  [ 3  4  5]\n",
      "  [ 6  7  8]\n",
      "  [ 9 10 11]]\n",
      "\n",
      " [[12 13 14]\n",
      "  [15 16 17]\n",
      "  [18 19 20]\n",
      "  [21 22 23]]\n",
      "\n",
      " [[24 25 26]\n",
      "  [27 28 29]\n",
      "  [30 31 32]\n",
      "  [33 34 35]]]\n"
     ]
    }
   ],
   "source": [
    "print(z)"
   ]
  },
  {
   "cell_type": "code",
   "execution_count": 17,
   "id": "4e3796a3",
   "metadata": {},
   "outputs": [
    {
     "data": {
      "text/plain": [
       "array([198, 210, 222])"
      ]
     },
     "execution_count": 17,
     "metadata": {},
     "output_type": "execute_result"
    }
   ],
   "source": [
    "np.sum(z,axis=(0,1))"
   ]
  },
  {
   "cell_type": "code",
   "execution_count": 19,
   "id": "4250ff67",
   "metadata": {},
   "outputs": [
    {
     "data": {
      "text/plain": [
       "array([117, 144, 171, 198])"
      ]
     },
     "execution_count": 19,
     "metadata": {},
     "output_type": "execute_result"
    }
   ],
   "source": [
    "np.sum(z,axis=(0,2))"
   ]
  }
 ],
 "metadata": {
  "kernelspec": {
   "display_name": "Python 3 (ipykernel)",
   "language": "python",
   "name": "python3"
  },
  "language_info": {
   "codemirror_mode": {
    "name": "ipython",
    "version": 3
   },
   "file_extension": ".py",
   "mimetype": "text/x-python",
   "name": "python",
   "nbconvert_exporter": "python",
   "pygments_lexer": "ipython3",
   "version": "3.9.13"
  }
 },
 "nbformat": 4,
 "nbformat_minor": 5
}
