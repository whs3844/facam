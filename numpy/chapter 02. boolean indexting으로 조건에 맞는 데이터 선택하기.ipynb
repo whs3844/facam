{
 "cells": [
  {
   "cell_type": "markdown",
   "id": "733e632e",
   "metadata": {},
   "source": [
    "#### boolean indexing\n",
    "- ndarray 인덱싱 시, bool 리스트를 전달하여 True인 경우만 필터링"
   ]
  },
  {
   "cell_type": "markdown",
   "id": "0c61d3f1",
   "metadata": {},
   "source": [
    "- 브로드캐스팅을 활용하여 ndarray로 부터 bool list 얻기\n",
    "    - 예) 짝수인 경우만 찾아보기"
   ]
  },
  {
   "cell_type": "code",
   "execution_count": 1,
   "id": "72d944e2",
   "metadata": {},
   "outputs": [],
   "source": [
    "import numpy as np"
   ]
  },
  {
   "cell_type": "code",
   "execution_count": 2,
   "id": "0675ff88",
   "metadata": {},
   "outputs": [
    {
     "name": "stdout",
     "output_type": "stream",
     "text": [
      "[61 78  5 13  5 39 17 49 80 84]\n"
     ]
    }
   ],
   "source": [
    "x=np.random.randint(1,100,size=10)\n",
    "print(x)"
   ]
  },
  {
   "cell_type": "code",
   "execution_count": 6,
   "id": "82909f9f",
   "metadata": {},
   "outputs": [
    {
     "name": "stdout",
     "output_type": "stream",
     "text": [
      "[False  True False False False False False False  True  True]\n"
     ]
    }
   ],
   "source": [
    "even_mask = x % 2==0\n",
    "print(even_mask)"
   ]
  },
  {
   "cell_type": "markdown",
   "id": "3ba3255d",
   "metadata": {},
   "source": [
    "- bool 리스트를 인덱스로 전달"
   ]
  },
  {
   "cell_type": "code",
   "execution_count": 5,
   "id": "9bd8d856",
   "metadata": {},
   "outputs": [
    {
     "data": {
      "text/plain": [
       "array([78, 80, 84])"
      ]
     },
     "execution_count": 5,
     "metadata": {},
     "output_type": "execute_result"
    }
   ],
   "source": [
    "x[even_mask]"
   ]
  },
  {
   "cell_type": "code",
   "execution_count": 7,
   "id": "a126721a",
   "metadata": {},
   "outputs": [
    {
     "data": {
      "text/plain": [
       "array([78, 80, 84])"
      ]
     },
     "execution_count": 7,
     "metadata": {},
     "output_type": "execute_result"
    }
   ],
   "source": [
    "x[x%2==0]"
   ]
  },
  {
   "cell_type": "code",
   "execution_count": 8,
   "id": "3c91c391",
   "metadata": {},
   "outputs": [
    {
     "data": {
      "text/plain": [
       "array([61, 78, 39, 49, 80, 84])"
      ]
     },
     "execution_count": 8,
     "metadata": {},
     "output_type": "execute_result"
    }
   ],
   "source": [
    "x[x>30]"
   ]
  },
  {
   "cell_type": "markdown",
   "id": "575093a0",
   "metadata": {},
   "source": [
    "**다중조건 사용하기**\n",
    "- 파이썬 논리 연산자인 and,or,not 키워드 사용 불가\n",
    "- & - and\n",
    "- | -or"
   ]
  },
  {
   "cell_type": "code",
   "execution_count": 9,
   "id": "8908d85b",
   "metadata": {},
   "outputs": [
    {
     "data": {
      "text/plain": [
       "array([78, 80, 84])"
      ]
     },
     "execution_count": 9,
     "metadata": {},
     "output_type": "execute_result"
    }
   ],
   "source": [
    "x[(x%2==0) & (x>30)]"
   ]
  },
  {
   "cell_type": "code",
   "execution_count": 10,
   "id": "dfce43f8",
   "metadata": {},
   "outputs": [
    {
     "data": {
      "text/plain": [
       "array([61, 78,  5, 13,  5, 17, 80, 84])"
      ]
     },
     "execution_count": 10,
     "metadata": {},
     "output_type": "execute_result"
    }
   ],
   "source": [
    "x[(x<30) | (x>50)]"
   ]
  },
  {
   "cell_type": "markdown",
   "id": "f4b9e154",
   "metadata": {},
   "source": [
    "#### 예제) 2019년 7월 서울 평균기온 데이터"
   ]
  },
  {
   "cell_type": "code",
   "execution_count": 11,
   "id": "7c5a5bd9",
   "metadata": {},
   "outputs": [],
   "source": [
    "temp=np.array([23.9, 24.4, 24.1, 25.4, 27.6, 29.7,\n",
    "              26.7, 25.1, 25.0, 22.7, 21.9, 23.6,\n",
    "              24.9, 25.9, 23.8, 24.7, 25.6, 26.9,\n",
    "              28.6, 28.0, 25.1, 26.7, 28.1, 26.5,\n",
    "              26.3, 25.9, 28.4, 26.1, 27.5, 28.1, 25.8])"
   ]
  },
  {
   "cell_type": "markdown",
   "id": "38e0b8cc",
   "metadata": {},
   "source": [
    "- 평균기온이 25도를 넘는 날수는?"
   ]
  },
  {
   "cell_type": "code",
   "execution_count": 13,
   "id": "b578bf90",
   "metadata": {},
   "outputs": [
    {
     "data": {
      "text/plain": [
       "21"
      ]
     },
     "execution_count": 13,
     "metadata": {},
     "output_type": "execute_result"
    }
   ],
   "source": [
    "len(temp[temp>25])#np.sum(temp>25.0)"
   ]
  },
  {
   "cell_type": "markdown",
   "id": "4536cb33",
   "metadata": {},
   "source": [
    "- 평균기온이 25를 넘는 날의 평균 기온은?"
   ]
  },
  {
   "cell_type": "code",
   "execution_count": 14,
   "id": "225592a0",
   "metadata": {},
   "outputs": [
    {
     "data": {
      "text/plain": [
       "26.857142857142858"
      ]
     },
     "execution_count": 14,
     "metadata": {},
     "output_type": "execute_result"
    }
   ],
   "source": [
    "temp[temp>25].mean()"
   ]
  }
 ],
 "metadata": {
  "kernelspec": {
   "display_name": "Python 3 (ipykernel)",
   "language": "python",
   "name": "python3"
  },
  "language_info": {
   "codemirror_mode": {
    "name": "ipython",
    "version": 3
   },
   "file_extension": ".py",
   "mimetype": "text/x-python",
   "name": "python",
   "nbconvert_exporter": "python",
   "pygments_lexer": "ipython3",
   "version": "3.9.13"
  }
 },
 "nbformat": 4,
 "nbformat_minor": 5
}
